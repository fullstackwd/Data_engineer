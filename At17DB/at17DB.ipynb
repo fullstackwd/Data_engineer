{
 "cells": [
  {
   "cell_type": "code",
   "execution_count": 1,
   "id": "1748f30e",
   "metadata": {},
   "outputs": [],
   "source": [
    "import pandas as pd"
   ]
  },
  {
   "cell_type": "code",
   "execution_count": 2,
   "id": "1aea2374",
   "metadata": {},
   "outputs": [],
   "source": [
    "from datetime import datetime"
   ]
  },
  {
   "cell_type": "code",
   "execution_count": 3,
   "id": "8cdd5c8a",
   "metadata": {},
   "outputs": [],
   "source": [
    "import matplotlib.pyplot as plt"
   ]
  },
  {
   "cell_type": "code",
   "execution_count": 4,
   "id": "6fa222f1",
   "metadata": {},
   "outputs": [],
   "source": [
    "df = pd.read_csv (r'C://at17DB//ca-2004-01.csv', sep = ';')"
   ]
  },
  {
   "cell_type": "code",
   "execution_count": 5,
   "id": "bff75a85",
   "metadata": {},
   "outputs": [
    {
     "data": {
      "text/html": [
       "<div>\n",
       "<style scoped>\n",
       "    .dataframe tbody tr th:only-of-type {\n",
       "        vertical-align: middle;\n",
       "    }\n",
       "\n",
       "    .dataframe tbody tr th {\n",
       "        vertical-align: top;\n",
       "    }\n",
       "\n",
       "    .dataframe thead th {\n",
       "        text-align: right;\n",
       "    }\n",
       "</style>\n",
       "<table border=\"1\" class=\"dataframe\">\n",
       "  <thead>\n",
       "    <tr style=\"text-align: right;\">\n",
       "      <th></th>\n",
       "      <th>Regiao</th>\n",
       "      <th>Sigla</th>\n",
       "      <th>Municipio</th>\n",
       "      <th>Revenda</th>\n",
       "      <th>CNPJ</th>\n",
       "      <th>Rua</th>\n",
       "      <th>Numero</th>\n",
       "      <th>Complemento</th>\n",
       "      <th>Bairro</th>\n",
       "      <th>Cep</th>\n",
       "      <th>Produto</th>\n",
       "      <th>Data_da_Coleta</th>\n",
       "      <th>Valor_de_Venda</th>\n",
       "      <th>Valor_de_Compra</th>\n",
       "      <th>Unidade_de_Medida</th>\n",
       "      <th>Bandeira</th>\n",
       "    </tr>\n",
       "  </thead>\n",
       "  <tbody>\n",
       "    <tr>\n",
       "      <th>0</th>\n",
       "      <td>SE</td>\n",
       "      <td>SP</td>\n",
       "      <td>GUARULHOS</td>\n",
       "      <td>AUTO POSTO SAKAMOTO LTDA</td>\n",
       "      <td>49.051.667/0001-02</td>\n",
       "      <td>RODOVIA PRESIDENTE DUTRA</td>\n",
       "      <td>S/N</td>\n",
       "      <td>KM 210,5-SENT SP/RJ</td>\n",
       "      <td>BONSUCESSO</td>\n",
       "      <td>07178-580</td>\n",
       "      <td>GASOLINA</td>\n",
       "      <td>11/05/2004</td>\n",
       "      <td>1,967</td>\n",
       "      <td>1,6623</td>\n",
       "      <td>R$ / litro</td>\n",
       "      <td>PETROBRAS DISTRIBUIDORA S.A.</td>\n",
       "    </tr>\n",
       "    <tr>\n",
       "      <th>1</th>\n",
       "      <td>SE</td>\n",
       "      <td>SP</td>\n",
       "      <td>GUARULHOS</td>\n",
       "      <td>AUTO POSTO SAKAMOTO LTDA</td>\n",
       "      <td>49.051.667/0001-02</td>\n",
       "      <td>RODOVIA PRESIDENTE DUTRA</td>\n",
       "      <td>S/N</td>\n",
       "      <td>KM 210,5-SENT SP/RJ</td>\n",
       "      <td>BONSUCESSO</td>\n",
       "      <td>07178-580</td>\n",
       "      <td>ETANOL</td>\n",
       "      <td>11/05/2004</td>\n",
       "      <td>0,899</td>\n",
       "      <td>0,6282</td>\n",
       "      <td>R$ / litro</td>\n",
       "      <td>PETROBRAS DISTRIBUIDORA S.A.</td>\n",
       "    </tr>\n",
       "    <tr>\n",
       "      <th>2</th>\n",
       "      <td>SE</td>\n",
       "      <td>SP</td>\n",
       "      <td>GUARULHOS</td>\n",
       "      <td>AUTO POSTO SAKAMOTO LTDA</td>\n",
       "      <td>49.051.667/0001-02</td>\n",
       "      <td>RODOVIA PRESIDENTE DUTRA</td>\n",
       "      <td>S/N</td>\n",
       "      <td>KM 210,5-SENT SP/RJ</td>\n",
       "      <td>BONSUCESSO</td>\n",
       "      <td>07178-580</td>\n",
       "      <td>DIESEL</td>\n",
       "      <td>11/05/2004</td>\n",
       "      <td>1,299</td>\n",
       "      <td>1,1704</td>\n",
       "      <td>R$ / litro</td>\n",
       "      <td>PETROBRAS DISTRIBUIDORA S.A.</td>\n",
       "    </tr>\n",
       "    <tr>\n",
       "      <th>3</th>\n",
       "      <td>SE</td>\n",
       "      <td>SP</td>\n",
       "      <td>SOROCABA</td>\n",
       "      <td>COMPETRO COMERCIO E DISTRIBUICAO DE DERIVADOS ...</td>\n",
       "      <td>00.003.188/0001-21</td>\n",
       "      <td>RUA HUMBERTO DE CAMPOS</td>\n",
       "      <td>306</td>\n",
       "      <td>NaN</td>\n",
       "      <td>JARDIM ZULMIRA</td>\n",
       "      <td>18061-000</td>\n",
       "      <td>GASOLINA</td>\n",
       "      <td>10/05/2004</td>\n",
       "      <td>1,85</td>\n",
       "      <td>1,67</td>\n",
       "      <td>R$ / litro</td>\n",
       "      <td>BRANCA</td>\n",
       "    </tr>\n",
       "    <tr>\n",
       "      <th>4</th>\n",
       "      <td>SE</td>\n",
       "      <td>SP</td>\n",
       "      <td>SOROCABA</td>\n",
       "      <td>COMPETRO COMERCIO E DISTRIBUICAO DE DERIVADOS ...</td>\n",
       "      <td>00.003.188/0001-21</td>\n",
       "      <td>RUA HUMBERTO DE CAMPOS</td>\n",
       "      <td>306</td>\n",
       "      <td>NaN</td>\n",
       "      <td>JARDIM ZULMIRA</td>\n",
       "      <td>18061-000</td>\n",
       "      <td>ETANOL</td>\n",
       "      <td>10/05/2004</td>\n",
       "      <td>0,78</td>\n",
       "      <td>0,48</td>\n",
       "      <td>R$ / litro</td>\n",
       "      <td>BRANCA</td>\n",
       "    </tr>\n",
       "    <tr>\n",
       "      <th>...</th>\n",
       "      <td>...</td>\n",
       "      <td>...</td>\n",
       "      <td>...</td>\n",
       "      <td>...</td>\n",
       "      <td>...</td>\n",
       "      <td>...</td>\n",
       "      <td>...</td>\n",
       "      <td>...</td>\n",
       "      <td>...</td>\n",
       "      <td>...</td>\n",
       "      <td>...</td>\n",
       "      <td>...</td>\n",
       "      <td>...</td>\n",
       "      <td>...</td>\n",
       "      <td>...</td>\n",
       "      <td>...</td>\n",
       "    </tr>\n",
       "    <tr>\n",
       "      <th>281526</th>\n",
       "      <td>NE</td>\n",
       "      <td>BA</td>\n",
       "      <td>LIVRAMENTO DE NOSSA SENHORA</td>\n",
       "      <td>AUTO POSTO PIRES PEREIRA LTDA</td>\n",
       "      <td>02.253.236/0001-65</td>\n",
       "      <td>AVENIDA LINDEMBERG CARDOSO</td>\n",
       "      <td>667</td>\n",
       "      <td>COMODO</td>\n",
       "      <td>TAQUARI</td>\n",
       "      <td>46140-000</td>\n",
       "      <td>GASOLINA</td>\n",
       "      <td>28/06/2004</td>\n",
       "      <td>2,2</td>\n",
       "      <td>1,89</td>\n",
       "      <td>R$ / litro</td>\n",
       "      <td>PETROBAHIA</td>\n",
       "    </tr>\n",
       "    <tr>\n",
       "      <th>281527</th>\n",
       "      <td>NE</td>\n",
       "      <td>BA</td>\n",
       "      <td>LIVRAMENTO DE NOSSA SENHORA</td>\n",
       "      <td>AUTO POSTO PIRES PEREIRA LTDA</td>\n",
       "      <td>02.253.236/0001-65</td>\n",
       "      <td>AVENIDA LINDEMBERG CARDOSO</td>\n",
       "      <td>667</td>\n",
       "      <td>COMODO</td>\n",
       "      <td>TAQUARI</td>\n",
       "      <td>46140-000</td>\n",
       "      <td>ETANOL</td>\n",
       "      <td>28/06/2004</td>\n",
       "      <td>1,48</td>\n",
       "      <td>NaN</td>\n",
       "      <td>R$ / litro</td>\n",
       "      <td>PETROBAHIA</td>\n",
       "    </tr>\n",
       "    <tr>\n",
       "      <th>281528</th>\n",
       "      <td>NE</td>\n",
       "      <td>BA</td>\n",
       "      <td>LIVRAMENTO DE NOSSA SENHORA</td>\n",
       "      <td>AUTO POSTO PIRES PEREIRA LTDA</td>\n",
       "      <td>02.253.236/0001-65</td>\n",
       "      <td>AVENIDA LINDEMBERG CARDOSO</td>\n",
       "      <td>667</td>\n",
       "      <td>COMODO</td>\n",
       "      <td>TAQUARI</td>\n",
       "      <td>46140-000</td>\n",
       "      <td>DIESEL</td>\n",
       "      <td>28/06/2004</td>\n",
       "      <td>1,41</td>\n",
       "      <td>1,32</td>\n",
       "      <td>R$ / litro</td>\n",
       "      <td>PETROBAHIA</td>\n",
       "    </tr>\n",
       "    <tr>\n",
       "      <th>281529</th>\n",
       "      <td>NE</td>\n",
       "      <td>BA</td>\n",
       "      <td>LIVRAMENTO DE NOSSA SENHORA</td>\n",
       "      <td>AUTO POSTO 5 DE FEVEREIRO LTDA</td>\n",
       "      <td>02.125.226/0001-44</td>\n",
       "      <td>PRACA CORONEL ZEZINHO TANAJURA</td>\n",
       "      <td>1</td>\n",
       "      <td>COMODO</td>\n",
       "      <td>CENTRO</td>\n",
       "      <td>46140-000</td>\n",
       "      <td>ETANOL</td>\n",
       "      <td>28/06/2004</td>\n",
       "      <td>1,49</td>\n",
       "      <td>0,6909</td>\n",
       "      <td>R$ / litro</td>\n",
       "      <td>PETROBAHIA</td>\n",
       "    </tr>\n",
       "    <tr>\n",
       "      <th>281530</th>\n",
       "      <td>NE</td>\n",
       "      <td>BA</td>\n",
       "      <td>LIVRAMENTO DE NOSSA SENHORA</td>\n",
       "      <td>AUTO POSTO 5 DE FEVEREIRO LTDA</td>\n",
       "      <td>02.125.226/0001-44</td>\n",
       "      <td>PRACA CORONEL ZEZINHO TANAJURA</td>\n",
       "      <td>1</td>\n",
       "      <td>COMODO</td>\n",
       "      <td>CENTRO</td>\n",
       "      <td>46140-000</td>\n",
       "      <td>DIESEL</td>\n",
       "      <td>28/06/2004</td>\n",
       "      <td>1,44</td>\n",
       "      <td>1,255</td>\n",
       "      <td>R$ / litro</td>\n",
       "      <td>PETROBAHIA</td>\n",
       "    </tr>\n",
       "  </tbody>\n",
       "</table>\n",
       "<p>281531 rows × 16 columns</p>\n",
       "</div>"
      ],
      "text/plain": [
       "       Regiao Sigla                    Municipio  \\\n",
       "0          SE    SP                    GUARULHOS   \n",
       "1          SE    SP                    GUARULHOS   \n",
       "2          SE    SP                    GUARULHOS   \n",
       "3          SE    SP                     SOROCABA   \n",
       "4          SE    SP                     SOROCABA   \n",
       "...       ...   ...                          ...   \n",
       "281526     NE    BA  LIVRAMENTO DE NOSSA SENHORA   \n",
       "281527     NE    BA  LIVRAMENTO DE NOSSA SENHORA   \n",
       "281528     NE    BA  LIVRAMENTO DE NOSSA SENHORA   \n",
       "281529     NE    BA  LIVRAMENTO DE NOSSA SENHORA   \n",
       "281530     NE    BA  LIVRAMENTO DE NOSSA SENHORA   \n",
       "\n",
       "                                                  Revenda  \\\n",
       "0                                AUTO POSTO SAKAMOTO LTDA   \n",
       "1                                AUTO POSTO SAKAMOTO LTDA   \n",
       "2                                AUTO POSTO SAKAMOTO LTDA   \n",
       "3       COMPETRO COMERCIO E DISTRIBUICAO DE DERIVADOS ...   \n",
       "4       COMPETRO COMERCIO E DISTRIBUICAO DE DERIVADOS ...   \n",
       "...                                                   ...   \n",
       "281526                      AUTO POSTO PIRES PEREIRA LTDA   \n",
       "281527                      AUTO POSTO PIRES PEREIRA LTDA   \n",
       "281528                      AUTO POSTO PIRES PEREIRA LTDA   \n",
       "281529                     AUTO POSTO 5 DE FEVEREIRO LTDA   \n",
       "281530                     AUTO POSTO 5 DE FEVEREIRO LTDA   \n",
       "\n",
       "                       CNPJ                             Rua Numero  \\\n",
       "0        49.051.667/0001-02        RODOVIA PRESIDENTE DUTRA    S/N   \n",
       "1        49.051.667/0001-02        RODOVIA PRESIDENTE DUTRA    S/N   \n",
       "2        49.051.667/0001-02        RODOVIA PRESIDENTE DUTRA    S/N   \n",
       "3        00.003.188/0001-21          RUA HUMBERTO DE CAMPOS    306   \n",
       "4        00.003.188/0001-21          RUA HUMBERTO DE CAMPOS    306   \n",
       "...                     ...                             ...    ...   \n",
       "281526   02.253.236/0001-65      AVENIDA LINDEMBERG CARDOSO    667   \n",
       "281527   02.253.236/0001-65      AVENIDA LINDEMBERG CARDOSO    667   \n",
       "281528   02.253.236/0001-65      AVENIDA LINDEMBERG CARDOSO    667   \n",
       "281529   02.125.226/0001-44  PRACA CORONEL ZEZINHO TANAJURA      1   \n",
       "281530   02.125.226/0001-44  PRACA CORONEL ZEZINHO TANAJURA      1   \n",
       "\n",
       "                Complemento          Bairro        Cep   Produto  \\\n",
       "0       KM 210,5-SENT SP/RJ      BONSUCESSO  07178-580  GASOLINA   \n",
       "1       KM 210,5-SENT SP/RJ      BONSUCESSO  07178-580    ETANOL   \n",
       "2       KM 210,5-SENT SP/RJ      BONSUCESSO  07178-580    DIESEL   \n",
       "3                       NaN  JARDIM ZULMIRA  18061-000  GASOLINA   \n",
       "4                       NaN  JARDIM ZULMIRA  18061-000    ETANOL   \n",
       "...                     ...             ...        ...       ...   \n",
       "281526               COMODO         TAQUARI  46140-000  GASOLINA   \n",
       "281527               COMODO         TAQUARI  46140-000    ETANOL   \n",
       "281528               COMODO         TAQUARI  46140-000    DIESEL   \n",
       "281529               COMODO          CENTRO  46140-000    ETANOL   \n",
       "281530               COMODO          CENTRO  46140-000    DIESEL   \n",
       "\n",
       "       Data_da_Coleta Valor_de_Venda Valor_de_Compra Unidade_de_Medida  \\\n",
       "0          11/05/2004          1,967          1,6623        R$ / litro   \n",
       "1          11/05/2004          0,899          0,6282        R$ / litro   \n",
       "2          11/05/2004          1,299          1,1704        R$ / litro   \n",
       "3          10/05/2004           1,85            1,67        R$ / litro   \n",
       "4          10/05/2004           0,78            0,48        R$ / litro   \n",
       "...               ...            ...             ...               ...   \n",
       "281526     28/06/2004            2,2            1,89        R$ / litro   \n",
       "281527     28/06/2004           1,48             NaN        R$ / litro   \n",
       "281528     28/06/2004           1,41            1,32        R$ / litro   \n",
       "281529     28/06/2004           1,49          0,6909        R$ / litro   \n",
       "281530     28/06/2004           1,44           1,255        R$ / litro   \n",
       "\n",
       "                            Bandeira  \n",
       "0       PETROBRAS DISTRIBUIDORA S.A.  \n",
       "1       PETROBRAS DISTRIBUIDORA S.A.  \n",
       "2       PETROBRAS DISTRIBUIDORA S.A.  \n",
       "3                             BRANCA  \n",
       "4                             BRANCA  \n",
       "...                              ...  \n",
       "281526                    PETROBAHIA  \n",
       "281527                    PETROBAHIA  \n",
       "281528                    PETROBAHIA  \n",
       "281529                    PETROBAHIA  \n",
       "281530                    PETROBAHIA  \n",
       "\n",
       "[281531 rows x 16 columns]"
      ]
     },
     "execution_count": 5,
     "metadata": {},
     "output_type": "execute_result"
    }
   ],
   "source": [
    "df"
   ]
  },
  {
   "cell_type": "code",
   "execution_count": 6,
   "id": "98944f1a",
   "metadata": {},
   "outputs": [],
   "source": [
    "df['Data_da_Coleta'] = pd.to_datetime(df['Data_da_Coleta'], format = ('%d/%m/%Y'))"
   ]
  },
  {
   "cell_type": "code",
   "execution_count": 7,
   "id": "d2b8c313",
   "metadata": {},
   "outputs": [],
   "source": [
    "df['Valor_de_Venda'] = df['Valor_de_Venda'].apply(lambda x: float(x.replace(\".\",\"\").replace(\",\",\".\")))"
   ]
  },
  {
   "cell_type": "code",
   "execution_count": null,
   "id": "e62202e8",
   "metadata": {},
   "outputs": [],
   "source": [
    "df['Valor_de_Compra'] = df['Valor_de_Compra'].apply(lambda x: float(x.replace(\".\",\"\").replace(\",\",\".\")))"
   ]
  },
  {
   "cell_type": "code",
   "execution_count": 8,
   "id": "6b1e06ba",
   "metadata": {},
   "outputs": [],
   "source": [
    "df['Rua'] = df['Rua'].apply(lambda x: str(x.replace(\"\",\"\").replace(\"'\",\"\")))\n",
    "df['Revenda'] = df['Revenda'].apply(lambda y: str(y.replace(\"\",\"\").replace(\"'\",\"\")))\n",
    "df['Municipio'] = df['Municipio'].apply(lambda b: str(b.replace(\"\",\"\").replace(\"'\",\"\")))\n",
    "df['Bandeira'] = df['Bandeira'].apply(lambda b: str(b.replace(\"\",\"\").replace(\"'\",\"\")))"
   ]
  },
  {
   "cell_type": "code",
   "execution_count": 9,
   "id": "2890b35b",
   "metadata": {},
   "outputs": [
    {
     "name": "stdout",
     "output_type": "stream",
     "text": [
      "Processo de carga dos dados no BD Iniciando!\n",
      "2022-05-02 11:50:38.541379\n"
     ]
    }
   ],
   "source": [
    "print(\"Processo de carga dos dados no BD Iniciando!\")\n",
    "print(datetime.today())"
   ]
  },
  {
   "cell_type": "code",
   "execution_count": 10,
   "id": "d905986e",
   "metadata": {},
   "outputs": [
    {
     "name": "stdout",
     "output_type": "stream",
     "text": [
      "+++ PROCESSO FINALIZADO COM SUCESSO +++\n",
      "2022-05-02 11:54:54.003047\n",
      "\n"
     ]
    }
   ],
   "source": [
    "print(\"+++ PROCESSO FINALIZADO COM SUCESSO +++\")\n",
    "print(datetime.today())\n",
    "print()"
   ]
  },
  {
   "cell_type": "code",
   "execution_count": 11,
   "id": "e022521f",
   "metadata": {},
   "outputs": [
    {
     "name": "stdout",
     "output_type": "stream",
     "text": [
      "Data inicial da coleta:  2004-05-10 00:00:00\n",
      "Data final da coleta:  2004-06-30 00:00:00\n",
      "\n"
     ]
    }
   ],
   "source": [
    "# Extração de dados da entidade Postos\n",
    "print(f\"Data inicial da coleta: \", df['Data_da_Coleta'].min())\n",
    "print(f\"Data final da coleta: \", df['Data_da_Coleta'].max())\n",
    "print()"
   ]
  },
  {
   "cell_type": "code",
   "execution_count": 12,
   "id": "e1fb00c0",
   "metadata": {},
   "outputs": [
    {
     "name": "stdout",
     "output_type": "stream",
     "text": [
      "        Valor_de_Venda\n",
      "Regiao                \n",
      "CO          34171.4170\n",
      "N           24236.8950\n",
      "NE          73578.7930\n",
      "S           74290.0890\n",
      "SE         223236.4745\n",
      "\n"
     ]
    }
   ],
   "source": [
    "# Extração de dados agrupados por Região\n",
    "print(df.groupby(['Regiao']).agg({'Valor_de_Venda':'sum'}))\n",
    "print()"
   ]
  },
  {
   "cell_type": "code",
   "execution_count": 13,
   "id": "8b337bfe",
   "metadata": {},
   "outputs": [],
   "source": [
    "# Criação do gráfico de barras\n",
    "regiao = [\"CO\",\"N\",\"NE\",\"S\",\"SE\"]\n",
    "valores = [24695.97,17487.72,48192.36,49785.24,160863.21]"
   ]
  },
  {
   "cell_type": "code",
   "execution_count": 14,
   "id": "3bca130e",
   "metadata": {},
   "outputs": [
    {
     "data": {
      "text/plain": [
       "Text(0.5, 0, 'Regiões')"
      ]
     },
     "execution_count": 14,
     "metadata": {},
     "output_type": "execute_result"
    },
    {
     "data": {
      "image/png": "[encoded data removed]",
      "text/plain": [
       "<Figure size 576x360 with 1 Axes>"
      ]
     },
     "metadata": {
      "needs_background": "light"
     },
     "output_type": "display_data"
    }
   ],
   "source": [
    "fig, ax = plt.subplots(figsize=(8,5))\n",
    "ax.set_title('Venda por Região',fontsize=18)\n",
    "ax.set_ylabel('Valores',fontsize=14)\n",
    "ax.set_xlabel('Regiões',fontsize=14)"
   ]
  },
  {
   "cell_type": "code",
   "execution_count": 15,
   "id": "b9ab370e",
   "metadata": {},
   "outputs": [],
   "source": [
    "for idx, val in enumerate(valores):\n",
    "  txt = f'{val}'\n",
    "  y_coord = val + 5\n",
    "  x_coord = idx - 0.3"
   ]
  },
  {
   "cell_type": "code",
   "execution_count": 16,
   "id": "84bbea2e",
   "metadata": {},
   "outputs": [
    {
     "data": {
      "text/plain": [
       "Text(3.7, 160868.21, '160863.21')"
      ]
     },
     "execution_count": 16,
     "metadata": {},
     "output_type": "execute_result"
    }
   ],
   "source": [
    "ax.text(x=x_coord, y=y_coord, s=txt, fontsize=10)"
   ]
  },
  {
   "cell_type": "code",
   "execution_count": 17,
   "id": "b4e249ab",
   "metadata": {},
   "outputs": [],
   "source": [
    "ax.bar(regiao, valores, color=['green','yellow','blue','orange','red'])   \n",
    "plt.show()"
   ]
  },
  {
   "cell_type": "code",
   "execution_count": 19,
   "id": "6e2150ea",
   "metadata": {},
   "outputs": [
    {
     "ename": "SyntaxError",
     "evalue": "unexpected EOF while parsing (Temp/ipykernel_11036/2383004510.py, line 3)",
     "output_type": "error",
     "traceback": [
      "\u001b[1;36m  File \u001b[1;32m\"C:\\Users\\mecha\\AppData\\Local\\Temp/ipykernel_11036/2383004510.py\"\u001b[1;36m, line \u001b[1;32m3\u001b[0m\n\u001b[1;33m    print(\"df['Valor_de_Venda'].sum()\" - \"df['Valor_de_Compra'].sum())\"\u001b[0m\n\u001b[1;37m                                                                       ^\u001b[0m\n\u001b[1;31mSyntaxError\u001b[0m\u001b[1;31m:\u001b[0m unexpected EOF while parsing\n"
     ]
    }
   ],
   "source": [
    "# Extração de dados demonstranto o lucro\n",
    "print(\"O lucro obtido neste período foi de: \")\n",
    "print(\"df['Valor_de_Venda'].sum()\" - \"df['Valor_de_Compra'].sum()\")"
   ]
  },
  {
   "cell_type": "code",
   "execution_count": 20,
   "id": "67a33cf9",
   "metadata": {},
   "outputs": [
    {
     "data": {
      "text/plain": [
       "429513.6685"
      ]
     },
     "execution_count": 20,
     "metadata": {},
     "output_type": "execute_result"
    }
   ],
   "source": [
    "df['Valor_de_Venda'].sum()"
   ]
  },
  {
   "cell_type": "code",
   "execution_count": 21,
   "id": "0bfffddc",
   "metadata": {},
   "outputs": [
    {
     "ename": "TypeError",
     "evalue": "can only concatenate str (not \"int\") to str",
     "output_type": "error",
     "traceback": [
      "\u001b[1;31m---------------------------------------------------------------------------\u001b[0m",
      "\u001b[1;31mTypeError\u001b[0m                                 Traceback (most recent call last)",
      "\u001b[1;32m~\\AppData\\Local\\Temp/ipykernel_11036/326069840.py\u001b[0m in \u001b[0;36m<module>\u001b[1;34m\u001b[0m\n\u001b[1;32m----> 1\u001b[1;33m \u001b[0mdf\u001b[0m\u001b[1;33m[\u001b[0m\u001b[1;34m'Valor_de_Compra'\u001b[0m\u001b[1;33m]\u001b[0m\u001b[1;33m.\u001b[0m\u001b[0msum\u001b[0m\u001b[1;33m(\u001b[0m\u001b[1;33m)\u001b[0m\u001b[1;33m\u001b[0m\u001b[1;33m\u001b[0m\u001b[0m\n\u001b[0m",
      "\u001b[1;32m~\\anaconda3\\lib\\site-packages\\pandas\\core\\generic.py\u001b[0m in \u001b[0;36msum\u001b[1;34m(self, axis, skipna, level, numeric_only, min_count, **kwargs)\u001b[0m\n\u001b[0;32m  10706\u001b[0m             \u001b[1;33m**\u001b[0m\u001b[0mkwargs\u001b[0m\u001b[1;33m,\u001b[0m\u001b[1;33m\u001b[0m\u001b[1;33m\u001b[0m\u001b[0m\n\u001b[0;32m  10707\u001b[0m         ):\n\u001b[1;32m> 10708\u001b[1;33m             return NDFrame.sum(\n\u001b[0m\u001b[0;32m  10709\u001b[0m                 \u001b[0mself\u001b[0m\u001b[1;33m,\u001b[0m \u001b[0maxis\u001b[0m\u001b[1;33m,\u001b[0m \u001b[0mskipna\u001b[0m\u001b[1;33m,\u001b[0m \u001b[0mlevel\u001b[0m\u001b[1;33m,\u001b[0m \u001b[0mnumeric_only\u001b[0m\u001b[1;33m,\u001b[0m \u001b[0mmin_count\u001b[0m\u001b[1;33m,\u001b[0m \u001b[1;33m**\u001b[0m\u001b[0mkwargs\u001b[0m\u001b[1;33m\u001b[0m\u001b[1;33m\u001b[0m\u001b[0m\n\u001b[0;32m  10710\u001b[0m             )\n",
      "\u001b[1;32m~\\anaconda3\\lib\\site-packages\\pandas\\core\\generic.py\u001b[0m in \u001b[0;36msum\u001b[1;34m(self, axis, skipna, level, numeric_only, min_count, **kwargs)\u001b[0m\n\u001b[0;32m  10444\u001b[0m         \u001b[1;33m**\u001b[0m\u001b[0mkwargs\u001b[0m\u001b[1;33m,\u001b[0m\u001b[1;33m\u001b[0m\u001b[1;33m\u001b[0m\u001b[0m\n\u001b[0;32m  10445\u001b[0m     ):\n\u001b[1;32m> 10446\u001b[1;33m         return self._min_count_stat_function(\n\u001b[0m\u001b[0;32m  10447\u001b[0m             \u001b[1;34m\"sum\"\u001b[0m\u001b[1;33m,\u001b[0m \u001b[0mnanops\u001b[0m\u001b[1;33m.\u001b[0m\u001b[0mnansum\u001b[0m\u001b[1;33m,\u001b[0m \u001b[0maxis\u001b[0m\u001b[1;33m,\u001b[0m \u001b[0mskipna\u001b[0m\u001b[1;33m,\u001b[0m \u001b[0mlevel\u001b[0m\u001b[1;33m,\u001b[0m \u001b[0mnumeric_only\u001b[0m\u001b[1;33m,\u001b[0m \u001b[0mmin_count\u001b[0m\u001b[1;33m,\u001b[0m \u001b[1;33m**\u001b[0m\u001b[0mkwargs\u001b[0m\u001b[1;33m\u001b[0m\u001b[1;33m\u001b[0m\u001b[0m\n\u001b[0;32m  10448\u001b[0m         )\n",
      "\u001b[1;32m~\\anaconda3\\lib\\site-packages\\pandas\\core\\generic.py\u001b[0m in \u001b[0;36m_min_count_stat_function\u001b[1;34m(self, name, func, axis, skipna, level, numeric_only, min_count, **kwargs)\u001b[0m\n\u001b[0;32m  10426\u001b[0m                 \u001b[0mnumeric_only\u001b[0m\u001b[1;33m=\u001b[0m\u001b[0mnumeric_only\u001b[0m\u001b[1;33m,\u001b[0m\u001b[1;33m\u001b[0m\u001b[1;33m\u001b[0m\u001b[0m\n\u001b[0;32m  10427\u001b[0m             )\n\u001b[1;32m> 10428\u001b[1;33m         return self._reduce(\n\u001b[0m\u001b[0;32m  10429\u001b[0m             \u001b[0mfunc\u001b[0m\u001b[1;33m,\u001b[0m\u001b[1;33m\u001b[0m\u001b[1;33m\u001b[0m\u001b[0m\n\u001b[0;32m  10430\u001b[0m             \u001b[0mname\u001b[0m\u001b[1;33m=\u001b[0m\u001b[0mname\u001b[0m\u001b[1;33m,\u001b[0m\u001b[1;33m\u001b[0m\u001b[1;33m\u001b[0m\u001b[0m\n",
      "\u001b[1;32m~\\anaconda3\\lib\\site-packages\\pandas\\core\\series.py\u001b[0m in \u001b[0;36m_reduce\u001b[1;34m(self, op, name, axis, skipna, numeric_only, filter_type, **kwds)\u001b[0m\n\u001b[0;32m   4390\u001b[0m                 )\n\u001b[0;32m   4391\u001b[0m             \u001b[1;32mwith\u001b[0m \u001b[0mnp\u001b[0m\u001b[1;33m.\u001b[0m\u001b[0merrstate\u001b[0m\u001b[1;33m(\u001b[0m\u001b[0mall\u001b[0m\u001b[1;33m=\u001b[0m\u001b[1;34m\"ignore\"\u001b[0m\u001b[1;33m)\u001b[0m\u001b[1;33m:\u001b[0m\u001b[1;33m\u001b[0m\u001b[1;33m\u001b[0m\u001b[0m\n\u001b[1;32m-> 4392\u001b[1;33m                 \u001b[1;32mreturn\u001b[0m \u001b[0mop\u001b[0m\u001b[1;33m(\u001b[0m\u001b[0mdelegate\u001b[0m\u001b[1;33m,\u001b[0m \u001b[0mskipna\u001b[0m\u001b[1;33m=\u001b[0m\u001b[0mskipna\u001b[0m\u001b[1;33m,\u001b[0m \u001b[1;33m**\u001b[0m\u001b[0mkwds\u001b[0m\u001b[1;33m)\u001b[0m\u001b[1;33m\u001b[0m\u001b[1;33m\u001b[0m\u001b[0m\n\u001b[0m\u001b[0;32m   4393\u001b[0m \u001b[1;33m\u001b[0m\u001b[0m\n\u001b[0;32m   4394\u001b[0m     def _reindex_indexer(\n",
      "\u001b[1;32m~\\anaconda3\\lib\\site-packages\\pandas\\core\\nanops.py\u001b[0m in \u001b[0;36m_f\u001b[1;34m(*args, **kwargs)\u001b[0m\n\u001b[0;32m     91\u001b[0m             \u001b[1;32mtry\u001b[0m\u001b[1;33m:\u001b[0m\u001b[1;33m\u001b[0m\u001b[1;33m\u001b[0m\u001b[0m\n\u001b[0;32m     92\u001b[0m                 \u001b[1;32mwith\u001b[0m \u001b[0mnp\u001b[0m\u001b[1;33m.\u001b[0m\u001b[0merrstate\u001b[0m\u001b[1;33m(\u001b[0m\u001b[0minvalid\u001b[0m\u001b[1;33m=\u001b[0m\u001b[1;34m\"ignore\"\u001b[0m\u001b[1;33m)\u001b[0m\u001b[1;33m:\u001b[0m\u001b[1;33m\u001b[0m\u001b[1;33m\u001b[0m\u001b[0m\n\u001b[1;32m---> 93\u001b[1;33m                     \u001b[1;32mreturn\u001b[0m \u001b[0mf\u001b[0m\u001b[1;33m(\u001b[0m\u001b[1;33m*\u001b[0m\u001b[0margs\u001b[0m\u001b[1;33m,\u001b[0m \u001b[1;33m**\u001b[0m\u001b[0mkwargs\u001b[0m\u001b[1;33m)\u001b[0m\u001b[1;33m\u001b[0m\u001b[1;33m\u001b[0m\u001b[0m\n\u001b[0m\u001b[0;32m     94\u001b[0m             \u001b[1;32mexcept\u001b[0m \u001b[0mValueError\u001b[0m \u001b[1;32mas\u001b[0m \u001b[0me\u001b[0m\u001b[1;33m:\u001b[0m\u001b[1;33m\u001b[0m\u001b[1;33m\u001b[0m\u001b[0m\n\u001b[0;32m     95\u001b[0m                 \u001b[1;31m# we want to transform an object array\u001b[0m\u001b[1;33m\u001b[0m\u001b[1;33m\u001b[0m\u001b[0m\n",
      "\u001b[1;32m~\\anaconda3\\lib\\site-packages\\pandas\\core\\nanops.py\u001b[0m in \u001b[0;36mnew_func\u001b[1;34m(values, axis, skipna, mask, **kwargs)\u001b[0m\n\u001b[0;32m    408\u001b[0m             \u001b[0mmask\u001b[0m \u001b[1;33m=\u001b[0m \u001b[0misna\u001b[0m\u001b[1;33m(\u001b[0m\u001b[0mvalues\u001b[0m\u001b[1;33m)\u001b[0m\u001b[1;33m\u001b[0m\u001b[1;33m\u001b[0m\u001b[0m\n\u001b[0;32m    409\u001b[0m \u001b[1;33m\u001b[0m\u001b[0m\n\u001b[1;32m--> 410\u001b[1;33m         \u001b[0mresult\u001b[0m \u001b[1;33m=\u001b[0m \u001b[0mfunc\u001b[0m\u001b[1;33m(\u001b[0m\u001b[0mvalues\u001b[0m\u001b[1;33m,\u001b[0m \u001b[0maxis\u001b[0m\u001b[1;33m=\u001b[0m\u001b[0maxis\u001b[0m\u001b[1;33m,\u001b[0m \u001b[0mskipna\u001b[0m\u001b[1;33m=\u001b[0m\u001b[0mskipna\u001b[0m\u001b[1;33m,\u001b[0m \u001b[0mmask\u001b[0m\u001b[1;33m=\u001b[0m\u001b[0mmask\u001b[0m\u001b[1;33m,\u001b[0m \u001b[1;33m**\u001b[0m\u001b[0mkwargs\u001b[0m\u001b[1;33m)\u001b[0m\u001b[1;33m\u001b[0m\u001b[1;33m\u001b[0m\u001b[0m\n\u001b[0m\u001b[0;32m    411\u001b[0m \u001b[1;33m\u001b[0m\u001b[0m\n\u001b[0;32m    412\u001b[0m         \u001b[1;32mif\u001b[0m \u001b[0mdatetimelike\u001b[0m\u001b[1;33m:\u001b[0m\u001b[1;33m\u001b[0m\u001b[1;33m\u001b[0m\u001b[0m\n",
      "\u001b[1;32m~\\anaconda3\\lib\\site-packages\\pandas\\core\\nanops.py\u001b[0m in \u001b[0;36mnansum\u001b[1;34m(values, axis, skipna, min_count, mask)\u001b[0m\n\u001b[0;32m    588\u001b[0m         \u001b[0mdtype_sum\u001b[0m \u001b[1;33m=\u001b[0m \u001b[0mnp\u001b[0m\u001b[1;33m.\u001b[0m\u001b[0mfloat64\u001b[0m  \u001b[1;31m# type: ignore[assignment]\u001b[0m\u001b[1;33m\u001b[0m\u001b[1;33m\u001b[0m\u001b[0m\n\u001b[0;32m    589\u001b[0m \u001b[1;33m\u001b[0m\u001b[0m\n\u001b[1;32m--> 590\u001b[1;33m     \u001b[0mthe_sum\u001b[0m \u001b[1;33m=\u001b[0m \u001b[0mvalues\u001b[0m\u001b[1;33m.\u001b[0m\u001b[0msum\u001b[0m\u001b[1;33m(\u001b[0m\u001b[0maxis\u001b[0m\u001b[1;33m,\u001b[0m \u001b[0mdtype\u001b[0m\u001b[1;33m=\u001b[0m\u001b[0mdtype_sum\u001b[0m\u001b[1;33m)\u001b[0m\u001b[1;33m\u001b[0m\u001b[1;33m\u001b[0m\u001b[0m\n\u001b[0m\u001b[0;32m    591\u001b[0m     \u001b[0mthe_sum\u001b[0m \u001b[1;33m=\u001b[0m \u001b[0m_maybe_null_out\u001b[0m\u001b[1;33m(\u001b[0m\u001b[0mthe_sum\u001b[0m\u001b[1;33m,\u001b[0m \u001b[0maxis\u001b[0m\u001b[1;33m,\u001b[0m \u001b[0mmask\u001b[0m\u001b[1;33m,\u001b[0m \u001b[0mvalues\u001b[0m\u001b[1;33m.\u001b[0m\u001b[0mshape\u001b[0m\u001b[1;33m,\u001b[0m \u001b[0mmin_count\u001b[0m\u001b[1;33m=\u001b[0m\u001b[0mmin_count\u001b[0m\u001b[1;33m)\u001b[0m\u001b[1;33m\u001b[0m\u001b[1;33m\u001b[0m\u001b[0m\n\u001b[0;32m    592\u001b[0m \u001b[1;33m\u001b[0m\u001b[0m\n",
      "\u001b[1;32m~\\anaconda3\\lib\\site-packages\\numpy\\core\\_methods.py\u001b[0m in \u001b[0;36m_sum\u001b[1;34m(a, axis, dtype, out, keepdims, initial, where)\u001b[0m\n\u001b[0;32m     46\u001b[0m def _sum(a, axis=None, dtype=None, out=None, keepdims=False,\n\u001b[0;32m     47\u001b[0m          initial=_NoValue, where=True):\n\u001b[1;32m---> 48\u001b[1;33m     \u001b[1;32mreturn\u001b[0m \u001b[0mumr_sum\u001b[0m\u001b[1;33m(\u001b[0m\u001b[0ma\u001b[0m\u001b[1;33m,\u001b[0m \u001b[0maxis\u001b[0m\u001b[1;33m,\u001b[0m \u001b[0mdtype\u001b[0m\u001b[1;33m,\u001b[0m \u001b[0mout\u001b[0m\u001b[1;33m,\u001b[0m \u001b[0mkeepdims\u001b[0m\u001b[1;33m,\u001b[0m \u001b[0minitial\u001b[0m\u001b[1;33m,\u001b[0m \u001b[0mwhere\u001b[0m\u001b[1;33m)\u001b[0m\u001b[1;33m\u001b[0m\u001b[1;33m\u001b[0m\u001b[0m\n\u001b[0m\u001b[0;32m     49\u001b[0m \u001b[1;33m\u001b[0m\u001b[0m\n\u001b[0;32m     50\u001b[0m def _prod(a, axis=None, dtype=None, out=None, keepdims=False,\n",
      "\u001b[1;31mTypeError\u001b[0m: can only concatenate str (not \"int\") to str"
     ]
    }
   ],
   "source": [
    "df['Valor_de_Compra'].sum()"
   ]
  },
  {
   "cell_type": "code",
   "execution_count": null,
   "id": "b4652c6c",
   "metadata": {},
   "outputs": [],
   "source": [
    "print(df['Valor_de_Venda'].sum() - df['Valor_de_Compra'].sum())"
   ]
  }
 ],
 "metadata": {
  "kernelspec": {
   "display_name": "Python 3 (ipykernel)",
   "language": "python",
   "name": "python3"
  },
  "language_info": {
   "codemirror_mode": {
    "name": "ipython",
    "version": 3
   },
   "file_extension": ".py",
   "mimetype": "text/x-python",
   "name": "python",
   "nbconvert_exporter": "python",
   "pygments_lexer": "ipython3",
   "version": "3.9.7"
  }
 },
 "nbformat": 4,
 "nbformat_minor": 5
}
