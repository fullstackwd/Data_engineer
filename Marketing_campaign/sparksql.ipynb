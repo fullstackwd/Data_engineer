{
  "nbformat": 4,
  "nbformat_minor": 0,
  "metadata": {
    "colab": {
      "name": "sparksql.ipynb",
      "provenance": []
    },
    "kernelspec": {
      "name": "python3",
      "display_name": "Python 3"
    },
    "language_info": {
      "name": "python"
    }
  },
  "cells": [
    {
      "cell_type": "markdown",
      "source": [
        "# **Nivel SparkSQL**"
      ],
      "metadata": {
        "id": "afLATU1TjXDZ"
      }
    },
    {
      "cell_type": "markdown",
      "source": [
        "**Instalação do PySpark**"
      ],
      "metadata": {
        "id": "lkoICl4EjWpI"
      }
    },
    {
      "cell_type": "code",
      "execution_count": 1,
      "metadata": {
        "colab": {
          "base_uri": "https://localhost:8080/"
        },
        "id": "6mv6qqOf1mjo",
        "outputId": "ec304e37-d693-44a4-a2bd-53e49249b4a5"
      },
      "outputs": [
        {
          "output_type": "stream",
          "name": "stdout",
          "text": [
            "Looking in indexes: https://pypi.org/simple, https://us-python.pkg.dev/colab-wheels/public/simple/\n",
            "Collecting pyspark\n",
            "  Downloading pyspark-3.2.1.tar.gz (281.4 MB)\n",
            "\u001b[K     |████████████████████████████████| 281.4 MB 33 kB/s \n",
            "\u001b[?25hCollecting py4j==0.10.9.3\n",
            "  Downloading py4j-0.10.9.3-py2.py3-none-any.whl (198 kB)\n",
            "\u001b[K     |████████████████████████████████| 198 kB 66.8 MB/s \n",
            "\u001b[?25hBuilding wheels for collected packages: pyspark\n",
            "  Building wheel for pyspark (setup.py) ... \u001b[?25l\u001b[?25hdone\n",
            "  Created wheel for pyspark: filename=pyspark-3.2.1-py2.py3-none-any.whl size=281853642 sha256=46fcd8cf4ca234ef8fafe35b450ed115dc07d62a65a81a65e3c475f84c605fc3\n",
            "  Stored in directory: /root/.cache/pip/wheels/9f/f5/07/7cd8017084dce4e93e84e92efd1e1d5334db05f2e83bcef74f\n",
            "Successfully built pyspark\n",
            "Installing collected packages: py4j, pyspark\n",
            "Successfully installed py4j-0.10.9.3 pyspark-3.2.1\n"
          ]
        }
      ],
      "source": [
        "pip install pyspark"
      ]
    },
    {
      "cell_type": "markdown",
      "source": [
        "**Importação de biliotecas**"
      ],
      "metadata": {
        "id": "NEf7srfJj92s"
      }
    },
    {
      "cell_type": "code",
      "source": [
        "from pyspark.sql import SparkSession\n",
        "import pyspark.sql.functions as F"
      ],
      "metadata": {
        "id": "skevw9Mb197z"
      },
      "execution_count": 12,
      "outputs": []
    },
    {
      "cell_type": "markdown",
      "source": [
        "**Conecção com o Apache-Spark**"
      ],
      "metadata": {
        "id": "2RANp_GJkFWg"
      }
    },
    {
      "cell_type": "code",
      "source": [
        "spark = (SparkSession.builder\\\n",
        "        .master(\"local\")\\\n",
        "        .appName(\"market_camp\")\\\n",
        "        .config(\"spark.ui.port\", \"4050\")\\\n",
        "        .getOrCreate())"
      ],
      "metadata": {
        "id": "9KvI6Rxd2Iqi"
      },
      "execution_count": 13,
      "outputs": []
    },
    {
      "cell_type": "markdown",
      "source": [
        "**Carrega dados do arquivo - df_pd_marketing_campaign.csv**"
      ],
      "metadata": {
        "id": "EjwLrhZLkchq"
      }
    },
    {
      "cell_type": "code",
      "source": [
        "df = (spark\n",
        "      .read\n",
        "      .format(\"csv\")\n",
        "      .option(\"header\", \"true\")\n",
        "      .option(\"inferschema\", \"true\")\n",
        "      .option(\"delimiter\", \",\")\n",
        "      .load(\"/content/df_pd_marketing_campaign.csv\")\n",
        "      .createOrReplaceTempView(\"marketing\"))"
      ],
      "metadata": {
        "id": "GdI15WSG2Kky"
      },
      "execution_count": 14,
      "outputs": []
    },
    {
      "cell_type": "markdown",
      "source": [
        "**1 - Imprime a tabela na tela 10 linhas.**"
      ],
      "metadata": {
        "id": "_7JR12CXk7nw"
      }
    },
    {
      "cell_type": "code",
      "source": [
        "spark.sql('''SELECT * FROM marketing''').show(10)"
      ],
      "metadata": {
        "colab": {
          "base_uri": "https://localhost:8080/"
        },
        "id": "DNS41nLE7POB",
        "outputId": "cd398ade-5365-45c1-f4c7-7fc5fc5b8938"
      },
      "execution_count": 17,
      "outputs": [
        {
          "output_type": "stream",
          "name": "stdout",
          "text": [
            "+---+----+--------------+---------+-------------+-----------+-----------+---------------+--------------------+----------------------+----------+----------+---------+---------+----------+-----------------+------------------+------------------+--------------------+-------------------+----------------------+--------------+--------------+--------------+--------------+--------------+----------+----------------+-------+--------+\n",
            "|_c0|  id|ano_nascimento| educacao| estado_civil|renda_anual|qtd_crianca|qtd_adolescente|primeira_data_compra|dias_desde_ult_compras|qtd_vinhos|qtd_frutas|qtd_carne|qtd_peixe|guloseimas|qtd_produtos_gold|qtd_ofertas_compra|qtd_compras_online|qtd_compras_catalogo|qtd_compras_na_loja|qtd_visitas_online_mes|oferta_aceita1|oferta_aceita2|oferta_aceita3|oferta_aceita4|oferta_aceita5|reclamacao|contato_de_custo|receita|resposta|\n",
            "+---+----+--------------+---------+-------------+-----------+-----------+---------------+--------------------+----------------------+----------+----------+---------+---------+----------+-----------------+------------------+------------------+--------------------+-------------------+----------------------+--------------+--------------+--------------+--------------+--------------+----------+----------------+-------+--------+\n",
            "|  0|5524|          1957| Graduado|     Solteiro|    58138.0|          0|              0|          2012-09-04|                    58|       635|        88|      546|      172|        88|               88|                 3|                 8|                  10|                  4|                     7|           nao|           nao|           nao|           nao|           nao|       nao|               3|     11|     sim|\n",
            "|  1|2174|          1954| Graduado|     Solteiro|    46344.0|          1|              1|          2014-03-08|                    38|        11|         1|        6|        2|         1|                6|                 2|                 1|                   1|                  2|                     5|           nao|           nao|           nao|           nao|           nao|       nao|               3|     11|     nao|\n",
            "|  2|4141|          1965| Graduado|Uniao_estavel|    71613.0|          0|              0|          2013-08-21|                    26|       426|        49|      127|      111|        21|               42|                 1|                 8|                   2|                 10|                     4|           nao|           nao|           nao|           nao|           nao|       nao|               3|     11|     nao|\n",
            "|  3|6182|          1984| Graduado|Uniao_estavel|    26646.0|          1|              0|          2014-02-10|                    26|        11|         4|       20|       10|         3|                5|                 2|                 2|                   0|                  4|                     6|           nao|           nao|           nao|           nao|           nao|       nao|               3|     11|     nao|\n",
            "|  4|5324|          1981|Doutorado|       Casado|    58293.0|          1|              0|          2014-01-19|                    94|       173|        43|      118|       46|        27|               15|                 5|                 5|                   3|                  6|                     5|           nao|           nao|           nao|           nao|           nao|       nao|               3|     11|     nao|\n",
            "|  5|7446|          1967| Mestrado|Uniao_estavel|    62513.0|          0|              1|          2013-09-09|                    16|       520|        42|       98|        0|        42|               14|                 2|                 6|                   4|                 10|                     6|           nao|           nao|           nao|           nao|           nao|       nao|               3|     11|     nao|\n",
            "|  6| 965|          1971| Graduado|   Divorciado|    55635.0|          0|              1|          2012-11-13|                    34|       235|        65|      164|       50|        49|               27|                 4|                 7|                   3|                  7|                     6|           nao|           nao|           nao|           nao|           nao|       nao|               3|     11|     nao|\n",
            "|  7|6177|          1985|Doutorado|       Casado|    33454.0|          1|              0|          2013-05-08|                    32|        76|        10|       56|        3|         1|               23|                 2|                 4|                   0|                  4|                     8|           nao|           nao|           nao|           nao|           nao|       nao|               3|     11|     nao|\n",
            "|  8|4855|          1974|Doutorado|Uniao_estavel|    30351.0|          1|              0|          2013-06-06|                    19|        14|         0|       24|        3|         3|                2|                 1|                 3|                   0|                  2|                     9|           nao|           nao|           nao|           nao|           nao|       nao|               3|     11|     sim|\n",
            "|  9|5899|          1950|Doutorado|Uniao_estavel|     5648.0|          1|              1|          2014-03-13|                    68|        28|         0|        6|        1|         1|               13|                 1|                 1|                   0|                  0|                    20|           sim|           nao|           nao|           nao|           nao|       nao|               3|     11|     nao|\n",
            "+---+----+--------------+---------+-------------+-----------+-----------+---------------+--------------------+----------------------+----------+----------+---------+---------+----------+-----------------+------------------+------------------+--------------------+-------------------+----------------------+--------------+--------------+--------------+--------------+--------------+----------+----------------+-------+--------+\n",
            "only showing top 10 rows\n",
            "\n"
          ]
        }
      ]
    },
    {
      "cell_type": "markdown",
      "source": [
        "**2 - Imprime os indexes da tabela.**"
      ],
      "metadata": {
        "id": "TXZPNO6Slu87"
      }
    },
    {
      "cell_type": "code",
      "source": [
        "spark.sql('''DESCRIBE marketing''').show()"
      ],
      "metadata": {
        "colab": {
          "base_uri": "https://localhost:8080/"
        },
        "id": "cKEDrmFQ7cCV",
        "outputId": "7261a6c7-60fb-4dea-d723-65fe20318d43"
      },
      "execution_count": 16,
      "outputs": [
        {
          "output_type": "stream",
          "name": "stdout",
          "text": [
            "+--------------------+---------+-------+\n",
            "|            col_name|data_type|comment|\n",
            "+--------------------+---------+-------+\n",
            "|                 _c0|      int|   null|\n",
            "|                  id|      int|   null|\n",
            "|      ano_nascimento|      int|   null|\n",
            "|            educacao|   string|   null|\n",
            "|        estado_civil|   string|   null|\n",
            "|         renda_anual|   double|   null|\n",
            "|         qtd_crianca|      int|   null|\n",
            "|     qtd_adolescente|      int|   null|\n",
            "|primeira_data_compra|   string|   null|\n",
            "|dias_desde_ult_co...|      int|   null|\n",
            "|          qtd_vinhos|      int|   null|\n",
            "|          qtd_frutas|      int|   null|\n",
            "|           qtd_carne|      int|   null|\n",
            "|           qtd_peixe|      int|   null|\n",
            "|          guloseimas|      int|   null|\n",
            "|   qtd_produtos_gold|      int|   null|\n",
            "|  qtd_ofertas_compra|      int|   null|\n",
            "|  qtd_compras_online|      int|   null|\n",
            "|qtd_compras_catalogo|      int|   null|\n",
            "| qtd_compras_na_loja|      int|   null|\n",
            "+--------------------+---------+-------+\n",
            "only showing top 20 rows\n",
            "\n"
          ]
        }
      ]
    },
    {
      "cell_type": "markdown",
      "source": [
        "**3 - Seleção da renda anual e perfil de compras com base nos dados socio-economicos**"
      ],
      "metadata": {
        "id": "UGevcBSvolUu"
      }
    },
    {
      "cell_type": "code",
      "source": [
        "spark.sql('''\n",
        "            SELECT id, renda_anual,  qtd_compras_online, educacao, estado_civil, dias_desde_ult_compras, qtd_visitas_online_mes\n",
        "            FROM marketing\n",
        "            ORDER BY renda_anual DESC;\n",
        "          ''').show(10)"
      ],
      "metadata": {
        "colab": {
          "base_uri": "https://localhost:8080/"
        },
        "id": "QtXZ93KO7rBu",
        "outputId": "41a5ce25-7f40-475f-979a-b86324fda432"
      },
      "execution_count": 33,
      "outputs": [
        {
          "output_type": "stream",
          "name": "stdout",
          "text": [
            "+-----+-----------+------------------+---------+-------------+----------------------+----------------------+\n",
            "|   id|renda_anual|qtd_compras_online| educacao| estado_civil|dias_desde_ult_compras|qtd_visitas_online_mes|\n",
            "+-----+-----------+------------------+---------+-------------+----------------------+----------------------+\n",
            "| 9432|   666666.0|                 3| Graduado|Uniao_estavel|                    23|                     6|\n",
            "| 1503|   162397.0|                 0|Doutorado|Uniao_estavel|                    31|                     1|\n",
            "| 1501|   160803.0|                 0|Doutorado|       Casado|                    21|                     0|\n",
            "| 5336|   157733.0|                 1| Mestrado|Uniao_estavel|                    37|                     1|\n",
            "| 8475|   157243.0|                 0|Doutorado|       Casado|                    98|                     0|\n",
            "| 4931|   157146.0|                 0| Graduado|Uniao_estavel|                    13|                     1|\n",
            "|11181|   156924.0|                 0|Doutorado|       Casado|                    85|                     0|\n",
            "| 5555|   153924.0|                 0| Graduado|   Divorciado|                    81|                     0|\n",
            "| 4619|   113734.0|                27|Doutorado|     Solteiro|                     9|                     1|\n",
            "| 4611|   105471.0|                 9| Graduado|Uniao_estavel|                    36|                     3|\n",
            "+-----+-----------+------------------+---------+-------------+----------------------+----------------------+\n",
            "only showing top 10 rows\n",
            "\n"
          ]
        }
      ]
    },
    {
      "cell_type": "markdown",
      "source": [
        "**4 - Estudo com criterio de quantdade de compras, renda anual e dias desde da ultima compra.**"
      ],
      "metadata": {
        "id": "3l-KIdMJqRyB"
      }
    },
    {
      "cell_type": "code",
      "source": [
        "spark.sql('''\n",
        "            SELECT id, qtd_compras_online, renda_anual, dias_desde_ult_compras\n",
        "            FROM marketing\n",
        "            ORDER BY qtd_compras_online DESC;\n",
        "          ''').show(10)"
      ],
      "metadata": {
        "colab": {
          "base_uri": "https://localhost:8080/"
        },
        "id": "4_mA5mWqqSRT",
        "outputId": "7a2194ed-4ddd-4b7c-92c4-5121c51aabf4"
      },
      "execution_count": 34,
      "outputs": [
        {
          "output_type": "stream",
          "name": "stdout",
          "text": [
            "+-----+------------------+-----------------+----------------------+\n",
            "|   id|qtd_compras_online|      renda_anual|dias_desde_ult_compras|\n",
            "+-----+------------------+-----------------+----------------------+\n",
            "| 5255|                27|52247.25135379061|                    19|\n",
            "| 4619|                27|         113734.0|                     9|\n",
            "|10311|                25|           4428.0|                     0|\n",
            "| 6237|                23|           7144.0|                    92|\n",
            "| 8931|                11|          83033.0|                    82|\n",
            "| 7030|                11|          66465.0|                     1|\n",
            "| 9365|                11|          60000.0|                    57|\n",
            "| 6439|                11|          61074.0|                    37|\n",
            "| 4299|                11|          70971.0|                    28|\n",
            "| 7381|                11|          75693.0|                    10|\n",
            "+-----+------------------+-----------------+----------------------+\n",
            "only showing top 10 rows\n",
            "\n"
          ]
        }
      ]
    },
    {
      "cell_type": "markdown",
      "source": [
        "**5 -  Estudo com critério do maior numero de dias sem comprar.**"
      ],
      "metadata": {
        "id": "Qj6e059NtreU"
      }
    },
    {
      "cell_type": "code",
      "source": [
        "spark.sql('''\n",
        "            SELECT id, dias_desde_ult_compras, qtd_compras_online, renda_anual \n",
        "            FROM marketing\n",
        "            ORDER BY dias_desde_ult_compras DESC;\n",
        "          ''').show()"
      ],
      "metadata": {
        "colab": {
          "base_uri": "https://localhost:8080/"
        },
        "id": "u7AblcCFtsGu",
        "outputId": "295d483a-c169-4f6e-cb5c-9e282b57536b"
      },
      "execution_count": 41,
      "outputs": [
        {
          "output_type": "stream",
          "name": "stdout",
          "text": [
            "+-----+----------------------+------------------+-----------+\n",
            "|   id|dias_desde_ult_compras|qtd_compras_online|renda_anual|\n",
            "+-----+----------------------+------------------+-----------+\n",
            "|  868|                    99|                 2|    44794.0|\n",
            "| 7829|                    99|                 2|    36640.0|\n",
            "| 7232|                    99|                 1|    42429.0|\n",
            "|10142|                    99|                 5|    66476.0|\n",
            "| 9977|                    99|                 9|    78901.0|\n",
            "| 8595|                    99|                 1|    42429.0|\n",
            "| 7947|                    99|                 1|    42231.0|\n",
            "| 5263|                    99|                 1|    31056.0|\n",
            "| 3363|                    99|                 1|    20130.0|\n",
            "| 4070|                    99|                 8|    94871.0|\n",
            "| 2831|                    99|                 7|    78416.0|\n",
            "| 2415|                    99|                 5|    62568.0|\n",
            "| 1743|                    99|                 2|    69719.0|\n",
            "| 7212|                    99|                 2|    44794.0|\n",
            "| 2106|                    99|                 1|    20130.0|\n",
            "|  528|                    99|                 5|    65819.0|\n",
            "|   22|                    99|                 6|    46310.0|\n",
            "| 2320|                    98|                11|    47025.0|\n",
            "|  213|                    98|                 2|    23091.0|\n",
            "| 6722|                    98|                10|    70421.0|\n",
            "+-----+----------------------+------------------+-----------+\n",
            "only showing top 20 rows\n",
            "\n"
          ]
        }
      ]
    }
  ]
}