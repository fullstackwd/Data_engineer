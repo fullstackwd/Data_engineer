{
 "cells": [
  {
   "cell_type": "markdown",
   "id": "a645998f",
   "metadata": {},
   "source": [
    "# Atividade 10"
   ]
  },
  {
   "cell_type": "code",
   "execution_count": 1,
   "id": "c2d86a0b",
   "metadata": {},
   "outputs": [],
   "source": [
    "import psycopg2"
   ]
  },
  {
   "cell_type": "code",
   "execution_count": 2,
   "id": "66982b36",
   "metadata": {},
   "outputs": [],
   "source": [
    "import csv"
   ]
  },
  {
   "cell_type": "code",
   "execution_count": 3,
   "id": "cee0ffac",
   "metadata": {},
   "outputs": [],
   "source": [
    "conn = psycopg2.connect(database=\"loja10DB\",\n",
    "                        user='postgres', password='postgres', \n",
    "                        host='127.0.0.1', port='5432'\n",
    ")"
   ]
  },
  {
   "cell_type": "code",
   "execution_count": 4,
   "id": "97757b21",
   "metadata": {},
   "outputs": [],
   "source": [
    "conn.autocommit = True\n",
    "cur = conn.cursor()"
   ]
  },
  {
   "cell_type": "code",
   "execution_count": 5,
   "id": "0e3a9218",
   "metadata": {},
   "outputs": [],
   "source": [
    "sql = '''CREATE TABLE VENDAS (idvenda serial NOT NULL,idproduto int NOT NULL\n",
    ",idvendedor int NOT NULL,valortotal decimal(7,2) NOT NULL,comissao decimal(6,2) NOT NULL,idfornecedor int NOT NULL);'''"
   ]
  },
  {
   "cell_type": "code",
   "execution_count": 6,
   "id": "bceff738",
   "metadata": {},
   "outputs": [
    {
     "ename": "DuplicateTable",
     "evalue": "relation \"vendas\" already exists\n",
     "output_type": "error",
     "traceback": [
      "\u001b[1;31m---------------------------------------------------------------------------\u001b[0m",
      "\u001b[1;31mDuplicateTable\u001b[0m                            Traceback (most recent call last)",
      "\u001b[1;32m~\\AppData\\Local\\Temp/ipykernel_2480/711342667.py\u001b[0m in \u001b[0;36m<module>\u001b[1;34m\u001b[0m\n\u001b[1;32m----> 1\u001b[1;33m \u001b[0mcur\u001b[0m\u001b[1;33m.\u001b[0m\u001b[0mexecute\u001b[0m\u001b[1;33m(\u001b[0m\u001b[0msql\u001b[0m\u001b[1;33m)\u001b[0m\u001b[1;33m\u001b[0m\u001b[1;33m\u001b[0m\u001b[0m\n\u001b[0m",
      "\u001b[1;31mDuplicateTable\u001b[0m: relation \"vendas\" already exists\n"
     ]
    }
   ],
   "source": [
    "cur.execute(sql)"
   ]
  },
  {
   "cell_type": "code",
   "execution_count": 11,
   "id": "f743ecd9",
   "metadata": {},
   "outputs": [],
   "source": [
    "sql2 = '''COPY \n",
    "        vendas(idproduto, idvendedor, valortotal, comissao, idfornecedor)\n",
    "        FROM 'C:\\Cursos\\SoulCode\\vendas.csv' DELIMITER ',' CSV HEADER;'''"
   ]
  },
  {
   "cell_type": "code",
   "execution_count": 10,
   "id": "9e1379c4",
   "metadata": {
    "scrolled": false
   },
   "outputs": [
    {
     "ename": "UndefinedFile",
     "evalue": "could not open file \"/Cursos/SoulCode/vendas.csv\" for reading: No such file or directory\nHINT:  COPY FROM instructs the PostgreSQL server process to read a file. You may want a client-side facility such as psql's \\copy.\n",
     "output_type": "error",
     "traceback": [
      "\u001b[1;31m---------------------------------------------------------------------------\u001b[0m",
      "\u001b[1;31mUndefinedFile\u001b[0m                             Traceback (most recent call last)",
      "\u001b[1;32m~\\AppData\\Local\\Temp/ipykernel_2480/4178459376.py\u001b[0m in \u001b[0;36m<module>\u001b[1;34m\u001b[0m\n\u001b[1;32m----> 1\u001b[1;33m \u001b[0mcur\u001b[0m\u001b[1;33m.\u001b[0m\u001b[0mexecute\u001b[0m\u001b[1;33m(\u001b[0m\u001b[0msql2\u001b[0m\u001b[1;33m)\u001b[0m\u001b[1;33m\u001b[0m\u001b[1;33m\u001b[0m\u001b[0m\n\u001b[0m",
      "\u001b[1;31mUndefinedFile\u001b[0m: could not open file \"/Cursos/SoulCode/vendas.csv\" for reading: No such file or directory\nHINT:  COPY FROM instructs the PostgreSQL server process to read a file. You may want a client-side facility such as psql's \\copy.\n"
     ]
    }
   ],
   "source": [
    "cur.execute(sql2)"
   ]
  },
  {
   "cell_type": "code",
   "execution_count": null,
   "id": "a22d931c",
   "metadata": {},
   "outputs": [],
   "source": [
    "sql3 = '''select * from details;'''\n",
    "cursor.execute(sql3)\n",
    "for i in cursor.fetchall():\n",
    "    print(i)"
   ]
  },
  {
   "cell_type": "code",
   "execution_count": null,
   "id": "59bf31a2",
   "metadata": {},
   "outputs": [],
   "source": [
    "conn.commit()\n",
    "conn.close()"
   ]
  },
  {
   "cell_type": "code",
   "execution_count": null,
   "id": "7e29eecc",
   "metadata": {},
   "outputs": [],
   "source": []
  }
 ],
 "metadata": {
  "kernelspec": {
   "display_name": "Python 3 (ipykernel)",
   "language": "python",
   "name": "python3"
  },
  "language_info": {
   "codemirror_mode": {
    "name": "ipython",
    "version": 3
   },
   "file_extension": ".py",
   "mimetype": "text/x-python",
   "name": "python",
   "nbconvert_exporter": "python",
   "pygments_lexer": "ipython3",
   "version": "3.9.7"
  }
 },
 "nbformat": 4,
 "nbformat_minor": 5
}
