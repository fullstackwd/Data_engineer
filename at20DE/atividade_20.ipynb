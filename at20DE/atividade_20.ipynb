{
 "cells": [
  {
   "cell_type": "markdown",
   "id": "d975d743",
   "metadata": {},
   "source": [
    "## Atividade 20 - Migração e Integração de Bases de Dados"
   ]
  },
  {
   "cell_type": "markdown",
   "id": "4607364a",
   "metadata": {},
   "source": [
    "A SoulCode Academy utiliza dois sistemas distintos para cadastro de vendas, um em sua matriz e outro em suas filiais. O sistema da matriz utiliza um db noSQL enquanto os das filiais ainda utilizam um SQL. As tabelas a seguir são amostras de dados dos dois tipos de db enviadas para auxiliar seu desenvolvimento. Crie uma db em SQL e uma noSQL, e adicione essas amostrar para criar um ambiente simulando o problema real. A seguir crie um código em Python que leia a db SQL, corrija, padronize e insira os dados na db noSQL."
   ]
  },
  {
   "cell_type": "markdown",
   "id": "d5964bbe",
   "metadata": {},
   "source": [
    "Devem ser entregues:\n",
    "- os códigos desenvolvidos\n",
    "- um cronograma apresentando quem fez o que e quando\n",
    "- uma apresentação em slides apresentando o desenvolvimento criado"
   ]
  },
  {
   "cell_type": "markdown",
   "id": "34b7dc3d",
   "metadata": {},
   "source": [
    "### Instalações das bibliotecas"
   ]
  },
  {
   "cell_type": "markdown",
   "id": "fc9b8405",
   "metadata": {},
   "source": [
    "### Importações das bibliotecas"
   ]
  },
  {
   "cell_type": "code",
   "execution_count": 1,
   "id": "64cba4df",
   "metadata": {},
   "outputs": [],
   "source": [
    "try:\n",
    "    from google.cloud import storage\n",
    "    import google.cloud.storage\n",
    "    import json\n",
    "    import csv\n",
    "    import os\n",
    "    import sys\n",
    "    import pandas as pd\n",
    "    import numpy as np\n",
    "except Exception as e:\n",
    "    print(\"Error : {'Falha Imports'} \".format(e))"
   ]
  },
  {
   "cell_type": "markdown",
   "id": "142682f4",
   "metadata": {},
   "source": [
    "### Conectores"
   ]
  },
  {
   "cell_type": "code",
   "execution_count": 2,
   "id": "7e7b2f90",
   "metadata": {},
   "outputs": [],
   "source": [
    "#CONFIGURAÇÃO DA CHAVE DE SEGURANÇA\n",
    "serviceAccount = 'C://Cursos//Soulcode//AuthKey//quantum-pilot-349020-5b36e5952629.json'\n",
    "\n",
    "os.environ['GOOGLE_APPLICATION_CREDENTIALS'] = serviceAccount"
   ]
  },
  {
   "cell_type": "code",
   "execution_count": 3,
   "id": "a176333a",
   "metadata": {},
   "outputs": [],
   "source": [
    "#CÓDIGO QUE ACESSA A BUCKET CRIADA E FAZ O DOWNLOAD DOS ARQUIVOS VIA PANDAS\n",
    "client = storage.Client()\n",
    "\n",
    "#CRIAR UMA VARIÁVEL CHAMADA BUCKET QUE VAI RECEBER O NOME DA BUCKET DO CLOUD STORAGE\n",
    "bucket = client.get_bucket('soulcodestore')\n",
    "\n",
    "#USAR O MÉTODO BLOB PARA RETORNAR O NOME DO ARQUIVO (JSON, CSV, PARQUET)\n",
    "# bucket.blob('Acessos_Banda_Larga_Fixa_2021.csv')\n",
    "\n",
    "#CRIA UMA VARIÁVEL PATH PARA COLOCAR O CAMINHO DO CSV\n",
    "#path = 'gs://datasets_pyspark/arquivo_geral.csv'\n",
    "path1 = 'gs://soulcodestore/originais/Sistema_B_NoSQL.csv'\n",
    "path2 = 'gs://soulcodestore/originais/Sistema_A_SQL.csv'\n",
    "path3 = 'gs://soulcodestore/integrado'"
   ]
  },
  {
   "cell_type": "markdown",
   "id": "b99eece3",
   "metadata": {},
   "source": [
    "### Criar Bucket no GCP e salvar os arquivos originais"
   ]
  },
  {
   "cell_type": "code",
   "execution_count": 4,
   "id": "b9a39abc",
   "metadata": {},
   "outputs": [],
   "source": [
    "# Download de arquivos originais para bucket - GCP "
   ]
  },
  {
   "cell_type": "code",
   "execution_count": 5,
   "id": "92834595",
   "metadata": {},
   "outputs": [],
   "source": [
    "## Downloading a File from Bucket"
   ]
  },
  {
   "cell_type": "markdown",
   "id": "3cb21a57",
   "metadata": {},
   "source": [
    "### Acessar arquivos localmente"
   ]
  },
  {
   "cell_type": "code",
   "execution_count": 6,
   "id": "88849d71",
   "metadata": {},
   "outputs": [],
   "source": [
    "# Acesso do arquivo Sistema_B_NoSQL.csv - Matriz"
   ]
  },
  {
   "cell_type": "code",
   "execution_count": 7,
   "id": "51ef7ddd",
   "metadata": {},
   "outputs": [],
   "source": [
    "# Leitura de dados\n",
    "dfA = pd.read_csv(r'C://Cursos//Soulcode//at20DE//originais//Sistema_A_SQL.csv', sep=',')"
   ]
  },
  {
   "cell_type": "code",
   "execution_count": 8,
   "id": "a2a2755b",
   "metadata": {},
   "outputs": [
    {
     "data": {
      "text/html": [
       "<div>\n",
       "<style scoped>\n",
       "    .dataframe tbody tr th:only-of-type {\n",
       "        vertical-align: middle;\n",
       "    }\n",
       "\n",
       "    .dataframe tbody tr th {\n",
       "        vertical-align: top;\n",
       "    }\n",
       "\n",
       "    .dataframe thead th {\n",
       "        text-align: right;\n",
       "    }\n",
       "</style>\n",
       "<table border=\"1\" class=\"dataframe\">\n",
       "  <thead>\n",
       "    <tr style=\"text-align: right;\">\n",
       "      <th></th>\n",
       "      <th>nota_fiscal</th>\n",
       "      <th>vendedor</th>\n",
       "      <th>total</th>\n",
       "    </tr>\n",
       "  </thead>\n",
       "  <tbody>\n",
       "    <tr>\n",
       "      <th>0</th>\n",
       "      <td>1</td>\n",
       "      <td>Clarabelle</td>\n",
       "      <td>159.38</td>\n",
       "    </tr>\n",
       "    <tr>\n",
       "      <th>1</th>\n",
       "      <td>2</td>\n",
       "      <td>Berk</td>\n",
       "      <td>144.30</td>\n",
       "    </tr>\n",
       "    <tr>\n",
       "      <th>2</th>\n",
       "      <td>3</td>\n",
       "      <td>Kiri</td>\n",
       "      <td>302.49</td>\n",
       "    </tr>\n",
       "    <tr>\n",
       "      <th>3</th>\n",
       "      <td>4</td>\n",
       "      <td>Brigitta</td>\n",
       "      <td>381.61</td>\n",
       "    </tr>\n",
       "    <tr>\n",
       "      <th>4</th>\n",
       "      <td>5</td>\n",
       "      <td>Barret</td>\n",
       "      <td>277.63</td>\n",
       "    </tr>\n",
       "    <tr>\n",
       "      <th>...</th>\n",
       "      <td>...</td>\n",
       "      <td>...</td>\n",
       "      <td>...</td>\n",
       "    </tr>\n",
       "    <tr>\n",
       "      <th>995</th>\n",
       "      <td>996</td>\n",
       "      <td>Ronny</td>\n",
       "      <td>577.64</td>\n",
       "    </tr>\n",
       "    <tr>\n",
       "      <th>996</th>\n",
       "      <td>997</td>\n",
       "      <td>Farra</td>\n",
       "      <td>434.77</td>\n",
       "    </tr>\n",
       "    <tr>\n",
       "      <th>997</th>\n",
       "      <td>998</td>\n",
       "      <td>Aluino</td>\n",
       "      <td>130.75</td>\n",
       "    </tr>\n",
       "    <tr>\n",
       "      <th>998</th>\n",
       "      <td>999</td>\n",
       "      <td>Amber</td>\n",
       "      <td>233.30</td>\n",
       "    </tr>\n",
       "    <tr>\n",
       "      <th>999</th>\n",
       "      <td>1000</td>\n",
       "      <td>Trumann</td>\n",
       "      <td>460.26</td>\n",
       "    </tr>\n",
       "  </tbody>\n",
       "</table>\n",
       "<p>1000 rows × 3 columns</p>\n",
       "</div>"
      ],
      "text/plain": [
       "     nota_fiscal    vendedor   total\n",
       "0              1  Clarabelle  159.38\n",
       "1              2        Berk  144.30\n",
       "2              3        Kiri  302.49\n",
       "3              4    Brigitta  381.61\n",
       "4              5      Barret  277.63\n",
       "..           ...         ...     ...\n",
       "995          996       Ronny  577.64\n",
       "996          997       Farra  434.77\n",
       "997          998      Aluino  130.75\n",
       "998          999       Amber  233.30\n",
       "999         1000     Trumann  460.26\n",
       "\n",
       "[1000 rows x 3 columns]"
      ]
     },
     "execution_count": 8,
     "metadata": {},
     "output_type": "execute_result"
    }
   ],
   "source": [
    "dfA"
   ]
  },
  {
   "cell_type": "code",
   "execution_count": 9,
   "id": "df430702",
   "metadata": {},
   "outputs": [],
   "source": [
    "# Acesso do arquivo Sistema_A_SQL.csv - Filiais"
   ]
  },
  {
   "cell_type": "code",
   "execution_count": 10,
   "id": "fa81a7f0",
   "metadata": {},
   "outputs": [],
   "source": [
    "# Leitura de dados \n",
    "dfB = pd.read_csv(r'C://Cursos//Soulcode//at20DE//originais//Sistema_A_SQL.csv', sep=',')"
   ]
  },
  {
   "cell_type": "code",
   "execution_count": 11,
   "id": "6fa3beac",
   "metadata": {},
   "outputs": [
    {
     "data": {
      "text/html": [
       "<div>\n",
       "<style scoped>\n",
       "    .dataframe tbody tr th:only-of-type {\n",
       "        vertical-align: middle;\n",
       "    }\n",
       "\n",
       "    .dataframe tbody tr th {\n",
       "        vertical-align: top;\n",
       "    }\n",
       "\n",
       "    .dataframe thead th {\n",
       "        text-align: right;\n",
       "    }\n",
       "</style>\n",
       "<table border=\"1\" class=\"dataframe\">\n",
       "  <thead>\n",
       "    <tr style=\"text-align: right;\">\n",
       "      <th></th>\n",
       "      <th>nota_fiscal</th>\n",
       "      <th>vendedor</th>\n",
       "      <th>total</th>\n",
       "    </tr>\n",
       "  </thead>\n",
       "  <tbody>\n",
       "    <tr>\n",
       "      <th>0</th>\n",
       "      <td>1</td>\n",
       "      <td>Clarabelle</td>\n",
       "      <td>159.38</td>\n",
       "    </tr>\n",
       "    <tr>\n",
       "      <th>1</th>\n",
       "      <td>2</td>\n",
       "      <td>Berk</td>\n",
       "      <td>144.30</td>\n",
       "    </tr>\n",
       "    <tr>\n",
       "      <th>2</th>\n",
       "      <td>3</td>\n",
       "      <td>Kiri</td>\n",
       "      <td>302.49</td>\n",
       "    </tr>\n",
       "    <tr>\n",
       "      <th>3</th>\n",
       "      <td>4</td>\n",
       "      <td>Brigitta</td>\n",
       "      <td>381.61</td>\n",
       "    </tr>\n",
       "    <tr>\n",
       "      <th>4</th>\n",
       "      <td>5</td>\n",
       "      <td>Barret</td>\n",
       "      <td>277.63</td>\n",
       "    </tr>\n",
       "    <tr>\n",
       "      <th>...</th>\n",
       "      <td>...</td>\n",
       "      <td>...</td>\n",
       "      <td>...</td>\n",
       "    </tr>\n",
       "    <tr>\n",
       "      <th>995</th>\n",
       "      <td>996</td>\n",
       "      <td>Ronny</td>\n",
       "      <td>577.64</td>\n",
       "    </tr>\n",
       "    <tr>\n",
       "      <th>996</th>\n",
       "      <td>997</td>\n",
       "      <td>Farra</td>\n",
       "      <td>434.77</td>\n",
       "    </tr>\n",
       "    <tr>\n",
       "      <th>997</th>\n",
       "      <td>998</td>\n",
       "      <td>Aluino</td>\n",
       "      <td>130.75</td>\n",
       "    </tr>\n",
       "    <tr>\n",
       "      <th>998</th>\n",
       "      <td>999</td>\n",
       "      <td>Amber</td>\n",
       "      <td>233.30</td>\n",
       "    </tr>\n",
       "    <tr>\n",
       "      <th>999</th>\n",
       "      <td>1000</td>\n",
       "      <td>Trumann</td>\n",
       "      <td>460.26</td>\n",
       "    </tr>\n",
       "  </tbody>\n",
       "</table>\n",
       "<p>1000 rows × 3 columns</p>\n",
       "</div>"
      ],
      "text/plain": [
       "     nota_fiscal    vendedor   total\n",
       "0              1  Clarabelle  159.38\n",
       "1              2        Berk  144.30\n",
       "2              3        Kiri  302.49\n",
       "3              4    Brigitta  381.61\n",
       "4              5      Barret  277.63\n",
       "..           ...         ...     ...\n",
       "995          996       Ronny  577.64\n",
       "996          997       Farra  434.77\n",
       "997          998      Aluino  130.75\n",
       "998          999       Amber  233.30\n",
       "999         1000     Trumann  460.26\n",
       "\n",
       "[1000 rows x 3 columns]"
      ]
     },
     "execution_count": 11,
     "metadata": {},
     "output_type": "execute_result"
    }
   ],
   "source": [
    "dfB"
   ]
  },
  {
   "cell_type": "markdown",
   "id": "a4018792",
   "metadata": {},
   "source": [
    "### Acessar arquivos do GCP"
   ]
  },
  {
   "cell_type": "code",
   "execution_count": 12,
   "id": "1e888297",
   "metadata": {},
   "outputs": [],
   "source": [
    "# Acesso do arquivo Sistema_B_NoSQL.csv - Matriz"
   ]
  },
  {
   "cell_type": "code",
   "execution_count": 13,
   "id": "a3ede64f",
   "metadata": {},
   "outputs": [],
   "source": [
    "gcpB = pd.read_csv(path2, sep=',')"
   ]
  },
  {
   "cell_type": "code",
   "execution_count": 14,
   "id": "012cb2d3",
   "metadata": {},
   "outputs": [
    {
     "data": {
      "text/html": [
       "<div>\n",
       "<style scoped>\n",
       "    .dataframe tbody tr th:only-of-type {\n",
       "        vertical-align: middle;\n",
       "    }\n",
       "\n",
       "    .dataframe tbody tr th {\n",
       "        vertical-align: top;\n",
       "    }\n",
       "\n",
       "    .dataframe thead th {\n",
       "        text-align: right;\n",
       "    }\n",
       "</style>\n",
       "<table border=\"1\" class=\"dataframe\">\n",
       "  <thead>\n",
       "    <tr style=\"text-align: right;\">\n",
       "      <th></th>\n",
       "      <th>nota_fiscal</th>\n",
       "      <th>vendedor</th>\n",
       "      <th>total</th>\n",
       "    </tr>\n",
       "  </thead>\n",
       "  <tbody>\n",
       "    <tr>\n",
       "      <th>0</th>\n",
       "      <td>1</td>\n",
       "      <td>Clarabelle</td>\n",
       "      <td>159.38</td>\n",
       "    </tr>\n",
       "    <tr>\n",
       "      <th>1</th>\n",
       "      <td>2</td>\n",
       "      <td>Berk</td>\n",
       "      <td>144.30</td>\n",
       "    </tr>\n",
       "    <tr>\n",
       "      <th>2</th>\n",
       "      <td>3</td>\n",
       "      <td>Kiri</td>\n",
       "      <td>302.49</td>\n",
       "    </tr>\n",
       "    <tr>\n",
       "      <th>3</th>\n",
       "      <td>4</td>\n",
       "      <td>Brigitta</td>\n",
       "      <td>381.61</td>\n",
       "    </tr>\n",
       "    <tr>\n",
       "      <th>4</th>\n",
       "      <td>5</td>\n",
       "      <td>Barret</td>\n",
       "      <td>277.63</td>\n",
       "    </tr>\n",
       "    <tr>\n",
       "      <th>...</th>\n",
       "      <td>...</td>\n",
       "      <td>...</td>\n",
       "      <td>...</td>\n",
       "    </tr>\n",
       "    <tr>\n",
       "      <th>995</th>\n",
       "      <td>996</td>\n",
       "      <td>Ronny</td>\n",
       "      <td>577.64</td>\n",
       "    </tr>\n",
       "    <tr>\n",
       "      <th>996</th>\n",
       "      <td>997</td>\n",
       "      <td>Farra</td>\n",
       "      <td>434.77</td>\n",
       "    </tr>\n",
       "    <tr>\n",
       "      <th>997</th>\n",
       "      <td>998</td>\n",
       "      <td>Aluino</td>\n",
       "      <td>130.75</td>\n",
       "    </tr>\n",
       "    <tr>\n",
       "      <th>998</th>\n",
       "      <td>999</td>\n",
       "      <td>Amber</td>\n",
       "      <td>233.30</td>\n",
       "    </tr>\n",
       "    <tr>\n",
       "      <th>999</th>\n",
       "      <td>1000</td>\n",
       "      <td>Trumann</td>\n",
       "      <td>460.26</td>\n",
       "    </tr>\n",
       "  </tbody>\n",
       "</table>\n",
       "<p>1000 rows × 3 columns</p>\n",
       "</div>"
      ],
      "text/plain": [
       "     nota_fiscal    vendedor   total\n",
       "0              1  Clarabelle  159.38\n",
       "1              2        Berk  144.30\n",
       "2              3        Kiri  302.49\n",
       "3              4    Brigitta  381.61\n",
       "4              5      Barret  277.63\n",
       "..           ...         ...     ...\n",
       "995          996       Ronny  577.64\n",
       "996          997       Farra  434.77\n",
       "997          998      Aluino  130.75\n",
       "998          999       Amber  233.30\n",
       "999         1000     Trumann  460.26\n",
       "\n",
       "[1000 rows x 3 columns]"
      ]
     },
     "execution_count": 14,
     "metadata": {},
     "output_type": "execute_result"
    }
   ],
   "source": [
    "gcpB"
   ]
  },
  {
   "cell_type": "code",
   "execution_count": 15,
   "id": "81f053d0",
   "metadata": {},
   "outputs": [],
   "source": [
    "# Acesso do arquivo Sistema_A_SQL.csv - Filiais"
   ]
  },
  {
   "cell_type": "code",
   "execution_count": 16,
   "id": "c77030e4",
   "metadata": {},
   "outputs": [],
   "source": [
    "gcpA = pd.read_csv(path1, sep=',')"
   ]
  },
  {
   "cell_type": "code",
   "execution_count": 17,
   "id": "af1a575c",
   "metadata": {},
   "outputs": [
    {
     "data": {
      "text/html": [
       "<div>\n",
       "<style scoped>\n",
       "    .dataframe tbody tr th:only-of-type {\n",
       "        vertical-align: middle;\n",
       "    }\n",
       "\n",
       "    .dataframe tbody tr th {\n",
       "        vertical-align: top;\n",
       "    }\n",
       "\n",
       "    .dataframe thead th {\n",
       "        text-align: right;\n",
       "    }\n",
       "</style>\n",
       "<table border=\"1\" class=\"dataframe\">\n",
       "  <thead>\n",
       "    <tr style=\"text-align: right;\">\n",
       "      <th></th>\n",
       "      <th>nota_fiscal</th>\n",
       "      <th>vendedor</th>\n",
       "      <th>total</th>\n",
       "    </tr>\n",
       "  </thead>\n",
       "  <tbody>\n",
       "    <tr>\n",
       "      <th>0</th>\n",
       "      <td>1</td>\n",
       "      <td>Clerkclaude</td>\n",
       "      <td>260.85</td>\n",
       "    </tr>\n",
       "    <tr>\n",
       "      <th>1</th>\n",
       "      <td>2</td>\n",
       "      <td>Karly</td>\n",
       "      <td>217.45</td>\n",
       "    </tr>\n",
       "    <tr>\n",
       "      <th>2</th>\n",
       "      <td>3</td>\n",
       "      <td>Xerxes</td>\n",
       "      <td>462.32</td>\n",
       "    </tr>\n",
       "    <tr>\n",
       "      <th>3</th>\n",
       "      <td>4</td>\n",
       "      <td>Kaia</td>\n",
       "      <td>290.52</td>\n",
       "    </tr>\n",
       "    <tr>\n",
       "      <th>4</th>\n",
       "      <td>5</td>\n",
       "      <td>Myron</td>\n",
       "      <td>518.35</td>\n",
       "    </tr>\n",
       "    <tr>\n",
       "      <th>...</th>\n",
       "      <td>...</td>\n",
       "      <td>...</td>\n",
       "      <td>...</td>\n",
       "    </tr>\n",
       "    <tr>\n",
       "      <th>995</th>\n",
       "      <td>996</td>\n",
       "      <td>Garey</td>\n",
       "      <td>538.00</td>\n",
       "    </tr>\n",
       "    <tr>\n",
       "      <th>996</th>\n",
       "      <td>997</td>\n",
       "      <td>Mil</td>\n",
       "      <td>347.70</td>\n",
       "    </tr>\n",
       "    <tr>\n",
       "      <th>997</th>\n",
       "      <td>998</td>\n",
       "      <td>Stefanie</td>\n",
       "      <td>199.96</td>\n",
       "    </tr>\n",
       "    <tr>\n",
       "      <th>998</th>\n",
       "      <td>999</td>\n",
       "      <td>Barny</td>\n",
       "      <td>595.28</td>\n",
       "    </tr>\n",
       "    <tr>\n",
       "      <th>999</th>\n",
       "      <td>1000</td>\n",
       "      <td>NaN</td>\n",
       "      <td>188.21</td>\n",
       "    </tr>\n",
       "  </tbody>\n",
       "</table>\n",
       "<p>1000 rows × 3 columns</p>\n",
       "</div>"
      ],
      "text/plain": [
       "     nota_fiscal     vendedor   total\n",
       "0              1  Clerkclaude  260.85\n",
       "1              2        Karly  217.45\n",
       "2              3       Xerxes  462.32\n",
       "3              4         Kaia  290.52\n",
       "4              5        Myron  518.35\n",
       "..           ...          ...     ...\n",
       "995          996        Garey  538.00\n",
       "996          997          Mil  347.70\n",
       "997          998     Stefanie  199.96\n",
       "998          999        Barny  595.28\n",
       "999         1000          NaN  188.21\n",
       "\n",
       "[1000 rows x 3 columns]"
      ]
     },
     "execution_count": 17,
     "metadata": {},
     "output_type": "execute_result"
    }
   ],
   "source": [
    "gcpA"
   ]
  },
  {
   "cell_type": "markdown",
   "id": "526d7f11",
   "metadata": {},
   "source": [
    "## Padronização - Normalização"
   ]
  },
  {
   "cell_type": "code",
   "execution_count": 18,
   "id": "d60e4756",
   "metadata": {},
   "outputs": [],
   "source": [
    "# Verificação e Inspeção"
   ]
  },
  {
   "cell_type": "code",
   "execution_count": 19,
   "id": "5407bf76",
   "metadata": {},
   "outputs": [
    {
     "name": "stdout",
     "output_type": "stream",
     "text": [
      "379 ns ± 7.35 ns per loop (mean ± std. dev. of 7 runs, 1,000,000 loops each)\n",
      "264 ns ± 2.38 ns per loop (mean ± std. dev. of 7 runs, 1,000,000 loops each)\n",
      "644 ns ± 12.1 ns per loop (mean ± std. dev. of 7 runs, 1,000,000 loops each)\n"
     ]
    }
   ],
   "source": [
    "# timing small bits of Python code\n",
    "%timeit len(gcpA)\n",
    "%timeit len(gcpA.index)\n",
    "%timeit gcpA.shape[0]"
   ]
  },
  {
   "cell_type": "code",
   "execution_count": 20,
   "id": "ed96117b",
   "metadata": {},
   "outputs": [
    {
     "name": "stdout",
     "output_type": "stream",
     "text": [
      "373 ns ± 7.23 ns per loop (mean ± std. dev. of 7 runs, 1,000,000 loops each)\n",
      "266 ns ± 4.89 ns per loop (mean ± std. dev. of 7 runs, 1,000,000 loops each)\n",
      "640 ns ± 11.8 ns per loop (mean ± std. dev. of 7 runs, 1,000,000 loops each)\n"
     ]
    }
   ],
   "source": [
    "# timing small bits of Python code\n",
    "%timeit len(gcpB)\n",
    "%timeit len(gcpB.index)\n",
    "%timeit gcpB.shape[0]"
   ]
  },
  {
   "cell_type": "code",
   "execution_count": 21,
   "id": "99fc14bc",
   "metadata": {},
   "outputs": [
    {
     "data": {
      "text/plain": [
       "1000"
      ]
     },
     "execution_count": 21,
     "metadata": {},
     "output_type": "execute_result"
    }
   ],
   "source": [
    "len(gcpA)"
   ]
  },
  {
   "cell_type": "code",
   "execution_count": 22,
   "id": "4c42a106",
   "metadata": {},
   "outputs": [
    {
     "data": {
      "text/plain": [
       "1000"
      ]
     },
     "execution_count": 22,
     "metadata": {},
     "output_type": "execute_result"
    }
   ],
   "source": [
    "len(gcpB)"
   ]
  },
  {
   "cell_type": "code",
   "execution_count": 23,
   "id": "9bdd5851",
   "metadata": {},
   "outputs": [
    {
     "data": {
      "text/plain": [
       "Index(['nota_fiscal', 'vendedor', 'total'], dtype='object')"
      ]
     },
     "execution_count": 23,
     "metadata": {},
     "output_type": "execute_result"
    }
   ],
   "source": [
    "gcpA.columns"
   ]
  },
  {
   "cell_type": "code",
   "execution_count": 24,
   "id": "b9aec027",
   "metadata": {},
   "outputs": [
    {
     "data": {
      "text/plain": [
       "Index(['nota_fiscal', 'vendedor', 'total'], dtype='object')"
      ]
     },
     "execution_count": 24,
     "metadata": {},
     "output_type": "execute_result"
    }
   ],
   "source": [
    "gcpB.columns"
   ]
  },
  {
   "cell_type": "code",
   "execution_count": 25,
   "id": "e76c7495",
   "metadata": {},
   "outputs": [
    {
     "data": {
      "text/plain": [
       "nota_fiscal      int64\n",
       "vendedor        object\n",
       "total          float64\n",
       "dtype: object"
      ]
     },
     "execution_count": 25,
     "metadata": {},
     "output_type": "execute_result"
    }
   ],
   "source": [
    "gcpA.dtypes"
   ]
  },
  {
   "cell_type": "code",
   "execution_count": 26,
   "id": "099a6696",
   "metadata": {},
   "outputs": [
    {
     "data": {
      "text/plain": [
       "nota_fiscal      int64\n",
       "vendedor        object\n",
       "total          float64\n",
       "dtype: object"
      ]
     },
     "execution_count": 26,
     "metadata": {},
     "output_type": "execute_result"
    }
   ],
   "source": [
    "gcpB.dtypes"
   ]
  },
  {
   "cell_type": "code",
   "execution_count": 27,
   "id": "6f51545a",
   "metadata": {},
   "outputs": [
    {
     "data": {
      "text/plain": [
       "RangeIndex(start=0, stop=1000, step=1)"
      ]
     },
     "execution_count": 27,
     "metadata": {},
     "output_type": "execute_result"
    }
   ],
   "source": [
    "gcpA.index"
   ]
  },
  {
   "cell_type": "code",
   "execution_count": 28,
   "id": "01f8040a",
   "metadata": {},
   "outputs": [
    {
     "data": {
      "text/plain": [
       "RangeIndex(start=0, stop=1000, step=1)"
      ]
     },
     "execution_count": 28,
     "metadata": {},
     "output_type": "execute_result"
    }
   ],
   "source": [
    "gcpB.index"
   ]
  },
  {
   "cell_type": "code",
   "execution_count": 29,
   "id": "4ef310d3",
   "metadata": {},
   "outputs": [
    {
     "data": {
      "text/plain": [
       "(1000, 3)"
      ]
     },
     "execution_count": 29,
     "metadata": {},
     "output_type": "execute_result"
    }
   ],
   "source": [
    "gcpA.shape"
   ]
  },
  {
   "cell_type": "code",
   "execution_count": 30,
   "id": "4863f559",
   "metadata": {},
   "outputs": [
    {
     "data": {
      "text/plain": [
       "(1000, 3)"
      ]
     },
     "execution_count": 30,
     "metadata": {},
     "output_type": "execute_result"
    }
   ],
   "source": [
    "gcpB.shape"
   ]
  },
  {
   "cell_type": "code",
   "execution_count": 31,
   "id": "f98a815e",
   "metadata": {},
   "outputs": [
    {
     "data": {
      "text/html": [
       "<div>\n",
       "<style scoped>\n",
       "    .dataframe tbody tr th:only-of-type {\n",
       "        vertical-align: middle;\n",
       "    }\n",
       "\n",
       "    .dataframe tbody tr th {\n",
       "        vertical-align: top;\n",
       "    }\n",
       "\n",
       "    .dataframe thead th {\n",
       "        text-align: right;\n",
       "    }\n",
       "</style>\n",
       "<table border=\"1\" class=\"dataframe\">\n",
       "  <thead>\n",
       "    <tr style=\"text-align: right;\">\n",
       "      <th></th>\n",
       "      <th>nota_fiscal</th>\n",
       "      <th>vendedor</th>\n",
       "      <th>total</th>\n",
       "    </tr>\n",
       "  </thead>\n",
       "  <tbody>\n",
       "    <tr>\n",
       "      <th>77</th>\n",
       "      <td>78</td>\n",
       "      <td>Eugenio</td>\n",
       "      <td>598.30</td>\n",
       "    </tr>\n",
       "    <tr>\n",
       "      <th>56</th>\n",
       "      <td>57</td>\n",
       "      <td>Valli</td>\n",
       "      <td>598.12</td>\n",
       "    </tr>\n",
       "    <tr>\n",
       "      <th>803</th>\n",
       "      <td>804</td>\n",
       "      <td>Pryce</td>\n",
       "      <td>597.53</td>\n",
       "    </tr>\n",
       "    <tr>\n",
       "      <th>305</th>\n",
       "      <td>306</td>\n",
       "      <td>Josey</td>\n",
       "      <td>596.83</td>\n",
       "    </tr>\n",
       "    <tr>\n",
       "      <th>363</th>\n",
       "      <td>364</td>\n",
       "      <td>Sidnee</td>\n",
       "      <td>596.45</td>\n",
       "    </tr>\n",
       "    <tr>\n",
       "      <th>...</th>\n",
       "      <td>...</td>\n",
       "      <td>...</td>\n",
       "      <td>...</td>\n",
       "    </tr>\n",
       "    <tr>\n",
       "      <th>321</th>\n",
       "      <td>322</td>\n",
       "      <td>Hartley</td>\n",
       "      <td>99.32</td>\n",
       "    </tr>\n",
       "    <tr>\n",
       "      <th>555</th>\n",
       "      <td>556</td>\n",
       "      <td>Danni</td>\n",
       "      <td>98.90</td>\n",
       "    </tr>\n",
       "    <tr>\n",
       "      <th>497</th>\n",
       "      <td>498</td>\n",
       "      <td>Gerladina</td>\n",
       "      <td>98.50</td>\n",
       "    </tr>\n",
       "    <tr>\n",
       "      <th>822</th>\n",
       "      <td>823</td>\n",
       "      <td>Granville</td>\n",
       "      <td>97.27</td>\n",
       "    </tr>\n",
       "    <tr>\n",
       "      <th>525</th>\n",
       "      <td>526</td>\n",
       "      <td>Miltie</td>\n",
       "      <td>97.25</td>\n",
       "    </tr>\n",
       "  </tbody>\n",
       "</table>\n",
       "<p>1000 rows × 3 columns</p>\n",
       "</div>"
      ],
      "text/plain": [
       "     nota_fiscal   vendedor   total\n",
       "77            78    Eugenio  598.30\n",
       "56            57      Valli  598.12\n",
       "803          804      Pryce  597.53\n",
       "305          306      Josey  596.83\n",
       "363          364     Sidnee  596.45\n",
       "..           ...        ...     ...\n",
       "321          322    Hartley   99.32\n",
       "555          556      Danni   98.90\n",
       "497          498  Gerladina   98.50\n",
       "822          823  Granville   97.27\n",
       "525          526     Miltie   97.25\n",
       "\n",
       "[1000 rows x 3 columns]"
      ]
     },
     "execution_count": 31,
     "metadata": {},
     "output_type": "execute_result"
    }
   ],
   "source": [
    "gcpA.sort_values('total', ascending=False)"
   ]
  },
  {
   "cell_type": "code",
   "execution_count": 32,
   "id": "eef5ede2",
   "metadata": {},
   "outputs": [
    {
     "data": {
      "text/html": [
       "<div>\n",
       "<style scoped>\n",
       "    .dataframe tbody tr th:only-of-type {\n",
       "        vertical-align: middle;\n",
       "    }\n",
       "\n",
       "    .dataframe tbody tr th {\n",
       "        vertical-align: top;\n",
       "    }\n",
       "\n",
       "    .dataframe thead th {\n",
       "        text-align: right;\n",
       "    }\n",
       "</style>\n",
       "<table border=\"1\" class=\"dataframe\">\n",
       "  <thead>\n",
       "    <tr style=\"text-align: right;\">\n",
       "      <th></th>\n",
       "      <th>nota_fiscal</th>\n",
       "      <th>vendedor</th>\n",
       "      <th>total</th>\n",
       "    </tr>\n",
       "  </thead>\n",
       "  <tbody>\n",
       "    <tr>\n",
       "      <th>119</th>\n",
       "      <td>120</td>\n",
       "      <td>Winnie</td>\n",
       "      <td>598.84</td>\n",
       "    </tr>\n",
       "    <tr>\n",
       "      <th>653</th>\n",
       "      <td>654</td>\n",
       "      <td>Michele</td>\n",
       "      <td>598.71</td>\n",
       "    </tr>\n",
       "    <tr>\n",
       "      <th>689</th>\n",
       "      <td>690</td>\n",
       "      <td>Mead</td>\n",
       "      <td>597.47</td>\n",
       "    </tr>\n",
       "    <tr>\n",
       "      <th>812</th>\n",
       "      <td>813</td>\n",
       "      <td>Mariette</td>\n",
       "      <td>597.15</td>\n",
       "    </tr>\n",
       "    <tr>\n",
       "      <th>631</th>\n",
       "      <td>632</td>\n",
       "      <td>Elsie</td>\n",
       "      <td>597.13</td>\n",
       "    </tr>\n",
       "    <tr>\n",
       "      <th>...</th>\n",
       "      <td>...</td>\n",
       "      <td>...</td>\n",
       "      <td>...</td>\n",
       "    </tr>\n",
       "    <tr>\n",
       "      <th>859</th>\n",
       "      <td>860</td>\n",
       "      <td>Ivor</td>\n",
       "      <td>98.63</td>\n",
       "    </tr>\n",
       "    <tr>\n",
       "      <th>388</th>\n",
       "      <td>389</td>\n",
       "      <td>Frannie</td>\n",
       "      <td>98.37</td>\n",
       "    </tr>\n",
       "    <tr>\n",
       "      <th>140</th>\n",
       "      <td>141</td>\n",
       "      <td>NaN</td>\n",
       "      <td>98.12</td>\n",
       "    </tr>\n",
       "    <tr>\n",
       "      <th>900</th>\n",
       "      <td>901</td>\n",
       "      <td>Bernadina</td>\n",
       "      <td>97.69</td>\n",
       "    </tr>\n",
       "    <tr>\n",
       "      <th>489</th>\n",
       "      <td>490</td>\n",
       "      <td>Pattie</td>\n",
       "      <td>97.11</td>\n",
       "    </tr>\n",
       "  </tbody>\n",
       "</table>\n",
       "<p>1000 rows × 3 columns</p>\n",
       "</div>"
      ],
      "text/plain": [
       "     nota_fiscal   vendedor   total\n",
       "119          120     Winnie  598.84\n",
       "653          654    Michele  598.71\n",
       "689          690       Mead  597.47\n",
       "812          813   Mariette  597.15\n",
       "631          632      Elsie  597.13\n",
       "..           ...        ...     ...\n",
       "859          860       Ivor   98.63\n",
       "388          389    Frannie   98.37\n",
       "140          141        NaN   98.12\n",
       "900          901  Bernadina   97.69\n",
       "489          490     Pattie   97.11\n",
       "\n",
       "[1000 rows x 3 columns]"
      ]
     },
     "execution_count": 32,
     "metadata": {},
     "output_type": "execute_result"
    }
   ],
   "source": [
    "gcpB.sort_values('total', ascending=False)"
   ]
  },
  {
   "cell_type": "code",
   "execution_count": 33,
   "id": "0a795e1f",
   "metadata": {},
   "outputs": [
    {
     "data": {
      "text/html": [
       "<div>\n",
       "<style scoped>\n",
       "    .dataframe tbody tr th:only-of-type {\n",
       "        vertical-align: middle;\n",
       "    }\n",
       "\n",
       "    .dataframe tbody tr th {\n",
       "        vertical-align: top;\n",
       "    }\n",
       "\n",
       "    .dataframe thead th {\n",
       "        text-align: right;\n",
       "    }\n",
       "</style>\n",
       "<table border=\"1\" class=\"dataframe\">\n",
       "  <thead>\n",
       "    <tr style=\"text-align: right;\">\n",
       "      <th></th>\n",
       "      <th>nota_fiscal</th>\n",
       "      <th>vendedor</th>\n",
       "      <th>total</th>\n",
       "    </tr>\n",
       "  </thead>\n",
       "  <tbody>\n",
       "    <tr>\n",
       "      <th>561</th>\n",
       "      <td>562</td>\n",
       "      <td>Abbe</td>\n",
       "      <td>194.43</td>\n",
       "    </tr>\n",
       "    <tr>\n",
       "      <th>109</th>\n",
       "      <td>110</td>\n",
       "      <td>Abbot</td>\n",
       "      <td>519.38</td>\n",
       "    </tr>\n",
       "    <tr>\n",
       "      <th>147</th>\n",
       "      <td>148</td>\n",
       "      <td>Abigale</td>\n",
       "      <td>477.34</td>\n",
       "    </tr>\n",
       "    <tr>\n",
       "      <th>96</th>\n",
       "      <td>97</td>\n",
       "      <td>Adams</td>\n",
       "      <td>224.31</td>\n",
       "    </tr>\n",
       "    <tr>\n",
       "      <th>730</th>\n",
       "      <td>731</td>\n",
       "      <td>Addi</td>\n",
       "      <td>245.93</td>\n",
       "    </tr>\n",
       "    <tr>\n",
       "      <th>...</th>\n",
       "      <td>...</td>\n",
       "      <td>...</td>\n",
       "      <td>...</td>\n",
       "    </tr>\n",
       "    <tr>\n",
       "      <th>841</th>\n",
       "      <td>842</td>\n",
       "      <td>NaN</td>\n",
       "      <td>271.53</td>\n",
       "    </tr>\n",
       "    <tr>\n",
       "      <th>853</th>\n",
       "      <td>854</td>\n",
       "      <td>NaN</td>\n",
       "      <td>577.23</td>\n",
       "    </tr>\n",
       "    <tr>\n",
       "      <th>871</th>\n",
       "      <td>872</td>\n",
       "      <td>NaN</td>\n",
       "      <td>203.86</td>\n",
       "    </tr>\n",
       "    <tr>\n",
       "      <th>990</th>\n",
       "      <td>991</td>\n",
       "      <td>NaN</td>\n",
       "      <td>314.78</td>\n",
       "    </tr>\n",
       "    <tr>\n",
       "      <th>999</th>\n",
       "      <td>1000</td>\n",
       "      <td>NaN</td>\n",
       "      <td>188.21</td>\n",
       "    </tr>\n",
       "  </tbody>\n",
       "</table>\n",
       "<p>1000 rows × 3 columns</p>\n",
       "</div>"
      ],
      "text/plain": [
       "     nota_fiscal vendedor   total\n",
       "561          562     Abbe  194.43\n",
       "109          110    Abbot  519.38\n",
       "147          148  Abigale  477.34\n",
       "96            97    Adams  224.31\n",
       "730          731     Addi  245.93\n",
       "..           ...      ...     ...\n",
       "841          842      NaN  271.53\n",
       "853          854      NaN  577.23\n",
       "871          872      NaN  203.86\n",
       "990          991      NaN  314.78\n",
       "999         1000      NaN  188.21\n",
       "\n",
       "[1000 rows x 3 columns]"
      ]
     },
     "execution_count": 33,
     "metadata": {},
     "output_type": "execute_result"
    }
   ],
   "source": [
    "gcpA.sort_values('vendedor', ascending=True)"
   ]
  },
  {
   "cell_type": "code",
   "execution_count": 34,
   "id": "3bf13616",
   "metadata": {},
   "outputs": [
    {
     "data": {
      "text/html": [
       "<div>\n",
       "<style scoped>\n",
       "    .dataframe tbody tr th:only-of-type {\n",
       "        vertical-align: middle;\n",
       "    }\n",
       "\n",
       "    .dataframe tbody tr th {\n",
       "        vertical-align: top;\n",
       "    }\n",
       "\n",
       "    .dataframe thead th {\n",
       "        text-align: right;\n",
       "    }\n",
       "</style>\n",
       "<table border=\"1\" class=\"dataframe\">\n",
       "  <thead>\n",
       "    <tr style=\"text-align: right;\">\n",
       "      <th></th>\n",
       "      <th>nota_fiscal</th>\n",
       "      <th>vendedor</th>\n",
       "      <th>total</th>\n",
       "    </tr>\n",
       "  </thead>\n",
       "  <tbody>\n",
       "    <tr>\n",
       "      <th>452</th>\n",
       "      <td>453</td>\n",
       "      <td>Abba</td>\n",
       "      <td>195.55</td>\n",
       "    </tr>\n",
       "    <tr>\n",
       "      <th>740</th>\n",
       "      <td>741</td>\n",
       "      <td>Abie</td>\n",
       "      <td>530.95</td>\n",
       "    </tr>\n",
       "    <tr>\n",
       "      <th>147</th>\n",
       "      <td>148</td>\n",
       "      <td>Abigail</td>\n",
       "      <td>217.31</td>\n",
       "    </tr>\n",
       "    <tr>\n",
       "      <th>664</th>\n",
       "      <td>665</td>\n",
       "      <td>Abner</td>\n",
       "      <td>542.65</td>\n",
       "    </tr>\n",
       "    <tr>\n",
       "      <th>206</th>\n",
       "      <td>207</td>\n",
       "      <td>Adamo</td>\n",
       "      <td>389.45</td>\n",
       "    </tr>\n",
       "    <tr>\n",
       "      <th>...</th>\n",
       "      <td>...</td>\n",
       "      <td>...</td>\n",
       "      <td>...</td>\n",
       "    </tr>\n",
       "    <tr>\n",
       "      <th>892</th>\n",
       "      <td>893</td>\n",
       "      <td>NaN</td>\n",
       "      <td>578.96</td>\n",
       "    </tr>\n",
       "    <tr>\n",
       "      <th>910</th>\n",
       "      <td>911</td>\n",
       "      <td>NaN</td>\n",
       "      <td>344.15</td>\n",
       "    </tr>\n",
       "    <tr>\n",
       "      <th>920</th>\n",
       "      <td>921</td>\n",
       "      <td>NaN</td>\n",
       "      <td>410.87</td>\n",
       "    </tr>\n",
       "    <tr>\n",
       "      <th>947</th>\n",
       "      <td>948</td>\n",
       "      <td>NaN</td>\n",
       "      <td>391.40</td>\n",
       "    </tr>\n",
       "    <tr>\n",
       "      <th>987</th>\n",
       "      <td>988</td>\n",
       "      <td>NaN</td>\n",
       "      <td>287.14</td>\n",
       "    </tr>\n",
       "  </tbody>\n",
       "</table>\n",
       "<p>1000 rows × 3 columns</p>\n",
       "</div>"
      ],
      "text/plain": [
       "     nota_fiscal vendedor   total\n",
       "452          453     Abba  195.55\n",
       "740          741     Abie  530.95\n",
       "147          148  Abigail  217.31\n",
       "664          665    Abner  542.65\n",
       "206          207    Adamo  389.45\n",
       "..           ...      ...     ...\n",
       "892          893      NaN  578.96\n",
       "910          911      NaN  344.15\n",
       "920          921      NaN  410.87\n",
       "947          948      NaN  391.40\n",
       "987          988      NaN  287.14\n",
       "\n",
       "[1000 rows x 3 columns]"
      ]
     },
     "execution_count": 34,
     "metadata": {},
     "output_type": "execute_result"
    }
   ],
   "source": [
    "gcpB.sort_values('vendedor', ascending=True)"
   ]
  },
  {
   "cell_type": "code",
   "execution_count": 35,
   "id": "3fcf694c",
   "metadata": {},
   "outputs": [
    {
     "data": {
      "text/plain": [
       "array([[1, 'Clerkclaude', 260.85],\n",
       "       [2, 'Karly', 217.45],\n",
       "       [3, 'Xerxes', 462.32],\n",
       "       ...,\n",
       "       [998, 'Stefanie', 199.96],\n",
       "       [999, 'Barny', 595.28],\n",
       "       [1000, nan, 188.21]], dtype=object)"
      ]
     },
     "execution_count": 35,
     "metadata": {},
     "output_type": "execute_result"
    }
   ],
   "source": [
    "gcpA.values"
   ]
  },
  {
   "cell_type": "code",
   "execution_count": 36,
   "id": "fe6baa37",
   "metadata": {},
   "outputs": [
    {
     "data": {
      "text/plain": [
       "array([[1, 'Clarabelle', 159.38],\n",
       "       [2, 'Berk', 144.3],\n",
       "       [3, 'Kiri', 302.49],\n",
       "       ...,\n",
       "       [998, 'Aluino', 130.75],\n",
       "       [999, 'Amber', 233.3],\n",
       "       [1000, 'Trumann', 460.26]], dtype=object)"
      ]
     },
     "execution_count": 36,
     "metadata": {},
     "output_type": "execute_result"
    }
   ],
   "source": [
    "gcpB.values"
   ]
  },
  {
   "cell_type": "code",
   "execution_count": 37,
   "id": "a2f4e11e",
   "metadata": {},
   "outputs": [
    {
     "data": {
      "text/html": [
       "<div>\n",
       "<style scoped>\n",
       "    .dataframe tbody tr th:only-of-type {\n",
       "        vertical-align: middle;\n",
       "    }\n",
       "\n",
       "    .dataframe tbody tr th {\n",
       "        vertical-align: top;\n",
       "    }\n",
       "\n",
       "    .dataframe thead th {\n",
       "        text-align: right;\n",
       "    }\n",
       "</style>\n",
       "<table border=\"1\" class=\"dataframe\">\n",
       "  <thead>\n",
       "    <tr style=\"text-align: right;\">\n",
       "      <th></th>\n",
       "      <th>nota_fiscal</th>\n",
       "      <th>total</th>\n",
       "    </tr>\n",
       "  </thead>\n",
       "  <tbody>\n",
       "    <tr>\n",
       "      <th>count</th>\n",
       "      <td>1000.000000</td>\n",
       "      <td>1000.000000</td>\n",
       "    </tr>\n",
       "    <tr>\n",
       "      <th>mean</th>\n",
       "      <td>500.500000</td>\n",
       "      <td>348.465440</td>\n",
       "    </tr>\n",
       "    <tr>\n",
       "      <th>std</th>\n",
       "      <td>288.819436</td>\n",
       "      <td>144.467192</td>\n",
       "    </tr>\n",
       "    <tr>\n",
       "      <th>min</th>\n",
       "      <td>1.000000</td>\n",
       "      <td>97.250000</td>\n",
       "    </tr>\n",
       "    <tr>\n",
       "      <th>25%</th>\n",
       "      <td>250.750000</td>\n",
       "      <td>225.700000</td>\n",
       "    </tr>\n",
       "    <tr>\n",
       "      <th>50%</th>\n",
       "      <td>500.500000</td>\n",
       "      <td>341.615000</td>\n",
       "    </tr>\n",
       "    <tr>\n",
       "      <th>75%</th>\n",
       "      <td>750.250000</td>\n",
       "      <td>470.042500</td>\n",
       "    </tr>\n",
       "    <tr>\n",
       "      <th>max</th>\n",
       "      <td>1000.000000</td>\n",
       "      <td>598.300000</td>\n",
       "    </tr>\n",
       "  </tbody>\n",
       "</table>\n",
       "</div>"
      ],
      "text/plain": [
       "       nota_fiscal        total\n",
       "count  1000.000000  1000.000000\n",
       "mean    500.500000   348.465440\n",
       "std     288.819436   144.467192\n",
       "min       1.000000    97.250000\n",
       "25%     250.750000   225.700000\n",
       "50%     500.500000   341.615000\n",
       "75%     750.250000   470.042500\n",
       "max    1000.000000   598.300000"
      ]
     },
     "execution_count": 37,
     "metadata": {},
     "output_type": "execute_result"
    }
   ],
   "source": [
    "gcpA.describe()"
   ]
  },
  {
   "cell_type": "code",
   "execution_count": 38,
   "id": "c623b1f9",
   "metadata": {},
   "outputs": [
    {
     "data": {
      "text/html": [
       "<div>\n",
       "<style scoped>\n",
       "    .dataframe tbody tr th:only-of-type {\n",
       "        vertical-align: middle;\n",
       "    }\n",
       "\n",
       "    .dataframe tbody tr th {\n",
       "        vertical-align: top;\n",
       "    }\n",
       "\n",
       "    .dataframe thead th {\n",
       "        text-align: right;\n",
       "    }\n",
       "</style>\n",
       "<table border=\"1\" class=\"dataframe\">\n",
       "  <thead>\n",
       "    <tr style=\"text-align: right;\">\n",
       "      <th></th>\n",
       "      <th>nota_fiscal</th>\n",
       "      <th>total</th>\n",
       "    </tr>\n",
       "  </thead>\n",
       "  <tbody>\n",
       "    <tr>\n",
       "      <th>count</th>\n",
       "      <td>1000.000000</td>\n",
       "      <td>1000.000000</td>\n",
       "    </tr>\n",
       "    <tr>\n",
       "      <th>mean</th>\n",
       "      <td>500.500000</td>\n",
       "      <td>348.290770</td>\n",
       "    </tr>\n",
       "    <tr>\n",
       "      <th>std</th>\n",
       "      <td>288.819436</td>\n",
       "      <td>143.708767</td>\n",
       "    </tr>\n",
       "    <tr>\n",
       "      <th>min</th>\n",
       "      <td>1.000000</td>\n",
       "      <td>97.110000</td>\n",
       "    </tr>\n",
       "    <tr>\n",
       "      <th>25%</th>\n",
       "      <td>250.750000</td>\n",
       "      <td>223.832500</td>\n",
       "    </tr>\n",
       "    <tr>\n",
       "      <th>50%</th>\n",
       "      <td>500.500000</td>\n",
       "      <td>349.865000</td>\n",
       "    </tr>\n",
       "    <tr>\n",
       "      <th>75%</th>\n",
       "      <td>750.250000</td>\n",
       "      <td>472.430000</td>\n",
       "    </tr>\n",
       "    <tr>\n",
       "      <th>max</th>\n",
       "      <td>1000.000000</td>\n",
       "      <td>598.840000</td>\n",
       "    </tr>\n",
       "  </tbody>\n",
       "</table>\n",
       "</div>"
      ],
      "text/plain": [
       "       nota_fiscal        total\n",
       "count  1000.000000  1000.000000\n",
       "mean    500.500000   348.290770\n",
       "std     288.819436   143.708767\n",
       "min       1.000000    97.110000\n",
       "25%     250.750000   223.832500\n",
       "50%     500.500000   349.865000\n",
       "75%     750.250000   472.430000\n",
       "max    1000.000000   598.840000"
      ]
     },
     "execution_count": 38,
     "metadata": {},
     "output_type": "execute_result"
    }
   ],
   "source": [
    "gcpB.describe()"
   ]
  },
  {
   "cell_type": "code",
   "execution_count": 39,
   "id": "7ef641a4",
   "metadata": {},
   "outputs": [],
   "source": [
    "somaA = gcpA['total']"
   ]
  },
  {
   "cell_type": "code",
   "execution_count": 40,
   "id": "c13dae1b",
   "metadata": {},
   "outputs": [
    {
     "data": {
      "text/plain": [
       "'R$ 348,465.44'"
      ]
     },
     "execution_count": 40,
     "metadata": {},
     "output_type": "execute_result"
    }
   ],
   "source": [
    "\"R$ {:,.2f}\".format(somaA.sum())"
   ]
  },
  {
   "cell_type": "code",
   "execution_count": 41,
   "id": "682b8013",
   "metadata": {},
   "outputs": [
    {
     "data": {
      "text/plain": [
       "'R$ 348.47'"
      ]
     },
     "execution_count": 41,
     "metadata": {},
     "output_type": "execute_result"
    }
   ],
   "source": [
    "\"R$ {:,.2f}\".format(somaA.mean())"
   ]
  },
  {
   "cell_type": "code",
   "execution_count": 42,
   "id": "e55005a0",
   "metadata": {},
   "outputs": [],
   "source": [
    "somaB = gcpB['total']"
   ]
  },
  {
   "cell_type": "code",
   "execution_count": 43,
   "id": "5a533ce9",
   "metadata": {},
   "outputs": [
    {
     "data": {
      "text/plain": [
       "'R$ 348,290.77'"
      ]
     },
     "execution_count": 43,
     "metadata": {},
     "output_type": "execute_result"
    }
   ],
   "source": [
    "\"R$ {:,.2f}\".format(somaB.sum())"
   ]
  },
  {
   "cell_type": "code",
   "execution_count": 44,
   "id": "7c573a81",
   "metadata": {},
   "outputs": [
    {
     "data": {
      "text/plain": [
       "'R$ 348.29'"
      ]
     },
     "execution_count": 44,
     "metadata": {},
     "output_type": "execute_result"
    }
   ],
   "source": [
    "\"R$ {:,.2f}\".format(somaB.mean())"
   ]
  },
  {
   "cell_type": "code",
   "execution_count": 45,
   "id": "13b14292",
   "metadata": {},
   "outputs": [
    {
     "name": "stdout",
     "output_type": "stream",
     "text": [
      "Total de linhas duplicadas na nota_fiscal: 0\n",
      "Total de linhas duplicadas na vendedor: 97\n",
      "Total de linhas duplicadas na total: 9\n"
     ]
    }
   ],
   "source": [
    "# Calcula o total de linhas duplicadas em cada coluna do nosso DataFrame\n",
    "# Para cada coluna,\n",
    "for coluna in gcpA.columns:\n",
    "    # Seleciona linhas duplicadas e as insire em um novo Dataframe\n",
    "    duplicatas_df = gcpA[gcpA.duplicated(coluna)]\n",
    "\n",
    "    # Imprime o tamanho do novo DataFrame (i.e., o número de linhas duplicadas)\n",
    "    print(f\"Total de linhas duplicadas \"\n",
    "          f\"na {coluna}: {len(duplicatas_df)}\")"
   ]
  },
  {
   "cell_type": "code",
   "execution_count": 46,
   "id": "69317499",
   "metadata": {},
   "outputs": [
    {
     "name": "stdout",
     "output_type": "stream",
     "text": [
      "Total de linhas duplicadas na nota_fiscal: 0\n",
      "Total de linhas duplicadas na vendedor: 86\n",
      "Total de linhas duplicadas na total: 9\n"
     ]
    }
   ],
   "source": [
    "# Calcula o total de linhas duplicadas em cada coluna do nosso DataFrame\n",
    "# Para cada coluna,\n",
    "for coluna in gcpB.columns:\n",
    "    # Seleciona linhas duplicadas e as insire em um novo Dataframe\n",
    "    duplicatas_df = gcpB[gcpB.duplicated(coluna)]\n",
    "\n",
    "    # Imprime o tamanho do novo DataFrame (i.e., o número de linhas duplicadas)\n",
    "    print(f\"Total de linhas duplicadas \"\n",
    "          f\"na {coluna}: {len(duplicatas_df)}\")"
   ]
  },
  {
   "cell_type": "markdown",
   "id": "eea941ae",
   "metadata": {},
   "source": [
    "### Verificar se todos os valores 'NaN' foram devidamente preenchidos"
   ]
  },
  {
   "cell_type": "code",
   "execution_count": 47,
   "id": "f44052fa",
   "metadata": {},
   "outputs": [
    {
     "data": {
      "text/html": [
       "<div>\n",
       "<style scoped>\n",
       "    .dataframe tbody tr th:only-of-type {\n",
       "        vertical-align: middle;\n",
       "    }\n",
       "\n",
       "    .dataframe tbody tr th {\n",
       "        vertical-align: top;\n",
       "    }\n",
       "\n",
       "    .dataframe thead th {\n",
       "        text-align: right;\n",
       "    }\n",
       "</style>\n",
       "<table border=\"1\" class=\"dataframe\">\n",
       "  <thead>\n",
       "    <tr style=\"text-align: right;\">\n",
       "      <th></th>\n",
       "      <th>nota_fiscal</th>\n",
       "      <th>vendedor</th>\n",
       "      <th>total</th>\n",
       "    </tr>\n",
       "  </thead>\n",
       "  <tbody>\n",
       "    <tr>\n",
       "      <th>0</th>\n",
       "      <td>False</td>\n",
       "      <td>False</td>\n",
       "      <td>False</td>\n",
       "    </tr>\n",
       "    <tr>\n",
       "      <th>1</th>\n",
       "      <td>False</td>\n",
       "      <td>False</td>\n",
       "      <td>False</td>\n",
       "    </tr>\n",
       "    <tr>\n",
       "      <th>2</th>\n",
       "      <td>False</td>\n",
       "      <td>False</td>\n",
       "      <td>False</td>\n",
       "    </tr>\n",
       "    <tr>\n",
       "      <th>3</th>\n",
       "      <td>False</td>\n",
       "      <td>False</td>\n",
       "      <td>False</td>\n",
       "    </tr>\n",
       "    <tr>\n",
       "      <th>4</th>\n",
       "      <td>False</td>\n",
       "      <td>False</td>\n",
       "      <td>False</td>\n",
       "    </tr>\n",
       "    <tr>\n",
       "      <th>...</th>\n",
       "      <td>...</td>\n",
       "      <td>...</td>\n",
       "      <td>...</td>\n",
       "    </tr>\n",
       "    <tr>\n",
       "      <th>995</th>\n",
       "      <td>False</td>\n",
       "      <td>False</td>\n",
       "      <td>False</td>\n",
       "    </tr>\n",
       "    <tr>\n",
       "      <th>996</th>\n",
       "      <td>False</td>\n",
       "      <td>False</td>\n",
       "      <td>False</td>\n",
       "    </tr>\n",
       "    <tr>\n",
       "      <th>997</th>\n",
       "      <td>False</td>\n",
       "      <td>False</td>\n",
       "      <td>False</td>\n",
       "    </tr>\n",
       "    <tr>\n",
       "      <th>998</th>\n",
       "      <td>False</td>\n",
       "      <td>False</td>\n",
       "      <td>False</td>\n",
       "    </tr>\n",
       "    <tr>\n",
       "      <th>999</th>\n",
       "      <td>False</td>\n",
       "      <td>True</td>\n",
       "      <td>False</td>\n",
       "    </tr>\n",
       "  </tbody>\n",
       "</table>\n",
       "<p>1000 rows × 3 columns</p>\n",
       "</div>"
      ],
      "text/plain": [
       "     nota_fiscal  vendedor  total\n",
       "0          False     False  False\n",
       "1          False     False  False\n",
       "2          False     False  False\n",
       "3          False     False  False\n",
       "4          False     False  False\n",
       "..           ...       ...    ...\n",
       "995        False     False  False\n",
       "996        False     False  False\n",
       "997        False     False  False\n",
       "998        False     False  False\n",
       "999        False      True  False\n",
       "\n",
       "[1000 rows x 3 columns]"
      ]
     },
     "execution_count": 47,
     "metadata": {},
     "output_type": "execute_result"
    }
   ],
   "source": [
    "gcpA.isna()"
   ]
  },
  {
   "cell_type": "code",
   "execution_count": 48,
   "id": "b00a843e",
   "metadata": {},
   "outputs": [
    {
     "data": {
      "text/html": [
       "<div>\n",
       "<style scoped>\n",
       "    .dataframe tbody tr th:only-of-type {\n",
       "        vertical-align: middle;\n",
       "    }\n",
       "\n",
       "    .dataframe tbody tr th {\n",
       "        vertical-align: top;\n",
       "    }\n",
       "\n",
       "    .dataframe thead th {\n",
       "        text-align: right;\n",
       "    }\n",
       "</style>\n",
       "<table border=\"1\" class=\"dataframe\">\n",
       "  <thead>\n",
       "    <tr style=\"text-align: right;\">\n",
       "      <th></th>\n",
       "      <th>nota_fiscal</th>\n",
       "      <th>vendedor</th>\n",
       "      <th>total</th>\n",
       "    </tr>\n",
       "  </thead>\n",
       "  <tbody>\n",
       "    <tr>\n",
       "      <th>0</th>\n",
       "      <td>False</td>\n",
       "      <td>False</td>\n",
       "      <td>False</td>\n",
       "    </tr>\n",
       "    <tr>\n",
       "      <th>1</th>\n",
       "      <td>False</td>\n",
       "      <td>False</td>\n",
       "      <td>False</td>\n",
       "    </tr>\n",
       "    <tr>\n",
       "      <th>2</th>\n",
       "      <td>False</td>\n",
       "      <td>False</td>\n",
       "      <td>False</td>\n",
       "    </tr>\n",
       "    <tr>\n",
       "      <th>3</th>\n",
       "      <td>False</td>\n",
       "      <td>False</td>\n",
       "      <td>False</td>\n",
       "    </tr>\n",
       "    <tr>\n",
       "      <th>4</th>\n",
       "      <td>False</td>\n",
       "      <td>False</td>\n",
       "      <td>False</td>\n",
       "    </tr>\n",
       "    <tr>\n",
       "      <th>...</th>\n",
       "      <td>...</td>\n",
       "      <td>...</td>\n",
       "      <td>...</td>\n",
       "    </tr>\n",
       "    <tr>\n",
       "      <th>995</th>\n",
       "      <td>False</td>\n",
       "      <td>False</td>\n",
       "      <td>False</td>\n",
       "    </tr>\n",
       "    <tr>\n",
       "      <th>996</th>\n",
       "      <td>False</td>\n",
       "      <td>False</td>\n",
       "      <td>False</td>\n",
       "    </tr>\n",
       "    <tr>\n",
       "      <th>997</th>\n",
       "      <td>False</td>\n",
       "      <td>False</td>\n",
       "      <td>False</td>\n",
       "    </tr>\n",
       "    <tr>\n",
       "      <th>998</th>\n",
       "      <td>False</td>\n",
       "      <td>False</td>\n",
       "      <td>False</td>\n",
       "    </tr>\n",
       "    <tr>\n",
       "      <th>999</th>\n",
       "      <td>False</td>\n",
       "      <td>False</td>\n",
       "      <td>False</td>\n",
       "    </tr>\n",
       "  </tbody>\n",
       "</table>\n",
       "<p>1000 rows × 3 columns</p>\n",
       "</div>"
      ],
      "text/plain": [
       "     nota_fiscal  vendedor  total\n",
       "0          False     False  False\n",
       "1          False     False  False\n",
       "2          False     False  False\n",
       "3          False     False  False\n",
       "4          False     False  False\n",
       "..           ...       ...    ...\n",
       "995        False     False  False\n",
       "996        False     False  False\n",
       "997        False     False  False\n",
       "998        False     False  False\n",
       "999        False     False  False\n",
       "\n",
       "[1000 rows x 3 columns]"
      ]
     },
     "execution_count": 48,
     "metadata": {},
     "output_type": "execute_result"
    }
   ],
   "source": [
    "gcpB.isna()"
   ]
  },
  {
   "cell_type": "code",
   "execution_count": 49,
   "id": "babb2e25",
   "metadata": {},
   "outputs": [],
   "source": [
    "# Calcular o total e a porcentagem de valores ausentes\n",
    "\n",
    "## retorna o total de valores ausentes de cada coluna\n",
    "num_ausentesA = gcpA.isna().sum() "
   ]
  },
  {
   "cell_type": "code",
   "execution_count": 50,
   "id": "d9a0de33",
   "metadata": {},
   "outputs": [
    {
     "data": {
      "text/plain": [
       "nota_fiscal     0\n",
       "vendedor       40\n",
       "total           0\n",
       "dtype: int64"
      ]
     },
     "execution_count": 50,
     "metadata": {},
     "output_type": "execute_result"
    }
   ],
   "source": [
    "num_ausentesA"
   ]
  },
  {
   "cell_type": "code",
   "execution_count": 51,
   "id": "b670d82a",
   "metadata": {},
   "outputs": [],
   "source": [
    "## retorna a porcentagem de valores ausentes de cada coluna\n",
    "porc_ausentesA = gcpA.isna().sum() * 100 / len(gcpA)"
   ]
  },
  {
   "cell_type": "code",
   "execution_count": 52,
   "id": "4051ffe5",
   "metadata": {},
   "outputs": [
    {
     "data": {
      "text/plain": [
       "nota_fiscal    0.0\n",
       "vendedor       4.0\n",
       "total          0.0\n",
       "dtype: float64"
      ]
     },
     "execution_count": 52,
     "metadata": {},
     "output_type": "execute_result"
    }
   ],
   "source": [
    "porc_ausentesA"
   ]
  },
  {
   "cell_type": "code",
   "execution_count": 53,
   "id": "e7453e97",
   "metadata": {
    "scrolled": true
   },
   "outputs": [],
   "source": [
    "# Cria um DataFrame com as informações computadas acima\n",
    "df_ausentesA = pd.DataFrame({\n",
    "    'nota_fiscal': gcpA.columns,\n",
    "    'vendedor': num_ausentesA,\n",
    "    'total': porc_ausentesA\n",
    "})"
   ]
  },
  {
   "cell_type": "code",
   "execution_count": 54,
   "id": "2de00387",
   "metadata": {},
   "outputs": [
    {
     "data": {
      "text/html": [
       "<div>\n",
       "<style scoped>\n",
       "    .dataframe tbody tr th:only-of-type {\n",
       "        vertical-align: middle;\n",
       "    }\n",
       "\n",
       "    .dataframe tbody tr th {\n",
       "        vertical-align: top;\n",
       "    }\n",
       "\n",
       "    .dataframe thead th {\n",
       "        text-align: right;\n",
       "    }\n",
       "</style>\n",
       "<table border=\"1\" class=\"dataframe\">\n",
       "  <thead>\n",
       "    <tr style=\"text-align: right;\">\n",
       "      <th></th>\n",
       "      <th>nota_fiscal</th>\n",
       "      <th>vendedor</th>\n",
       "      <th>total</th>\n",
       "    </tr>\n",
       "  </thead>\n",
       "  <tbody>\n",
       "    <tr>\n",
       "      <th>nota_fiscal</th>\n",
       "      <td>nota_fiscal</td>\n",
       "      <td>0</td>\n",
       "      <td>0.0</td>\n",
       "    </tr>\n",
       "    <tr>\n",
       "      <th>vendedor</th>\n",
       "      <td>vendedor</td>\n",
       "      <td>40</td>\n",
       "      <td>4.0</td>\n",
       "    </tr>\n",
       "    <tr>\n",
       "      <th>total</th>\n",
       "      <td>total</td>\n",
       "      <td>0</td>\n",
       "      <td>0.0</td>\n",
       "    </tr>\n",
       "  </tbody>\n",
       "</table>\n",
       "</div>"
      ],
      "text/plain": [
       "             nota_fiscal  vendedor  total\n",
       "nota_fiscal  nota_fiscal         0    0.0\n",
       "vendedor        vendedor        40    4.0\n",
       "total              total         0    0.0"
      ]
     },
     "execution_count": 54,
     "metadata": {},
     "output_type": "execute_result"
    }
   ],
   "source": [
    "df_ausentesA"
   ]
  },
  {
   "cell_type": "code",
   "execution_count": 55,
   "id": "7c109c5e",
   "metadata": {},
   "outputs": [],
   "source": [
    "# Calcular o total e a porcentagem de valores ausentes\n",
    "\n",
    "## retorna o total de valores ausentes de cada coluna\n",
    "num_ausentesB = gcpB.isna().sum() "
   ]
  },
  {
   "cell_type": "code",
   "execution_count": 56,
   "id": "a306c02f",
   "metadata": {},
   "outputs": [
    {
     "data": {
      "text/plain": [
       "nota_fiscal     0\n",
       "vendedor       31\n",
       "total           0\n",
       "dtype: int64"
      ]
     },
     "execution_count": 56,
     "metadata": {},
     "output_type": "execute_result"
    }
   ],
   "source": [
    "num_ausentesB"
   ]
  },
  {
   "cell_type": "code",
   "execution_count": 57,
   "id": "0ddfad02",
   "metadata": {},
   "outputs": [],
   "source": [
    "## retorna a porcentagem de valores ausentes de cada coluna\n",
    "porc_ausentesB = gcpB.isna().sum() * 100 / len(gcpB)"
   ]
  },
  {
   "cell_type": "code",
   "execution_count": 58,
   "id": "cf96c499",
   "metadata": {},
   "outputs": [
    {
     "data": {
      "text/plain": [
       "nota_fiscal    0.0\n",
       "vendedor       3.1\n",
       "total          0.0\n",
       "dtype: float64"
      ]
     },
     "execution_count": 58,
     "metadata": {},
     "output_type": "execute_result"
    }
   ],
   "source": [
    "porc_ausentesB"
   ]
  },
  {
   "cell_type": "code",
   "execution_count": 59,
   "id": "741bbb27",
   "metadata": {},
   "outputs": [
    {
     "data": {
      "text/plain": [
       "nota_fiscal    0.0\n",
       "vendedor       3.1\n",
       "total          0.0\n",
       "dtype: float64"
      ]
     },
     "execution_count": 59,
     "metadata": {},
     "output_type": "execute_result"
    }
   ],
   "source": [
    "porc_ausentesB"
   ]
  },
  {
   "cell_type": "code",
   "execution_count": 60,
   "id": "17eec511",
   "metadata": {},
   "outputs": [],
   "source": [
    "# Cria um DataFrame com as informações computadas acima\n",
    "df_ausentesB = pd.DataFrame({\n",
    "    'nota_fiscal': gcpB.columns,\n",
    "    'vendedor': num_ausentesB,\n",
    "    'total': porc_ausentesB\n",
    "})"
   ]
  },
  {
   "cell_type": "code",
   "execution_count": 61,
   "id": "4cc27c8c",
   "metadata": {},
   "outputs": [
    {
     "data": {
      "text/html": [
       "<div>\n",
       "<style scoped>\n",
       "    .dataframe tbody tr th:only-of-type {\n",
       "        vertical-align: middle;\n",
       "    }\n",
       "\n",
       "    .dataframe tbody tr th {\n",
       "        vertical-align: top;\n",
       "    }\n",
       "\n",
       "    .dataframe thead th {\n",
       "        text-align: right;\n",
       "    }\n",
       "</style>\n",
       "<table border=\"1\" class=\"dataframe\">\n",
       "  <thead>\n",
       "    <tr style=\"text-align: right;\">\n",
       "      <th></th>\n",
       "      <th>nota_fiscal</th>\n",
       "      <th>vendedor</th>\n",
       "      <th>total</th>\n",
       "    </tr>\n",
       "  </thead>\n",
       "  <tbody>\n",
       "    <tr>\n",
       "      <th>nota_fiscal</th>\n",
       "      <td>nota_fiscal</td>\n",
       "      <td>0</td>\n",
       "      <td>0.0</td>\n",
       "    </tr>\n",
       "    <tr>\n",
       "      <th>vendedor</th>\n",
       "      <td>vendedor</td>\n",
       "      <td>31</td>\n",
       "      <td>3.1</td>\n",
       "    </tr>\n",
       "    <tr>\n",
       "      <th>total</th>\n",
       "      <td>total</td>\n",
       "      <td>0</td>\n",
       "      <td>0.0</td>\n",
       "    </tr>\n",
       "  </tbody>\n",
       "</table>\n",
       "</div>"
      ],
      "text/plain": [
       "             nota_fiscal  vendedor  total\n",
       "nota_fiscal  nota_fiscal         0    0.0\n",
       "vendedor        vendedor        31    3.1\n",
       "total              total         0    0.0"
      ]
     },
     "execution_count": 61,
     "metadata": {},
     "output_type": "execute_result"
    }
   ],
   "source": [
    "df_ausentesB"
   ]
  },
  {
   "cell_type": "markdown",
   "id": "f687cc76",
   "metadata": {},
   "source": [
    "### Imputar dados na coluna"
   ]
  },
  {
   "cell_type": "code",
   "execution_count": 62,
   "id": "d4891f5b",
   "metadata": {
    "scrolled": true
   },
   "outputs": [],
   "source": [
    "# Substitui NaNs pela média de valores presentes\n",
    "gcpAf = gcpA.fillna('lojaA')"
   ]
  },
  {
   "cell_type": "code",
   "execution_count": 63,
   "id": "4074d422",
   "metadata": {},
   "outputs": [
    {
     "data": {
      "text/plain": [
       "array([[1, 'Clerkclaude', 260.85],\n",
       "       [2, 'Karly', 217.45],\n",
       "       [3, 'Xerxes', 462.32],\n",
       "       ...,\n",
       "       [998, 'Stefanie', 199.96],\n",
       "       [999, 'Barny', 595.28],\n",
       "       [1000, 'lojaA', 188.21]], dtype=object)"
      ]
     },
     "execution_count": 63,
     "metadata": {},
     "output_type": "execute_result"
    }
   ],
   "source": [
    "gcpAf.values"
   ]
  },
  {
   "cell_type": "code",
   "execution_count": 64,
   "id": "ba13d99f",
   "metadata": {},
   "outputs": [
    {
     "data": {
      "text/html": [
       "<div>\n",
       "<style scoped>\n",
       "    .dataframe tbody tr th:only-of-type {\n",
       "        vertical-align: middle;\n",
       "    }\n",
       "\n",
       "    .dataframe tbody tr th {\n",
       "        vertical-align: top;\n",
       "    }\n",
       "\n",
       "    .dataframe thead th {\n",
       "        text-align: right;\n",
       "    }\n",
       "</style>\n",
       "<table border=\"1\" class=\"dataframe\">\n",
       "  <thead>\n",
       "    <tr style=\"text-align: right;\">\n",
       "      <th></th>\n",
       "      <th>vendedor</th>\n",
       "      <th>total</th>\n",
       "    </tr>\n",
       "  </thead>\n",
       "  <tbody>\n",
       "    <tr>\n",
       "      <th>902</th>\n",
       "      <td>lojaA</td>\n",
       "      <td>13535.33</td>\n",
       "    </tr>\n",
       "    <tr>\n",
       "      <th>548</th>\n",
       "      <td>Mahmud</td>\n",
       "      <td>1156.40</td>\n",
       "    </tr>\n",
       "    <tr>\n",
       "      <th>187</th>\n",
       "      <td>Cordie</td>\n",
       "      <td>1093.99</td>\n",
       "    </tr>\n",
       "    <tr>\n",
       "      <th>373</th>\n",
       "      <td>Hanson</td>\n",
       "      <td>1066.78</td>\n",
       "    </tr>\n",
       "    <tr>\n",
       "      <th>36</th>\n",
       "      <td>Alva</td>\n",
       "      <td>1039.99</td>\n",
       "    </tr>\n",
       "    <tr>\n",
       "      <th>718</th>\n",
       "      <td>Regan</td>\n",
       "      <td>1031.55</td>\n",
       "    </tr>\n",
       "    <tr>\n",
       "      <th>626</th>\n",
       "      <td>Nancie</td>\n",
       "      <td>1019.00</td>\n",
       "    </tr>\n",
       "    <tr>\n",
       "      <th>385</th>\n",
       "      <td>Herschel</td>\n",
       "      <td>941.63</td>\n",
       "    </tr>\n",
       "    <tr>\n",
       "      <th>476</th>\n",
       "      <td>Keary</td>\n",
       "      <td>870.82</td>\n",
       "    </tr>\n",
       "    <tr>\n",
       "      <th>427</th>\n",
       "      <td>Jermaine</td>\n",
       "      <td>862.22</td>\n",
       "    </tr>\n",
       "  </tbody>\n",
       "</table>\n",
       "</div>"
      ],
      "text/plain": [
       "     vendedor     total\n",
       "902     lojaA  13535.33\n",
       "548    Mahmud   1156.40\n",
       "187    Cordie   1093.99\n",
       "373    Hanson   1066.78\n",
       "36       Alva   1039.99\n",
       "718     Regan   1031.55\n",
       "626    Nancie   1019.00\n",
       "385  Herschel    941.63\n",
       "476     Keary    870.82\n",
       "427  Jermaine    862.22"
      ]
     },
     "execution_count": 64,
     "metadata": {},
     "output_type": "execute_result"
    }
   ],
   "source": [
    "# Dez maiores vendas - Filiais\n",
    "gcpAf.groupby(\"vendedor\").total.sum().reset_index().sort_values(\"total\", ascending=False).head(10)"
   ]
  },
  {
   "cell_type": "code",
   "execution_count": 65,
   "id": "f51d02e9",
   "metadata": {
    "scrolled": true
   },
   "outputs": [],
   "source": [
    "# Substitui NaNs pela média de valores presentes\n",
    "gcpBf = gcpB.fillna('lojaB')"
   ]
  },
  {
   "cell_type": "code",
   "execution_count": 66,
   "id": "70290d0a",
   "metadata": {},
   "outputs": [
    {
     "data": {
      "text/plain": [
       "array([[1, 'Clarabelle', 159.38],\n",
       "       [2, 'Berk', 144.3],\n",
       "       [3, 'Kiri', 302.49],\n",
       "       ...,\n",
       "       [998, 'Aluino', 130.75],\n",
       "       [999, 'Amber', 233.3],\n",
       "       [1000, 'Trumann', 460.26]], dtype=object)"
      ]
     },
     "execution_count": 66,
     "metadata": {},
     "output_type": "execute_result"
    }
   ],
   "source": [
    "gcpBf.values"
   ]
  },
  {
   "cell_type": "code",
   "execution_count": 67,
   "id": "d03d314b",
   "metadata": {},
   "outputs": [
    {
     "data": {
      "text/html": [
       "<div>\n",
       "<style scoped>\n",
       "    .dataframe tbody tr th:only-of-type {\n",
       "        vertical-align: middle;\n",
       "    }\n",
       "\n",
       "    .dataframe tbody tr th {\n",
       "        vertical-align: top;\n",
       "    }\n",
       "\n",
       "    .dataframe thead th {\n",
       "        text-align: right;\n",
       "    }\n",
       "</style>\n",
       "<table border=\"1\" class=\"dataframe\">\n",
       "  <thead>\n",
       "    <tr style=\"text-align: right;\">\n",
       "      <th></th>\n",
       "      <th>vendedor</th>\n",
       "      <th>total</th>\n",
       "    </tr>\n",
       "  </thead>\n",
       "  <tbody>\n",
       "    <tr>\n",
       "      <th>913</th>\n",
       "      <td>lojaB</td>\n",
       "      <td>11090.89</td>\n",
       "    </tr>\n",
       "    <tr>\n",
       "      <th>695</th>\n",
       "      <td>Paule</td>\n",
       "      <td>1191.40</td>\n",
       "    </tr>\n",
       "    <tr>\n",
       "      <th>802</th>\n",
       "      <td>Sibyl</td>\n",
       "      <td>1160.81</td>\n",
       "    </tr>\n",
       "    <tr>\n",
       "      <th>723</th>\n",
       "      <td>Randell</td>\n",
       "      <td>1073.63</td>\n",
       "    </tr>\n",
       "    <tr>\n",
       "      <th>45</th>\n",
       "      <td>Angie</td>\n",
       "      <td>1067.83</td>\n",
       "    </tr>\n",
       "    <tr>\n",
       "      <th>881</th>\n",
       "      <td>Waylan</td>\n",
       "      <td>1067.83</td>\n",
       "    </tr>\n",
       "    <tr>\n",
       "      <th>716</th>\n",
       "      <td>Quint</td>\n",
       "      <td>1050.15</td>\n",
       "    </tr>\n",
       "    <tr>\n",
       "      <th>537</th>\n",
       "      <td>Lise</td>\n",
       "      <td>1039.75</td>\n",
       "    </tr>\n",
       "    <tr>\n",
       "      <th>754</th>\n",
       "      <td>Rouvin</td>\n",
       "      <td>966.95</td>\n",
       "    </tr>\n",
       "    <tr>\n",
       "      <th>531</th>\n",
       "      <td>Leopold</td>\n",
       "      <td>915.87</td>\n",
       "    </tr>\n",
       "  </tbody>\n",
       "</table>\n",
       "</div>"
      ],
      "text/plain": [
       "    vendedor     total\n",
       "913    lojaB  11090.89\n",
       "695    Paule   1191.40\n",
       "802    Sibyl   1160.81\n",
       "723  Randell   1073.63\n",
       "45     Angie   1067.83\n",
       "881   Waylan   1067.83\n",
       "716    Quint   1050.15\n",
       "537     Lise   1039.75\n",
       "754   Rouvin    966.95\n",
       "531  Leopold    915.87"
      ]
     },
     "execution_count": 67,
     "metadata": {},
     "output_type": "execute_result"
    }
   ],
   "source": [
    "# Dez maiores vendas - Matriz\n",
    "gcpBf.groupby(\"vendedor\").total.sum().reset_index().sort_values(\"total\", ascending=False).head(10)"
   ]
  },
  {
   "cell_type": "markdown",
   "id": "c40ac62a",
   "metadata": {},
   "source": [
    "### Integração dos dados - Matriz - Filiais"
   ]
  },
  {
   "cell_type": "code",
   "execution_count": 68,
   "id": "b3873a57",
   "metadata": {},
   "outputs": [],
   "source": [
    "# Conveter Sistema_A_SQL.csv em .json"
   ]
  },
  {
   "cell_type": "code",
   "execution_count": 69,
   "id": "b64cc878",
   "metadata": {},
   "outputs": [],
   "source": [
    "gcpAf.to_json (r'C://Cursos//Soulcode//at20DE//JSON//Sistema_A_NoSQL.json')"
   ]
  },
  {
   "cell_type": "code",
   "execution_count": 70,
   "id": "472da7b8",
   "metadata": {},
   "outputs": [
    {
     "data": {
      "text/html": [
       "<div>\n",
       "<style scoped>\n",
       "    .dataframe tbody tr th:only-of-type {\n",
       "        vertical-align: middle;\n",
       "    }\n",
       "\n",
       "    .dataframe tbody tr th {\n",
       "        vertical-align: top;\n",
       "    }\n",
       "\n",
       "    .dataframe thead th {\n",
       "        text-align: right;\n",
       "    }\n",
       "</style>\n",
       "<table border=\"1\" class=\"dataframe\">\n",
       "  <thead>\n",
       "    <tr style=\"text-align: right;\">\n",
       "      <th></th>\n",
       "      <th>nota_fiscal</th>\n",
       "      <th>vendedor</th>\n",
       "      <th>total</th>\n",
       "    </tr>\n",
       "  </thead>\n",
       "  <tbody>\n",
       "    <tr>\n",
       "      <th>0</th>\n",
       "      <td>1</td>\n",
       "      <td>Clerkclaude</td>\n",
       "      <td>260.85</td>\n",
       "    </tr>\n",
       "    <tr>\n",
       "      <th>1</th>\n",
       "      <td>2</td>\n",
       "      <td>Karly</td>\n",
       "      <td>217.45</td>\n",
       "    </tr>\n",
       "    <tr>\n",
       "      <th>2</th>\n",
       "      <td>3</td>\n",
       "      <td>Xerxes</td>\n",
       "      <td>462.32</td>\n",
       "    </tr>\n",
       "    <tr>\n",
       "      <th>3</th>\n",
       "      <td>4</td>\n",
       "      <td>Kaia</td>\n",
       "      <td>290.52</td>\n",
       "    </tr>\n",
       "    <tr>\n",
       "      <th>4</th>\n",
       "      <td>5</td>\n",
       "      <td>Myron</td>\n",
       "      <td>518.35</td>\n",
       "    </tr>\n",
       "    <tr>\n",
       "      <th>...</th>\n",
       "      <td>...</td>\n",
       "      <td>...</td>\n",
       "      <td>...</td>\n",
       "    </tr>\n",
       "    <tr>\n",
       "      <th>995</th>\n",
       "      <td>996</td>\n",
       "      <td>Garey</td>\n",
       "      <td>538.00</td>\n",
       "    </tr>\n",
       "    <tr>\n",
       "      <th>996</th>\n",
       "      <td>997</td>\n",
       "      <td>Mil</td>\n",
       "      <td>347.70</td>\n",
       "    </tr>\n",
       "    <tr>\n",
       "      <th>997</th>\n",
       "      <td>998</td>\n",
       "      <td>Stefanie</td>\n",
       "      <td>199.96</td>\n",
       "    </tr>\n",
       "    <tr>\n",
       "      <th>998</th>\n",
       "      <td>999</td>\n",
       "      <td>Barny</td>\n",
       "      <td>595.28</td>\n",
       "    </tr>\n",
       "    <tr>\n",
       "      <th>999</th>\n",
       "      <td>1000</td>\n",
       "      <td>lojaA</td>\n",
       "      <td>188.21</td>\n",
       "    </tr>\n",
       "  </tbody>\n",
       "</table>\n",
       "<p>1000 rows × 3 columns</p>\n",
       "</div>"
      ],
      "text/plain": [
       "     nota_fiscal     vendedor   total\n",
       "0              1  Clerkclaude  260.85\n",
       "1              2        Karly  217.45\n",
       "2              3       Xerxes  462.32\n",
       "3              4         Kaia  290.52\n",
       "4              5        Myron  518.35\n",
       "..           ...          ...     ...\n",
       "995          996        Garey  538.00\n",
       "996          997          Mil  347.70\n",
       "997          998     Stefanie  199.96\n",
       "998          999        Barny  595.28\n",
       "999         1000        lojaA  188.21\n",
       "\n",
       "[1000 rows x 3 columns]"
      ]
     },
     "execution_count": 70,
     "metadata": {},
     "output_type": "execute_result"
    }
   ],
   "source": [
    "gcpAf"
   ]
  },
  {
   "cell_type": "code",
   "execution_count": 71,
   "id": "c8be50e2",
   "metadata": {},
   "outputs": [],
   "source": [
    "gcpBf.to_json (r'C://Cursos//Soulcode//at20DE//JSON//Sistema_B_NoSQL.json')"
   ]
  },
  {
   "cell_type": "code",
   "execution_count": 72,
   "id": "6e96b91b",
   "metadata": {},
   "outputs": [
    {
     "data": {
      "text/html": [
       "<div>\n",
       "<style scoped>\n",
       "    .dataframe tbody tr th:only-of-type {\n",
       "        vertical-align: middle;\n",
       "    }\n",
       "\n",
       "    .dataframe tbody tr th {\n",
       "        vertical-align: top;\n",
       "    }\n",
       "\n",
       "    .dataframe thead th {\n",
       "        text-align: right;\n",
       "    }\n",
       "</style>\n",
       "<table border=\"1\" class=\"dataframe\">\n",
       "  <thead>\n",
       "    <tr style=\"text-align: right;\">\n",
       "      <th></th>\n",
       "      <th>nota_fiscal</th>\n",
       "      <th>vendedor</th>\n",
       "      <th>total</th>\n",
       "    </tr>\n",
       "  </thead>\n",
       "  <tbody>\n",
       "    <tr>\n",
       "      <th>0</th>\n",
       "      <td>1</td>\n",
       "      <td>Clarabelle</td>\n",
       "      <td>159.38</td>\n",
       "    </tr>\n",
       "    <tr>\n",
       "      <th>1</th>\n",
       "      <td>2</td>\n",
       "      <td>Berk</td>\n",
       "      <td>144.30</td>\n",
       "    </tr>\n",
       "    <tr>\n",
       "      <th>2</th>\n",
       "      <td>3</td>\n",
       "      <td>Kiri</td>\n",
       "      <td>302.49</td>\n",
       "    </tr>\n",
       "    <tr>\n",
       "      <th>3</th>\n",
       "      <td>4</td>\n",
       "      <td>Brigitta</td>\n",
       "      <td>381.61</td>\n",
       "    </tr>\n",
       "    <tr>\n",
       "      <th>4</th>\n",
       "      <td>5</td>\n",
       "      <td>Barret</td>\n",
       "      <td>277.63</td>\n",
       "    </tr>\n",
       "    <tr>\n",
       "      <th>...</th>\n",
       "      <td>...</td>\n",
       "      <td>...</td>\n",
       "      <td>...</td>\n",
       "    </tr>\n",
       "    <tr>\n",
       "      <th>995</th>\n",
       "      <td>996</td>\n",
       "      <td>Ronny</td>\n",
       "      <td>577.64</td>\n",
       "    </tr>\n",
       "    <tr>\n",
       "      <th>996</th>\n",
       "      <td>997</td>\n",
       "      <td>Farra</td>\n",
       "      <td>434.77</td>\n",
       "    </tr>\n",
       "    <tr>\n",
       "      <th>997</th>\n",
       "      <td>998</td>\n",
       "      <td>Aluino</td>\n",
       "      <td>130.75</td>\n",
       "    </tr>\n",
       "    <tr>\n",
       "      <th>998</th>\n",
       "      <td>999</td>\n",
       "      <td>Amber</td>\n",
       "      <td>233.30</td>\n",
       "    </tr>\n",
       "    <tr>\n",
       "      <th>999</th>\n",
       "      <td>1000</td>\n",
       "      <td>Trumann</td>\n",
       "      <td>460.26</td>\n",
       "    </tr>\n",
       "  </tbody>\n",
       "</table>\n",
       "<p>1000 rows × 3 columns</p>\n",
       "</div>"
      ],
      "text/plain": [
       "     nota_fiscal    vendedor   total\n",
       "0              1  Clarabelle  159.38\n",
       "1              2        Berk  144.30\n",
       "2              3        Kiri  302.49\n",
       "3              4    Brigitta  381.61\n",
       "4              5      Barret  277.63\n",
       "..           ...         ...     ...\n",
       "995          996       Ronny  577.64\n",
       "996          997       Farra  434.77\n",
       "997          998      Aluino  130.75\n",
       "998          999       Amber  233.30\n",
       "999         1000     Trumann  460.26\n",
       "\n",
       "[1000 rows x 3 columns]"
      ]
     },
     "execution_count": 72,
     "metadata": {},
     "output_type": "execute_result"
    }
   ],
   "source": [
    "gcpBf"
   ]
  },
  {
   "cell_type": "markdown",
   "id": "c9bbfc9b",
   "metadata": {},
   "source": [
    "### Carregamento no GCP"
   ]
  },
  {
   "cell_type": "code",
   "execution_count": 73,
   "id": "26069269",
   "metadata": {},
   "outputs": [],
   "source": [
    "gcpAf.to_json('gs://soulcodestore/integrado/gcpAf.json')"
   ]
  },
  {
   "cell_type": "code",
   "execution_count": 74,
   "id": "038735a1",
   "metadata": {},
   "outputs": [],
   "source": [
    "gcpBf.to_json('gs://soulcodestore/integrado/gcpBf.json')"
   ]
  },
  {
   "cell_type": "code",
   "execution_count": null,
   "id": "b16ce555",
   "metadata": {
    "scrolled": true
   },
   "outputs": [],
   "source": []
  },
  {
   "cell_type": "code",
   "execution_count": null,
   "id": "f544a937",
   "metadata": {},
   "outputs": [],
   "source": [
    "# Criar novo banco integrado - JSON"
   ]
  },
  {
   "cell_type": "code",
   "execution_count": null,
   "id": "91be930b",
   "metadata": {},
   "outputs": [],
   "source": [
    "# Conferir dados"
   ]
  },
  {
   "cell_type": "code",
   "execution_count": null,
   "id": "e31785a3",
   "metadata": {},
   "outputs": [],
   "source": [
    "# Salvar dados"
   ]
  },
  {
   "cell_type": "code",
   "execution_count": null,
   "id": "134a8f7a",
   "metadata": {},
   "outputs": [],
   "source": []
  },
  {
   "cell_type": "code",
   "execution_count": null,
   "id": "431b9961",
   "metadata": {},
   "outputs": [],
   "source": [
    "# Upload no GCP"
   ]
  },
  {
   "cell_type": "markdown",
   "id": "94ad825e",
   "metadata": {},
   "source": [
    "### Criar Banco de dados - MongoDB - Sistema_B_NoSQL.csv - Matriz"
   ]
  },
  {
   "cell_type": "code",
   "execution_count": null,
   "id": "999453cb",
   "metadata": {},
   "outputs": [],
   "source": [
    "# Converter dados de .csv para .json"
   ]
  },
  {
   "cell_type": "code",
   "execution_count": null,
   "id": "5837b780",
   "metadata": {},
   "outputs": [],
   "source": []
  },
  {
   "cell_type": "code",
   "execution_count": null,
   "id": "40942cae",
   "metadata": {},
   "outputs": [],
   "source": [
    "# Verificar arquivo .json"
   ]
  },
  {
   "cell_type": "code",
   "execution_count": null,
   "id": "581c4817",
   "metadata": {},
   "outputs": [],
   "source": []
  },
  {
   "cell_type": "code",
   "execution_count": null,
   "id": "93ac3daf",
   "metadata": {},
   "outputs": [],
   "source": [
    "# Criar banco MongoDB"
   ]
  },
  {
   "cell_type": "code",
   "execution_count": null,
   "id": "cbaeed48",
   "metadata": {},
   "outputs": [],
   "source": []
  },
  {
   "cell_type": "code",
   "execution_count": null,
   "id": "12ec1e34",
   "metadata": {},
   "outputs": [],
   "source": [
    "# Inserir dados"
   ]
  },
  {
   "cell_type": "code",
   "execution_count": null,
   "id": "b66d174b",
   "metadata": {},
   "outputs": [],
   "source": []
  },
  {
   "cell_type": "code",
   "execution_count": null,
   "id": "ad51b190",
   "metadata": {},
   "outputs": [],
   "source": [
    "# Verificar dados"
   ]
  },
  {
   "cell_type": "code",
   "execution_count": null,
   "id": "1c19e614",
   "metadata": {},
   "outputs": [],
   "source": []
  },
  {
   "cell_type": "markdown",
   "id": "abb0538b",
   "metadata": {},
   "source": [
    "### Criar Banco de dados - Postgres -  Acesso do arquivo Sistema_A_SQL.csv - Filiais"
   ]
  },
  {
   "cell_type": "code",
   "execution_count": null,
   "id": "9a7d0ac3",
   "metadata": {},
   "outputs": [],
   "source": [
    "# Criar banco Postgres"
   ]
  },
  {
   "cell_type": "code",
   "execution_count": null,
   "id": "92133610",
   "metadata": {},
   "outputs": [],
   "source": [
    "# Inserir dados"
   ]
  },
  {
   "cell_type": "code",
   "execution_count": null,
   "id": "f130f61a",
   "metadata": {},
   "outputs": [],
   "source": [
    "# Verificar dados"
   ]
  },
  {
   "cell_type": "code",
   "execution_count": null,
   "id": "08788e0b",
   "metadata": {},
   "outputs": [],
   "source": []
  },
  {
   "cell_type": "code",
   "execution_count": null,
   "id": "4c3ec3fc",
   "metadata": {},
   "outputs": [],
   "source": [
    "### Padronização e Normalização"
   ]
  }
 ],
 "metadata": {
  "kernelspec": {
   "display_name": "Python 3 (ipykernel)",
   "language": "python",
   "name": "python3"
  },
  "language_info": {
   "codemirror_mode": {
    "name": "ipython",
    "version": 3
   },
   "file_extension": ".py",
   "mimetype": "text/x-python",
   "name": "python",
   "nbconvert_exporter": "python",
   "pygments_lexer": "ipython3",
   "version": "3.9.10"
  }
 },
 "nbformat": 4,
 "nbformat_minor": 5
}
