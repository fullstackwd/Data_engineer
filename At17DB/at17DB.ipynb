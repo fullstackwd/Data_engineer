{
 "cells": [
  {
   "cell_type": "code",
   "execution_count": 1,
   "id": "1748f30e",
   "metadata": {},
   "outputs": [],
   "source": [
    "import pandas as pd"
   ]
  },
  {
   "cell_type": "code",
   "execution_count": 2,
   "id": "1aea2374",
   "metadata": {},
   "outputs": [],
   "source": [
    "from datetime import datetime"
   ]
  },
  {
   "cell_type": "code",
   "execution_count": 3,
   "id": "8cdd5c8a",
   "metadata": {},
   "outputs": [],
   "source": [
    "import matplotlib.pyplot as plt"
   ]
  },
  {
   "cell_type": "code",
   "execution_count": 4,
   "id": "6fa222f1",
   "metadata": {},
   "outputs": [],
   "source": [
    "df = pd.read_csv (r'C://at17DB//ca-2004-01.csv', sep = ';')"
   ]
  },
  {
   "cell_type": "code",
   "execution_count": 5,
   "id": "bff75a85",
   "metadata": {},
   "outputs": [
    {
     "data": {
      "text/html": [
       "<div>\n",
       "<style scoped>\n",
       "    .dataframe tbody tr th:only-of-type {\n",
       "        vertical-align: middle;\n",
       "    }\n",
       "\n",
       "    .dataframe tbody tr th {\n",
       "        vertical-align: top;\n",
       "    }\n",
       "\n",
       "    .dataframe thead th {\n",
       "        text-align: right;\n",
       "    }\n",
       "</style>\n",
       "<table border=\"1\" class=\"dataframe\">\n",
       "  <thead>\n",
       "    <tr style=\"text-align: right;\">\n",
       "      <th></th>\n",
       "      <th>Regiao</th>\n",
       "      <th>Sigla</th>\n",
       "      <th>Municipio</th>\n",
       "      <th>Revenda</th>\n",
       "      <th>CNPJ</th>\n",
       "      <th>Rua</th>\n",
       "      <th>Numero</th>\n",
       "      <th>Complemento</th>\n",
       "      <th>Bairro</th>\n",
       "      <th>Cep</th>\n",
       "      <th>Produto</th>\n",
       "      <th>Data_da_Coleta</th>\n",
       "      <th>Valor_de_Venda</th>\n",
       "      <th>Valor_de_Compra</th>\n",
       "      <th>Unidade_de_Medida</th>\n",
       "      <th>Bandeira</th>\n",
       "    </tr>\n",
       "  </thead>\n",
       "  <tbody>\n",
       "    <tr>\n",
       "      <th>0</th>\n",
       "      <td>SE</td>\n",
       "      <td>SP</td>\n",
       "      <td>GUARULHOS</td>\n",
       "      <td>AUTO POSTO SAKAMOTO LTDA</td>\n",
       "      <td>49.051.667/0001-02</td>\n",
       "      <td>RODOVIA PRESIDENTE DUTRA</td>\n",
       "      <td>S/N</td>\n",
       "      <td>KM 210,5-SENT SP/RJ</td>\n",
       "      <td>BONSUCESSO</td>\n",
       "      <td>07178-580</td>\n",
       "      <td>GASOLINA</td>\n",
       "      <td>11/05/2004</td>\n",
       "      <td>1,967</td>\n",
       "      <td>1,6623</td>\n",
       "      <td>R$ / litro</td>\n",
       "      <td>PETROBRAS DISTRIBUIDORA S.A.</td>\n",
       "    </tr>\n",
       "    <tr>\n",
       "      <th>1</th>\n",
       "      <td>SE</td>\n",
       "      <td>SP</td>\n",
       "      <td>GUARULHOS</td>\n",
       "      <td>AUTO POSTO SAKAMOTO LTDA</td>\n",
       "      <td>49.051.667/0001-02</td>\n",
       "      <td>RODOVIA PRESIDENTE DUTRA</td>\n",
       "      <td>S/N</td>\n",
       "      <td>KM 210,5-SENT SP/RJ</td>\n",
       "      <td>BONSUCESSO</td>\n",
       "      <td>07178-580</td>\n",
       "      <td>ETANOL</td>\n",
       "      <td>11/05/2004</td>\n",
       "      <td>0,899</td>\n",
       "      <td>0,6282</td>\n",
       "      <td>R$ / litro</td>\n",
       "      <td>PETROBRAS DISTRIBUIDORA S.A.</td>\n",
       "    </tr>\n",
       "    <tr>\n",
       "      <th>2</th>\n",
       "      <td>SE</td>\n",
       "      <td>SP</td>\n",
       "      <td>GUARULHOS</td>\n",
       "      <td>AUTO POSTO SAKAMOTO LTDA</td>\n",
       "      <td>49.051.667/0001-02</td>\n",
       "      <td>RODOVIA PRESIDENTE DUTRA</td>\n",
       "      <td>S/N</td>\n",
       "      <td>KM 210,5-SENT SP/RJ</td>\n",
       "      <td>BONSUCESSO</td>\n",
       "      <td>07178-580</td>\n",
       "      <td>DIESEL</td>\n",
       "      <td>11/05/2004</td>\n",
       "      <td>1,299</td>\n",
       "      <td>1,1704</td>\n",
       "      <td>R$ / litro</td>\n",
       "      <td>PETROBRAS DISTRIBUIDORA S.A.</td>\n",
       "    </tr>\n",
       "    <tr>\n",
       "      <th>3</th>\n",
       "      <td>SE</td>\n",
       "      <td>SP</td>\n",
       "      <td>SOROCABA</td>\n",
       "      <td>COMPETRO COMERCIO E DISTRIBUICAO DE DERIVADOS ...</td>\n",
       "      <td>00.003.188/0001-21</td>\n",
       "      <td>RUA HUMBERTO DE CAMPOS</td>\n",
       "      <td>306</td>\n",
       "      <td>NaN</td>\n",
       "      <td>JARDIM ZULMIRA</td>\n",
       "      <td>18061-000</td>\n",
       "      <td>GASOLINA</td>\n",
       "      <td>10/05/2004</td>\n",
       "      <td>1,85</td>\n",
       "      <td>1,67</td>\n",
       "      <td>R$ / litro</td>\n",
       "      <td>BRANCA</td>\n",
       "    </tr>\n",
       "    <tr>\n",
       "      <th>4</th>\n",
       "      <td>SE</td>\n",
       "      <td>SP</td>\n",
       "      <td>SOROCABA</td>\n",
       "      <td>COMPETRO COMERCIO E DISTRIBUICAO DE DERIVADOS ...</td>\n",
       "      <td>00.003.188/0001-21</td>\n",
       "      <td>RUA HUMBERTO DE CAMPOS</td>\n",
       "      <td>306</td>\n",
       "      <td>NaN</td>\n",
       "      <td>JARDIM ZULMIRA</td>\n",
       "      <td>18061-000</td>\n",
       "      <td>ETANOL</td>\n",
       "      <td>10/05/2004</td>\n",
       "      <td>0,78</td>\n",
       "      <td>0,48</td>\n",
       "      <td>R$ / litro</td>\n",
       "      <td>BRANCA</td>\n",
       "    </tr>\n",
       "    <tr>\n",
       "      <th>...</th>\n",
       "      <td>...</td>\n",
       "      <td>...</td>\n",
       "      <td>...</td>\n",
       "      <td>...</td>\n",
       "      <td>...</td>\n",
       "      <td>...</td>\n",
       "      <td>...</td>\n",
       "      <td>...</td>\n",
       "      <td>...</td>\n",
       "      <td>...</td>\n",
       "      <td>...</td>\n",
       "      <td>...</td>\n",
       "      <td>...</td>\n",
       "      <td>...</td>\n",
       "      <td>...</td>\n",
       "      <td>...</td>\n",
       "    </tr>\n",
       "    <tr>\n",
       "      <th>281526</th>\n",
       "      <td>NE</td>\n",
       "      <td>BA</td>\n",
       "      <td>LIVRAMENTO DE NOSSA SENHORA</td>\n",
       "      <td>AUTO POSTO PIRES PEREIRA LTDA</td>\n",
       "      <td>02.253.236/0001-65</td>\n",
       "      <td>AVENIDA LINDEMBERG CARDOSO</td>\n",
       "      <td>667</td>\n",
       "      <td>COMODO</td>\n",
       "      <td>TAQUARI</td>\n",
       "      <td>46140-000</td>\n",
       "      <td>GASOLINA</td>\n",
       "      <td>28/06/2004</td>\n",
       "      <td>2,2</td>\n",
       "      <td>1,89</td>\n",
       "      <td>R$ / litro</td>\n",
       "      <td>PETROBAHIA</td>\n",
       "    </tr>\n",
       "    <tr>\n",
       "      <th>281527</th>\n",
       "      <td>NE</td>\n",
       "      <td>BA</td>\n",
       "      <td>LIVRAMENTO DE NOSSA SENHORA</td>\n",
       "      <td>AUTO POSTO PIRES PEREIRA LTDA</td>\n",
       "      <td>02.253.236/0001-65</td>\n",
       "      <td>AVENIDA LINDEMBERG CARDOSO</td>\n",
       "      <td>667</td>\n",
       "      <td>COMODO</td>\n",
       "      <td>TAQUARI</td>\n",
       "      <td>46140-000</td>\n",
       "      <td>ETANOL</td>\n",
       "      <td>28/06/2004</td>\n",
       "      <td>1,48</td>\n",
       "      <td>NaN</td>\n",
       "      <td>R$ / litro</td>\n",
       "      <td>PETROBAHIA</td>\n",
       "    </tr>\n",
       "    <tr>\n",
       "      <th>281528</th>\n",
       "      <td>NE</td>\n",
       "      <td>BA</td>\n",
       "      <td>LIVRAMENTO DE NOSSA SENHORA</td>\n",
       "      <td>AUTO POSTO PIRES PEREIRA LTDA</td>\n",
       "      <td>02.253.236/0001-65</td>\n",
       "      <td>AVENIDA LINDEMBERG CARDOSO</td>\n",
       "      <td>667</td>\n",
       "      <td>COMODO</td>\n",
       "      <td>TAQUARI</td>\n",
       "      <td>46140-000</td>\n",
       "      <td>DIESEL</td>\n",
       "      <td>28/06/2004</td>\n",
       "      <td>1,41</td>\n",
       "      <td>1,32</td>\n",
       "      <td>R$ / litro</td>\n",
       "      <td>PETROBAHIA</td>\n",
       "    </tr>\n",
       "    <tr>\n",
       "      <th>281529</th>\n",
       "      <td>NE</td>\n",
       "      <td>BA</td>\n",
       "      <td>LIVRAMENTO DE NOSSA SENHORA</td>\n",
       "      <td>AUTO POSTO 5 DE FEVEREIRO LTDA</td>\n",
       "      <td>02.125.226/0001-44</td>\n",
       "      <td>PRACA CORONEL ZEZINHO TANAJURA</td>\n",
       "      <td>1</td>\n",
       "      <td>COMODO</td>\n",
       "      <td>CENTRO</td>\n",
       "      <td>46140-000</td>\n",
       "      <td>ETANOL</td>\n",
       "      <td>28/06/2004</td>\n",
       "      <td>1,49</td>\n",
       "      <td>0,6909</td>\n",
       "      <td>R$ / litro</td>\n",
       "      <td>PETROBAHIA</td>\n",
       "    </tr>\n",
       "    <tr>\n",
       "      <th>281530</th>\n",
       "      <td>NE</td>\n",
       "      <td>BA</td>\n",
       "      <td>LIVRAMENTO DE NOSSA SENHORA</td>\n",
       "      <td>AUTO POSTO 5 DE FEVEREIRO LTDA</td>\n",
       "      <td>02.125.226/0001-44</td>\n",
       "      <td>PRACA CORONEL ZEZINHO TANAJURA</td>\n",
       "      <td>1</td>\n",
       "      <td>COMODO</td>\n",
       "      <td>CENTRO</td>\n",
       "      <td>46140-000</td>\n",
       "      <td>DIESEL</td>\n",
       "      <td>28/06/2004</td>\n",
       "      <td>1,44</td>\n",
       "      <td>1,255</td>\n",
       "      <td>R$ / litro</td>\n",
       "      <td>PETROBAHIA</td>\n",
       "    </tr>\n",
       "  </tbody>\n",
       "</table>\n",
       "<p>281531 rows × 16 columns</p>\n",
       "</div>"
      ],
      "text/plain": [
       "       Regiao Sigla                    Municipio  \\\n",
       "0          SE    SP                    GUARULHOS   \n",
       "1          SE    SP                    GUARULHOS   \n",
       "2          SE    SP                    GUARULHOS   \n",
       "3          SE    SP                     SOROCABA   \n",
       "4          SE    SP                     SOROCABA   \n",
       "...       ...   ...                          ...   \n",
       "281526     NE    BA  LIVRAMENTO DE NOSSA SENHORA   \n",
       "281527     NE    BA  LIVRAMENTO DE NOSSA SENHORA   \n",
       "281528     NE    BA  LIVRAMENTO DE NOSSA SENHORA   \n",
       "281529     NE    BA  LIVRAMENTO DE NOSSA SENHORA   \n",
       "281530     NE    BA  LIVRAMENTO DE NOSSA SENHORA   \n",
       "\n",
       "                                                  Revenda  \\\n",
       "0                                AUTO POSTO SAKAMOTO LTDA   \n",
       "1                                AUTO POSTO SAKAMOTO LTDA   \n",
       "2                                AUTO POSTO SAKAMOTO LTDA   \n",
       "3       COMPETRO COMERCIO E DISTRIBUICAO DE DERIVADOS ...   \n",
       "4       COMPETRO COMERCIO E DISTRIBUICAO DE DERIVADOS ...   \n",
       "...                                                   ...   \n",
       "281526                      AUTO POSTO PIRES PEREIRA LTDA   \n",
       "281527                      AUTO POSTO PIRES PEREIRA LTDA   \n",
       "281528                      AUTO POSTO PIRES PEREIRA LTDA   \n",
       "281529                     AUTO POSTO 5 DE FEVEREIRO LTDA   \n",
       "281530                     AUTO POSTO 5 DE FEVEREIRO LTDA   \n",
       "\n",
       "                       CNPJ                             Rua Numero  \\\n",
       "0        49.051.667/0001-02        RODOVIA PRESIDENTE DUTRA    S/N   \n",
       "1        49.051.667/0001-02        RODOVIA PRESIDENTE DUTRA    S/N   \n",
       "2        49.051.667/0001-02        RODOVIA PRESIDENTE DUTRA    S/N   \n",
       "3        00.003.188/0001-21          RUA HUMBERTO DE CAMPOS    306   \n",
       "4        00.003.188/0001-21          RUA HUMBERTO DE CAMPOS    306   \n",
       "...                     ...                             ...    ...   \n",
       "281526   02.253.236/0001-65      AVENIDA LINDEMBERG CARDOSO    667   \n",
       "281527   02.253.236/0001-65      AVENIDA LINDEMBERG CARDOSO    667   \n",
       "281528   02.253.236/0001-65      AVENIDA LINDEMBERG CARDOSO    667   \n",
       "281529   02.125.226/0001-44  PRACA CORONEL ZEZINHO TANAJURA      1   \n",
       "281530   02.125.226/0001-44  PRACA CORONEL ZEZINHO TANAJURA      1   \n",
       "\n",
       "                Complemento          Bairro        Cep   Produto  \\\n",
       "0       KM 210,5-SENT SP/RJ      BONSUCESSO  07178-580  GASOLINA   \n",
       "1       KM 210,5-SENT SP/RJ      BONSUCESSO  07178-580    ETANOL   \n",
       "2       KM 210,5-SENT SP/RJ      BONSUCESSO  07178-580    DIESEL   \n",
       "3                       NaN  JARDIM ZULMIRA  18061-000  GASOLINA   \n",
       "4                       NaN  JARDIM ZULMIRA  18061-000    ETANOL   \n",
       "...                     ...             ...        ...       ...   \n",
       "281526               COMODO         TAQUARI  46140-000  GASOLINA   \n",
       "281527               COMODO         TAQUARI  46140-000    ETANOL   \n",
       "281528               COMODO         TAQUARI  46140-000    DIESEL   \n",
       "281529               COMODO          CENTRO  46140-000    ETANOL   \n",
       "281530               COMODO          CENTRO  46140-000    DIESEL   \n",
       "\n",
       "       Data_da_Coleta Valor_de_Venda Valor_de_Compra Unidade_de_Medida  \\\n",
       "0          11/05/2004          1,967          1,6623        R$ / litro   \n",
       "1          11/05/2004          0,899          0,6282        R$ / litro   \n",
       "2          11/05/2004          1,299          1,1704        R$ / litro   \n",
       "3          10/05/2004           1,85            1,67        R$ / litro   \n",
       "4          10/05/2004           0,78            0,48        R$ / litro   \n",
       "...               ...            ...             ...               ...   \n",
       "281526     28/06/2004            2,2            1,89        R$ / litro   \n",
       "281527     28/06/2004           1,48             NaN        R$ / litro   \n",
       "281528     28/06/2004           1,41            1,32        R$ / litro   \n",
       "281529     28/06/2004           1,49          0,6909        R$ / litro   \n",
       "281530     28/06/2004           1,44           1,255        R$ / litro   \n",
       "\n",
       "                            Bandeira  \n",
       "0       PETROBRAS DISTRIBUIDORA S.A.  \n",
       "1       PETROBRAS DISTRIBUIDORA S.A.  \n",
       "2       PETROBRAS DISTRIBUIDORA S.A.  \n",
       "3                             BRANCA  \n",
       "4                             BRANCA  \n",
       "...                              ...  \n",
       "281526                    PETROBAHIA  \n",
       "281527                    PETROBAHIA  \n",
       "281528                    PETROBAHIA  \n",
       "281529                    PETROBAHIA  \n",
       "281530                    PETROBAHIA  \n",
       "\n",
       "[281531 rows x 16 columns]"
      ]
     },
     "execution_count": 5,
     "metadata": {},
     "output_type": "execute_result"
    }
   ],
   "source": [
    "df"
   ]
  },
  {
   "cell_type": "code",
   "execution_count": 6,
   "id": "219cb3d3",
   "metadata": {},
   "outputs": [],
   "source": [
    "df.dropna(subset=['Valor_de_Compra'], inplace= True)"
   ]
  },
  {
   "cell_type": "code",
   "execution_count": 7,
   "id": "98944f1a",
   "metadata": {},
   "outputs": [],
   "source": [
    "df['Data_da_Coleta'] = pd.to_datetime(df['Data_da_Coleta'], format = ('%d/%m/%Y'))"
   ]
  },
  {
   "cell_type": "code",
   "execution_count": 8,
   "id": "d2b8c313",
   "metadata": {},
   "outputs": [],
   "source": [
    "df['Valor_de_Venda'] = df['Valor_de_Venda'].apply(lambda x: float(x.replace(\".\",\"\").replace(\",\",\".\")))"
   ]
  },
  {
   "cell_type": "code",
   "execution_count": 9,
   "id": "e62202e8",
   "metadata": {},
   "outputs": [],
   "source": [
    "df['Valor_de_Compra'] = df['Valor_de_Compra'].apply(lambda x: float(x.replace(\".\",\"\").replace(\",\",\".\")))"
   ]
  },
  {
   "cell_type": "code",
   "execution_count": 10,
   "id": "6b1e06ba",
   "metadata": {},
   "outputs": [],
   "source": [
    "df['Rua'] = df['Rua'].apply(lambda x: str(x.replace(\"\",\"\").replace(\"'\",\"\")))\n",
    "df['Revenda'] = df['Revenda'].apply(lambda y: str(y.replace(\"\",\"\").replace(\"'\",\"\")))\n",
    "df['Municipio'] = df['Municipio'].apply(lambda b: str(b.replace(\"\",\"\").replace(\"'\",\"\")))\n",
    "df['Bandeira'] = df['Bandeira'].apply(lambda b: str(b.replace(\"\",\"\").replace(\"'\",\"\")))"
   ]
  },
  {
   "cell_type": "code",
   "execution_count": 11,
   "id": "2890b35b",
   "metadata": {},
   "outputs": [
    {
     "name": "stdout",
     "output_type": "stream",
     "text": [
      "Processo de carga dos dados no BD Iniciando!\n",
      "2022-05-02 13:25:38.163332\n"
     ]
    }
   ],
   "source": [
    "print(\"Processo de carga dos dados no BD Iniciando!\")\n",
    "print(datetime.today())"
   ]
  },
  {
   "cell_type": "code",
   "execution_count": 12,
   "id": "d905986e",
   "metadata": {},
   "outputs": [
    {
     "name": "stdout",
     "output_type": "stream",
     "text": [
      "+++ PROCESSO FINALIZADO COM SUCESSO +++\n",
      "2022-05-02 13:25:38.432647\n",
      "\n"
     ]
    }
   ],
   "source": [
    "print(\"+++ PROCESSO FINALIZADO COM SUCESSO +++\")\n",
    "print(datetime.today())\n",
    "print()"
   ]
  },
  {
   "cell_type": "code",
   "execution_count": 13,
   "id": "e022521f",
   "metadata": {},
   "outputs": [
    {
     "name": "stdout",
     "output_type": "stream",
     "text": [
      "Data inicial da coleta:  2004-05-10 00:00:00\n",
      "Data final da coleta:  2004-06-30 00:00:00\n",
      "\n"
     ]
    }
   ],
   "source": [
    "# Extração de dados da entidade Postos\n",
    "print(f\"Data inicial da coleta: \", df['Data_da_Coleta'].min())\n",
    "print(f\"Data final da coleta: \", df['Data_da_Coleta'].max())\n",
    "print()"
   ]
  },
  {
   "cell_type": "code",
   "execution_count": 14,
   "id": "e1fb00c0",
   "metadata": {},
   "outputs": [
    {
     "name": "stdout",
     "output_type": "stream",
     "text": [
      "        Valor_de_Venda\n",
      "Regiao                \n",
      "CO          24695.9710\n",
      "N           17487.7280\n",
      "NE          48192.3670\n",
      "S           49785.2460\n",
      "SE         160863.2145\n",
      "\n"
     ]
    }
   ],
   "source": [
    "# Extração de dados agrupados por Região\n",
    "print(df.groupby(['Regiao']).agg({'Valor_de_Venda':'sum'}))\n",
    "print()"
   ]
  },
  {
   "cell_type": "markdown",
   "id": "a2759b08",
   "metadata": {},
   "source": [
    "# Criação do gráfico de barras"
   ]
  },
  {
   "cell_type": "code",
   "execution_count": 15,
   "id": "a6b0ee17",
   "metadata": {
    "scrolled": false
   },
   "outputs": [
    {
     "data": {
      "text/plain": [
       "Text(0.5, 0.98, 'Categorical Plotting')"
      ]
     },
     "execution_count": 15,
     "metadata": {},
     "output_type": "execute_result"
    },
    {
     "data": {
      "image/png": "[encoded data removed]",
      "text/plain": [
       "<Figure size 648x216 with 3 Axes>"
      ]
     },
     "metadata": {
      "needs_background": "light"
     },
     "output_type": "display_data"
    }
   ],
   "source": [
    "data = {'CO': 24695.97, 'N': 17487.72, 'NE': 48192.36, 'S': 49785.24, 'SE': 160863.21}\n",
    "names = list(data.keys())\n",
    "values = list(data.values())\n",
    "\n",
    "fig, axs = plt.subplots(1, 3, figsize=(9, 3), sharey=True)\n",
    "axs[0].bar(names, values)\n",
    "axs[1].scatter(names, values)\n",
    "axs[2].plot(names, values)\n",
    "fig.suptitle('Categorical Plotting')"
   ]
  },
  {
   "cell_type": "code",
   "execution_count": 16,
   "id": "a6429752",
   "metadata": {
    "scrolled": false
   },
   "outputs": [
    {
     "data": {
      "image/png": "[encoded data removed]",
      "text/plain": [
       "<Figure size 432x288 with 1 Axes>"
      ]
     },
     "metadata": {},
     "output_type": "display_data"
    }
   ],
   "source": [
    "# Pie chart, where the slices will be ordered and plotted counter-clockwise:\n",
    "labels = 'CO', 'N', 'NE', 'S','SE'\n",
    "sizes = [24695.97, 17487.72, 48192.36, 49785.24, 160863.21]\n",
    "explode = (0.1, 0.1, 0.1, 0.1, 0.1)  \n",
    "\n",
    "fig1, ax1 = plt.subplots()\n",
    "ax1.pie(sizes, explode=explode, labels=labels, autopct='%1.1f%%',\n",
    "        shadow=True, startangle=90)\n",
    "ax1.axis('equal')  # Equal aspect ratio ensures that pie is drawn as a circle.\n",
    "\n",
    "plt.show()"
   ]
  },
  {
   "cell_type": "code",
   "execution_count": 17,
   "id": "67a33cf9",
   "metadata": {},
   "outputs": [
    {
     "data": {
      "text/plain": [
       "301024.5264999999"
      ]
     },
     "execution_count": 17,
     "metadata": {},
     "output_type": "execute_result"
    }
   ],
   "source": [
    "df['Valor_de_Venda'].sum()"
   ]
  },
  {
   "cell_type": "code",
   "execution_count": 18,
   "id": "ecd7c965",
   "metadata": {},
   "outputs": [
    {
     "data": {
      "text/plain": [
       "252839.62179999996"
      ]
     },
     "execution_count": 18,
     "metadata": {},
     "output_type": "execute_result"
    }
   ],
   "source": [
    "df['Valor_de_Compra'].sum()"
   ]
  },
  {
   "cell_type": "code",
   "execution_count": 19,
   "id": "af2b88d0",
   "metadata": {},
   "outputs": [
    {
     "name": "stdout",
     "output_type": "stream",
     "text": [
      "48184.904699999955\n"
     ]
    }
   ],
   "source": [
    "print(df['Valor_de_Venda'].sum() - df['Valor_de_Compra'].sum())"
   ]
  }
 ],
 "metadata": {
  "kernelspec": {
   "display_name": "Python 3 (ipykernel)",
   "language": "python",
   "name": "python3"
  },
  "language_info": {
   "codemirror_mode": {
    "name": "ipython",
    "version": 3
   },
   "file_extension": ".py",
   "mimetype": "text/x-python",
   "name": "python",
   "nbconvert_exporter": "python",
   "pygments_lexer": "ipython3",
   "version": "3.9.7"
  }
 },
 "nbformat": 4,
 "nbformat_minor": 5
}
