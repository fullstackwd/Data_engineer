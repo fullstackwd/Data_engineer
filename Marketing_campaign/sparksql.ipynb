{
  "nbformat": 4,
  "nbformat_minor": 0,
  "metadata": {
    "colab": {
      "name": "sparksql.ipynb",
      "provenance": [],
      "collapsed_sections": []
    },
    "kernelspec": {
      "name": "python3",
      "display_name": "Python 3"
    },
    "language_info": {
      "name": "python"
    }
  },
  "cells": [
    {
      "cell_type": "markdown",
      "source": [
        "# **Nivel SparkSQL**"
      ],
      "metadata": {
        "id": "afLATU1TjXDZ"
      }
    },
    {
      "cell_type": "markdown",
      "source": [
        "**Instalação do PySpark**"
      ],
      "metadata": {
        "id": "lkoICl4EjWpI"
      }
    },
    {
      "cell_type": "code",
      "execution_count": 1,
      "metadata": {
        "colab": {
          "base_uri": "https://localhost:8080/"
        },
        "id": "6mv6qqOf1mjo",
        "outputId": "8cfce68d-3fa3-47f3-c476-8d72e2a8fb22"
      },
      "outputs": [
        {
          "output_type": "stream",
          "name": "stdout",
          "text": [
            "Looking in indexes: https://pypi.org/simple, https://us-python.pkg.dev/colab-wheels/public/simple/\n",
            "Requirement already satisfied: pyspark in /usr/local/lib/python3.7/dist-packages (3.2.1)\n",
            "Requirement already satisfied: py4j==0.10.9.3 in /usr/local/lib/python3.7/dist-packages (from pyspark) (0.10.9.3)\n"
          ]
        }
      ],
      "source": [
        "pip install pyspark"
      ]
    },
    {
      "cell_type": "code",
      "source": [
        "pip install gcsfs"
      ],
      "metadata": {
        "colab": {
          "base_uri": "https://localhost:8080/"
        },
        "id": "HQVxcN8qlaX3",
        "outputId": "5817ede3-43e6-40e0-fd3e-15a89c20af56"
      },
      "execution_count": 2,
      "outputs": [
        {
          "output_type": "stream",
          "name": "stdout",
          "text": [
            "Looking in indexes: https://pypi.org/simple, https://us-python.pkg.dev/colab-wheels/public/simple/\n",
            "Requirement already satisfied: gcsfs in /usr/local/lib/python3.7/dist-packages (2022.5.0)\n",
            "Requirement already satisfied: google-auth-oauthlib in /usr/local/lib/python3.7/dist-packages (from gcsfs) (0.4.6)\n",
            "Requirement already satisfied: google-auth>=1.2 in /usr/local/lib/python3.7/dist-packages (from gcsfs) (1.35.0)\n",
            "Requirement already satisfied: requests in /usr/local/lib/python3.7/dist-packages (from gcsfs) (2.23.0)\n",
            "Requirement already satisfied: google-cloud-storage in /usr/local/lib/python3.7/dist-packages (from gcsfs) (1.18.1)\n",
            "Requirement already satisfied: fsspec==2022.5.0 in /usr/local/lib/python3.7/dist-packages (from gcsfs) (2022.5.0)\n",
            "Requirement already satisfied: aiohttp<4 in /usr/local/lib/python3.7/dist-packages (from gcsfs) (3.8.1)\n",
            "Requirement already satisfied: decorator>4.1.2 in /usr/local/lib/python3.7/dist-packages (from gcsfs) (4.4.2)\n",
            "Requirement already satisfied: attrs>=17.3.0 in /usr/local/lib/python3.7/dist-packages (from aiohttp<4->gcsfs) (21.4.0)\n",
            "Requirement already satisfied: typing-extensions>=3.7.4 in /usr/local/lib/python3.7/dist-packages (from aiohttp<4->gcsfs) (4.2.0)\n",
            "Requirement already satisfied: charset-normalizer<3.0,>=2.0 in /usr/local/lib/python3.7/dist-packages (from aiohttp<4->gcsfs) (2.0.12)\n",
            "Requirement already satisfied: yarl<2.0,>=1.0 in /usr/local/lib/python3.7/dist-packages (from aiohttp<4->gcsfs) (1.7.2)\n",
            "Requirement already satisfied: multidict<7.0,>=4.5 in /usr/local/lib/python3.7/dist-packages (from aiohttp<4->gcsfs) (6.0.2)\n",
            "Requirement already satisfied: async-timeout<5.0,>=4.0.0a3 in /usr/local/lib/python3.7/dist-packages (from aiohttp<4->gcsfs) (4.0.2)\n",
            "Requirement already satisfied: aiosignal>=1.1.2 in /usr/local/lib/python3.7/dist-packages (from aiohttp<4->gcsfs) (1.2.0)\n",
            "Requirement already satisfied: asynctest==0.13.0 in /usr/local/lib/python3.7/dist-packages (from aiohttp<4->gcsfs) (0.13.0)\n",
            "Requirement already satisfied: frozenlist>=1.1.1 in /usr/local/lib/python3.7/dist-packages (from aiohttp<4->gcsfs) (1.3.0)\n",
            "Requirement already satisfied: six>=1.9.0 in /usr/local/lib/python3.7/dist-packages (from google-auth>=1.2->gcsfs) (1.15.0)\n",
            "Requirement already satisfied: cachetools<5.0,>=2.0.0 in /usr/local/lib/python3.7/dist-packages (from google-auth>=1.2->gcsfs) (4.2.4)\n",
            "Requirement already satisfied: setuptools>=40.3.0 in /usr/local/lib/python3.7/dist-packages (from google-auth>=1.2->gcsfs) (57.4.0)\n",
            "Requirement already satisfied: rsa<5,>=3.1.4 in /usr/local/lib/python3.7/dist-packages (from google-auth>=1.2->gcsfs) (4.8)\n",
            "Requirement already satisfied: pyasn1-modules>=0.2.1 in /usr/local/lib/python3.7/dist-packages (from google-auth>=1.2->gcsfs) (0.2.8)\n",
            "Requirement already satisfied: pyasn1<0.5.0,>=0.4.6 in /usr/local/lib/python3.7/dist-packages (from pyasn1-modules>=0.2.1->google-auth>=1.2->gcsfs) (0.4.8)\n",
            "Requirement already satisfied: idna>=2.0 in /usr/local/lib/python3.7/dist-packages (from yarl<2.0,>=1.0->aiohttp<4->gcsfs) (2.10)\n",
            "Requirement already satisfied: requests-oauthlib>=0.7.0 in /usr/local/lib/python3.7/dist-packages (from google-auth-oauthlib->gcsfs) (1.3.1)\n",
            "Requirement already satisfied: oauthlib>=3.0.0 in /usr/local/lib/python3.7/dist-packages (from requests-oauthlib>=0.7.0->google-auth-oauthlib->gcsfs) (3.2.0)\n",
            "Requirement already satisfied: certifi>=2017.4.17 in /usr/local/lib/python3.7/dist-packages (from requests->gcsfs) (2022.5.18.1)\n",
            "Requirement already satisfied: urllib3!=1.25.0,!=1.25.1,<1.26,>=1.21.1 in /usr/local/lib/python3.7/dist-packages (from requests->gcsfs) (1.24.3)\n",
            "Requirement already satisfied: chardet<4,>=3.0.2 in /usr/local/lib/python3.7/dist-packages (from requests->gcsfs) (3.0.4)\n",
            "Requirement already satisfied: google-resumable-media<0.5.0dev,>=0.3.1 in /usr/local/lib/python3.7/dist-packages (from google-cloud-storage->gcsfs) (0.4.1)\n",
            "Requirement already satisfied: google-cloud-core<2.0dev,>=1.0.0 in /usr/local/lib/python3.7/dist-packages (from google-cloud-storage->gcsfs) (1.0.3)\n",
            "Requirement already satisfied: google-api-core<2.0.0dev,>=1.14.0 in /usr/local/lib/python3.7/dist-packages (from google-cloud-core<2.0dev,>=1.0.0->google-cloud-storage->gcsfs) (1.31.5)\n",
            "Requirement already satisfied: pytz in /usr/local/lib/python3.7/dist-packages (from google-api-core<2.0.0dev,>=1.14.0->google-cloud-core<2.0dev,>=1.0.0->google-cloud-storage->gcsfs) (2022.1)\n",
            "Requirement already satisfied: protobuf>=3.12.0 in /usr/local/lib/python3.7/dist-packages (from google-api-core<2.0.0dev,>=1.14.0->google-cloud-core<2.0dev,>=1.0.0->google-cloud-storage->gcsfs) (3.17.3)\n",
            "Requirement already satisfied: packaging>=14.3 in /usr/local/lib/python3.7/dist-packages (from google-api-core<2.0.0dev,>=1.14.0->google-cloud-core<2.0dev,>=1.0.0->google-cloud-storage->gcsfs) (21.3)\n",
            "Requirement already satisfied: googleapis-common-protos<2.0dev,>=1.6.0 in /usr/local/lib/python3.7/dist-packages (from google-api-core<2.0.0dev,>=1.14.0->google-cloud-core<2.0dev,>=1.0.0->google-cloud-storage->gcsfs) (1.56.1)\n",
            "Requirement already satisfied: pyparsing!=3.0.5,>=2.0.2 in /usr/local/lib/python3.7/dist-packages (from packaging>=14.3->google-api-core<2.0.0dev,>=1.14.0->google-cloud-core<2.0dev,>=1.0.0->google-cloud-storage->gcsfs) (3.0.9)\n"
          ]
        }
      ]
    },
    {
      "cell_type": "markdown",
      "source": [
        "**Importação de biliotecas**"
      ],
      "metadata": {
        "id": "NEf7srfJj92s"
      }
    },
    {
      "cell_type": "code",
      "source": [
        "# CHAMAR AS BIBLIOTECAS e MÓDULOS NECESSÁRIAS\n",
        "\n",
        "from pyspark import SparkConf\n",
        "from google.colab import drive\n",
        "from google.cloud import storage\n",
        "from pyspark.sql import SparkSession\n",
        "import os\n",
        "import csv\n",
        "import pyspark.sql.functions as F\n",
        "from pyspark.sql.functions import *\n",
        "from pyspark.sql import SparkSession\n",
        "from pyspark.sql.window import Window\n",
        "from pyspark.sql.types import StructType, StructField, StringType, IntegerType, DateType, FloatType, DoubleType"
      ],
      "metadata": {
        "id": "skevw9Mb197z"
      },
      "execution_count": 3,
      "outputs": []
    },
    {
      "cell_type": "code",
      "source": [
        "drive.mount('/content/drive')"
      ],
      "metadata": {
        "colab": {
          "base_uri": "https://localhost:8080/"
        },
        "id": "65phGKuamBmb",
        "outputId": "36619cba-a01d-44c5-f43f-5973657daa72"
      },
      "execution_count": 4,
      "outputs": [
        {
          "output_type": "stream",
          "name": "stdout",
          "text": [
            "Drive already mounted at /content/drive; to attempt to forcibly remount, call drive.mount(\"/content/drive\", force_remount=True).\n"
          ]
        }
      ]
    },
    {
      "cell_type": "markdown",
      "source": [
        "### **Configuração de Acesso para os GCP**"
      ],
      "metadata": {
        "id": "LPlPxx0_mJnB"
      }
    },
    {
      "cell_type": "code",
      "source": [
        "# CONFIGURAÇÃO DA CHAVE DE SEGURANÇA\n",
        "\n",
        "serviceAccount = '/content/weighty-archive-349117-ab0ee1ad5b41.json'\n",
        "\n",
        "os.environ['GOOGLE_APPLICATION_CREDENTIALS'] = serviceAccount"
      ],
      "metadata": {
        "id": "lwtJ72FhmFlm"
      },
      "execution_count": 5,
      "outputs": []
    },
    {
      "cell_type": "code",
      "source": [
        "# CÓDIGO QUE ACESSA A BUCKET CRIADA E FAZ O DOWNLOAD DOS ARQUIVOS VIA PANDAS\n",
        "\n",
        "client = storage.Client()\n",
        "\n",
        "# CRIAR UMA VARIÁVEL CHAMADA BUCKET QUE VAI RECEBER O NOME DA BUCKET DO CLOUD STORAGE\n",
        "bucket = client.get_bucket('soulcodemarketing')\n",
        "\n",
        "# USAR O MÉTODO BLOB PARA RETORNAR O NOME DO ARQUIVO (JSON, CSV, PARQUET)\n",
        "bucket.blob('marketing_campaign.csv')\n",
        "\n",
        " #CRIA UMA VARIÁVEL PATH PARA COLOCAR O CAMINHO DO CSV\n",
        "path = 'gs://soulcodemarketing/marketing_campaign.csv'"
      ],
      "metadata": {
        "id": "-s0iG7YmmP_7"
      },
      "execution_count": 6,
      "outputs": []
    },
    {
      "cell_type": "markdown",
      "source": [
        "**Conecção com o Apache-Spark**"
      ],
      "metadata": {
        "id": "2RANp_GJkFWg"
      }
    },
    {
      "cell_type": "code",
      "source": [
        "# CRIAR A SPARK SESSION E LER O ARQUIVO VIA PYSPARK\n",
        "\n",
        "spark = (SparkSession.builder\\\n",
        "        .master(\"local\")\\\n",
        "        .appName(\"mkt_dfsql\")\\\n",
        "        .config(\"spark.ui.port\", \"4050\")\\\n",
        "        .config(\"spark.jars\", 'https://storage.googleapis.com/hadoop-lib/gcs/gcs-connector-hadoop2-latest.jar')\\\n",
        "        .getOrCreate())"
      ],
      "metadata": {
        "id": "9KvI6Rxd2Iqi"
      },
      "execution_count": 7,
      "outputs": []
    },
    {
      "cell_type": "code",
      "source": [
        "spark  # Verifica a conecção"
      ],
      "metadata": {
        "colab": {
          "base_uri": "https://localhost:8080/",
          "height": 219
        },
        "id": "Ccp_Ra1TmaWZ",
        "outputId": "4fd94e81-9d75-4f19-83c6-e0d70d0f6618"
      },
      "execution_count": 8,
      "outputs": [
        {
          "output_type": "execute_result",
          "data": {
            "text/plain": [
              "<pyspark.sql.session.SparkSession at 0x7ff489a24690>"
            ],
            "text/html": [
              "\n",
              "            <div>\n",
              "                <p><b>SparkSession - in-memory</b></p>\n",
              "                \n",
              "        <div>\n",
              "            <p><b>SparkContext</b></p>\n",
              "\n",
              "            <p><a href=\"http://598f528663db:4050\">Spark UI</a></p>\n",
              "\n",
              "            <dl>\n",
              "              <dt>Version</dt>\n",
              "                <dd><code>v3.2.1</code></dd>\n",
              "              <dt>Master</dt>\n",
              "                <dd><code>local</code></dd>\n",
              "              <dt>AppName</dt>\n",
              "                <dd><code>mkt_dfsql</code></dd>\n",
              "            </dl>\n",
              "        </div>\n",
              "        \n",
              "            </div>\n",
              "        "
            ]
          },
          "metadata": {},
          "execution_count": 8
        }
      ]
    },
    {
      "cell_type": "markdown",
      "source": [
        "**Carrega dados do arquivo - df_pd_marketing_campaign.csv**"
      ],
      "metadata": {
        "id": "EjwLrhZLkchq"
      }
    },
    {
      "cell_type": "code",
      "source": [
        "df = (spark\n",
        "      .read\n",
        "      .format(\"csv\")\n",
        "      .option(\"header\", \"true\")\n",
        "      .option(\"inferschema\", \"true\")\n",
        "      .option(\"delimiter\", \",\")\n",
        "      .load('/content/df_pd_marketing_campaign.csv')\n",
        "      #.load(path)\n",
        "      .createOrReplaceTempView(\"marketing\"))"
      ],
      "metadata": {
        "id": "GdI15WSG2Kky"
      },
      "execution_count": 20,
      "outputs": []
    },
    {
      "cell_type": "markdown",
      "source": [
        "**1 - Imprime a tabela na tela 10 linhas.**"
      ],
      "metadata": {
        "id": "_7JR12CXk7nw"
      }
    },
    {
      "cell_type": "code",
      "source": [
        "spark.sql('''SELECT * FROM marketing''').show()"
      ],
      "metadata": {
        "colab": {
          "base_uri": "https://localhost:8080/"
        },
        "id": "DNS41nLE7POB",
        "outputId": "9ab17efe-e5c4-4a3b-b89b-530b5098781f"
      },
      "execution_count": 29,
      "outputs": [
        {
          "output_type": "stream",
          "name": "stdout",
          "text": [
            "+---+----+--------------+------------------+-------------+-----------------+-----------+---------------+--------------------+----------------------+----------+----------+---------+---------+----------+-----------------+------------------+------------------+--------------------+-------------------+----------------------+--------------+--------------+--------------+--------------+--------------+----------+----------------+-------+--------+\n",
            "|_c0|  id|ano_nascimento|          educacao| estado_civil|      renda_anual|qtd_crianca|qtd_adolescente|primeira_data_compra|dias_desde_ult_compras|qtd_vinhos|qtd_frutas|qtd_carne|qtd_peixe|guloseimas|qtd_produtos_gold|qtd_ofertas_compra|qtd_compras_online|qtd_compras_catalogo|qtd_compras_na_loja|qtd_visitas_online_mes|oferta_aceita1|oferta_aceita2|oferta_aceita3|oferta_aceita4|oferta_aceita5|reclamacao|contato_de_custo|receita|resposta|\n",
            "+---+----+--------------+------------------+-------------+-----------------+-----------+---------------+--------------------+----------------------+----------+----------+---------+---------+----------+-----------------+------------------+------------------+--------------------+-------------------+----------------------+--------------+--------------+--------------+--------------+--------------+----------+----------------+-------+--------+\n",
            "|  0|5524|          1957|          Graduado|     Solteiro|          58138.0|          0|              0|          2012-09-04|                    58|       635|        88|      546|      172|        88|               88|                 3|                 8|                  10|                  4|                     7|           nao|           nao|           nao|           nao|           nao|       nao|               3|     11|     sim|\n",
            "|  1|2174|          1954|          Graduado|     Solteiro|          46344.0|          1|              1|          2014-03-08|                    38|        11|         1|        6|        2|         1|                6|                 2|                 1|                   1|                  2|                     5|           nao|           nao|           nao|           nao|           nao|       nao|               3|     11|     nao|\n",
            "|  2|4141|          1965|          Graduado|Uniao_estavel|          71613.0|          0|              0|          2013-08-21|                    26|       426|        49|      127|      111|        21|               42|                 1|                 8|                   2|                 10|                     4|           nao|           nao|           nao|           nao|           nao|       nao|               3|     11|     nao|\n",
            "|  3|6182|          1984|          Graduado|Uniao_estavel|          26646.0|          1|              0|          2014-02-10|                    26|        11|         4|       20|       10|         3|                5|                 2|                 2|                   0|                  4|                     6|           nao|           nao|           nao|           nao|           nao|       nao|               3|     11|     nao|\n",
            "|  4|5324|          1981|         Doutorado|       Casado|          58293.0|          1|              0|          2014-01-19|                    94|       173|        43|      118|       46|        27|               15|                 5|                 5|                   3|                  6|                     5|           nao|           nao|           nao|           nao|           nao|       nao|               3|     11|     nao|\n",
            "|  5|7446|          1967|          Mestrado|Uniao_estavel|          62513.0|          0|              1|          2013-09-09|                    16|       520|        42|       98|        0|        42|               14|                 2|                 6|                   4|                 10|                     6|           nao|           nao|           nao|           nao|           nao|       nao|               3|     11|     nao|\n",
            "|  6| 965|          1971|          Graduado|   Divorciado|          55635.0|          0|              1|          2012-11-13|                    34|       235|        65|      164|       50|        49|               27|                 4|                 7|                   3|                  7|                     6|           nao|           nao|           nao|           nao|           nao|       nao|               3|     11|     nao|\n",
            "|  7|6177|          1985|         Doutorado|       Casado|          33454.0|          1|              0|          2013-05-08|                    32|        76|        10|       56|        3|         1|               23|                 2|                 4|                   0|                  4|                     8|           nao|           nao|           nao|           nao|           nao|       nao|               3|     11|     nao|\n",
            "|  8|4855|          1974|         Doutorado|Uniao_estavel|          30351.0|          1|              0|          2013-06-06|                    19|        14|         0|       24|        3|         3|                2|                 1|                 3|                   0|                  2|                     9|           nao|           nao|           nao|           nao|           nao|       nao|               3|     11|     sim|\n",
            "|  9|5899|          1950|         Doutorado|Uniao_estavel|           5648.0|          1|              1|          2014-03-13|                    68|        28|         0|        6|        1|         1|               13|                 1|                 1|                   0|                  0|                    20|           sim|           nao|           nao|           nao|           nao|       nao|               3|     11|     nao|\n",
            "| 10|1994|          1983|          Graduado|       Casado|52247.25135379061|          1|              0|          2013-11-15|                    11|         5|         5|        6|        0|         2|                1|                 1|                 1|                   0|                  2|                     7|           nao|           nao|           nao|           nao|           nao|       nao|               3|     11|     nao|\n",
            "| 11| 387|          1976|Ensino_fundamental|       Casado|           7500.0|          0|              0|          2012-11-13|                    59|         6|        16|       11|       11|         1|               16|                 1|                 2|                   0|                  3|                     8|           nao|           nao|           nao|           nao|           nao|       nao|               3|     11|     nao|\n",
            "| 12|2125|          1959|          Graduado|   Divorciado|          63033.0|          0|              0|          2013-11-15|                    82|       194|        61|      480|      225|       112|               30|                 1|                 3|                   4|                  8|                     2|           nao|           nao|           nao|           nao|           nao|       nao|               3|     11|     nao|\n",
            "| 13|8180|          1952|          Mestrado|   Divorciado|          59354.0|          1|              1|          2013-11-15|                    53|       233|         2|       53|        3|         5|               14|                 3|                 6|                   1|                  5|                     6|           nao|           nao|           nao|           nao|           nao|       nao|               3|     11|     nao|\n",
            "| 14|2569|          1987|          Graduado|       Casado|          17323.0|          0|              0|          2012-10-10|                    38|         3|        14|       17|        6|         1|                5|                 1|                 1|                   0|                  3|                     8|           nao|           nao|           nao|           nao|           nao|       nao|               3|     11|     nao|\n",
            "| 15|2114|          1946|         Doutorado|     Solteiro|          82800.0|          0|              0|          2012-11-24|                    23|      1006|        22|      115|       59|        68|               45|                 1|                 7|                   6|                 12|                     3|           nao|           nao|           sim|           sim|           nao|       nao|               3|     11|     sim|\n",
            "| 16|9736|          1980|          Graduado|       Casado|          41850.0|          1|              1|          2012-12-24|                    51|        53|         5|       19|        2|        13|                4|                 3|                 3|                   0|                  3|                     8|           nao|           nao|           nao|           nao|           nao|       nao|               3|     11|     nao|\n",
            "| 17|4939|          1946|          Graduado|Uniao_estavel|          37760.0|          0|              0|          2012-08-31|                    20|        84|         5|       38|      150|        12|               28|                 2|                 4|                   1|                  6|                     7|           nao|           nao|           nao|           nao|           nao|       nao|               3|     11|     nao|\n",
            "| 18|6565|          1949|          Mestrado|       Casado|          76995.0|          0|              1|          2013-03-28|                    91|      1012|        80|      498|        0|        16|              176|                 2|                11|                   4|                  9|                     5|           nao|           nao|           nao|           sim|           nao|       nao|               3|     11|     nao|\n",
            "| 19|2278|          1985|         Mestrando|     Solteiro|          33812.0|          1|              0|          2012-11-03|                    86|         4|        17|       19|       30|        24|               39|                 2|                 2|                   1|                  3|                     6|           nao|           nao|           nao|           nao|           nao|       nao|               3|     11|     nao|\n",
            "+---+----+--------------+------------------+-------------+-----------------+-----------+---------------+--------------------+----------------------+----------+----------+---------+---------+----------+-----------------+------------------+------------------+--------------------+-------------------+----------------------+--------------+--------------+--------------+--------------+--------------+----------+----------------+-------+--------+\n",
            "only showing top 20 rows\n",
            "\n"
          ]
        }
      ]
    },
    {
      "cell_type": "markdown",
      "source": [
        "**2 - Imprime os indexes da tabela.**"
      ],
      "metadata": {
        "id": "TXZPNO6Slu87"
      }
    },
    {
      "cell_type": "code",
      "source": [
        "spark.sql('''DESCRIBE marketing''').show()"
      ],
      "metadata": {
        "colab": {
          "base_uri": "https://localhost:8080/"
        },
        "id": "cKEDrmFQ7cCV",
        "outputId": "d69351d2-0843-49f0-d756-2ebdea6852ca"
      },
      "execution_count": 17,
      "outputs": [
        {
          "output_type": "stream",
          "name": "stdout",
          "text": [
            "+----------+---------+-------+\n",
            "|  col_name|data_type|comment|\n",
            "+----------+---------+-------+\n",
            "|        00|      int|   null|\n",
            "|      5524|      int|   null|\n",
            "|      1957|      int|   null|\n",
            "|  Graduado|   string|   null|\n",
            "|  Solteiro|   string|   null|\n",
            "|   58138.0|   double|   null|\n",
            "|        06|      int|   null|\n",
            "|        07|      int|   null|\n",
            "|2012-09-04|   string|   null|\n",
            "|        58|      int|   null|\n",
            "|       635|      int|   null|\n",
            "|      8811|      int|   null|\n",
            "|       546|      int|   null|\n",
            "|       172|      int|   null|\n",
            "|      8814|      int|   null|\n",
            "|      8815|      int|   null|\n",
            "|         3|      int|   null|\n",
            "|         8|      int|   null|\n",
            "|        10|      int|   null|\n",
            "|         4|      int|   null|\n",
            "+----------+---------+-------+\n",
            "only showing top 20 rows\n",
            "\n"
          ]
        }
      ]
    },
    {
      "cell_type": "markdown",
      "source": [
        "**3 - Seleção da renda anual e perfil de compras com base nos dados socio-economicos**"
      ],
      "metadata": {
        "id": "UGevcBSvolUu"
      }
    },
    {
      "cell_type": "code",
      "source": [
        "spark.sql('''\n",
        "            SELECT id, renda_anual,  qtd_compras_online, educacao, estado_civil, dias_desde_ult_compras, qtd_visitas_online_mes\n",
        "            FROM marketing\n",
        "            ORDER BY renda_anual DESC;\n",
        "          ''').show()"
      ],
      "metadata": {
        "colab": {
          "base_uri": "https://localhost:8080/"
        },
        "id": "QtXZ93KO7rBu",
        "outputId": "34683aec-c409-4e90-f496-db747cce69ae"
      },
      "execution_count": 22,
      "outputs": [
        {
          "output_type": "stream",
          "name": "stdout",
          "text": [
            "+-----+-----------+------------------+---------+-------------+----------------------+----------------------+\n",
            "|   id|renda_anual|qtd_compras_online| educacao| estado_civil|dias_desde_ult_compras|qtd_visitas_online_mes|\n",
            "+-----+-----------+------------------+---------+-------------+----------------------+----------------------+\n",
            "| 9432|   666666.0|                 3| Graduado|Uniao_estavel|                    23|                     6|\n",
            "| 1503|   162397.0|                 0|Doutorado|Uniao_estavel|                    31|                     1|\n",
            "| 1501|   160803.0|                 0|Doutorado|       Casado|                    21|                     0|\n",
            "| 5336|   157733.0|                 1| Mestrado|Uniao_estavel|                    37|                     1|\n",
            "| 8475|   157243.0|                 0|Doutorado|       Casado|                    98|                     0|\n",
            "| 4931|   157146.0|                 0| Graduado|Uniao_estavel|                    13|                     1|\n",
            "|11181|   156924.0|                 0|Doutorado|       Casado|                    85|                     0|\n",
            "| 5555|   153924.0|                 0| Graduado|   Divorciado|                    81|                     0|\n",
            "| 4619|   113734.0|                27|Doutorado|     Solteiro|                     9|                     1|\n",
            "| 4611|   105471.0|                 9| Graduado|Uniao_estavel|                    36|                     3|\n",
            "|10089|   102692.0|                 6| Graduado|   Divorciado|                     5|                     2|\n",
            "| 2798|   102160.0|                 7|Doutorado|Uniao_estavel|                    54|                     4|\n",
            "| 7215|   101970.0|                 6| Graduado|     Solteiro|                    69|                     2|\n",
            "| 4248|    98777.0|                 4| Mestrado|     Solteiro|                    23|                     1|\n",
            "| 7451|    98777.0|                 4| Mestrado|     Solteiro|                    23|                     1|\n",
            "|  500|    96876.0|                 7| Graduado|Uniao_estavel|                    79|                     2|\n",
            "| 2109|    96843.0|                 6| Graduado|     Solteiro|                    60|                     2|\n",
            "| 6815|    96547.0|                 7|Mestrando|       Casado|                     4|                     2|\n",
            "|10619|    95529.0|                 7| Graduado|     Solteiro|                    29|                     3|\n",
            "| 7962|    95169.0|                 4|Doutorado|     Solteiro|                     1|                     1|\n",
            "+-----+-----------+------------------+---------+-------------+----------------------+----------------------+\n",
            "only showing top 20 rows\n",
            "\n"
          ]
        }
      ]
    },
    {
      "cell_type": "markdown",
      "source": [
        "**4 - Estudo com criterio de quantdade de compras, renda anual e dias desde da ultima compra.**"
      ],
      "metadata": {
        "id": "3l-KIdMJqRyB"
      }
    },
    {
      "cell_type": "code",
      "source": [
        "spark.sql('''\n",
        "            SELECT id, qtd_compras_online, renda_anual, dias_desde_ult_compras\n",
        "            FROM marketing\n",
        "            ORDER BY qtd_compras_online DESC;\n",
        "          ''').show(10)"
      ],
      "metadata": {
        "colab": {
          "base_uri": "https://localhost:8080/"
        },
        "id": "4_mA5mWqqSRT",
        "outputId": "61ec8e70-d3dd-46c2-a28d-a1b79820fe26"
      },
      "execution_count": 23,
      "outputs": [
        {
          "output_type": "stream",
          "name": "stdout",
          "text": [
            "+-----+------------------+-----------------+----------------------+\n",
            "|   id|qtd_compras_online|      renda_anual|dias_desde_ult_compras|\n",
            "+-----+------------------+-----------------+----------------------+\n",
            "| 5255|                27|52247.25135379061|                    19|\n",
            "| 4619|                27|         113734.0|                     9|\n",
            "|10311|                25|           4428.0|                     0|\n",
            "| 6237|                23|           7144.0|                    92|\n",
            "| 8931|                11|          83033.0|                    82|\n",
            "| 7030|                11|          66465.0|                     1|\n",
            "| 9365|                11|          60000.0|                    57|\n",
            "| 6439|                11|          61074.0|                    37|\n",
            "| 4299|                11|          70971.0|                    28|\n",
            "| 7381|                11|          75693.0|                    10|\n",
            "+-----+------------------+-----------------+----------------------+\n",
            "only showing top 10 rows\n",
            "\n"
          ]
        }
      ]
    },
    {
      "cell_type": "markdown",
      "source": [
        "**5 -  Estudo com critério do maior numero de dias sem comprar.**"
      ],
      "metadata": {
        "id": "Qj6e059NtreU"
      }
    },
    {
      "cell_type": "code",
      "source": [
        "spark.sql('''\n",
        "            SELECT id, dias_desde_ult_compras, qtd_compras_online, renda_anual \n",
        "            FROM marketing\n",
        "            ORDER BY dias_desde_ult_compras DESC;\n",
        "          ''').show()"
      ],
      "metadata": {
        "colab": {
          "base_uri": "https://localhost:8080/"
        },
        "id": "u7AblcCFtsGu",
        "outputId": "21798191-ce4d-4672-ed67-96ebe26df0be"
      },
      "execution_count": 24,
      "outputs": [
        {
          "output_type": "stream",
          "name": "stdout",
          "text": [
            "+-----+----------------------+------------------+-----------+\n",
            "|   id|dias_desde_ult_compras|qtd_compras_online|renda_anual|\n",
            "+-----+----------------------+------------------+-----------+\n",
            "|  868|                    99|                 2|    44794.0|\n",
            "| 7829|                    99|                 2|    36640.0|\n",
            "| 7232|                    99|                 1|    42429.0|\n",
            "|10142|                    99|                 5|    66476.0|\n",
            "| 9977|                    99|                 9|    78901.0|\n",
            "| 8595|                    99|                 1|    42429.0|\n",
            "| 7947|                    99|                 1|    42231.0|\n",
            "| 5263|                    99|                 1|    31056.0|\n",
            "| 3363|                    99|                 1|    20130.0|\n",
            "| 4070|                    99|                 8|    94871.0|\n",
            "| 2831|                    99|                 7|    78416.0|\n",
            "| 2415|                    99|                 5|    62568.0|\n",
            "| 1743|                    99|                 2|    69719.0|\n",
            "| 7212|                    99|                 2|    44794.0|\n",
            "| 2106|                    99|                 1|    20130.0|\n",
            "|  528|                    99|                 5|    65819.0|\n",
            "|   22|                    99|                 6|    46310.0|\n",
            "| 2320|                    98|                11|    47025.0|\n",
            "|  213|                    98|                 2|    23091.0|\n",
            "| 6722|                    98|                10|    70421.0|\n",
            "+-----+----------------------+------------------+-----------+\n",
            "only showing top 20 rows\n",
            "\n"
          ]
        }
      ]
    }
  ]
}