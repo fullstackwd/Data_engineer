{
  "nbformat": 4,
  "nbformat_minor": 0,
  "metadata": {
    "colab": {
      "name": "pyspark_mkt.ipynb",
      "provenance": [],
      "collapsed_sections": []
    },
    "kernelspec": {
      "name": "python3",
      "display_name": "Python 3"
    },
    "language_info": {
      "name": "python"
    }
  },
  "cells": [
    {
      "cell_type": "markdown",
      "source": [
        "## **Nivel PySpark**"
      ],
      "metadata": {
        "id": "XEJpcdWj5LUg"
      }
    },
    {
      "cell_type": "markdown",
      "source": [
        "**Instalação do PySpark**"
      ],
      "metadata": {
        "id": "W3lst7hfM59E"
      }
    },
    {
      "cell_type": "code",
      "execution_count": 1,
      "metadata": {
        "id": "o-wqWZDF4zM1",
        "colab": {
          "base_uri": "https://localhost:8080/"
        },
        "outputId": "dcc2ad3d-7100-49ac-9250-5f7fa318f7f9"
      },
      "outputs": [
        {
          "output_type": "stream",
          "name": "stdout",
          "text": [
            "Looking in indexes: https://pypi.org/simple, https://us-python.pkg.dev/colab-wheels/public/simple/\n",
            "Collecting pyspark\n",
            "  Downloading pyspark-3.2.1.tar.gz (281.4 MB)\n",
            "\u001b[K     |████████████████████████████████| 281.4 MB 34 kB/s \n",
            "\u001b[?25hCollecting py4j==0.10.9.3\n",
            "  Downloading py4j-0.10.9.3-py2.py3-none-any.whl (198 kB)\n",
            "\u001b[K     |████████████████████████████████| 198 kB 51.2 MB/s \n",
            "\u001b[?25hBuilding wheels for collected packages: pyspark\n",
            "  Building wheel for pyspark (setup.py) ... \u001b[?25l\u001b[?25hdone\n",
            "  Created wheel for pyspark: filename=pyspark-3.2.1-py2.py3-none-any.whl size=281853642 sha256=c2493c164d9eed9ced13b7a6495e6287580f76f1e62f4d2b6b139372cf806345\n",
            "  Stored in directory: /root/.cache/pip/wheels/9f/f5/07/7cd8017084dce4e93e84e92efd1e1d5334db05f2e83bcef74f\n",
            "Successfully built pyspark\n",
            "Installing collected packages: py4j, pyspark\n",
            "Successfully installed py4j-0.10.9.3 pyspark-3.2.1\n"
          ]
        }
      ],
      "source": [
        "pip install pyspark"
      ]
    },
    {
      "cell_type": "code",
      "source": [
        "pip install gcsfs"
      ],
      "metadata": {
        "id": "MMe7xV9hxw_M",
        "colab": {
          "base_uri": "https://localhost:8080/"
        },
        "outputId": "2325dbfc-5a23-4807-eaab-a8c8647a1f60"
      },
      "execution_count": 2,
      "outputs": [
        {
          "output_type": "stream",
          "name": "stdout",
          "text": [
            "Looking in indexes: https://pypi.org/simple, https://us-python.pkg.dev/colab-wheels/public/simple/\n",
            "Collecting gcsfs\n",
            "  Downloading gcsfs-2022.5.0-py2.py3-none-any.whl (25 kB)\n",
            "Requirement already satisfied: decorator>4.1.2 in /usr/local/lib/python3.7/dist-packages (from gcsfs) (4.4.2)\n",
            "Collecting aiohttp<4\n",
            "  Downloading aiohttp-3.8.1-cp37-cp37m-manylinux_2_5_x86_64.manylinux1_x86_64.manylinux_2_12_x86_64.manylinux2010_x86_64.whl (1.1 MB)\n",
            "\u001b[K     |████████████████████████████████| 1.1 MB 7.6 MB/s \n",
            "\u001b[?25hCollecting fsspec==2022.5.0\n",
            "  Downloading fsspec-2022.5.0-py3-none-any.whl (140 kB)\n",
            "\u001b[K     |████████████████████████████████| 140 kB 65.3 MB/s \n",
            "\u001b[?25hRequirement already satisfied: google-cloud-storage in /usr/local/lib/python3.7/dist-packages (from gcsfs) (1.18.1)\n",
            "Requirement already satisfied: google-auth-oauthlib in /usr/local/lib/python3.7/dist-packages (from gcsfs) (0.4.6)\n",
            "Requirement already satisfied: google-auth>=1.2 in /usr/local/lib/python3.7/dist-packages (from gcsfs) (1.35.0)\n",
            "Requirement already satisfied: requests in /usr/local/lib/python3.7/dist-packages (from gcsfs) (2.23.0)\n",
            "Requirement already satisfied: attrs>=17.3.0 in /usr/local/lib/python3.7/dist-packages (from aiohttp<4->gcsfs) (21.4.0)\n",
            "Requirement already satisfied: charset-normalizer<3.0,>=2.0 in /usr/local/lib/python3.7/dist-packages (from aiohttp<4->gcsfs) (2.0.12)\n",
            "Collecting frozenlist>=1.1.1\n",
            "  Downloading frozenlist-1.3.0-cp37-cp37m-manylinux_2_5_x86_64.manylinux1_x86_64.manylinux_2_17_x86_64.manylinux2014_x86_64.whl (144 kB)\n",
            "\u001b[K     |████████████████████████████████| 144 kB 60.3 MB/s \n",
            "\u001b[?25hCollecting asynctest==0.13.0\n",
            "  Downloading asynctest-0.13.0-py3-none-any.whl (26 kB)\n",
            "Collecting async-timeout<5.0,>=4.0.0a3\n",
            "  Downloading async_timeout-4.0.2-py3-none-any.whl (5.8 kB)\n",
            "Collecting aiosignal>=1.1.2\n",
            "  Downloading aiosignal-1.2.0-py3-none-any.whl (8.2 kB)\n",
            "Requirement already satisfied: typing-extensions>=3.7.4 in /usr/local/lib/python3.7/dist-packages (from aiohttp<4->gcsfs) (4.2.0)\n",
            "Collecting multidict<7.0,>=4.5\n",
            "  Downloading multidict-6.0.2-cp37-cp37m-manylinux_2_17_x86_64.manylinux2014_x86_64.whl (94 kB)\n",
            "\u001b[K     |████████████████████████████████| 94 kB 2.5 MB/s \n",
            "\u001b[?25hCollecting yarl<2.0,>=1.0\n",
            "  Downloading yarl-1.7.2-cp37-cp37m-manylinux_2_5_x86_64.manylinux1_x86_64.manylinux_2_12_x86_64.manylinux2010_x86_64.whl (271 kB)\n",
            "\u001b[K     |████████████████████████████████| 271 kB 48.8 MB/s \n",
            "\u001b[?25hRequirement already satisfied: six>=1.9.0 in /usr/local/lib/python3.7/dist-packages (from google-auth>=1.2->gcsfs) (1.15.0)\n",
            "Requirement already satisfied: pyasn1-modules>=0.2.1 in /usr/local/lib/python3.7/dist-packages (from google-auth>=1.2->gcsfs) (0.2.8)\n",
            "Requirement already satisfied: setuptools>=40.3.0 in /usr/local/lib/python3.7/dist-packages (from google-auth>=1.2->gcsfs) (57.4.0)\n",
            "Requirement already satisfied: rsa<5,>=3.1.4 in /usr/local/lib/python3.7/dist-packages (from google-auth>=1.2->gcsfs) (4.8)\n",
            "Requirement already satisfied: cachetools<5.0,>=2.0.0 in /usr/local/lib/python3.7/dist-packages (from google-auth>=1.2->gcsfs) (4.2.4)\n",
            "Requirement already satisfied: pyasn1<0.5.0,>=0.4.6 in /usr/local/lib/python3.7/dist-packages (from pyasn1-modules>=0.2.1->google-auth>=1.2->gcsfs) (0.4.8)\n",
            "Requirement already satisfied: idna>=2.0 in /usr/local/lib/python3.7/dist-packages (from yarl<2.0,>=1.0->aiohttp<4->gcsfs) (2.10)\n",
            "Requirement already satisfied: requests-oauthlib>=0.7.0 in /usr/local/lib/python3.7/dist-packages (from google-auth-oauthlib->gcsfs) (1.3.1)\n",
            "Requirement already satisfied: oauthlib>=3.0.0 in /usr/local/lib/python3.7/dist-packages (from requests-oauthlib>=0.7.0->google-auth-oauthlib->gcsfs) (3.2.0)\n",
            "Requirement already satisfied: chardet<4,>=3.0.2 in /usr/local/lib/python3.7/dist-packages (from requests->gcsfs) (3.0.4)\n",
            "Requirement already satisfied: certifi>=2017.4.17 in /usr/local/lib/python3.7/dist-packages (from requests->gcsfs) (2022.5.18.1)\n",
            "Requirement already satisfied: urllib3!=1.25.0,!=1.25.1,<1.26,>=1.21.1 in /usr/local/lib/python3.7/dist-packages (from requests->gcsfs) (1.24.3)\n",
            "Requirement already satisfied: google-cloud-core<2.0dev,>=1.0.0 in /usr/local/lib/python3.7/dist-packages (from google-cloud-storage->gcsfs) (1.0.3)\n",
            "Requirement already satisfied: google-resumable-media<0.5.0dev,>=0.3.1 in /usr/local/lib/python3.7/dist-packages (from google-cloud-storage->gcsfs) (0.4.1)\n",
            "Requirement already satisfied: google-api-core<2.0.0dev,>=1.14.0 in /usr/local/lib/python3.7/dist-packages (from google-cloud-core<2.0dev,>=1.0.0->google-cloud-storage->gcsfs) (1.31.5)\n",
            "Requirement already satisfied: googleapis-common-protos<2.0dev,>=1.6.0 in /usr/local/lib/python3.7/dist-packages (from google-api-core<2.0.0dev,>=1.14.0->google-cloud-core<2.0dev,>=1.0.0->google-cloud-storage->gcsfs) (1.56.1)\n",
            "Requirement already satisfied: pytz in /usr/local/lib/python3.7/dist-packages (from google-api-core<2.0.0dev,>=1.14.0->google-cloud-core<2.0dev,>=1.0.0->google-cloud-storage->gcsfs) (2022.1)\n",
            "Requirement already satisfied: packaging>=14.3 in /usr/local/lib/python3.7/dist-packages (from google-api-core<2.0.0dev,>=1.14.0->google-cloud-core<2.0dev,>=1.0.0->google-cloud-storage->gcsfs) (21.3)\n",
            "Requirement already satisfied: protobuf>=3.12.0 in /usr/local/lib/python3.7/dist-packages (from google-api-core<2.0.0dev,>=1.14.0->google-cloud-core<2.0dev,>=1.0.0->google-cloud-storage->gcsfs) (3.17.3)\n",
            "Requirement already satisfied: pyparsing!=3.0.5,>=2.0.2 in /usr/local/lib/python3.7/dist-packages (from packaging>=14.3->google-api-core<2.0.0dev,>=1.14.0->google-cloud-core<2.0dev,>=1.0.0->google-cloud-storage->gcsfs) (3.0.9)\n",
            "Installing collected packages: multidict, frozenlist, yarl, asynctest, async-timeout, aiosignal, fsspec, aiohttp, gcsfs\n",
            "Successfully installed aiohttp-3.8.1 aiosignal-1.2.0 async-timeout-4.0.2 asynctest-0.13.0 frozenlist-1.3.0 fsspec-2022.5.0 gcsfs-2022.5.0 multidict-6.0.2 yarl-1.7.2\n"
          ]
        }
      ]
    },
    {
      "cell_type": "markdown",
      "source": [
        "**Importar bibliotecas**"
      ],
      "metadata": {
        "id": "0S_83Vwk5QTC"
      }
    },
    {
      "cell_type": "code",
      "source": [
        "# CHAMAR AS BIBLIOTECAS e MÓDULOS NECESSÁRIAS\n",
        "import os\n",
        "import csv\n",
        "import pyspark.sql.functions as F\n",
        "from pyspark import SparkConf\n",
        "from google.colab import drive\n",
        "from google.cloud import storage\n",
        "from pyspark.sql.functions import *\n",
        "from pyspark.sql import SparkSession\n",
        "from pyspark.sql.window import Window\n",
        "from pyspark.sql.types import StructType, StructField, StringType, IntegerType, DateType, FloatType, DoubleType"
      ],
      "metadata": {
        "id": "qMBoUNY85Qv1"
      },
      "execution_count": 85,
      "outputs": []
    },
    {
      "cell_type": "code",
      "source": [
        "drive.mount('/content/drive')"
      ],
      "metadata": {
        "colab": {
          "base_uri": "https://localhost:8080/"
        },
        "id": "2chnOzSvWjxI",
        "outputId": "47a5a07b-6e10-4372-d9a5-7d9ffe73e0ce"
      },
      "execution_count": 8,
      "outputs": [
        {
          "output_type": "stream",
          "name": "stdout",
          "text": [
            "Mounted at /content/drive\n"
          ]
        }
      ]
    },
    {
      "cell_type": "markdown",
      "source": [
        "### **Configuração de Acesso para os GCP**"
      ],
      "metadata": {
        "id": "J6C3p-kVzCEQ"
      }
    },
    {
      "cell_type": "code",
      "source": [
        "# CONFIGURAÇÃO DA CHAVE DE SEGURANÇA\n",
        "\n",
        "serviceAccount = '/content/weighty-archive-349117-ab0ee1ad5b41.json'\n",
        "\n",
        "os.environ['GOOGLE_APPLICATION_CREDENTIALS'] = serviceAccount\n"
      ],
      "metadata": {
        "id": "VjgL0bTYyN7R"
      },
      "execution_count": 9,
      "outputs": []
    },
    {
      "cell_type": "code",
      "source": [
        "# CÓDIGO QUE ACESSA A BUCKET CRIADA E FAZ O DOWNLOAD DOS ARQUIVOS VIA PANDAS\n",
        "\n",
        "client = storage.Client()\n",
        "\n",
        "# CRIAR UMA VARIÁVEL CHAMADA BUCKET QUE VAI RECEBER O NOME DA BUCKET DO CLOUD STORAGE\n",
        "bucket = client.get_bucket('soulcodemarketing')\n",
        "\n",
        "# USAR O MÉTODO BLOB PARA RETORNAR O NOME DO ARQUIVO (JSON, CSV, PARQUET)\n",
        "bucket.blob('marketing_campaign.csv')\n",
        "\n",
        " #CRIA UMA VARIÁVEL PATH PARA COLOCAR O CAMINHO DO CSV\n",
        "path = 'gs://soulcodemarketing/marketing_campaign.csv'\n"
      ],
      "metadata": {
        "id": "O4en6RffzQkn"
      },
      "execution_count": 13,
      "outputs": []
    },
    {
      "cell_type": "code",
      "source": [
        "# CRIAR A SPARK SESSION E LER O ARQUIVO VIA PYSPARK\n",
        "\n",
        "spark = (SparkSession.builder\\\n",
        "        .master(\"local\")\\\n",
        "        .appName(\"mkt_dataframe\")\\\n",
        "        .config(\"spark.ui.port\", \"4050\")\\\n",
        "        .config(\"spark.jars\", 'https://storage.googleapis.com/hadoop-lib/gcs/gcs-connector-hadoop2-latest.jar')\\\n",
        "        .getOrCreate())"
      ],
      "metadata": {
        "id": "szBBvjX953Ys"
      },
      "execution_count": 14,
      "outputs": []
    },
    {
      "cell_type": "code",
      "source": [
        "spark"
      ],
      "metadata": {
        "id": "aRzhuGYZ56Hg",
        "colab": {
          "base_uri": "https://localhost:8080/",
          "height": 219
        },
        "outputId": "af9cea11-5d05-4b52-f6bc-9d2eee5f7760"
      },
      "execution_count": 15,
      "outputs": [
        {
          "output_type": "execute_result",
          "data": {
            "text/plain": [
              "<pyspark.sql.session.SparkSession at 0x7f7134a10910>"
            ],
            "text/html": [
              "\n",
              "            <div>\n",
              "                <p><b>SparkSession - in-memory</b></p>\n",
              "                \n",
              "        <div>\n",
              "            <p><b>SparkContext</b></p>\n",
              "\n",
              "            <p><a href=\"http://66d23531f3a5:4050\">Spark UI</a></p>\n",
              "\n",
              "            <dl>\n",
              "              <dt>Version</dt>\n",
              "                <dd><code>v3.2.1</code></dd>\n",
              "              <dt>Master</dt>\n",
              "                <dd><code>local</code></dd>\n",
              "              <dt>AppName</dt>\n",
              "                <dd><code>mkt_dataframe</code></dd>\n",
              "            </dl>\n",
              "        </div>\n",
              "        \n",
              "            </div>\n",
              "        "
            ]
          },
          "metadata": {},
          "execution_count": 15
        }
      ]
    },
    {
      "cell_type": "code",
      "source": [
        "# CRIAR UM DATAFRAME PELO PYSPARK\n",
        "\n",
        "df = ( spark.read.format('csv')\n",
        "                 .option('delimiter', ';')\n",
        "                 .option('header', 'true')\n",
        "                 .option('inferschema', 'true')\n",
        "                 .load('gs://soulcodemarketing/marketing_campaign.csv')\n",
        "\n",
        ")"
      ],
      "metadata": {
        "id": "48F-uZE6z4BV"
      },
      "execution_count": 16,
      "outputs": []
    },
    {
      "cell_type": "code",
      "source": [
        "df.printSchema()"
      ],
      "metadata": {
        "id": "v2m_xpZO0bak",
        "colab": {
          "base_uri": "https://localhost:8080/"
        },
        "outputId": "0d0a6395-2477-4532-a615-e25db1936fe0"
      },
      "execution_count": 17,
      "outputs": [
        {
          "output_type": "stream",
          "name": "stdout",
          "text": [
            "root\n",
            " |-- ID: integer (nullable = true)\n",
            " |-- Year_Birth: integer (nullable = true)\n",
            " |-- Education: string (nullable = true)\n",
            " |-- Marital_Status: string (nullable = true)\n",
            " |-- Income: integer (nullable = true)\n",
            " |-- Kidhome: integer (nullable = true)\n",
            " |-- Teenhome: integer (nullable = true)\n",
            " |-- Dt_Customer: string (nullable = true)\n",
            " |-- Recency: integer (nullable = true)\n",
            " |-- MntWines: integer (nullable = true)\n",
            " |-- MntFruits: integer (nullable = true)\n",
            " |-- MntMeatProducts: integer (nullable = true)\n",
            " |-- MntFishProducts: integer (nullable = true)\n",
            " |-- MntSweetProducts: integer (nullable = true)\n",
            " |-- MntGoldProds: integer (nullable = true)\n",
            " |-- NumDealsPurchases: integer (nullable = true)\n",
            " |-- NumWebPurchases: integer (nullable = true)\n",
            " |-- NumCatalogPurchases: integer (nullable = true)\n",
            " |-- NumStorePurchases: integer (nullable = true)\n",
            " |-- NumWebVisitsMonth: integer (nullable = true)\n",
            " |-- AcceptedCmp3: integer (nullable = true)\n",
            " |-- AcceptedCmp4: integer (nullable = true)\n",
            " |-- AcceptedCmp5: integer (nullable = true)\n",
            " |-- AcceptedCmp1: integer (nullable = true)\n",
            " |-- AcceptedCmp2: integer (nullable = true)\n",
            " |-- Complain: integer (nullable = true)\n",
            " |-- Z_CostContact: integer (nullable = true)\n",
            " |-- Z_Revenue: integer (nullable = true)\n",
            " |-- Response: integer (nullable = true)\n",
            "\n"
          ]
        }
      ]
    },
    {
      "cell_type": "code",
      "source": [
        "df.show()"
      ],
      "metadata": {
        "id": "Huro9A1n0fLt",
        "colab": {
          "base_uri": "https://localhost:8080/"
        },
        "outputId": "1afb9793-b14c-4bc2-b6cf-70d64a67924b"
      },
      "execution_count": 18,
      "outputs": [
        {
          "output_type": "stream",
          "name": "stdout",
          "text": [
            "+----+----------+----------+--------------+------+-------+--------+-----------+-------+--------+---------+---------------+---------------+----------------+------------+-----------------+---------------+-------------------+-----------------+-----------------+------------+------------+------------+------------+------------+--------+-------------+---------+--------+\n",
            "|  ID|Year_Birth| Education|Marital_Status|Income|Kidhome|Teenhome|Dt_Customer|Recency|MntWines|MntFruits|MntMeatProducts|MntFishProducts|MntSweetProducts|MntGoldProds|NumDealsPurchases|NumWebPurchases|NumCatalogPurchases|NumStorePurchases|NumWebVisitsMonth|AcceptedCmp3|AcceptedCmp4|AcceptedCmp5|AcceptedCmp1|AcceptedCmp2|Complain|Z_CostContact|Z_Revenue|Response|\n",
            "+----+----------+----------+--------------+------+-------+--------+-----------+-------+--------+---------+---------------+---------------+----------------+------------+-----------------+---------------+-------------------+-----------------+-----------------+------------+------------+------------+------------+------------+--------+-------------+---------+--------+\n",
            "|5524|      1957|Graduation|        Single| 58138|      0|       0| 2012-09-04|     58|     635|       88|            546|            172|              88|          88|                3|              8|                 10|                4|                7|           0|           0|           0|           0|           0|       0|            3|       11|       1|\n",
            "|2174|      1954|Graduation|        Single| 46344|      1|       1| 2014-03-08|     38|      11|        1|              6|              2|               1|           6|                2|              1|                  1|                2|                5|           0|           0|           0|           0|           0|       0|            3|       11|       0|\n",
            "|4141|      1965|Graduation|      Together| 71613|      0|       0| 2013-08-21|     26|     426|       49|            127|            111|              21|          42|                1|              8|                  2|               10|                4|           0|           0|           0|           0|           0|       0|            3|       11|       0|\n",
            "|6182|      1984|Graduation|      Together| 26646|      1|       0| 2014-02-10|     26|      11|        4|             20|             10|               3|           5|                2|              2|                  0|                4|                6|           0|           0|           0|           0|           0|       0|            3|       11|       0|\n",
            "|5324|      1981|       PhD|       Married| 58293|      1|       0| 2014-01-19|     94|     173|       43|            118|             46|              27|          15|                5|              5|                  3|                6|                5|           0|           0|           0|           0|           0|       0|            3|       11|       0|\n",
            "|7446|      1967|    Master|      Together| 62513|      0|       1| 2013-09-09|     16|     520|       42|             98|              0|              42|          14|                2|              6|                  4|               10|                6|           0|           0|           0|           0|           0|       0|            3|       11|       0|\n",
            "| 965|      1971|Graduation|      Divorced| 55635|      0|       1| 2012-11-13|     34|     235|       65|            164|             50|              49|          27|                4|              7|                  3|                7|                6|           0|           0|           0|           0|           0|       0|            3|       11|       0|\n",
            "|6177|      1985|       PhD|       Married| 33454|      1|       0| 2013-05-08|     32|      76|       10|             56|              3|               1|          23|                2|              4|                  0|                4|                8|           0|           0|           0|           0|           0|       0|            3|       11|       0|\n",
            "|4855|      1974|       PhD|      Together| 30351|      1|       0| 2013-06-06|     19|      14|        0|             24|              3|               3|           2|                1|              3|                  0|                2|                9|           0|           0|           0|           0|           0|       0|            3|       11|       1|\n",
            "|5899|      1950|       PhD|      Together|  5648|      1|       1| 2014-03-13|     68|      28|        0|              6|              1|               1|          13|                1|              1|                  0|                0|               20|           1|           0|           0|           0|           0|       0|            3|       11|       0|\n",
            "|1994|      1983|Graduation|       Married|  null|      1|       0| 2013-11-15|     11|       5|        5|              6|              0|               2|           1|                1|              1|                  0|                2|                7|           0|           0|           0|           0|           0|       0|            3|       11|       0|\n",
            "| 387|      1976|     Basic|       Married|  7500|      0|       0| 2012-11-13|     59|       6|       16|             11|             11|               1|          16|                1|              2|                  0|                3|                8|           0|           0|           0|           0|           0|       0|            3|       11|       0|\n",
            "|2125|      1959|Graduation|      Divorced| 63033|      0|       0| 2013-11-15|     82|     194|       61|            480|            225|             112|          30|                1|              3|                  4|                8|                2|           0|           0|           0|           0|           0|       0|            3|       11|       0|\n",
            "|8180|      1952|    Master|      Divorced| 59354|      1|       1| 2013-11-15|     53|     233|        2|             53|              3|               5|          14|                3|              6|                  1|                5|                6|           0|           0|           0|           0|           0|       0|            3|       11|       0|\n",
            "|2569|      1987|Graduation|       Married| 17323|      0|       0| 2012-10-10|     38|       3|       14|             17|              6|               1|           5|                1|              1|                  0|                3|                8|           0|           0|           0|           0|           0|       0|            3|       11|       0|\n",
            "|2114|      1946|       PhD|        Single| 82800|      0|       0| 2012-11-24|     23|    1006|       22|            115|             59|              68|          45|                1|              7|                  6|               12|                3|           0|           0|           1|           1|           0|       0|            3|       11|       1|\n",
            "|9736|      1980|Graduation|       Married| 41850|      1|       1| 2012-12-24|     51|      53|        5|             19|              2|              13|           4|                3|              3|                  0|                3|                8|           0|           0|           0|           0|           0|       0|            3|       11|       0|\n",
            "|4939|      1946|Graduation|      Together| 37760|      0|       0| 2012-08-31|     20|      84|        5|             38|            150|              12|          28|                2|              4|                  1|                6|                7|           0|           0|           0|           0|           0|       0|            3|       11|       0|\n",
            "|6565|      1949|    Master|       Married| 76995|      0|       1| 2013-03-28|     91|    1012|       80|            498|              0|              16|         176|                2|             11|                  4|                9|                5|           0|           0|           0|           1|           0|       0|            3|       11|       0|\n",
            "|2278|      1985|  2n Cycle|        Single| 33812|      1|       0| 2012-11-03|     86|       4|       17|             19|             30|              24|          39|                2|              2|                  1|                3|                6|           0|           0|           0|           0|           0|       0|            3|       11|       0|\n",
            "+----+----------+----------+--------------+------+-------+--------+-----------+-------+--------+---------+---------------+---------------+----------------+------------+-----------------+---------------+-------------------+-----------------+-----------------+------------+------------+------------+------------+------------+--------+-------------+---------+--------+\n",
            "only showing top 20 rows\n",
            "\n"
          ]
        }
      ]
    },
    {
      "cell_type": "markdown",
      "source": [
        "### **1 - Deverá ser montada a estrutura do DataFrame utilizando o StructType.**"
      ],
      "metadata": {
        "id": "P1ZYrgT9UlWy"
      }
    },
    {
      "cell_type": "markdown",
      "source": [
        "**StructType**"
      ],
      "metadata": {
        "id": "8Y9mNEG9PdJP"
      }
    },
    {
      "cell_type": "code",
      "source": [
        "schema = StructType([ \n",
        "      StructField(\"\",                       IntegerType(), True),\n",
        "      StructField(\"id\",                     IntegerType(), True),\n",
        "      StructField(\"ano_nascimento\",         IntegerType(),  True),\n",
        "      StructField(\"educacao\",               StringType(),  True),\n",
        "      StructField(\"estado_civil\",           StringType(),   True),\n",
        "      StructField(\"renda_anual\",            FloatType(),   True),\n",
        "      StructField(\"qtd_crianca\",            IntegerType(),  True),\n",
        "      StructField(\"qtd_adolescente\",        IntegerType(), True),\n",
        "      StructField(\"primeira_data_compra\",   DateType(),    True),\n",
        "      StructField(\"dias_desde_ult_compras\", IntegerType(), True),\n",
        "      StructField(\"qtd_vinhos\",             IntegerType(), True),\n",
        "      StructField(\"qtd_frutas\",             IntegerType(), True),\n",
        "      StructField(\"qtd_carne\",              IntegerType(), True),\n",
        "      StructField(\"qtd_peixe\",              IntegerType(), True),\n",
        "      StructField(\"guloseimas\",             IntegerType(), True),\n",
        "      StructField(\"qtd_produtos_gold\",      IntegerType(), True),\n",
        "      StructField(\"qtd_ofertas_compra\",     IntegerType(), True),\n",
        "      StructField(\"qtd_compras_online\",     IntegerType(), True),\n",
        "      StructField(\"qtd_compras_catalogo\",   IntegerType(), True),\n",
        "      StructField(\"qtd_compras_na_loja\",    IntegerType(), True),\n",
        "      StructField(\"qtd_visitas_online_mes\", IntegerType(), True),\n",
        "      StructField(\"oferta_aceita1\",         StringType(),  True),\n",
        "      StructField(\"oferta_aceita2\",         StringType(),  True),\n",
        "      StructField(\"oferta_aceita3\",         StringType(),  True),\n",
        "      StructField(\"oferta_aceita4\",         StringType(),  True),\n",
        "      StructField(\"oferta_aceita5\",         StringType(),  True),\n",
        "      StructField(\"reclamacao\",             StringType(),  True)])"
      ],
      "metadata": {
        "id": "khZxJBbJ6RJL"
      },
      "execution_count": 40,
      "outputs": []
    },
    {
      "cell_type": "code",
      "source": [
        "local= (\"/content/df_pd_marketing_campaign.csv\")"
      ],
      "metadata": {
        "id": "gkc7GcE4Zp8A"
      },
      "execution_count": 45,
      "outputs": []
    },
    {
      "cell_type": "code",
      "source": [
        "# Leitura do dataframe\n",
        "df = spark.read.load(local, format=\"csv\", header=\"true\", sep=',', schema=schema)"
      ],
      "metadata": {
        "id": "f1Jr4YgC6We2"
      },
      "execution_count": 52,
      "outputs": []
    },
    {
      "cell_type": "code",
      "source": [
        "df.show()  # Visualização de dataframe"
      ],
      "metadata": {
        "id": "aOvAITXP6YTh",
        "colab": {
          "base_uri": "https://localhost:8080/"
        },
        "outputId": "1be3c3f7-14e5-4a30-a1b4-cd08b540d81f"
      },
      "execution_count": 53,
      "outputs": [
        {
          "output_type": "stream",
          "name": "stdout",
          "text": [
            "+---+----+--------------+------------------+-------------+-----------+-----------+---------------+--------------------+----------------------+----------+----------+---------+---------+----------+-----------------+------------------+------------------+--------------------+-------------------+----------------------+--------------+--------------+--------------+--------------+--------------+----------+\n",
            "|   |  id|ano_nascimento|          educacao| estado_civil|renda_anual|qtd_crianca|qtd_adolescente|primeira_data_compra|dias_desde_ult_compras|qtd_vinhos|qtd_frutas|qtd_carne|qtd_peixe|guloseimas|qtd_produtos_gold|qtd_ofertas_compra|qtd_compras_online|qtd_compras_catalogo|qtd_compras_na_loja|qtd_visitas_online_mes|oferta_aceita1|oferta_aceita2|oferta_aceita3|oferta_aceita4|oferta_aceita5|reclamacao|\n",
            "+---+----+--------------+------------------+-------------+-----------+-----------+---------------+--------------------+----------------------+----------+----------+---------+---------+----------+-----------------+------------------+------------------+--------------------+-------------------+----------------------+--------------+--------------+--------------+--------------+--------------+----------+\n",
            "|  0|5524|          1957|          Graduado|     Solteiro|    58138.0|          0|              0|          2012-09-04|                    58|       635|        88|      546|      172|        88|               88|                 3|                 8|                  10|                  4|                     7|           nao|           nao|           nao|           nao|           nao|       nao|\n",
            "|  1|2174|          1954|          Graduado|     Solteiro|    46344.0|          1|              1|          2014-03-08|                    38|        11|         1|        6|        2|         1|                6|                 2|                 1|                   1|                  2|                     5|           nao|           nao|           nao|           nao|           nao|       nao|\n",
            "|  2|4141|          1965|          Graduado|Uniao_estavel|    71613.0|          0|              0|          2013-08-21|                    26|       426|        49|      127|      111|        21|               42|                 1|                 8|                   2|                 10|                     4|           nao|           nao|           nao|           nao|           nao|       nao|\n",
            "|  3|6182|          1984|          Graduado|Uniao_estavel|    26646.0|          1|              0|          2014-02-10|                    26|        11|         4|       20|       10|         3|                5|                 2|                 2|                   0|                  4|                     6|           nao|           nao|           nao|           nao|           nao|       nao|\n",
            "|  4|5324|          1981|         Doutorado|       Casado|    58293.0|          1|              0|          2014-01-19|                    94|       173|        43|      118|       46|        27|               15|                 5|                 5|                   3|                  6|                     5|           nao|           nao|           nao|           nao|           nao|       nao|\n",
            "|  5|7446|          1967|          Mestrado|Uniao_estavel|    62513.0|          0|              1|          2013-09-09|                    16|       520|        42|       98|        0|        42|               14|                 2|                 6|                   4|                 10|                     6|           nao|           nao|           nao|           nao|           nao|       nao|\n",
            "|  6| 965|          1971|          Graduado|   Divorciado|    55635.0|          0|              1|          2012-11-13|                    34|       235|        65|      164|       50|        49|               27|                 4|                 7|                   3|                  7|                     6|           nao|           nao|           nao|           nao|           nao|       nao|\n",
            "|  7|6177|          1985|         Doutorado|       Casado|    33454.0|          1|              0|          2013-05-08|                    32|        76|        10|       56|        3|         1|               23|                 2|                 4|                   0|                  4|                     8|           nao|           nao|           nao|           nao|           nao|       nao|\n",
            "|  8|4855|          1974|         Doutorado|Uniao_estavel|    30351.0|          1|              0|          2013-06-06|                    19|        14|         0|       24|        3|         3|                2|                 1|                 3|                   0|                  2|                     9|           nao|           nao|           nao|           nao|           nao|       nao|\n",
            "|  9|5899|          1950|         Doutorado|Uniao_estavel|     5648.0|          1|              1|          2014-03-13|                    68|        28|         0|        6|        1|         1|               13|                 1|                 1|                   0|                  0|                    20|           sim|           nao|           nao|           nao|           nao|       nao|\n",
            "| 10|1994|          1983|          Graduado|       Casado|   52247.25|          1|              0|          2013-11-15|                    11|         5|         5|        6|        0|         2|                1|                 1|                 1|                   0|                  2|                     7|           nao|           nao|           nao|           nao|           nao|       nao|\n",
            "| 11| 387|          1976|Ensino_fundamental|       Casado|     7500.0|          0|              0|          2012-11-13|                    59|         6|        16|       11|       11|         1|               16|                 1|                 2|                   0|                  3|                     8|           nao|           nao|           nao|           nao|           nao|       nao|\n",
            "| 12|2125|          1959|          Graduado|   Divorciado|    63033.0|          0|              0|          2013-11-15|                    82|       194|        61|      480|      225|       112|               30|                 1|                 3|                   4|                  8|                     2|           nao|           nao|           nao|           nao|           nao|       nao|\n",
            "| 13|8180|          1952|          Mestrado|   Divorciado|    59354.0|          1|              1|          2013-11-15|                    53|       233|         2|       53|        3|         5|               14|                 3|                 6|                   1|                  5|                     6|           nao|           nao|           nao|           nao|           nao|       nao|\n",
            "| 14|2569|          1987|          Graduado|       Casado|    17323.0|          0|              0|          2012-10-10|                    38|         3|        14|       17|        6|         1|                5|                 1|                 1|                   0|                  3|                     8|           nao|           nao|           nao|           nao|           nao|       nao|\n",
            "| 15|2114|          1946|         Doutorado|     Solteiro|    82800.0|          0|              0|          2012-11-24|                    23|      1006|        22|      115|       59|        68|               45|                 1|                 7|                   6|                 12|                     3|           nao|           nao|           sim|           sim|           nao|       nao|\n",
            "| 16|9736|          1980|          Graduado|       Casado|    41850.0|          1|              1|          2012-12-24|                    51|        53|         5|       19|        2|        13|                4|                 3|                 3|                   0|                  3|                     8|           nao|           nao|           nao|           nao|           nao|       nao|\n",
            "| 17|4939|          1946|          Graduado|Uniao_estavel|    37760.0|          0|              0|          2012-08-31|                    20|        84|         5|       38|      150|        12|               28|                 2|                 4|                   1|                  6|                     7|           nao|           nao|           nao|           nao|           nao|       nao|\n",
            "| 18|6565|          1949|          Mestrado|       Casado|    76995.0|          0|              1|          2013-03-28|                    91|      1012|        80|      498|        0|        16|              176|                 2|                11|                   4|                  9|                     5|           nao|           nao|           nao|           sim|           nao|       nao|\n",
            "| 19|2278|          1985|         Mestrando|     Solteiro|    33812.0|          1|              0|          2012-11-03|                    86|         4|        17|       19|       30|        24|               39|                 2|                 2|                   1|                  3|                     6|           nao|           nao|           nao|           nao|           nao|       nao|\n",
            "+---+----+--------------+------------------+-------------+-----------+-----------+---------------+--------------------+----------------------+----------+----------+---------+---------+----------+-----------------+------------------+------------------+--------------------+-------------------+----------------------+--------------+--------------+--------------+--------------+--------------+----------+\n",
            "only showing top 20 rows\n",
            "\n"
          ]
        }
      ]
    },
    {
      "cell_type": "markdown",
      "source": [
        "### **2 - Verificar a existência de dados inconsistentes, nulos e realizar a limpeza.**"
      ],
      "metadata": {
        "id": "6a8bQf9CTZAu"
      }
    },
    {
      "cell_type": "markdown",
      "source": [
        "Os dados utilizados formam tratados na etapa 1 - pandas."
      ],
      "metadata": {
        "id": "h8r6YGoXTfon"
      }
    },
    {
      "cell_type": "markdown",
      "source": [
        "### **3 - Verificar a existência de dados inconsistentes, nulos e realizar a limpeza.**"
      ],
      "metadata": {
        "id": "tXt3PbWuTYtR"
      }
    },
    {
      "cell_type": "markdown",
      "source": [
        "Os dados formam tratados na etapa 1 - pandas."
      ],
      "metadata": {
        "id": "j-TJt7pdVLH6"
      }
    },
    {
      "cell_type": "markdown",
      "source": [
        "### **4 - Realizar a mudança de nome de pelo menos 2 colunas**"
      ],
      "metadata": {
        "id": "K2Y2e6vjTK0d"
      }
    },
    {
      "cell_type": "code",
      "source": [
        "# Modifica o id e a primeira_data_compra\n",
        "df=df.withColumnRenamed(\"id\", \"identificacao\").withColumnRenamed(\"primeira_data_compra\", \"data_primeira_compra\")"
      ],
      "metadata": {
        "id": "ugQUJ5CLaab4"
      },
      "execution_count": 57,
      "outputs": []
    },
    {
      "cell_type": "code",
      "source": [
        "df.show()  # visualizar dataframe"
      ],
      "metadata": {
        "id": "yzSmRnZ56gcC",
        "colab": {
          "base_uri": "https://localhost:8080/"
        },
        "outputId": "7724dc65-94d7-429f-d6ff-e24c63606c03"
      },
      "execution_count": 58,
      "outputs": [
        {
          "output_type": "stream",
          "name": "stdout",
          "text": [
            "+---+-------------+--------------+------------------+-------------+-----------+-----------+---------------+--------------------+----------------------+----------+----------+---------+---------+----------+-----------------+------------------+------------------+--------------------+-------------------+----------------------+--------------+--------------+--------------+--------------+--------------+----------+\n",
            "|   |identificacao|ano_nascimento|          educacao| estado_civil|renda_anual|qtd_crianca|qtd_adolescente|data_primeira_compra|dias_desde_ult_compras|qtd_vinhos|qtd_frutas|qtd_carne|qtd_peixe|guloseimas|qtd_produtos_gold|qtd_ofertas_compra|qtd_compras_online|qtd_compras_catalogo|qtd_compras_na_loja|qtd_visitas_online_mes|oferta_aceita1|oferta_aceita2|oferta_aceita3|oferta_aceita4|oferta_aceita5|reclamacao|\n",
            "+---+-------------+--------------+------------------+-------------+-----------+-----------+---------------+--------------------+----------------------+----------+----------+---------+---------+----------+-----------------+------------------+------------------+--------------------+-------------------+----------------------+--------------+--------------+--------------+--------------+--------------+----------+\n",
            "|  0|         5524|          1957|          Graduado|     Solteiro|    58138.0|          0|              0|          2012-09-04|                    58|       635|        88|      546|      172|        88|               88|                 3|                 8|                  10|                  4|                     7|           nao|           nao|           nao|           nao|           nao|       nao|\n",
            "|  1|         2174|          1954|          Graduado|     Solteiro|    46344.0|          1|              1|          2014-03-08|                    38|        11|         1|        6|        2|         1|                6|                 2|                 1|                   1|                  2|                     5|           nao|           nao|           nao|           nao|           nao|       nao|\n",
            "|  2|         4141|          1965|          Graduado|Uniao_estavel|    71613.0|          0|              0|          2013-08-21|                    26|       426|        49|      127|      111|        21|               42|                 1|                 8|                   2|                 10|                     4|           nao|           nao|           nao|           nao|           nao|       nao|\n",
            "|  3|         6182|          1984|          Graduado|Uniao_estavel|    26646.0|          1|              0|          2014-02-10|                    26|        11|         4|       20|       10|         3|                5|                 2|                 2|                   0|                  4|                     6|           nao|           nao|           nao|           nao|           nao|       nao|\n",
            "|  4|         5324|          1981|         Doutorado|       Casado|    58293.0|          1|              0|          2014-01-19|                    94|       173|        43|      118|       46|        27|               15|                 5|                 5|                   3|                  6|                     5|           nao|           nao|           nao|           nao|           nao|       nao|\n",
            "|  5|         7446|          1967|          Mestrado|Uniao_estavel|    62513.0|          0|              1|          2013-09-09|                    16|       520|        42|       98|        0|        42|               14|                 2|                 6|                   4|                 10|                     6|           nao|           nao|           nao|           nao|           nao|       nao|\n",
            "|  6|          965|          1971|          Graduado|   Divorciado|    55635.0|          0|              1|          2012-11-13|                    34|       235|        65|      164|       50|        49|               27|                 4|                 7|                   3|                  7|                     6|           nao|           nao|           nao|           nao|           nao|       nao|\n",
            "|  7|         6177|          1985|         Doutorado|       Casado|    33454.0|          1|              0|          2013-05-08|                    32|        76|        10|       56|        3|         1|               23|                 2|                 4|                   0|                  4|                     8|           nao|           nao|           nao|           nao|           nao|       nao|\n",
            "|  8|         4855|          1974|         Doutorado|Uniao_estavel|    30351.0|          1|              0|          2013-06-06|                    19|        14|         0|       24|        3|         3|                2|                 1|                 3|                   0|                  2|                     9|           nao|           nao|           nao|           nao|           nao|       nao|\n",
            "|  9|         5899|          1950|         Doutorado|Uniao_estavel|     5648.0|          1|              1|          2014-03-13|                    68|        28|         0|        6|        1|         1|               13|                 1|                 1|                   0|                  0|                    20|           sim|           nao|           nao|           nao|           nao|       nao|\n",
            "| 10|         1994|          1983|          Graduado|       Casado|   52247.25|          1|              0|          2013-11-15|                    11|         5|         5|        6|        0|         2|                1|                 1|                 1|                   0|                  2|                     7|           nao|           nao|           nao|           nao|           nao|       nao|\n",
            "| 11|          387|          1976|Ensino_fundamental|       Casado|     7500.0|          0|              0|          2012-11-13|                    59|         6|        16|       11|       11|         1|               16|                 1|                 2|                   0|                  3|                     8|           nao|           nao|           nao|           nao|           nao|       nao|\n",
            "| 12|         2125|          1959|          Graduado|   Divorciado|    63033.0|          0|              0|          2013-11-15|                    82|       194|        61|      480|      225|       112|               30|                 1|                 3|                   4|                  8|                     2|           nao|           nao|           nao|           nao|           nao|       nao|\n",
            "| 13|         8180|          1952|          Mestrado|   Divorciado|    59354.0|          1|              1|          2013-11-15|                    53|       233|         2|       53|        3|         5|               14|                 3|                 6|                   1|                  5|                     6|           nao|           nao|           nao|           nao|           nao|       nao|\n",
            "| 14|         2569|          1987|          Graduado|       Casado|    17323.0|          0|              0|          2012-10-10|                    38|         3|        14|       17|        6|         1|                5|                 1|                 1|                   0|                  3|                     8|           nao|           nao|           nao|           nao|           nao|       nao|\n",
            "| 15|         2114|          1946|         Doutorado|     Solteiro|    82800.0|          0|              0|          2012-11-24|                    23|      1006|        22|      115|       59|        68|               45|                 1|                 7|                   6|                 12|                     3|           nao|           nao|           sim|           sim|           nao|       nao|\n",
            "| 16|         9736|          1980|          Graduado|       Casado|    41850.0|          1|              1|          2012-12-24|                    51|        53|         5|       19|        2|        13|                4|                 3|                 3|                   0|                  3|                     8|           nao|           nao|           nao|           nao|           nao|       nao|\n",
            "| 17|         4939|          1946|          Graduado|Uniao_estavel|    37760.0|          0|              0|          2012-08-31|                    20|        84|         5|       38|      150|        12|               28|                 2|                 4|                   1|                  6|                     7|           nao|           nao|           nao|           nao|           nao|       nao|\n",
            "| 18|         6565|          1949|          Mestrado|       Casado|    76995.0|          0|              1|          2013-03-28|                    91|      1012|        80|      498|        0|        16|              176|                 2|                11|                   4|                  9|                     5|           nao|           nao|           nao|           sim|           nao|       nao|\n",
            "| 19|         2278|          1985|         Mestrando|     Solteiro|    33812.0|          1|              0|          2012-11-03|                    86|         4|        17|       19|       30|        24|               39|                 2|                 2|                   1|                  3|                     6|           nao|           nao|           nao|           nao|           nao|       nao|\n",
            "+---+-------------+--------------+------------------+-------------+-----------+-----------+---------------+--------------------+----------------------+----------+----------+---------+---------+----------+-----------------+------------------+------------------+--------------------+-------------------+----------------------+--------------+--------------+--------------+--------------+--------------+----------+\n",
            "only showing top 20 rows\n",
            "\n"
          ]
        }
      ]
    },
    {
      "cell_type": "markdown",
      "source": [
        "**5 - Deverá criar pelo menos duas novas colunas contendo alguma informação relevante sobre as outras colunas já existentes (Funções de Agrupamento, Agregação ou Joins).**"
      ],
      "metadata": {
        "id": "Y8DA4z2aVcXH"
      }
    },
    {
      "cell_type": "code",
      "source": [
        "# Inserção de columa relacionamento classificação: Ótimo ou Frequente.\n",
        "df1 = (df.withColumn(\"Relacionamento\", \n",
        "       F.when(F.col(\"qtd_compras_online\") > F.col(\"qtd_visitas_online_mes\"), F.lit(\"Otimo\"))\n",
        "        .otherwise(\"Frequente\")))"
      ],
      "metadata": {
        "id": "Ib-w_fBW6h4x"
      },
      "execution_count": 59,
      "outputs": []
    },
    {
      "cell_type": "code",
      "source": [
        "df1.show()  # Visualização na coluna Relacionamento"
      ],
      "metadata": {
        "id": "xzisfOqM6kyo",
        "colab": {
          "base_uri": "https://localhost:8080/"
        },
        "outputId": "41ff7f56-9fb4-4dd4-8e3d-b3cacf8dd281"
      },
      "execution_count": 60,
      "outputs": [
        {
          "output_type": "stream",
          "name": "stdout",
          "text": [
            "+---+-------------+--------------+------------------+-------------+-----------+-----------+---------------+--------------------+----------------------+----------+----------+---------+---------+----------+-----------------+------------------+------------------+--------------------+-------------------+----------------------+--------------+--------------+--------------+--------------+--------------+----------+--------------+\n",
            "|   |identificacao|ano_nascimento|          educacao| estado_civil|renda_anual|qtd_crianca|qtd_adolescente|data_primeira_compra|dias_desde_ult_compras|qtd_vinhos|qtd_frutas|qtd_carne|qtd_peixe|guloseimas|qtd_produtos_gold|qtd_ofertas_compra|qtd_compras_online|qtd_compras_catalogo|qtd_compras_na_loja|qtd_visitas_online_mes|oferta_aceita1|oferta_aceita2|oferta_aceita3|oferta_aceita4|oferta_aceita5|reclamacao|Relacionamento|\n",
            "+---+-------------+--------------+------------------+-------------+-----------+-----------+---------------+--------------------+----------------------+----------+----------+---------+---------+----------+-----------------+------------------+------------------+--------------------+-------------------+----------------------+--------------+--------------+--------------+--------------+--------------+----------+--------------+\n",
            "|  0|         5524|          1957|          Graduado|     Solteiro|    58138.0|          0|              0|          2012-09-04|                    58|       635|        88|      546|      172|        88|               88|                 3|                 8|                  10|                  4|                     7|           nao|           nao|           nao|           nao|           nao|       nao|         Otimo|\n",
            "|  1|         2174|          1954|          Graduado|     Solteiro|    46344.0|          1|              1|          2014-03-08|                    38|        11|         1|        6|        2|         1|                6|                 2|                 1|                   1|                  2|                     5|           nao|           nao|           nao|           nao|           nao|       nao|     Frequente|\n",
            "|  2|         4141|          1965|          Graduado|Uniao_estavel|    71613.0|          0|              0|          2013-08-21|                    26|       426|        49|      127|      111|        21|               42|                 1|                 8|                   2|                 10|                     4|           nao|           nao|           nao|           nao|           nao|       nao|         Otimo|\n",
            "|  3|         6182|          1984|          Graduado|Uniao_estavel|    26646.0|          1|              0|          2014-02-10|                    26|        11|         4|       20|       10|         3|                5|                 2|                 2|                   0|                  4|                     6|           nao|           nao|           nao|           nao|           nao|       nao|     Frequente|\n",
            "|  4|         5324|          1981|         Doutorado|       Casado|    58293.0|          1|              0|          2014-01-19|                    94|       173|        43|      118|       46|        27|               15|                 5|                 5|                   3|                  6|                     5|           nao|           nao|           nao|           nao|           nao|       nao|     Frequente|\n",
            "|  5|         7446|          1967|          Mestrado|Uniao_estavel|    62513.0|          0|              1|          2013-09-09|                    16|       520|        42|       98|        0|        42|               14|                 2|                 6|                   4|                 10|                     6|           nao|           nao|           nao|           nao|           nao|       nao|     Frequente|\n",
            "|  6|          965|          1971|          Graduado|   Divorciado|    55635.0|          0|              1|          2012-11-13|                    34|       235|        65|      164|       50|        49|               27|                 4|                 7|                   3|                  7|                     6|           nao|           nao|           nao|           nao|           nao|       nao|         Otimo|\n",
            "|  7|         6177|          1985|         Doutorado|       Casado|    33454.0|          1|              0|          2013-05-08|                    32|        76|        10|       56|        3|         1|               23|                 2|                 4|                   0|                  4|                     8|           nao|           nao|           nao|           nao|           nao|       nao|     Frequente|\n",
            "|  8|         4855|          1974|         Doutorado|Uniao_estavel|    30351.0|          1|              0|          2013-06-06|                    19|        14|         0|       24|        3|         3|                2|                 1|                 3|                   0|                  2|                     9|           nao|           nao|           nao|           nao|           nao|       nao|     Frequente|\n",
            "|  9|         5899|          1950|         Doutorado|Uniao_estavel|     5648.0|          1|              1|          2014-03-13|                    68|        28|         0|        6|        1|         1|               13|                 1|                 1|                   0|                  0|                    20|           sim|           nao|           nao|           nao|           nao|       nao|     Frequente|\n",
            "| 10|         1994|          1983|          Graduado|       Casado|   52247.25|          1|              0|          2013-11-15|                    11|         5|         5|        6|        0|         2|                1|                 1|                 1|                   0|                  2|                     7|           nao|           nao|           nao|           nao|           nao|       nao|     Frequente|\n",
            "| 11|          387|          1976|Ensino_fundamental|       Casado|     7500.0|          0|              0|          2012-11-13|                    59|         6|        16|       11|       11|         1|               16|                 1|                 2|                   0|                  3|                     8|           nao|           nao|           nao|           nao|           nao|       nao|     Frequente|\n",
            "| 12|         2125|          1959|          Graduado|   Divorciado|    63033.0|          0|              0|          2013-11-15|                    82|       194|        61|      480|      225|       112|               30|                 1|                 3|                   4|                  8|                     2|           nao|           nao|           nao|           nao|           nao|       nao|         Otimo|\n",
            "| 13|         8180|          1952|          Mestrado|   Divorciado|    59354.0|          1|              1|          2013-11-15|                    53|       233|         2|       53|        3|         5|               14|                 3|                 6|                   1|                  5|                     6|           nao|           nao|           nao|           nao|           nao|       nao|     Frequente|\n",
            "| 14|         2569|          1987|          Graduado|       Casado|    17323.0|          0|              0|          2012-10-10|                    38|         3|        14|       17|        6|         1|                5|                 1|                 1|                   0|                  3|                     8|           nao|           nao|           nao|           nao|           nao|       nao|     Frequente|\n",
            "| 15|         2114|          1946|         Doutorado|     Solteiro|    82800.0|          0|              0|          2012-11-24|                    23|      1006|        22|      115|       59|        68|               45|                 1|                 7|                   6|                 12|                     3|           nao|           nao|           sim|           sim|           nao|       nao|         Otimo|\n",
            "| 16|         9736|          1980|          Graduado|       Casado|    41850.0|          1|              1|          2012-12-24|                    51|        53|         5|       19|        2|        13|                4|                 3|                 3|                   0|                  3|                     8|           nao|           nao|           nao|           nao|           nao|       nao|     Frequente|\n",
            "| 17|         4939|          1946|          Graduado|Uniao_estavel|    37760.0|          0|              0|          2012-08-31|                    20|        84|         5|       38|      150|        12|               28|                 2|                 4|                   1|                  6|                     7|           nao|           nao|           nao|           nao|           nao|       nao|     Frequente|\n",
            "| 18|         6565|          1949|          Mestrado|       Casado|    76995.0|          0|              1|          2013-03-28|                    91|      1012|        80|      498|        0|        16|              176|                 2|                11|                   4|                  9|                     5|           nao|           nao|           nao|           sim|           nao|       nao|         Otimo|\n",
            "| 19|         2278|          1985|         Mestrando|     Solteiro|    33812.0|          1|              0|          2012-11-03|                    86|         4|        17|       19|       30|        24|               39|                 2|                 2|                   1|                  3|                     6|           nao|           nao|           nao|           nao|           nao|       nao|     Frequente|\n",
            "+---+-------------+--------------+------------------+-------------+-----------+-----------+---------------+--------------------+----------------------+----------+----------+---------+---------+----------+-----------------+------------------+------------------+--------------------+-------------------+----------------------+--------------+--------------+--------------+--------------+--------------+----------+--------------+\n",
            "only showing top 20 rows\n",
            "\n"
          ]
        }
      ]
    },
    {
      "cell_type": "code",
      "source": [
        "# Classifica clientes e visitantes em compras online\n",
        "df2 = (df1.withColumn(\"Clientela\", \n",
        "       F.when(F.col(\"qtd_compras_online\") > 0, F.lit(\"Cliente\"))\n",
        "        .otherwise(\"Visitante\")))"
      ],
      "metadata": {
        "id": "urun0S_U6nAx"
      },
      "execution_count": 61,
      "outputs": []
    },
    {
      "cell_type": "code",
      "source": [
        "df2.show()  # Visualização na coluna Clientela"
      ],
      "metadata": {
        "id": "qXUrEV-K6qD1",
        "colab": {
          "base_uri": "https://localhost:8080/"
        },
        "outputId": "49ea60b7-5893-42fc-a8a1-d59c304cf0e4"
      },
      "execution_count": 63,
      "outputs": [
        {
          "output_type": "stream",
          "name": "stdout",
          "text": [
            "+---+-------------+--------------+------------------+-------------+-----------+-----------+---------------+--------------------+----------------------+----------+----------+---------+---------+----------+-----------------+------------------+------------------+--------------------+-------------------+----------------------+--------------+--------------+--------------+--------------+--------------+----------+--------------+---------+\n",
            "|   |identificacao|ano_nascimento|          educacao| estado_civil|renda_anual|qtd_crianca|qtd_adolescente|data_primeira_compra|dias_desde_ult_compras|qtd_vinhos|qtd_frutas|qtd_carne|qtd_peixe|guloseimas|qtd_produtos_gold|qtd_ofertas_compra|qtd_compras_online|qtd_compras_catalogo|qtd_compras_na_loja|qtd_visitas_online_mes|oferta_aceita1|oferta_aceita2|oferta_aceita3|oferta_aceita4|oferta_aceita5|reclamacao|Relacionamento|Clientela|\n",
            "+---+-------------+--------------+------------------+-------------+-----------+-----------+---------------+--------------------+----------------------+----------+----------+---------+---------+----------+-----------------+------------------+------------------+--------------------+-------------------+----------------------+--------------+--------------+--------------+--------------+--------------+----------+--------------+---------+\n",
            "|  0|         5524|          1957|          Graduado|     Solteiro|    58138.0|          0|              0|          2012-09-04|                    58|       635|        88|      546|      172|        88|               88|                 3|                 8|                  10|                  4|                     7|           nao|           nao|           nao|           nao|           nao|       nao|         Otimo|  Cliente|\n",
            "|  1|         2174|          1954|          Graduado|     Solteiro|    46344.0|          1|              1|          2014-03-08|                    38|        11|         1|        6|        2|         1|                6|                 2|                 1|                   1|                  2|                     5|           nao|           nao|           nao|           nao|           nao|       nao|     Frequente|  Cliente|\n",
            "|  2|         4141|          1965|          Graduado|Uniao_estavel|    71613.0|          0|              0|          2013-08-21|                    26|       426|        49|      127|      111|        21|               42|                 1|                 8|                   2|                 10|                     4|           nao|           nao|           nao|           nao|           nao|       nao|         Otimo|  Cliente|\n",
            "|  3|         6182|          1984|          Graduado|Uniao_estavel|    26646.0|          1|              0|          2014-02-10|                    26|        11|         4|       20|       10|         3|                5|                 2|                 2|                   0|                  4|                     6|           nao|           nao|           nao|           nao|           nao|       nao|     Frequente|  Cliente|\n",
            "|  4|         5324|          1981|         Doutorado|       Casado|    58293.0|          1|              0|          2014-01-19|                    94|       173|        43|      118|       46|        27|               15|                 5|                 5|                   3|                  6|                     5|           nao|           nao|           nao|           nao|           nao|       nao|     Frequente|  Cliente|\n",
            "|  5|         7446|          1967|          Mestrado|Uniao_estavel|    62513.0|          0|              1|          2013-09-09|                    16|       520|        42|       98|        0|        42|               14|                 2|                 6|                   4|                 10|                     6|           nao|           nao|           nao|           nao|           nao|       nao|     Frequente|  Cliente|\n",
            "|  6|          965|          1971|          Graduado|   Divorciado|    55635.0|          0|              1|          2012-11-13|                    34|       235|        65|      164|       50|        49|               27|                 4|                 7|                   3|                  7|                     6|           nao|           nao|           nao|           nao|           nao|       nao|         Otimo|  Cliente|\n",
            "|  7|         6177|          1985|         Doutorado|       Casado|    33454.0|          1|              0|          2013-05-08|                    32|        76|        10|       56|        3|         1|               23|                 2|                 4|                   0|                  4|                     8|           nao|           nao|           nao|           nao|           nao|       nao|     Frequente|  Cliente|\n",
            "|  8|         4855|          1974|         Doutorado|Uniao_estavel|    30351.0|          1|              0|          2013-06-06|                    19|        14|         0|       24|        3|         3|                2|                 1|                 3|                   0|                  2|                     9|           nao|           nao|           nao|           nao|           nao|       nao|     Frequente|  Cliente|\n",
            "|  9|         5899|          1950|         Doutorado|Uniao_estavel|     5648.0|          1|              1|          2014-03-13|                    68|        28|         0|        6|        1|         1|               13|                 1|                 1|                   0|                  0|                    20|           sim|           nao|           nao|           nao|           nao|       nao|     Frequente|  Cliente|\n",
            "| 10|         1994|          1983|          Graduado|       Casado|   52247.25|          1|              0|          2013-11-15|                    11|         5|         5|        6|        0|         2|                1|                 1|                 1|                   0|                  2|                     7|           nao|           nao|           nao|           nao|           nao|       nao|     Frequente|  Cliente|\n",
            "| 11|          387|          1976|Ensino_fundamental|       Casado|     7500.0|          0|              0|          2012-11-13|                    59|         6|        16|       11|       11|         1|               16|                 1|                 2|                   0|                  3|                     8|           nao|           nao|           nao|           nao|           nao|       nao|     Frequente|  Cliente|\n",
            "| 12|         2125|          1959|          Graduado|   Divorciado|    63033.0|          0|              0|          2013-11-15|                    82|       194|        61|      480|      225|       112|               30|                 1|                 3|                   4|                  8|                     2|           nao|           nao|           nao|           nao|           nao|       nao|         Otimo|  Cliente|\n",
            "| 13|         8180|          1952|          Mestrado|   Divorciado|    59354.0|          1|              1|          2013-11-15|                    53|       233|         2|       53|        3|         5|               14|                 3|                 6|                   1|                  5|                     6|           nao|           nao|           nao|           nao|           nao|       nao|     Frequente|  Cliente|\n",
            "| 14|         2569|          1987|          Graduado|       Casado|    17323.0|          0|              0|          2012-10-10|                    38|         3|        14|       17|        6|         1|                5|                 1|                 1|                   0|                  3|                     8|           nao|           nao|           nao|           nao|           nao|       nao|     Frequente|  Cliente|\n",
            "| 15|         2114|          1946|         Doutorado|     Solteiro|    82800.0|          0|              0|          2012-11-24|                    23|      1006|        22|      115|       59|        68|               45|                 1|                 7|                   6|                 12|                     3|           nao|           nao|           sim|           sim|           nao|       nao|         Otimo|  Cliente|\n",
            "| 16|         9736|          1980|          Graduado|       Casado|    41850.0|          1|              1|          2012-12-24|                    51|        53|         5|       19|        2|        13|                4|                 3|                 3|                   0|                  3|                     8|           nao|           nao|           nao|           nao|           nao|       nao|     Frequente|  Cliente|\n",
            "| 17|         4939|          1946|          Graduado|Uniao_estavel|    37760.0|          0|              0|          2012-08-31|                    20|        84|         5|       38|      150|        12|               28|                 2|                 4|                   1|                  6|                     7|           nao|           nao|           nao|           nao|           nao|       nao|     Frequente|  Cliente|\n",
            "| 18|         6565|          1949|          Mestrado|       Casado|    76995.0|          0|              1|          2013-03-28|                    91|      1012|        80|      498|        0|        16|              176|                 2|                11|                   4|                  9|                     5|           nao|           nao|           nao|           sim|           nao|       nao|         Otimo|  Cliente|\n",
            "| 19|         2278|          1985|         Mestrando|     Solteiro|    33812.0|          1|              0|          2012-11-03|                    86|         4|        17|       19|       30|        24|               39|                 2|                 2|                   1|                  3|                     6|           nao|           nao|           nao|           nao|           nao|       nao|     Frequente|  Cliente|\n",
            "+---+-------------+--------------+------------------+-------------+-----------+-----------+---------------+--------------------+----------------------+----------+----------+---------+---------+----------+-----------------+------------------+------------------+--------------------+-------------------+----------------------+--------------+--------------+--------------+--------------+--------------+----------+--------------+---------+\n",
            "only showing top 20 rows\n",
            "\n"
          ]
        }
      ]
    },
    {
      "cell_type": "code",
      "source": [
        "# Soma a quantidade de compras online e presencial do cliente\n",
        "df2 = df2.withColumn(\"compras_total\", F.col(\"qtd_compras_online\") + F.col(\"qtd_compras_na_loja\"))"
      ],
      "metadata": {
        "id": "wTm9lmol6r_7"
      },
      "execution_count": 66,
      "outputs": []
    },
    {
      "cell_type": "code",
      "source": [
        "df2.show()  # Visualização na coluna compras_total"
      ],
      "metadata": {
        "id": "rEgE2jij6wau",
        "colab": {
          "base_uri": "https://localhost:8080/"
        },
        "outputId": "cae71076-c7e1-4a5e-e06d-db71e81272ae"
      },
      "execution_count": 67,
      "outputs": [
        {
          "output_type": "stream",
          "name": "stdout",
          "text": [
            "+---+-------------+--------------+------------------+-------------+-----------+-----------+---------------+--------------------+----------------------+----------+----------+---------+---------+----------+-----------------+------------------+------------------+--------------------+-------------------+----------------------+--------------+--------------+--------------+--------------+--------------+----------+--------------+---------+-------------+\n",
            "|   |identificacao|ano_nascimento|          educacao| estado_civil|renda_anual|qtd_crianca|qtd_adolescente|data_primeira_compra|dias_desde_ult_compras|qtd_vinhos|qtd_frutas|qtd_carne|qtd_peixe|guloseimas|qtd_produtos_gold|qtd_ofertas_compra|qtd_compras_online|qtd_compras_catalogo|qtd_compras_na_loja|qtd_visitas_online_mes|oferta_aceita1|oferta_aceita2|oferta_aceita3|oferta_aceita4|oferta_aceita5|reclamacao|Relacionamento|Clientela|compras_total|\n",
            "+---+-------------+--------------+------------------+-------------+-----------+-----------+---------------+--------------------+----------------------+----------+----------+---------+---------+----------+-----------------+------------------+------------------+--------------------+-------------------+----------------------+--------------+--------------+--------------+--------------+--------------+----------+--------------+---------+-------------+\n",
            "|  0|         5524|          1957|          Graduado|     Solteiro|    58138.0|          0|              0|          2012-09-04|                    58|       635|        88|      546|      172|        88|               88|                 3|                 8|                  10|                  4|                     7|           nao|           nao|           nao|           nao|           nao|       nao|         Otimo|  Cliente|           12|\n",
            "|  1|         2174|          1954|          Graduado|     Solteiro|    46344.0|          1|              1|          2014-03-08|                    38|        11|         1|        6|        2|         1|                6|                 2|                 1|                   1|                  2|                     5|           nao|           nao|           nao|           nao|           nao|       nao|     Frequente|  Cliente|            3|\n",
            "|  2|         4141|          1965|          Graduado|Uniao_estavel|    71613.0|          0|              0|          2013-08-21|                    26|       426|        49|      127|      111|        21|               42|                 1|                 8|                   2|                 10|                     4|           nao|           nao|           nao|           nao|           nao|       nao|         Otimo|  Cliente|           18|\n",
            "|  3|         6182|          1984|          Graduado|Uniao_estavel|    26646.0|          1|              0|          2014-02-10|                    26|        11|         4|       20|       10|         3|                5|                 2|                 2|                   0|                  4|                     6|           nao|           nao|           nao|           nao|           nao|       nao|     Frequente|  Cliente|            6|\n",
            "|  4|         5324|          1981|         Doutorado|       Casado|    58293.0|          1|              0|          2014-01-19|                    94|       173|        43|      118|       46|        27|               15|                 5|                 5|                   3|                  6|                     5|           nao|           nao|           nao|           nao|           nao|       nao|     Frequente|  Cliente|           11|\n",
            "|  5|         7446|          1967|          Mestrado|Uniao_estavel|    62513.0|          0|              1|          2013-09-09|                    16|       520|        42|       98|        0|        42|               14|                 2|                 6|                   4|                 10|                     6|           nao|           nao|           nao|           nao|           nao|       nao|     Frequente|  Cliente|           16|\n",
            "|  6|          965|          1971|          Graduado|   Divorciado|    55635.0|          0|              1|          2012-11-13|                    34|       235|        65|      164|       50|        49|               27|                 4|                 7|                   3|                  7|                     6|           nao|           nao|           nao|           nao|           nao|       nao|         Otimo|  Cliente|           14|\n",
            "|  7|         6177|          1985|         Doutorado|       Casado|    33454.0|          1|              0|          2013-05-08|                    32|        76|        10|       56|        3|         1|               23|                 2|                 4|                   0|                  4|                     8|           nao|           nao|           nao|           nao|           nao|       nao|     Frequente|  Cliente|            8|\n",
            "|  8|         4855|          1974|         Doutorado|Uniao_estavel|    30351.0|          1|              0|          2013-06-06|                    19|        14|         0|       24|        3|         3|                2|                 1|                 3|                   0|                  2|                     9|           nao|           nao|           nao|           nao|           nao|       nao|     Frequente|  Cliente|            5|\n",
            "|  9|         5899|          1950|         Doutorado|Uniao_estavel|     5648.0|          1|              1|          2014-03-13|                    68|        28|         0|        6|        1|         1|               13|                 1|                 1|                   0|                  0|                    20|           sim|           nao|           nao|           nao|           nao|       nao|     Frequente|  Cliente|            1|\n",
            "| 10|         1994|          1983|          Graduado|       Casado|   52247.25|          1|              0|          2013-11-15|                    11|         5|         5|        6|        0|         2|                1|                 1|                 1|                   0|                  2|                     7|           nao|           nao|           nao|           nao|           nao|       nao|     Frequente|  Cliente|            3|\n",
            "| 11|          387|          1976|Ensino_fundamental|       Casado|     7500.0|          0|              0|          2012-11-13|                    59|         6|        16|       11|       11|         1|               16|                 1|                 2|                   0|                  3|                     8|           nao|           nao|           nao|           nao|           nao|       nao|     Frequente|  Cliente|            5|\n",
            "| 12|         2125|          1959|          Graduado|   Divorciado|    63033.0|          0|              0|          2013-11-15|                    82|       194|        61|      480|      225|       112|               30|                 1|                 3|                   4|                  8|                     2|           nao|           nao|           nao|           nao|           nao|       nao|         Otimo|  Cliente|           11|\n",
            "| 13|         8180|          1952|          Mestrado|   Divorciado|    59354.0|          1|              1|          2013-11-15|                    53|       233|         2|       53|        3|         5|               14|                 3|                 6|                   1|                  5|                     6|           nao|           nao|           nao|           nao|           nao|       nao|     Frequente|  Cliente|           11|\n",
            "| 14|         2569|          1987|          Graduado|       Casado|    17323.0|          0|              0|          2012-10-10|                    38|         3|        14|       17|        6|         1|                5|                 1|                 1|                   0|                  3|                     8|           nao|           nao|           nao|           nao|           nao|       nao|     Frequente|  Cliente|            4|\n",
            "| 15|         2114|          1946|         Doutorado|     Solteiro|    82800.0|          0|              0|          2012-11-24|                    23|      1006|        22|      115|       59|        68|               45|                 1|                 7|                   6|                 12|                     3|           nao|           nao|           sim|           sim|           nao|       nao|         Otimo|  Cliente|           19|\n",
            "| 16|         9736|          1980|          Graduado|       Casado|    41850.0|          1|              1|          2012-12-24|                    51|        53|         5|       19|        2|        13|                4|                 3|                 3|                   0|                  3|                     8|           nao|           nao|           nao|           nao|           nao|       nao|     Frequente|  Cliente|            6|\n",
            "| 17|         4939|          1946|          Graduado|Uniao_estavel|    37760.0|          0|              0|          2012-08-31|                    20|        84|         5|       38|      150|        12|               28|                 2|                 4|                   1|                  6|                     7|           nao|           nao|           nao|           nao|           nao|       nao|     Frequente|  Cliente|           10|\n",
            "| 18|         6565|          1949|          Mestrado|       Casado|    76995.0|          0|              1|          2013-03-28|                    91|      1012|        80|      498|        0|        16|              176|                 2|                11|                   4|                  9|                     5|           nao|           nao|           nao|           sim|           nao|       nao|         Otimo|  Cliente|           20|\n",
            "| 19|         2278|          1985|         Mestrando|     Solteiro|    33812.0|          1|              0|          2012-11-03|                    86|         4|        17|       19|       30|        24|               39|                 2|                 2|                   1|                  3|                     6|           nao|           nao|           nao|           nao|           nao|       nao|     Frequente|  Cliente|            5|\n",
            "+---+-------------+--------------+------------------+-------------+-----------+-----------+---------------+--------------------+----------------------+----------+----------+---------+---------+----------+-----------------+------------------+------------------+--------------------+-------------------+----------------------+--------------+--------------+--------------+--------------+--------------+----------+--------------+---------+-------------+\n",
            "only showing top 20 rows\n",
            "\n"
          ]
        }
      ]
    },
    {
      "cell_type": "code",
      "source": [
        "# Dataframe grupos de clientes por educação e estado  civil\n",
        "df2.groupby(F.col(\"educacao\"), F.col(\"estado_civil\")).count().show(50)"
      ],
      "metadata": {
        "id": "foba6Crl6yaY",
        "colab": {
          "base_uri": "https://localhost:8080/"
        },
        "outputId": "57e5818b-5f28-4f6d-cc6d-e38fb40621a7"
      },
      "execution_count": 77,
      "outputs": [
        {
          "output_type": "stream",
          "name": "stdout",
          "text": [
            "+------------------+-------------+-----+\n",
            "|          educacao| estado_civil|count|\n",
            "+------------------+-------------+-----+\n",
            "|Ensino_fundamental|Uniao_estavel|   14|\n",
            "|Ensino_fundamental|     Solteiro|   18|\n",
            "|Ensino_fundamental|   Divorciado|    1|\n",
            "|          Graduado|     Solteiro|  252|\n",
            "|         Mestrando|     Solteiro|   37|\n",
            "|         Mestrando|       Casado|   81|\n",
            "|          Mestrado|   Divorciado|   37|\n",
            "|         Mestrando|   Divorciado|   23|\n",
            "|         Doutorado|Uniao_estavel|  117|\n",
            "|          Graduado|       Inapto|    1|\n",
            "|          Mestrado|        Viuvo|   12|\n",
            "|          Mestrado|       Casado|  138|\n",
            "|          Graduado|Uniao_estavel|  286|\n",
            "|         Mestrando|        Viuvo|    5|\n",
            "|          Mestrado| Mora_sozinho|    1|\n",
            "|         Doutorado| Mora_sozinho|    1|\n",
            "|          Graduado|       Casado|  433|\n",
            "|          Mestrado|     Solteiro|   75|\n",
            "|          Mestrado|Uniao_estavel|  106|\n",
            "|         Doutorado|     Solteiro|   98|\n",
            "|Ensino_fundamental|        Viuvo|    1|\n",
            "|          Mestrado|       Inapto|    1|\n",
            "|         Doutorado|        Viuvo|   24|\n",
            "|          Graduado| Mora_sozinho|    1|\n",
            "|          Graduado|   Divorciado|  119|\n",
            "|Ensino_fundamental|       Casado|   20|\n",
            "|         Doutorado|       Casado|  192|\n",
            "|         Doutorado|  Vive-a-vida|    2|\n",
            "|         Mestrando|Uniao_estavel|   57|\n",
            "|          Graduado|        Viuvo|   35|\n",
            "|         Doutorado|   Divorciado|   52|\n",
            "+------------------+-------------+-----+\n",
            "\n"
          ]
        }
      ]
    },
    {
      "cell_type": "markdown",
      "source": [
        "**6 - Deverá utilizar filtros, ordenação e agrupamento, trazendo dados relevantes para o negócio em questão.**"
      ],
      "metadata": {
        "id": "UGIWgKpKpsOb"
      }
    },
    {
      "cell_type": "code",
      "source": [
        "# Tabela com infomações de clientes que reclamaram\n",
        "df2.select(F.col(\"identificacao\"), F.col(\"educacao\"), F.col(\"estado_civil\"), F.col(\"compras_total\")).filter(F.col(\"reclamacao\") == \"sim\").show()"
      ],
      "metadata": {
        "id": "Yk4nJ77w61-r",
        "colab": {
          "base_uri": "https://localhost:8080/"
        },
        "outputId": "d76c0d96-d7ba-4ed8-bcf3-c5b2fe98b3c4"
      },
      "execution_count": 78,
      "outputs": [
        {
          "output_type": "stream",
          "name": "stdout",
          "text": [
            "+-------------+---------+-------------+-------------+\n",
            "|identificacao| educacao| estado_civil|compras_total|\n",
            "+-------------+---------+-------------+-------------+\n",
            "|        10401|Mestrando|Uniao_estavel|            3|\n",
            "|         3120| Graduado|Uniao_estavel|            3|\n",
            "|         7829|Mestrando|   Divorciado|            4|\n",
            "|         5726| Mestrado|     Solteiro|            7|\n",
            "|         6201| Graduado|     Solteiro|            5|\n",
            "|         6142| Mestrado|       Casado|           10|\n",
            "|         3710|Doutorado|     Solteiro|            4|\n",
            "|        10995|Mestrando|       Casado|            7|\n",
            "|         6730| Graduado|       Casado|            5|\n",
            "|         2875| Graduado|       Casado|           16|\n",
            "|          359| Graduado|Uniao_estavel|           14|\n",
            "|         9500| Graduado|       Casado|           17|\n",
            "|         7192| Graduado|Uniao_estavel|           12|\n",
            "|        10637| Graduado|       Casado|            6|\n",
            "|        10971| Graduado|     Solteiro|           10|\n",
            "|         9483| Graduado|Uniao_estavel|           12|\n",
            "|         9916| Graduado|       Casado|            5|\n",
            "|         6742| Graduado|       Casado|            3|\n",
            "|         4427|Mestrando|     Solteiro|           17|\n",
            "|         7966| Graduado|     Solteiro|           22|\n",
            "+-------------+---------+-------------+-------------+\n",
            "only showing top 20 rows\n",
            "\n"
          ]
        }
      ]
    },
    {
      "cell_type": "code",
      "source": [
        "# Conta numeros de reclamações\n",
        "\n",
        "df2.select(F.col(\"identificacao\"), F.col(\"educacao\"), F.col(\"estado_civil\"), F.col(\"compras_total\")).filter(F.col(\"reclamacao\") == \"sim\").count()  "
      ],
      "metadata": {
        "id": "n79Ur3FohHfi",
        "colab": {
          "base_uri": "https://localhost:8080/"
        },
        "outputId": "5c355cd5-4927-4f24-c84d-07ffef311955"
      },
      "execution_count": 79,
      "outputs": [
        {
          "output_type": "execute_result",
          "data": {
            "text/plain": [
              "21"
            ]
          },
          "metadata": {},
          "execution_count": 79
        }
      ]
    },
    {
      "cell_type": "code",
      "source": [
        "# Quantidade de Clientes que não possuem filhos: Crianças ou adolecentes\n",
        "\n",
        "filtro1 = F.col(\"qtd_crianca\") == 0\n",
        "filtro2 = F.col(\"qtd_adolescente\") == 0\n",
        "\n",
        "df2.select(F.col(\"qtd_crianca\"),\n",
        "           F.col(\"qtd_adolescente\")).filter(filtro1 & filtro2).count()"
      ],
      "metadata": {
        "id": "8X3fm76C6206",
        "colab": {
          "base_uri": "https://localhost:8080/"
        },
        "outputId": "e7d35776-ea7c-4bfc-d4d6-5cb529630b6b"
      },
      "execution_count": 80,
      "outputs": [
        {
          "output_type": "execute_result",
          "data": {
            "text/plain": [
              "638"
            ]
          },
          "metadata": {},
          "execution_count": 80
        }
      ]
    },
    {
      "cell_type": "markdown",
      "source": [
        "**7 - Utilizar pelo menos duas Window Functions.**"
      ],
      "metadata": {
        "id": "kyJSoLyGp-i1"
      }
    },
    {
      "cell_type": "code",
      "source": [
        "df2.select(F.col(\"identificacao\"),\n",
        "           F.col(\"dias_desde_ult_compras\"), F.col(\"renda_anual\")).orderBy(F.col(\"dias_desde_ult_compras\").desc()).show()"
      ],
      "metadata": {
        "id": "dAJ1sCkf65Eo",
        "colab": {
          "base_uri": "https://localhost:8080/"
        },
        "outputId": "9d0a0a5f-7040-47fe-dbdb-02f7b62c1066"
      },
      "execution_count": 81,
      "outputs": [
        {
          "output_type": "stream",
          "name": "stdout",
          "text": [
            "+-------------+----------------------+-----------+\n",
            "|identificacao|dias_desde_ult_compras|renda_anual|\n",
            "+-------------+----------------------+-----------+\n",
            "|          868|                    99|    44794.0|\n",
            "|         7829|                    99|    36640.0|\n",
            "|         7232|                    99|    42429.0|\n",
            "|        10142|                    99|    66476.0|\n",
            "|         9977|                    99|    78901.0|\n",
            "|         8595|                    99|    42429.0|\n",
            "|         7947|                    99|    42231.0|\n",
            "|         5263|                    99|    31056.0|\n",
            "|         3363|                    99|    20130.0|\n",
            "|         4070|                    99|    94871.0|\n",
            "|         2831|                    99|    78416.0|\n",
            "|         2415|                    99|    62568.0|\n",
            "|         1743|                    99|    69719.0|\n",
            "|         7212|                    99|    44794.0|\n",
            "|         2106|                    99|    20130.0|\n",
            "|          528|                    99|    65819.0|\n",
            "|           22|                    99|    46310.0|\n",
            "|         2320|                    98|    47025.0|\n",
            "|          213|                    98|    23091.0|\n",
            "|         6722|                    98|    70421.0|\n",
            "+-------------+----------------------+-----------+\n",
            "only showing top 20 rows\n",
            "\n"
          ]
        }
      ]
    },
    {
      "cell_type": "code",
      "source": [
        "w0 = Window.partitionBy(F.col(\"ano_nascimento\")).orderBy(\"renda_anual\")\n",
        "df2.withColumn(\"valor_referencia\", F.row_number().over(w0)).show()"
      ],
      "metadata": {
        "id": "ALMdkoDE66tq",
        "colab": {
          "base_uri": "https://localhost:8080/"
        },
        "outputId": "eb2dff15-e6a4-4fa9-b1d1-42838acbf36c"
      },
      "execution_count": 82,
      "outputs": [
        {
          "output_type": "stream",
          "name": "stdout",
          "text": [
            "+----+-------------+--------------+---------+-------------+-----------+-----------+---------------+--------------------+----------------------+----------+----------+---------+---------+----------+-----------------+------------------+------------------+--------------------+-------------------+----------------------+--------------+--------------+--------------+--------------+--------------+----------+--------------+---------+-------------+----------------+\n",
            "|    |identificacao|ano_nascimento| educacao| estado_civil|renda_anual|qtd_crianca|qtd_adolescente|data_primeira_compra|dias_desde_ult_compras|qtd_vinhos|qtd_frutas|qtd_carne|qtd_peixe|guloseimas|qtd_produtos_gold|qtd_ofertas_compra|qtd_compras_online|qtd_compras_catalogo|qtd_compras_na_loja|qtd_visitas_online_mes|oferta_aceita1|oferta_aceita2|oferta_aceita3|oferta_aceita4|oferta_aceita5|reclamacao|Relacionamento|Clientela|compras_total|valor_referencia|\n",
            "+----+-------------+--------------+---------+-------------+-----------+-----------+---------------+--------------------+----------------------+----------+----------+---------+---------+----------+-----------------+------------------+------------------+--------------------+-------------------+----------------------+--------------+--------------+--------------+--------------+--------------+----------+--------------+---------+-------------+----------------+\n",
            "| 239|        11004|          1893|Mestrando|     Solteiro|    60182.0|          0|              1|          2014-05-17|                    23|         8|         0|        5|        7|         0|                2|                 1|                 1|                   0|                  2|                     4|           nao|           nao|           nao|           nao|           nao|       nao|     Frequente|  Cliente|            3|               1|\n",
            "| 339|         1150|          1899|Doutorado|Uniao_estavel|    83532.0|          0|              0|          2013-09-26|                    36|       755|       144|      562|      104|        64|              224|                 1|                 4|                   6|                  4|                     1|           nao|           nao|           sim|           nao|           nao|       nao|         Otimo|  Cliente|            8|               1|\n",
            "| 192|         7829|          1900|Mestrando|   Divorciado|    36640.0|          1|              0|          2013-09-26|                    99|        15|         6|        8|        7|         4|               25|                 1|                 2|                   1|                  2|                     5|           nao|           nao|           nao|           nao|           nao|       sim|     Frequente|  Cliente|            4|               1|\n",
            "|1950|         6663|          1940|Doutorado|     Solteiro|    51141.0|          0|              0|          2013-07-08|                    96|       144|         0|        7|        0|         0|                6|                 1|                 3|                   1|                  4|                     5|           nao|           nao|           nao|           nao|           nao|       nao|     Frequente|  Cliente|            7|               1|\n",
            "| 424|         6932|          1941|Doutorado|       Casado|    93027.0|          0|              0|          2013-04-13|                    77|      1285|        42|      716|       55|         0|               21|                 0|                 7|                  10|                  5|                     2|           nao|           nao|           sim|           nao|           nao|       nao|         Otimo|  Cliente|           12|               1|\n",
            "|  39|         2968|          1943|Doutorado|   Divorciado|    48948.0|          0|              0|          2013-02-01|                    53|       437|         8|      206|      160|        49|               42|                 2|                 7|                  10|                  5|                     6|           sim|           nao|           nao|           nao|           nao|       nao|         Otimo|  Cliente|           12|               1|\n",
            "| 894|         8800|          1943|Doutorado|   Divorciado|    48948.0|          0|              0|          2013-02-01|                    53|       437|         8|      206|      160|        49|               42|                 2|                 7|                  10|                  5|                     6|           sim|           nao|           nao|           nao|           nao|       nao|         Otimo|  Cliente|           12|               2|\n",
            "|2084|         5250|          1943| Mestrado|        Viuvo|   52247.25|          0|              0|          2013-10-30|                    75|       532|       126|      490|      164|       126|              126|                 1|                 5|                   5|                 11|                     1|           nao|           nao|           sim|           nao|           nao|       nao|         Otimo|  Cliente|           16|               3|\n",
            "|1150|         1453|          1943|Doutorado|        Viuvo|    57513.0|          0|              0|          2013-07-06|                    59|       735|        40|      183|       52|        20|               30|                 2|                 9|                   3|                 13|                     6|           nao|           nao|           nao|           nao|           nao|       nao|         Otimo|  Cliente|           22|               4|\n",
            "| 358|         6142|          1943| Mestrado|       Casado|    65073.0|          0|              0|          2013-08-20|                    65|       629|        17|      177|       69|         0|                8|                 1|                 5|                   3|                  5|                     2|           nao|           nao|           nao|           nao|           nao|       sim|         Otimo|  Cliente|           10|               5|\n",
            "| 415|         7106|          1943|Doutorado|       Casado|    75865.0|          0|              0|          2014-03-31|                    73|       483|         0|      591|      156|         0|               12|                 1|                 3|                   5|                 10|                     1|           nao|           nao|           nao|           nao|           nao|       nao|         Otimo|  Cliente|           13|               6|\n",
            "|1923|         4994|          1943| Mestrado|     Solteiro|    77598.0|          0|              0|          2013-10-01|                    53|      1193|        33|      281|      129|        66|               33|                 1|                 7|                   5|                 13|                     3|           nao|           nao|           sim|           nao|           nao|       nao|         Otimo|  Cliente|           20|               7|\n",
            "| 611|         4587|          1944| Mestrado|        Viuvo|    45006.0|          0|              0|          2013-07-18|                    90|       162|        25|       53|       16|         0|               10|                 1|                 3|                   1|                  7|                     3|           nao|           nao|           nao|           nao|           nao|       nao|     Frequente|  Cliente|           10|               1|\n",
            "| 494|         6605|          1944|Doutorado|   Divorciado|    55614.0|          0|              0|          2013-11-27|                    85|       504|        13|      131|        8|         0|               26|                 1|                 9|                   4|                  6|                     7|           nao|           sim|           nao|           nao|           nao|       nao|         Otimo|  Cliente|           15|               2|\n",
            "|1270|         1740|          1944| Graduado|       Casado|    55956.0|          0|              0|          2014-04-07|                    22|       760|        38|      104|       50|         9|               38|                 2|                 7|                   3|                  4|                     4|           nao|           sim|           nao|           nao|           nao|       nao|         Otimo|  Cliente|           11|               3|\n",
            "| 499|          466|          1944| Graduado|       Casado|    65275.0|          0|              0|          2013-04-03|                     9|       388|        14|      218|       91|        14|               21|                 1|                 4|                   3|                 13|                     2|           nao|           nao|           nao|           nao|           nao|       nao|         Otimo|  Cliente|           17|               4|\n",
            "| 519|         3711|          1944| Mestrado|       Casado|    80184.0|          0|              0|          2014-03-01|                    19|      1035|       134|      670|       25|        38|                0|                 1|                 6|                   3|                 10|                     3|           nao|           nao|           sim|           sim|           nao|       nao|         Otimo|  Cliente|           16|               5|\n",
            "|1413|         4310|          1944| Graduado|       Casado|    80589.0|          0|              0|          2014-01-22|                    25|       507|        93|      520|      242|        40|               26|                 1|                 5|                  10|                  5|                     1|           nao|           nao|           nao|           sim|           nao|       nao|         Otimo|  Cliente|           10|               6|\n",
            "| 803|         9930|          1944|Doutorado|     Solteiro|    82716.0|          0|              0|          2013-11-05|                     8|       606|       148|      228|       15|       148|               22|                 1|                 6|                   8|                 13|                     2|           nao|           nao|           nao|           nao|           nao|       nao|         Otimo|  Cliente|           19|               7|\n",
            "|1742|          263|          1945|Doutorado|     Solteiro|    45576.0|          0|              0|          2014-05-28|                     9|        56|        19|       29|        2|        14|               25|                 1|                 3|                   1|                  3|                     8|           nao|           nao|           nao|           nao|           nao|       nao|     Frequente|  Cliente|            6|               1|\n",
            "+----+-------------+--------------+---------+-------------+-----------+-----------+---------------+--------------------+----------------------+----------+----------+---------+---------+----------+-----------------+------------------+------------------+--------------------+-------------------+----------------------+--------------+--------------+--------------+--------------+--------------+----------+--------------+---------+-------------+----------------+\n",
            "only showing top 20 rows\n",
            "\n"
          ]
        }
      ]
    },
    {
      "cell_type": "code",
      "source": [
        "df2.withColumn(\"percent_rank\",percent_rank().over(w0)).show()"
      ],
      "metadata": {
        "id": "78CpdHUE688w",
        "colab": {
          "base_uri": "https://localhost:8080/"
        },
        "outputId": "4e43b2ba-69f5-4dbd-fe2a-ad8684fc7589"
      },
      "execution_count": 83,
      "outputs": [
        {
          "output_type": "stream",
          "name": "stdout",
          "text": [
            "+----+-------------+--------------+---------+-------------+-----------+-----------+---------------+--------------------+----------------------+----------+----------+---------+---------+----------+-----------------+------------------+------------------+--------------------+-------------------+----------------------+--------------+--------------+--------------+--------------+--------------+----------+--------------+---------+-------------+-------------------+\n",
            "|    |identificacao|ano_nascimento| educacao| estado_civil|renda_anual|qtd_crianca|qtd_adolescente|data_primeira_compra|dias_desde_ult_compras|qtd_vinhos|qtd_frutas|qtd_carne|qtd_peixe|guloseimas|qtd_produtos_gold|qtd_ofertas_compra|qtd_compras_online|qtd_compras_catalogo|qtd_compras_na_loja|qtd_visitas_online_mes|oferta_aceita1|oferta_aceita2|oferta_aceita3|oferta_aceita4|oferta_aceita5|reclamacao|Relacionamento|Clientela|compras_total|       percent_rank|\n",
            "+----+-------------+--------------+---------+-------------+-----------+-----------+---------------+--------------------+----------------------+----------+----------+---------+---------+----------+-----------------+------------------+------------------+--------------------+-------------------+----------------------+--------------+--------------+--------------+--------------+--------------+----------+--------------+---------+-------------+-------------------+\n",
            "| 239|        11004|          1893|Mestrando|     Solteiro|    60182.0|          0|              1|          2014-05-17|                    23|         8|         0|        5|        7|         0|                2|                 1|                 1|                   0|                  2|                     4|           nao|           nao|           nao|           nao|           nao|       nao|     Frequente|  Cliente|            3|                0.0|\n",
            "| 339|         1150|          1899|Doutorado|Uniao_estavel|    83532.0|          0|              0|          2013-09-26|                    36|       755|       144|      562|      104|        64|              224|                 1|                 4|                   6|                  4|                     1|           nao|           nao|           sim|           nao|           nao|       nao|         Otimo|  Cliente|            8|                0.0|\n",
            "| 192|         7829|          1900|Mestrando|   Divorciado|    36640.0|          1|              0|          2013-09-26|                    99|        15|         6|        8|        7|         4|               25|                 1|                 2|                   1|                  2|                     5|           nao|           nao|           nao|           nao|           nao|       sim|     Frequente|  Cliente|            4|                0.0|\n",
            "|1950|         6663|          1940|Doutorado|     Solteiro|    51141.0|          0|              0|          2013-07-08|                    96|       144|         0|        7|        0|         0|                6|                 1|                 3|                   1|                  4|                     5|           nao|           nao|           nao|           nao|           nao|       nao|     Frequente|  Cliente|            7|                0.0|\n",
            "| 424|         6932|          1941|Doutorado|       Casado|    93027.0|          0|              0|          2013-04-13|                    77|      1285|        42|      716|       55|         0|               21|                 0|                 7|                  10|                  5|                     2|           nao|           nao|           sim|           nao|           nao|       nao|         Otimo|  Cliente|           12|                0.0|\n",
            "|  39|         2968|          1943|Doutorado|   Divorciado|    48948.0|          0|              0|          2013-02-01|                    53|       437|         8|      206|      160|        49|               42|                 2|                 7|                  10|                  5|                     6|           sim|           nao|           nao|           nao|           nao|       nao|         Otimo|  Cliente|           12|                0.0|\n",
            "| 894|         8800|          1943|Doutorado|   Divorciado|    48948.0|          0|              0|          2013-02-01|                    53|       437|         8|      206|      160|        49|               42|                 2|                 7|                  10|                  5|                     6|           sim|           nao|           nao|           nao|           nao|       nao|         Otimo|  Cliente|           12|                0.0|\n",
            "|2084|         5250|          1943| Mestrado|        Viuvo|   52247.25|          0|              0|          2013-10-30|                    75|       532|       126|      490|      164|       126|              126|                 1|                 5|                   5|                 11|                     1|           nao|           nao|           sim|           nao|           nao|       nao|         Otimo|  Cliente|           16| 0.3333333333333333|\n",
            "|1150|         1453|          1943|Doutorado|        Viuvo|    57513.0|          0|              0|          2013-07-06|                    59|       735|        40|      183|       52|        20|               30|                 2|                 9|                   3|                 13|                     6|           nao|           nao|           nao|           nao|           nao|       nao|         Otimo|  Cliente|           22|                0.5|\n",
            "| 358|         6142|          1943| Mestrado|       Casado|    65073.0|          0|              0|          2013-08-20|                    65|       629|        17|      177|       69|         0|                8|                 1|                 5|                   3|                  5|                     2|           nao|           nao|           nao|           nao|           nao|       sim|         Otimo|  Cliente|           10| 0.6666666666666666|\n",
            "| 415|         7106|          1943|Doutorado|       Casado|    75865.0|          0|              0|          2014-03-31|                    73|       483|         0|      591|      156|         0|               12|                 1|                 3|                   5|                 10|                     1|           nao|           nao|           nao|           nao|           nao|       nao|         Otimo|  Cliente|           13| 0.8333333333333334|\n",
            "|1923|         4994|          1943| Mestrado|     Solteiro|    77598.0|          0|              0|          2013-10-01|                    53|      1193|        33|      281|      129|        66|               33|                 1|                 7|                   5|                 13|                     3|           nao|           nao|           sim|           nao|           nao|       nao|         Otimo|  Cliente|           20|                1.0|\n",
            "| 611|         4587|          1944| Mestrado|        Viuvo|    45006.0|          0|              0|          2013-07-18|                    90|       162|        25|       53|       16|         0|               10|                 1|                 3|                   1|                  7|                     3|           nao|           nao|           nao|           nao|           nao|       nao|     Frequente|  Cliente|           10|                0.0|\n",
            "| 494|         6605|          1944|Doutorado|   Divorciado|    55614.0|          0|              0|          2013-11-27|                    85|       504|        13|      131|        8|         0|               26|                 1|                 9|                   4|                  6|                     7|           nao|           sim|           nao|           nao|           nao|       nao|         Otimo|  Cliente|           15|0.16666666666666666|\n",
            "|1270|         1740|          1944| Graduado|       Casado|    55956.0|          0|              0|          2014-04-07|                    22|       760|        38|      104|       50|         9|               38|                 2|                 7|                   3|                  4|                     4|           nao|           sim|           nao|           nao|           nao|       nao|         Otimo|  Cliente|           11| 0.3333333333333333|\n",
            "| 499|          466|          1944| Graduado|       Casado|    65275.0|          0|              0|          2013-04-03|                     9|       388|        14|      218|       91|        14|               21|                 1|                 4|                   3|                 13|                     2|           nao|           nao|           nao|           nao|           nao|       nao|         Otimo|  Cliente|           17|                0.5|\n",
            "| 519|         3711|          1944| Mestrado|       Casado|    80184.0|          0|              0|          2014-03-01|                    19|      1035|       134|      670|       25|        38|                0|                 1|                 6|                   3|                 10|                     3|           nao|           nao|           sim|           sim|           nao|       nao|         Otimo|  Cliente|           16| 0.6666666666666666|\n",
            "|1413|         4310|          1944| Graduado|       Casado|    80589.0|          0|              0|          2014-01-22|                    25|       507|        93|      520|      242|        40|               26|                 1|                 5|                  10|                  5|                     1|           nao|           nao|           nao|           sim|           nao|       nao|         Otimo|  Cliente|           10| 0.8333333333333334|\n",
            "| 803|         9930|          1944|Doutorado|     Solteiro|    82716.0|          0|              0|          2013-11-05|                     8|       606|       148|      228|       15|       148|               22|                 1|                 6|                   8|                 13|                     2|           nao|           nao|           nao|           nao|           nao|       nao|         Otimo|  Cliente|           19|                1.0|\n",
            "|1742|          263|          1945|Doutorado|     Solteiro|    45576.0|          0|              0|          2014-05-28|                     9|        56|        19|       29|        2|        14|               25|                 1|                 3|                   1|                  3|                     8|           nao|           nao|           nao|           nao|           nao|       nao|     Frequente|  Cliente|            6|                0.0|\n",
            "+----+-------------+--------------+---------+-------------+-----------+-----------+---------------+--------------------+----------------------+----------+----------+---------+---------+----------+-----------------+------------------+------------------+--------------------+-------------------+----------------------+--------------+--------------+--------------+--------------+--------------+----------+--------------+---------+-------------+-------------------+\n",
            "only showing top 20 rows\n",
            "\n"
          ]
        }
      ]
    },
    {
      "cell_type": "markdown",
      "source": [
        "### **Carregamento no Drive**"
      ],
      "metadata": {
        "id": "YuZnX8Dx2YWC"
      }
    },
    {
      "cell_type": "code",
      "source": [
        "# Salva local \n",
        "df2.write.csv(\"df_spark_marketing_campaign.csv\")"
      ],
      "metadata": {
        "id": "qpLAYHu9dcWp"
      },
      "execution_count": 98,
      "outputs": []
    },
    {
      "cell_type": "code",
      "source": [
        "# Salva local na pasta \"/content/\"\n",
        "df2.write.format(\"com.databricks.spark.csv\").option(\"header\", \"true\").option(\"inferschema\", \"true\")\\\n",
        "    .option(\"delimiter\", \";\").save(\"/content/df_spark_marketing_campaign.csv\")"
      ],
      "metadata": {
        "id": "Dtr7jYkC6_xP"
      },
      "execution_count": 101,
      "outputs": []
    },
    {
      "cell_type": "markdown",
      "source": [
        "### **Carregamento no GCP**"
      ],
      "metadata": {
        "id": "9jOpmrIC17RV"
      }
    },
    {
      "cell_type": "code",
      "source": [
        "# Salva no GCP\n",
        "df2.coalesce(1).write.mode('overwrite').csv(path)"
      ],
      "metadata": {
        "id": "d2pLjdHqfrhE"
      },
      "execution_count": 93,
      "outputs": []
    }
  ]
}