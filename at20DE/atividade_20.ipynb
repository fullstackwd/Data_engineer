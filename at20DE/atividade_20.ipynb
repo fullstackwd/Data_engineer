{
 "cells": [
  {
   "cell_type": "markdown",
   "id": "d975d743",
   "metadata": {},
   "source": [
    "## Atividade 20 - Migração e Integração de Bases de Dados"
   ]
  },
  {
   "cell_type": "markdown",
   "id": "4607364a",
   "metadata": {},
   "source": [
    "A SoulCode Academy utiliza dois sistemas distintos para cadastro de vendas, um em sua matriz e outro em suas filiais. O sistema da matriz utiliza um db noSQL enquanto os das filiais ainda utilizam um SQL. As tabelas a seguir são amostras de dados dos dois tipos de db enviadas para auxiliar seu desenvolvimento. Crie uma db em SQL e uma noSQL, e adicione essas amostrar para criar um ambiente simulando o problema real. A seguir crie um código em Python que leia a db SQL, corrija, padronize e insira os dados na db noSQL."
   ]
  },
  {
   "cell_type": "markdown",
   "id": "d5964bbe",
   "metadata": {},
   "source": [
    "Devem ser entregues:\n",
    "- os códigos desenvolvidos\n",
    "- um cronograma apresentando quem fez o que e quando\n",
    "- uma apresentação em slides apresentando o desenvolvimento criado"
   ]
  },
  {
   "cell_type": "markdown",
   "id": "34b7dc3d",
   "metadata": {},
   "source": [
    "### Instalações das bibliotecas"
   ]
  },
  {
   "cell_type": "markdown",
   "id": "fc9b8405",
   "metadata": {},
   "source": [
    "### Importações das bibliotecas"
   ]
  },
  {
   "cell_type": "code",
   "execution_count": 1,
   "id": "64cba4df",
   "metadata": {},
   "outputs": [],
   "source": [
    "try:\n",
    "    from google.cloud import storage\n",
    "    import google.cloud.storage\n",
    "    import json\n",
    "    import csv\n",
    "    import os\n",
    "    import sys\n",
    "    import pandas as pd\n",
    "    import numpy as np\n",
    "except Exception as e:\n",
    "    print(\"Error : {'Falha Imports'} \".format(e))"
   ]
  },
  {
   "cell_type": "markdown",
   "id": "142682f4",
   "metadata": {},
   "source": [
    "### Conectores"
   ]
  },
  {
   "cell_type": "code",
   "execution_count": 2,
   "id": "7e7b2f90",
   "metadata": {},
   "outputs": [],
   "source": [
    "#CONFIGURAÇÃO DA CHAVE DE SEGURANÇA\n",
    "serviceAccount = 'C://Cursos//Soulcode//AuthKey//quantum-pilot-349020-5b36e5952629.json'\n",
    "\n",
    "os.environ['GOOGLE_APPLICATION_CREDENTIALS'] = serviceAccount"
   ]
  },
  {
   "cell_type": "code",
   "execution_count": 3,
   "id": "a176333a",
   "metadata": {},
   "outputs": [],
   "source": [
    "#CÓDIGO QUE ACESSA A BUCKET CRIADA E FAZ O DOWNLOAD DOS ARQUIVOS VIA PANDAS\n",
    "client = storage.Client()\n",
    "\n",
    "#CRIAR UMA VARIÁVEL CHAMADA BUCKET QUE VAI RECEBER O NOME DA BUCKET DO CLOUD STORAGE\n",
    "bucket = client.get_bucket('soulcodestore')\n",
    "\n",
    "#USAR O MÉTODO BLOB PARA RETORNAR O NOME DO ARQUIVO (JSON, CSV, PARQUET)\n",
    "# bucket.blob('Acessos_Banda_Larga_Fixa_2021.csv')\n",
    "\n",
    "#CRIA UMA VARIÁVEL PATH PARA COLOCAR O CAMINHO DO CSV\n",
    "#path = 'gs://datasets_pyspark/arquivo_geral.csv'\n",
    "path1 = 'gs://soulcodestore/originais/Sistema_B_NoSQL.csv'\n",
    "path2 = 'gs://soulcodestore/originais/Sistema_A_SQL.csv'"
   ]
  },
  {
   "cell_type": "markdown",
   "id": "b99eece3",
   "metadata": {},
   "source": [
    "### Criar Bucket no GCP e salvar os arquivos originais"
   ]
  },
  {
   "cell_type": "code",
   "execution_count": 4,
   "id": "b9a39abc",
   "metadata": {},
   "outputs": [],
   "source": [
    "# Download de arquivos originais para bucket - GCP "
   ]
  },
  {
   "cell_type": "code",
   "execution_count": 7,
   "id": "92834595",
   "metadata": {},
   "outputs": [],
   "source": [
    "## Downloading a File from Bucket"
   ]
  },
  {
   "cell_type": "markdown",
   "id": "3cb21a57",
   "metadata": {},
   "source": [
    "### Acessar arquivos localmente"
   ]
  },
  {
   "cell_type": "code",
   "execution_count": null,
   "id": "88849d71",
   "metadata": {},
   "outputs": [],
   "source": [
    "# Acesso do arquivo Sistema_B_NoSQL.csv - Matriz"
   ]
  },
  {
   "cell_type": "code",
   "execution_count": null,
   "id": "51ef7ddd",
   "metadata": {},
   "outputs": [],
   "source": [
    "# Leitura de dados\n",
    "dfA = pd.read_csv(r'C://Cursos//Soulcode//at20DE//originais//Sistema_A_SQL.csv', sep=',')"
   ]
  },
  {
   "cell_type": "code",
   "execution_count": null,
   "id": "1ad9c846",
   "metadata": {},
   "outputs": [],
   "source": [
    "dfA"
   ]
  },
  {
   "cell_type": "code",
   "execution_count": null,
   "id": "df430702",
   "metadata": {},
   "outputs": [],
   "source": [
    "# Acesso do arquivo Sistema_A_SQL.csv - Filiais"
   ]
  },
  {
   "cell_type": "code",
   "execution_count": null,
   "id": "5cedcb8d",
   "metadata": {},
   "outputs": [],
   "source": [
    "# Leitura de dados\n",
    "dfB = pd.read_csv(r'C://Cursos//Soulcode//at20DE//originais//Sistema_A_SQL.csv', sep=',')"
   ]
  },
  {
   "cell_type": "code",
   "execution_count": null,
   "id": "bd6198bb",
   "metadata": {},
   "outputs": [],
   "source": [
    "dfB"
   ]
  },
  {
   "cell_type": "markdown",
   "id": "a4018792",
   "metadata": {},
   "source": [
    "### Acessar arquivos do GCP"
   ]
  },
  {
   "cell_type": "code",
   "execution_count": null,
   "id": "1e888297",
   "metadata": {},
   "outputs": [],
   "source": [
    "# Acesso do arquivo Sistema_B_NoSQL.csv - Matriz"
   ]
  },
  {
   "cell_type": "code",
   "execution_count": null,
   "id": "a3ede64f",
   "metadata": {},
   "outputs": [],
   "source": [
    "gcpB = pd.read_csv(path2, sep=',')"
   ]
  },
  {
   "cell_type": "code",
   "execution_count": null,
   "id": "0afc3cfb",
   "metadata": {},
   "outputs": [],
   "source": [
    "gcpB"
   ]
  },
  {
   "cell_type": "code",
   "execution_count": null,
   "id": "81f053d0",
   "metadata": {},
   "outputs": [],
   "source": [
    "# Acesso do arquivo Sistema_A_SQL.csv - Filiais"
   ]
  },
  {
   "cell_type": "code",
   "execution_count": null,
   "id": "c77030e4",
   "metadata": {},
   "outputs": [],
   "source": [
    "gcpA = pd.read_csv(path1, sep=',')"
   ]
  },
  {
   "cell_type": "code",
   "execution_count": null,
   "id": "3add027b",
   "metadata": {},
   "outputs": [],
   "source": [
    "gcpA"
   ]
  },
  {
   "cell_type": "markdown",
   "id": "94ad825e",
   "metadata": {},
   "source": [
    "### Criar Banco de dados - MongoDB - Sistema_B_NoSQL.csv - Matriz"
   ]
  },
  {
   "cell_type": "code",
   "execution_count": null,
   "id": "999453cb",
   "metadata": {},
   "outputs": [],
   "source": [
    "# Converter dados de .csv para .json"
   ]
  },
  {
   "cell_type": "code",
   "execution_count": null,
   "id": "5837b780",
   "metadata": {},
   "outputs": [],
   "source": []
  },
  {
   "cell_type": "code",
   "execution_count": null,
   "id": "40942cae",
   "metadata": {},
   "outputs": [],
   "source": [
    "# Verificar arquivo .json"
   ]
  },
  {
   "cell_type": "code",
   "execution_count": null,
   "id": "581c4817",
   "metadata": {},
   "outputs": [],
   "source": []
  },
  {
   "cell_type": "code",
   "execution_count": null,
   "id": "93ac3daf",
   "metadata": {},
   "outputs": [],
   "source": [
    "# Criar banco MongoDB"
   ]
  },
  {
   "cell_type": "code",
   "execution_count": null,
   "id": "cbaeed48",
   "metadata": {},
   "outputs": [],
   "source": []
  },
  {
   "cell_type": "code",
   "execution_count": null,
   "id": "12ec1e34",
   "metadata": {},
   "outputs": [],
   "source": [
    "# Inserir dados"
   ]
  },
  {
   "cell_type": "code",
   "execution_count": null,
   "id": "b66d174b",
   "metadata": {},
   "outputs": [],
   "source": []
  },
  {
   "cell_type": "code",
   "execution_count": null,
   "id": "ad51b190",
   "metadata": {},
   "outputs": [],
   "source": [
    "# Verificar dados"
   ]
  },
  {
   "cell_type": "code",
   "execution_count": null,
   "id": "1c19e614",
   "metadata": {},
   "outputs": [],
   "source": []
  },
  {
   "cell_type": "markdown",
   "id": "abb0538b",
   "metadata": {},
   "source": [
    "### Criar Banco de dados - Postgres -  Acesso do arquivo Sistema_A_SQL.csv - Filiais"
   ]
  },
  {
   "cell_type": "code",
   "execution_count": null,
   "id": "9a7d0ac3",
   "metadata": {},
   "outputs": [],
   "source": [
    "# Criar banco Postgres"
   ]
  },
  {
   "cell_type": "code",
   "execution_count": null,
   "id": "d61a101a",
   "metadata": {},
   "outputs": [],
   "source": []
  },
  {
   "cell_type": "code",
   "execution_count": null,
   "id": "92133610",
   "metadata": {},
   "outputs": [],
   "source": [
    "# Inserir dados"
   ]
  },
  {
   "cell_type": "code",
   "execution_count": null,
   "id": "f99dd14e",
   "metadata": {},
   "outputs": [],
   "source": []
  },
  {
   "cell_type": "code",
   "execution_count": null,
   "id": "f130f61a",
   "metadata": {},
   "outputs": [],
   "source": [
    "# Verificar dados"
   ]
  },
  {
   "cell_type": "code",
   "execution_count": null,
   "id": "881c2336",
   "metadata": {},
   "outputs": [],
   "source": []
  },
  {
   "cell_type": "markdown",
   "id": "c40ac62a",
   "metadata": {},
   "source": [
    "### Integração dos dados - Matriz - Filiais"
   ]
  },
  {
   "cell_type": "code",
   "execution_count": null,
   "id": "b3873a57",
   "metadata": {},
   "outputs": [],
   "source": [
    "# Conveter Sistema_A_SQL.csv em .json"
   ]
  },
  {
   "cell_type": "code",
   "execution_count": null,
   "id": "b64cc878",
   "metadata": {},
   "outputs": [],
   "source": []
  },
  {
   "cell_type": "code",
   "execution_count": null,
   "id": "f544a937",
   "metadata": {},
   "outputs": [],
   "source": [
    "# Criar novo banco integrado - MongoDB"
   ]
  },
  {
   "cell_type": "code",
   "execution_count": null,
   "id": "5d0176e7",
   "metadata": {},
   "outputs": [],
   "source": []
  },
  {
   "cell_type": "code",
   "execution_count": null,
   "id": "91be930b",
   "metadata": {},
   "outputs": [],
   "source": [
    "# Conferir dados"
   ]
  },
  {
   "cell_type": "code",
   "execution_count": null,
   "id": "394a7106",
   "metadata": {},
   "outputs": [],
   "source": []
  },
  {
   "cell_type": "code",
   "execution_count": null,
   "id": "e31785a3",
   "metadata": {},
   "outputs": [],
   "source": [
    "# Salvar dados"
   ]
  },
  {
   "cell_type": "code",
   "execution_count": null,
   "id": "134a8f7a",
   "metadata": {},
   "outputs": [],
   "source": []
  },
  {
   "cell_type": "code",
   "execution_count": null,
   "id": "431b9961",
   "metadata": {},
   "outputs": [],
   "source": [
    "# Upload no GCP"
   ]
  },
  {
   "cell_type": "code",
   "execution_count": null,
   "id": "08788e0b",
   "metadata": {},
   "outputs": [],
   "source": []
  },
  {
   "cell_type": "code",
   "execution_count": null,
   "id": "4c3ec3fc",
   "metadata": {},
   "outputs": [],
   "source": [
    "### Padronização e Normalização"
   ]
  }
 ],
 "metadata": {
  "kernelspec": {
   "display_name": "Python 3 (ipykernel)",
   "language": "python",
   "name": "python3"
  },
  "language_info": {
   "codemirror_mode": {
    "name": "ipython",
    "version": 3
   },
   "file_extension": ".py",
   "mimetype": "text/x-python",
   "name": "python",
   "nbconvert_exporter": "python",
   "pygments_lexer": "ipython3",
   "version": "3.9.10"
  }
 },
 "nbformat": 4,
 "nbformat_minor": 5
}
