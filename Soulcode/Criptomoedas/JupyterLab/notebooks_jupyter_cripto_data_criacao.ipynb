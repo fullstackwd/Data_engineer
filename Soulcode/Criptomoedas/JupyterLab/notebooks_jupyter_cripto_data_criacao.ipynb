{
  "nbformat": 4,
  "nbformat_minor": 0,
  "metadata": {
    "colab": {
      "name": "cripto_data_criacao.ipynb",
      "provenance": [],
      "collapsed_sections": []
    },
    "kernelspec": {
      "name": "python3",
      "display_name": "Python 3"
    },
    "language_info": {
      "name": "python"
    }
  },
  "cells": [
    {
      "cell_type": "code",
      "execution_count": null,
      "metadata": {
        "id": "0A6_5UTfyYAm"
      },
      "outputs": [],
      "source": [
        "\n",
        "# BC17 - Projeto Final\n",
        "\n",
        "# objetivo: usa a API do site coinmarketcap.com para resgatar as datas de criação das criptomoedas, gerando um arquivo json\n",
        "# autor: carlos bahia\n",
        "\n",
        "import requests\n",
        "import secrets\n",
        "import pandas as pd\n",
        "import json\n",
        "import datetime\n",
        "from datetime import date, timedelta\n",
        "\n",
        "# urls para consulta com a API\n",
        "#url = 'https://pro-api.coinmarketcap.com/v1/cryptocurrency/map'\n",
        "url = 'https://pro-api.coinmarketcap.com/v1/cryptocurrency/map'\n",
        "#url = 'https://coinmarketcap.com/api/documentation/v1/#operation/v1/exchange'\n",
        "#url = 'https://coinmarketcap.com/api/documentation/v1/#operation/getV1ExchangeInfo'\n",
        "#/v1/exchange/info\n",
        "\n",
        "parameters = {\n",
        "  'start':'1',\n",
        "  'limit':'5000'\n",
        "\n",
        "}\n",
        "headers = {\n",
        "  'Accepts': 'application/json',\n",
        "  'X-CMC_PRO_API_KEY': '3d301cc4-11d4-4501-8490-eb1e836a7222',\n",
        "}\n",
        "\n",
        "r = requests.get(url,headers = headers, params=parameters)\n",
        "print('')\n",
        "print('resposta da consulta ', r)\n",
        "print('')\n",
        "\n",
        "from pprint import pprint as pp\n",
        "#pp(r.json())\n",
        "temp = r.json()\n",
        "\n",
        "df = pd.DataFrame(json) # poderia trabalhar com json, mas preferi Cria um dataframe\n",
        "total_series = df.columns.tolist() # Lista de colunas\n",
        "\n",
        "\n",
        "\n",
        "pp(r.json()['data'][0])\n",
        "\n",
        "#first_historical_data\n",
        "\n"
      ]
    }
  ]
}