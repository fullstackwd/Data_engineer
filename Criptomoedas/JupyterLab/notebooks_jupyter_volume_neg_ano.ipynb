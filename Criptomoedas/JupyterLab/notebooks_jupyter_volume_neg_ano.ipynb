{
  "nbformat": 4,
  "nbformat_minor": 0,
  "metadata": {
    "colab": {
      "name": "BC17_Projeto_Final.ipynb",
      "provenance": [],
      "collapsed_sections": []
    },
    "kernelspec": {
      "name": "python3",
      "display_name": "Python 3"
    },
    "language_info": {
      "name": "python"
    }
  },
  "cells": [
    {
      "cell_type": "code",
      "execution_count": null,
      "metadata": {
        "id": "hJw0n3iamxyu"
      },
      "outputs": [],
      "source": [
        "#INSTALAÇÃO DA BILIOTECA PYSPARK\n",
        "!pip install pyspark\n",
        "!pip install gcsfs"
      ]
    },
    {
      "cell_type": "code",
      "source": [
        "# Montando o Google Drive\n",
        "from google.colab import drive\n",
        "drive.mount('/content/drive')"
      ],
      "metadata": {
        "colab": {
          "base_uri": "https://localhost:8080/"
        },
        "id": "QKecMcvG0cqy",
        "outputId": "8d90c762-755b-41e5-9fc4-b4f998067021"
      },
      "execution_count": 7,
      "outputs": [
        {
          "output_type": "stream",
          "name": "stdout",
          "text": [
            "Mounted at /content/drive\n"
          ]
        }
      ]
    },
    {
      "cell_type": "code",
      "source": [
        "#CHAMAR AS BIBLIOTECAS/MÓDULOS NECESSÁRIAS\n",
        "from pyspark.sql import SparkSession\n",
        "from pyspark.sql.types import StructType, StructField, StringType, IntegerType, DateType, FloatType\n",
        " \n",
        "from pyspark import SparkConf\n",
        "import pyspark.sql.functions as F\n",
        "\n",
        "#CHAMAR AS BIBLIOTECAS/MÓDULOS NECESSÁRIAS\n",
        "from google.cloud import storage\n",
        "import os\n",
        "\n",
        "import pandas as pd\n",
        "!pip install pyarrow\n",
        "\n",
        "#CONFIGURAÇÃO DA CHAVE DE SEGURANÇA\n",
        "serviceAccount = '/content/drive/MyDrive/projeto_final/weighty-archive-349117-006e0d6bc25e.json'\n",
        "os.environ['GOOGLE_APPLICATION_CREDENTIALS'] = serviceAccount"
      ],
      "metadata": {
        "id": "HZHCNjl0wnUh",
        "colab": {
          "base_uri": "https://localhost:8080/"
        },
        "outputId": "bd845026-b7cb-48eb-d8d1-00022d8aab58"
      },
      "execution_count": 3,
      "outputs": [
        {
          "output_type": "stream",
          "name": "stdout",
          "text": [
            "Looking in indexes: https://pypi.org/simple, https://us-python.pkg.dev/colab-wheels/public/simple/\n",
            "Requirement already satisfied: pyarrow in /usr/local/lib/python3.7/dist-packages (6.0.1)\n",
            "Requirement already satisfied: numpy>=1.16.6 in /usr/local/lib/python3.7/dist-packages (from pyarrow) (1.21.6)\n"
          ]
        }
      ]
    },
    {
      "cell_type": "code",
      "source": [
        "#CÓDIGO QUE ACESSA A BUCKET CRIADA E FAZ O DOWNLOAD DOS ARQUIVOS VIA PYSPARK\n",
        "#client = storage.Client()\n",
        "\n",
        "#CRIAR VARIÁVEL PARA RECEBER O NOME DA BUCKET\n",
        "#bucket = client.get_bucket('tratamentospark')\n",
        "\n",
        "#USA O MÉTODO BLOB PARA RETORNAR O NOME DO ARQUIVO\n",
        "#bucket.blob('netflix.csv')\n",
        "\n",
        "#CRIA A VARIÁVEL PATH COLOCANDO O CAMINHO DE URI\n",
        "#path = 'https://drive.google.com/drive/folders/1mTWORVc-KsRiBzb5FpBfR3b4f5Xz2iBw?usp=sharing'\n",
        "\n",
        "#parDF=spark.read.parquet(path)"
      ],
      "metadata": {
        "id": "SUemO8rzzU-C"
      },
      "execution_count": null,
      "outputs": []
    },
    {
      "cell_type": "code",
      "source": [
        "#CRIAR A SPARK SESSION E LER O ARQUIVO VIA PYSPARK\n",
        "spark = (\n",
        "    SparkSession.builder\n",
        "                .master('local')\n",
        "                .appName('spark-gcs')\n",
        "                .config('spark.ui.port', '4050')\n",
        "                .config(\"spark.jars\", 'https://storage.googleapis.com/hadoop-lib/gcs/gcs-connector-hadoop2-latest.jar')\n",
        "                .getOrCreate()\n",
        ")"
      ],
      "metadata": {
        "id": "mNIKquJbm3mX"
      },
      "execution_count": 4,
      "outputs": []
    },
    {
      "cell_type": "code",
      "source": [
        "#Formando a Estrutura do DataFrame em pySpark\n",
        "esquema = (\n",
        "    StructType([                \n",
        "        StructField('Cod_Empresa', StringType(), True),\n",
        "        StructField('Empresa', StringType(), True),\n",
        "        StructField('Dt_Negociacao', DateType(), False),\n",
        "        StructField('Abertura', FloatType(), True),                \n",
        "        StructField('Max', FloatType(), True),\n",
        "        StructField('Min', FloatType(), True),\n",
        "        StructField('Fechamento', FloatType(), True),\n",
        "        StructField('Volume_Negociado', FloatType(), True),\n",
        "        StructField('Valor_Mercado_Empresa', FloatType(), True) \n",
        "    ])\n",
        ")\n"
      ],
      "metadata": {
        "id": "dfGlZL2rtoJR"
      },
      "execution_count": 5,
      "outputs": []
    },
    {
      "cell_type": "code",
      "source": [
        "# Download do DataSet CSV do GCP/Bucket, e Cria DataFrame com StructType do pySpark\n",
        "df_spark = (\n",
        "    spark.read.format('csv')\n",
        "              .option('header', True)\n",
        "              .option('delimiter', ',')\n",
        "              .option('inferschema', True)\n",
        "              .load(\"gs://cryptocurrencydb/Tratados/Tratado_SparkValorMercadoMaiorZero_2022_06_09_Aldreks.csv\", schema=esquema))"
      ],
      "metadata": {
        "id": "B8g4FIjQ_tzO"
      },
      "execution_count": 8,
      "outputs": []
    },
    {
      "cell_type": "code",
      "source": [
        "df_spark.printSchema()"
      ],
      "metadata": {
        "id": "Z9OlnC-VBjh6"
      },
      "execution_count": null,
      "outputs": []
    },
    {
      "cell_type": "code",
      "source": [
        "df_spark.show()"
      ],
      "metadata": {
        "colab": {
          "base_uri": "https://localhost:8080/"
        },
        "id": "LmFg_YvZBXP-",
        "outputId": "fb563454-99b6-4ac9-8c9f-130116c6b981"
      },
      "execution_count": 9,
      "outputs": [
        {
          "output_type": "stream",
          "name": "stdout",
          "text": [
            "+-----------+---------+-------------+--------+--------+--------+----------+----------------+---------------------+\n",
            "|Cod_Empresa|  Empresa|Dt_Negociacao|Abertura|     Max|     Min|Fechamento|Volume_Negociado|Valor_Mercado_Empresa|\n",
            "+-----------+---------+-------------+--------+--------+--------+----------+----------------+---------------------+\n",
            "|        ANC| Anoncoin|   2013-12-27|    5.21|    5.39|    4.64|      4.81|         16203.0|            2975246.0|\n",
            "|        BTC|  Bitcoin|   2013-12-27|  763.28|  777.51|   713.6|    735.07|       4.68627E7|          8.9553951E9|\n",
            "|        DMD|  Diamond|   2013-12-27|    2.29|     2.5|    1.49|      1.75|          8360.0|             341344.0|\n",
            "|       DOGE| Dogecoin|   2013-12-27| 6.03E-4|6.282E-4|4.969E-4|  5.219E-4|        477422.0|            8016604.0|\n",
            "|        LTC| Litecoin|   2013-12-27|   24.81|   25.27|   22.26|     23.27|       3.11122E7|          5.6608806E8|\n",
            "|        TRC|Terracoin|   2013-12-27|  0.5038|  0.5251|    0.45|    0.4778|         31077.0|            2268590.0|\n",
            "|        XRP|     null|   2013-12-27| 0.02443| 0.02712| 0.02353|   0.02708|        148422.0|         2.11674064E8|\n",
            "|        ANC| Anoncoin|   2013-12-28|    4.83|    4.89|    4.52|      4.56|         15412.0|            2829824.0|\n",
            "|        BTC|  Bitcoin|   2013-12-28|  737.98|  747.06|  705.35|    727.83|       3.25058E7|          8.8699187E9|\n",
            "|        DMD|  Diamond|   2013-12-28|    1.76|     2.4|    1.72|      1.89|          9612.0|             371605.0|\n",
            "|       DOGE| Dogecoin|   2013-12-28| 5.24E-4|  5.4E-4|4.576E-4|  4.585E-4|        341581.0|            7374149.0|\n",
            "|        LTC| Litecoin|   2013-12-28|   23.19|   23.22|   21.93|     22.56|       1.10037E7|          5.4958317E8|\n",
            "|        TRC|Terracoin|   2013-12-28|  0.4723|  0.4928|   0.441|    0.4585|         22389.0|            2179880.0|\n",
            "|        XRP|     null|   2013-12-28| 0.02755| 0.02811| 0.02663|    0.0273|        143404.0|         2.13453408E8|\n",
            "|        ANC| Anoncoin|   2013-12-29|    4.56|    4.81|    4.39|      4.62|          5745.0|            2879433.0|\n",
            "|        BTC|  Bitcoin|   2013-12-29|  728.05|  748.61|  714.44|    745.05|       1.90113E7|          9.0821038E9|\n",
            "|        DMD|  Diamond|   2013-12-29|    1.89|    2.23|    1.89|       2.2|          8653.0|             434673.0|\n",
            "|       DOGE| Dogecoin|   2013-12-29|4.587E-4|4.924E-4|3.989E-4|  4.545E-4|        360974.0|            7634717.0|\n",
            "|        LTC| Litecoin|   2013-12-29|   22.56|   24.39|    22.2|     24.07|       1.13842E7|          5.8689946E8|\n",
            "|        TRC|Terracoin|   2013-12-29|  0.4587|  0.4845|  0.4358|    0.4768|         26555.0|            2273215.0|\n",
            "+-----------+---------+-------------+--------+--------+--------+----------+----------------+---------------------+\n",
            "only showing top 20 rows\n",
            "\n"
          ]
        }
      ]
    },
    {
      "cell_type": "code",
      "source": [
        "# Insight: Análise de volume negociado por ano das criptos\n",
        "\n",
        "# criando a coluna ano para fazer a agregação \n",
        "df_spark_01 = df_spark.select(F.col('Dt_Negociacao'), F.year(F.col('Dt_Negociacao'))).alias('ano').show()\n",
        "\n",
        "#df_spark_01 = df_spark.withColumn(\"ano\",  F.year(F.col('Dt_Negociacao')))\n",
        "#df_spark_01.show()\n",
        "# agregação volume negociado\n",
        " \n",
        "#df_spark_01.groupBy(\"ano\").count().show(n=10)\n",
        "#df_spark_02 = df_spark_01.groupBy(\"ano\").agg(F.sum(\"Volume$_Negociado\")).show(n=20)\n",
        "#df_spark_02 = df_spark_01.select(F.col(\"ano\")).groupBy(\"ano\").agg(F.sum(\"Volume$_Negociado\")).show(n=20)\n",
        "\n",
        "#len(df_spark_02)\n"
      ],
      "metadata": {
        "id": "s5BzZ4mAUWDO",
        "colab": {
          "base_uri": "https://localhost:8080/"
        },
        "outputId": "9e93efab-4838-4109-a0d8-2420e7a2b5b7"
      },
      "execution_count": 10,
      "outputs": [
        {
          "output_type": "stream",
          "name": "stdout",
          "text": [
            "+-------------+-------------------+\n",
            "|Dt_Negociacao|year(Dt_Negociacao)|\n",
            "+-------------+-------------------+\n",
            "|   2013-12-27|               2013|\n",
            "|   2013-12-27|               2013|\n",
            "|   2013-12-27|               2013|\n",
            "|   2013-12-27|               2013|\n",
            "|   2013-12-27|               2013|\n",
            "|   2013-12-27|               2013|\n",
            "|   2013-12-27|               2013|\n",
            "|   2013-12-28|               2013|\n",
            "|   2013-12-28|               2013|\n",
            "|   2013-12-28|               2013|\n",
            "|   2013-12-28|               2013|\n",
            "|   2013-12-28|               2013|\n",
            "|   2013-12-28|               2013|\n",
            "|   2013-12-28|               2013|\n",
            "|   2013-12-29|               2013|\n",
            "|   2013-12-29|               2013|\n",
            "|   2013-12-29|               2013|\n",
            "|   2013-12-29|               2013|\n",
            "|   2013-12-29|               2013|\n",
            "|   2013-12-29|               2013|\n",
            "+-------------+-------------------+\n",
            "only showing top 20 rows\n",
            "\n"
          ]
        }
      ]
    },
    {
      "cell_type": "code",
      "source": [
        "# criando a coluna de ano de negociação na criptomoeada segundo o banco de dados da coinmarketcap.com\n",
        "df_spark_01 = df_spark.withColumn(\"ano\",  F.year(F.col('Dt_Negociacao')))"
      ],
      "metadata": {
        "id": "Sl16wEh-MaCR"
      },
      "execution_count": 11,
      "outputs": []
    },
    {
      "cell_type": "code",
      "source": [
        "df_spark_01.show()"
      ],
      "metadata": {
        "colab": {
          "base_uri": "https://localhost:8080/"
        },
        "id": "WCzMeZgWOlCs",
        "outputId": "21972ff9-ae44-4b3c-979a-f4571d0e6532"
      },
      "execution_count": 12,
      "outputs": [
        {
          "output_type": "stream",
          "name": "stdout",
          "text": [
            "+-----------+---------+-------------+--------+--------+--------+----------+----------------+---------------------+----+\n",
            "|Cod_Empresa|  Empresa|Dt_Negociacao|Abertura|     Max|     Min|Fechamento|Volume_Negociado|Valor_Mercado_Empresa| ano|\n",
            "+-----------+---------+-------------+--------+--------+--------+----------+----------------+---------------------+----+\n",
            "|        ANC| Anoncoin|   2013-12-27|    5.21|    5.39|    4.64|      4.81|         16203.0|            2975246.0|2013|\n",
            "|        BTC|  Bitcoin|   2013-12-27|  763.28|  777.51|   713.6|    735.07|       4.68627E7|          8.9553951E9|2013|\n",
            "|        DMD|  Diamond|   2013-12-27|    2.29|     2.5|    1.49|      1.75|          8360.0|             341344.0|2013|\n",
            "|       DOGE| Dogecoin|   2013-12-27| 6.03E-4|6.282E-4|4.969E-4|  5.219E-4|        477422.0|            8016604.0|2013|\n",
            "|        LTC| Litecoin|   2013-12-27|   24.81|   25.27|   22.26|     23.27|       3.11122E7|          5.6608806E8|2013|\n",
            "|        TRC|Terracoin|   2013-12-27|  0.5038|  0.5251|    0.45|    0.4778|         31077.0|            2268590.0|2013|\n",
            "|        XRP|     null|   2013-12-27| 0.02443| 0.02712| 0.02353|   0.02708|        148422.0|         2.11674064E8|2013|\n",
            "|        ANC| Anoncoin|   2013-12-28|    4.83|    4.89|    4.52|      4.56|         15412.0|            2829824.0|2013|\n",
            "|        BTC|  Bitcoin|   2013-12-28|  737.98|  747.06|  705.35|    727.83|       3.25058E7|          8.8699187E9|2013|\n",
            "|        DMD|  Diamond|   2013-12-28|    1.76|     2.4|    1.72|      1.89|          9612.0|             371605.0|2013|\n",
            "|       DOGE| Dogecoin|   2013-12-28| 5.24E-4|  5.4E-4|4.576E-4|  4.585E-4|        341581.0|            7374149.0|2013|\n",
            "|        LTC| Litecoin|   2013-12-28|   23.19|   23.22|   21.93|     22.56|       1.10037E7|          5.4958317E8|2013|\n",
            "|        TRC|Terracoin|   2013-12-28|  0.4723|  0.4928|   0.441|    0.4585|         22389.0|            2179880.0|2013|\n",
            "|        XRP|     null|   2013-12-28| 0.02755| 0.02811| 0.02663|    0.0273|        143404.0|         2.13453408E8|2013|\n",
            "|        ANC| Anoncoin|   2013-12-29|    4.56|    4.81|    4.39|      4.62|          5745.0|            2879433.0|2013|\n",
            "|        BTC|  Bitcoin|   2013-12-29|  728.05|  748.61|  714.44|    745.05|       1.90113E7|          9.0821038E9|2013|\n",
            "|        DMD|  Diamond|   2013-12-29|    1.89|    2.23|    1.89|       2.2|          8653.0|             434673.0|2013|\n",
            "|       DOGE| Dogecoin|   2013-12-29|4.587E-4|4.924E-4|3.989E-4|  4.545E-4|        360974.0|            7634717.0|2013|\n",
            "|        LTC| Litecoin|   2013-12-29|   22.56|   24.39|    22.2|     24.07|       1.13842E7|          5.8689946E8|2013|\n",
            "|        TRC|Terracoin|   2013-12-29|  0.4587|  0.4845|  0.4358|    0.4768|         26555.0|            2273215.0|2013|\n",
            "+-----------+---------+-------------+--------+--------+--------+----------+----------------+---------------------+----+\n",
            "only showing top 20 rows\n",
            "\n"
          ]
        }
      ]
    },
    {
      "cell_type": "code",
      "source": [
        "# somando o volume negociado por ano as criptos\n",
        "df_spark_02 = df_spark_01.groupBy(\"ano\").agg(F.sum(\"Volume_Negociado\")).show(n=20)"
      ],
      "metadata": {
        "colab": {
          "base_uri": "https://localhost:8080/"
        },
        "id": "4qqLp8RmNcYB",
        "outputId": "7fd1b9a3-10c9-4bda-be9f-092c61c4b91d"
      },
      "execution_count": 13,
      "outputs": [
        {
          "output_type": "stream",
          "name": "stdout",
          "text": [
            "+----+---------------------+\n",
            "| ano|sum(Volume_Negociado)|\n",
            "+----+---------------------+\n",
            "|2018|    6.653449277567E12|\n",
            "|2015|      1.4244437163E10|\n",
            "|2022|   2.0534279612546E13|\n",
            "|2013|         2.15792568E8|\n",
            "|2014|       1.222451483E10|\n",
            "|2019|    2.034094881157E13|\n",
            "|2020|   4.4710202158703E13|\n",
            "|2016|      4.3725791794E10|\n",
            "|2017|    2.040412773322E12|\n",
            "|2021|   9.5933759181702E13|\n",
            "+----+---------------------+\n",
            "\n"
          ]
        }
      ]
    },
    {
      "cell_type": "code",
      "source": [
        "df_spark_02 = df_spark_01.select(F.col(\"ano\"), F.col(\"Volume_Negociado\")).groupBy(\"ano\").agg(F.sum(\"Volume_Negociado\"))"
      ],
      "metadata": {
        "id": "dD7ZJlCANvLI"
      },
      "execution_count": 23,
      "outputs": []
    },
    {
      "cell_type": "code",
      "source": [
        "df_spark_02.show()"
      ],
      "metadata": {
        "colab": {
          "base_uri": "https://localhost:8080/"
        },
        "id": "R4mDMg5yNDrX",
        "outputId": "fe246641-bd01-443c-f620-3ef0e8062942"
      },
      "execution_count": 21,
      "outputs": [
        {
          "output_type": "stream",
          "name": "stdout",
          "text": [
            "+----+---------------------+\n",
            "| ano|sum(Volume_Negociado)|\n",
            "+----+---------------------+\n",
            "|2018|    6.653449277567E12|\n",
            "|2015|      1.4244437163E10|\n",
            "|2022|   2.0534279612546E13|\n",
            "|2013|         2.15792568E8|\n",
            "|2014|       1.222451483E10|\n",
            "|2019|    2.034094881157E13|\n",
            "|2020|   4.4710202158703E13|\n",
            "|2016|      4.3725791794E10|\n",
            "|2017|    2.040412773322E12|\n",
            "|2021|   9.5933759181702E13|\n",
            "+----+---------------------+\n",
            "\n"
          ]
        }
      ]
    },
    {
      "cell_type": "code",
      "source": [
        "# gravando o df volume negociado por ano em csv\n",
        "\n",
        "df_spark_02.write.csv(\"gs://cryptocurrencydb/Tratados/volume_negociado_ano\")"
      ],
      "metadata": {
        "id": "TNcmENoHY7eW"
      },
      "execution_count": 22,
      "outputs": []
    }
  ]
}