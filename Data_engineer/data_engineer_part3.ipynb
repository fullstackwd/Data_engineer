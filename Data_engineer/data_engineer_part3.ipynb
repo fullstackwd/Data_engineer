{
 "cells": [
  {
   "cell_type": "markdown",
   "id": "d0231a31-4aa1-46b5-b4f2-09b74b20e1af",
   "metadata": {},
   "source": [
    "### 2RP Net - Data Engineer Test"
   ]
  },
  {
   "cell_type": "markdown",
   "id": "bf9549fe-fa4b-4fe9-a813-7a787c6e7ef2",
   "metadata": {},
   "source": [
    "1.\tUtilize um repositório Git Local"
   ]
  },
  {
   "cell_type": "markdown",
   "id": "24b927a6-fa27-46a4-ba0b-4a05113f07a6",
   "metadata": {},
   "source": [
    "2.\tRealize a extração dos dados dos 3 ultimos meses de prescrição (english-prescribing-data-epd) sem contar o ultimo, fonte: https://opendata.nhsbsa.net/dataset/english-prescribing-data-epd. Existem várias formas para  realizar essa atividade, faça da maneira que preferir. Consulte a documentação disponibilizada na página e veja qual maneira mais adequa a arquitetura que você deseja. A descrição dos dados pode ser vista em https://opendata.nhsbsa.net/dataset/english-prescribing-data-epd/resource/af8dd944-fb82-42c1-a955-646c8866b939 :  \n",
    "a.\tCaso opte por coletar esses dados por csv, se atente ao volume dos dados. \n",
    "b.\tCaso tenha algum problema em manipular essa quantidade de dados, opte pela coleta dos dados por meio da API limitando a quantidade."
   ]
  },
  {
   "cell_type": "markdown",
   "id": "72830e1a-3143-44f4-bd81-3bd0d4d3727d",
   "metadata": {},
   "source": [
    "3.\tCrie um processo para validação dos dados extraídos"
   ]
  },
  {
   "cell_type": "markdown",
   "id": "1b62a669-911a-4d37-be77-f39ae6b7ea4c",
   "metadata": {},
   "source": [
    "4.\tApós a coleta dos dados, separe os dados entre prescribers e prescriptions."
   ]
  },
  {
   "cell_type": "markdown",
   "id": "2ad6fd88-0ea2-44b8-99d9-164417658179",
   "metadata": {},
   "source": [
    "5.\tPersista os dados da forma que achar melhor. Exemplo: arquivos, mysql, postgreSQL, sqlite, mongodb, delta, store em cloud, etc."
   ]
  },
  {
   "cell_type": "markdown",
   "id": "e01c5527-b20b-47df-ab72-c5c957a230f3",
   "metadata": {},
   "source": [
    "7.\tFaça uma rotina que mensalmente colete os dados do ultimo mes e adiciona apenas os dados que sejam novos. Essa rotina deve rodar automaticamente todos os meses, escolha a forma que preferir para essa atividade."
   ]
  },
  {
   "cell_type": "markdown",
   "id": "00117a88-db0a-4890-b3b4-e4ecf579a304",
   "metadata": {},
   "source": [
    "8.\tDocumente o máximo possível."
   ]
  },
  {
   "cell_type": "markdown",
   "id": "ef7ace6b-3976-4feb-a5e8-6a9032c5ad8e",
   "metadata": {},
   "source": [
    "Abaixo segue algumas dicas para ajudar.\n",
    "\n",
    "1. Codificação\n",
    "- Utilize as boas praticas de código que julgar necessárias.\n",
    "- documentação é sempre bem vinda, um código limpo e claro também nem sempre precisa de documentação\n",
    "\n",
    "2. ReadME.md\n",
    "- Esclarecer/Explicitar no README.md como utilizar sua aplicação\n",
    "- Use e abuse de markdown nas explicações.\n",
    "- Desenho/arquitetura do pipeline (pode usar o site https://draw.io) e colocar as img(s) no diretório \"/DOCS\"\n",
    "\n",
    "3. Git/Gitflow\n",
    "Utilize um repositório Git local e faça o uso da metodologia Gitflow (https://medium.com/trainingcenter/utilizando-o-fluxo-git-flow-e63d5e0d5e04) para cada nova feature implementada. "
   ]
  },
  {
   "cell_type": "markdown",
   "id": "65da650a-c076-4afd-a72a-b7a7e3b73d54",
   "metadata": {},
   "source": [
    "6.\tGere scripts que atendam as solicitações abaixo:"
   ]
  },
  {
   "cell_type": "code",
   "execution_count": 1,
   "id": "81d65dc3-83d5-4f37-a2ba-c37353913b22",
   "metadata": {},
   "outputs": [],
   "source": [
    "# Import package\n",
    "try:\n",
    "    import pandas as pd  # Import pandas\n",
    "    import numpy as np\n",
    "    import pandera as pa\n",
    "    import os\n",
    "    import sys\n",
    "    import glob\n",
    "    import time\n",
    "    import urllib.request\n",
    "    from urllib.request import urlretrieve\n",
    "except Exception as e:\n",
    "    print(\"Error : {'Falha Imports'} \".format(e))"
   ]
  },
  {
   "cell_type": "code",
   "execution_count": 2,
   "id": "f1397b30-3588-45ed-af43-f3e07c5994ea",
   "metadata": {
    "tags": []
   },
   "outputs": [],
   "source": [
    "# Marca o horário do início do programa\n",
    "s_time_control = time.time()"
   ]
  },
  {
   "cell_type": "markdown",
   "id": "8e5e630d-8b66-4e58-a8d2-a1a48d3a1078",
   "metadata": {},
   "source": [
    "#### Concaternar arquivos e redução de tamanho em conversão para parquet"
   ]
  },
  {
   "cell_type": "code",
   "execution_count": 3,
   "id": "553c29ee-0040-4946-9699-4b0e7f87884d",
   "metadata": {},
   "outputs": [],
   "source": [
    "os.chdir(\"/Jupyter/2RP\")  "
   ]
  },
  {
   "cell_type": "code",
   "execution_count": 4,
   "id": "b32b9806-77a0-4226-a853-0658fe217ac3",
   "metadata": {},
   "outputs": [],
   "source": [
    "#extension = 'csv'\n",
    "#all_filenames = [i for i in glob.glob('*.{}'.format(extension))]"
   ]
  },
  {
   "cell_type": "code",
   "execution_count": 5,
   "id": "cc34532b-47ab-41f0-ab95-9392f4a1cb2d",
   "metadata": {},
   "outputs": [],
   "source": [
    "#combinar todos os arquivos da lista\n",
    "#df = pd.concat([pd.read_csv(f) for f in all_filenames ])"
   ]
  },
  {
   "cell_type": "code",
   "execution_count": 6,
   "id": "0a813722-f1a8-4e1f-83df-15ab6a0e6f22",
   "metadata": {},
   "outputs": [],
   "source": [
    "df = pd.read_csv('epd_202205.csv')"
   ]
  },
  {
   "cell_type": "code",
   "execution_count": 7,
   "id": "1d9dd8d0-2358-4b05-8867-a0712af214f1",
   "metadata": {},
   "outputs": [
    {
     "name": "stdout",
     "output_type": "stream",
     "text": [
      "Tempo de criação do arquivo:  1.45 minutes\n"
     ]
    }
   ],
   "source": [
    "e_time_dask = time.time()\n",
    "print(\"Tempo de criação do arquivo: \", round(e_time_dask-s_time_control)/60, \"minutes\")"
   ]
  },
  {
   "cell_type": "code",
   "execution_count": 8,
   "id": "6bf2e35a-27f5-4cb8-a04e-0c2a5840b3ce",
   "metadata": {
    "tags": []
   },
   "outputs": [
    {
     "data": {
      "text/html": [
       "<div>\n",
       "<style scoped>\n",
       "    .dataframe tbody tr th:only-of-type {\n",
       "        vertical-align: middle;\n",
       "    }\n",
       "\n",
       "    .dataframe tbody tr th {\n",
       "        vertical-align: top;\n",
       "    }\n",
       "\n",
       "    .dataframe thead th {\n",
       "        text-align: right;\n",
       "    }\n",
       "</style>\n",
       "<table border=\"1\" class=\"dataframe\">\n",
       "  <thead>\n",
       "    <tr style=\"text-align: right;\">\n",
       "      <th></th>\n",
       "      <th>YEAR_MONTH</th>\n",
       "      <th>REGIONAL_OFFICE_NAME</th>\n",
       "      <th>REGIONAL_OFFICE_CODE</th>\n",
       "      <th>ICB_NAME</th>\n",
       "      <th>ICB_CODE</th>\n",
       "      <th>PCO_NAME</th>\n",
       "      <th>PCO_CODE</th>\n",
       "      <th>PRACTICE_NAME</th>\n",
       "      <th>PRACTICE_CODE</th>\n",
       "      <th>ADDRESS_1</th>\n",
       "      <th>...</th>\n",
       "      <th>BNF_CODE</th>\n",
       "      <th>BNF_DESCRIPTION</th>\n",
       "      <th>BNF_CHAPTER_PLUS_CODE</th>\n",
       "      <th>QUANTITY</th>\n",
       "      <th>ITEMS</th>\n",
       "      <th>TOTAL_QUANTITY</th>\n",
       "      <th>ADQUSAGE</th>\n",
       "      <th>NIC</th>\n",
       "      <th>ACTUAL_COST</th>\n",
       "      <th>UNIDENTIFIED</th>\n",
       "    </tr>\n",
       "  </thead>\n",
       "  <tbody>\n",
       "    <tr>\n",
       "      <th>0</th>\n",
       "      <td>202206</td>\n",
       "      <td>NORTH WEST</td>\n",
       "      <td>Y62</td>\n",
       "      <td>NHS CHESHIRE AND MERSEYSIDE INTEGRATED C</td>\n",
       "      <td>QYG</td>\n",
       "      <td>WIRRAL COMMUNITY HEALTH AND CARE NHS FOU</td>\n",
       "      <td>RY700</td>\n",
       "      <td>WIRRAL COMMUNITY NMP</td>\n",
       "      <td>Y03836</td>\n",
       "      <td>ST CATHERINE'S HC</td>\n",
       "      <td>...</td>\n",
       "      <td>20020200701</td>\n",
       "      <td>Viscopaste PB7 bandage 7.5cm x 6m</td>\n",
       "      <td>20: Dressings</td>\n",
       "      <td>10.0</td>\n",
       "      <td>1</td>\n",
       "      <td>10.0</td>\n",
       "      <td>0.0</td>\n",
       "      <td>38.90</td>\n",
       "      <td>36.40326</td>\n",
       "      <td>N</td>\n",
       "    </tr>\n",
       "    <tr>\n",
       "      <th>1</th>\n",
       "      <td>202206</td>\n",
       "      <td>NORTH WEST</td>\n",
       "      <td>Y62</td>\n",
       "      <td>NHS CHESHIRE AND MERSEYSIDE INTEGRATED C</td>\n",
       "      <td>QYG</td>\n",
       "      <td>WIRRAL COMMUNITY HEALTH AND CARE NHS FOU</td>\n",
       "      <td>RY700</td>\n",
       "      <td>WIRRAL WIC (APH)_WIC APH</td>\n",
       "      <td>N85645</td>\n",
       "      <td>ARROWE PARK HOSPITAL</td>\n",
       "      <td>...</td>\n",
       "      <td>20030100079</td>\n",
       "      <td>Mepore dressing 11cm x 15cm</td>\n",
       "      <td>20: Dressings</td>\n",
       "      <td>5.0</td>\n",
       "      <td>1</td>\n",
       "      <td>5.0</td>\n",
       "      <td>0.0</td>\n",
       "      <td>1.85</td>\n",
       "      <td>1.74307</td>\n",
       "      <td>N</td>\n",
       "    </tr>\n",
       "    <tr>\n",
       "      <th>2</th>\n",
       "      <td>202206</td>\n",
       "      <td>NORTH EAST AND YORKSHIRE</td>\n",
       "      <td>Y63</td>\n",
       "      <td>NHS SOUTH YORKSHIRE INTEGRATED CARE BOAR</td>\n",
       "      <td>QF7</td>\n",
       "      <td>NHS NOTTINGHAM AND NOTTINGHAMSHIRE ICB -</td>\n",
       "      <td>02Q00</td>\n",
       "      <td>BASSETLAW HEALTH PARTNERSHIP</td>\n",
       "      <td>Y03762</td>\n",
       "      <td>C/O RETFORD HOSPITAL</td>\n",
       "      <td>...</td>\n",
       "      <td>20030100167</td>\n",
       "      <td>Dressit sterile dressing pack with gloves</td>\n",
       "      <td>20: Dressings</td>\n",
       "      <td>10.0</td>\n",
       "      <td>6</td>\n",
       "      <td>60.0</td>\n",
       "      <td>0.0</td>\n",
       "      <td>41.40</td>\n",
       "      <td>38.75440</td>\n",
       "      <td>N</td>\n",
       "    </tr>\n",
       "  </tbody>\n",
       "</table>\n",
       "<p>3 rows × 26 columns</p>\n",
       "</div>"
      ],
      "text/plain": [
       "   YEAR_MONTH      REGIONAL_OFFICE_NAME REGIONAL_OFFICE_CODE  \\\n",
       "0      202206                NORTH WEST                  Y62   \n",
       "1      202206                NORTH WEST                  Y62   \n",
       "2      202206  NORTH EAST AND YORKSHIRE                  Y63   \n",
       "\n",
       "                                   ICB_NAME ICB_CODE  \\\n",
       "0  NHS CHESHIRE AND MERSEYSIDE INTEGRATED C      QYG   \n",
       "1  NHS CHESHIRE AND MERSEYSIDE INTEGRATED C      QYG   \n",
       "2  NHS SOUTH YORKSHIRE INTEGRATED CARE BOAR      QF7   \n",
       "\n",
       "                                   PCO_NAME PCO_CODE  \\\n",
       "0  WIRRAL COMMUNITY HEALTH AND CARE NHS FOU    RY700   \n",
       "1  WIRRAL COMMUNITY HEALTH AND CARE NHS FOU    RY700   \n",
       "2  NHS NOTTINGHAM AND NOTTINGHAMSHIRE ICB -    02Q00   \n",
       "\n",
       "                  PRACTICE_NAME PRACTICE_CODE             ADDRESS_1  ...  \\\n",
       "0          WIRRAL COMMUNITY NMP        Y03836     ST CATHERINE'S HC  ...   \n",
       "1      WIRRAL WIC (APH)_WIC APH        N85645  ARROWE PARK HOSPITAL  ...   \n",
       "2  BASSETLAW HEALTH PARTNERSHIP        Y03762  C/O RETFORD HOSPITAL  ...   \n",
       "\n",
       "      BNF_CODE                            BNF_DESCRIPTION  \\\n",
       "0  20020200701          Viscopaste PB7 bandage 7.5cm x 6m   \n",
       "1  20030100079                Mepore dressing 11cm x 15cm   \n",
       "2  20030100167  Dressit sterile dressing pack with gloves   \n",
       "\n",
       "  BNF_CHAPTER_PLUS_CODE QUANTITY ITEMS TOTAL_QUANTITY ADQUSAGE    NIC  \\\n",
       "0         20: Dressings     10.0     1           10.0      0.0  38.90   \n",
       "1         20: Dressings      5.0     1            5.0      0.0   1.85   \n",
       "2         20: Dressings     10.0     6           60.0      0.0  41.40   \n",
       "\n",
       "  ACTUAL_COST  UNIDENTIFIED  \n",
       "0    36.40326             N  \n",
       "1     1.74307             N  \n",
       "2    38.75440             N  \n",
       "\n",
       "[3 rows x 26 columns]"
      ]
     },
     "execution_count": 8,
     "metadata": {},
     "output_type": "execute_result"
    }
   ],
   "source": [
    "df.head(3)"
   ]
  },
  {
   "cell_type": "code",
   "execution_count": 9,
   "id": "a57bba38-ea25-4798-a612-2000b5bc90cd",
   "metadata": {},
   "outputs": [
    {
     "data": {
      "text/plain": [
       "Index(['YEAR_MONTH', 'REGIONAL_OFFICE_NAME', 'REGIONAL_OFFICE_CODE',\n",
       "       'ICB_NAME', 'ICB_CODE', 'PCO_NAME', 'PCO_CODE', 'PRACTICE_NAME',\n",
       "       'PRACTICE_CODE', 'ADDRESS_1', 'ADDRESS_2', 'ADDRESS_3', 'ADDRESS_4',\n",
       "       'POSTCODE', 'BNF_CHEMICAL_SUBSTANCE', 'CHEMICAL_SUBSTANCE_BNF_DESCR',\n",
       "       'BNF_CODE', 'BNF_DESCRIPTION', 'BNF_CHAPTER_PLUS_CODE', 'QUANTITY',\n",
       "       'ITEMS', 'TOTAL_QUANTITY', 'ADQUSAGE', 'NIC', 'ACTUAL_COST',\n",
       "       'UNIDENTIFIED'],\n",
       "      dtype='object')"
      ]
     },
     "execution_count": 9,
     "metadata": {},
     "output_type": "execute_result"
    }
   ],
   "source": [
    "df.keys()"
   ]
  },
  {
   "cell_type": "code",
   "execution_count": null,
   "id": "2c8f1c4c-c0a2-477a-abf5-28d1024fa00a",
   "metadata": {},
   "outputs": [],
   "source": []
  },
  {
   "cell_type": "code",
   "execution_count": 10,
   "id": "138f6f3a-07db-4a4b-9116-ee7ebd3bff28",
   "metadata": {},
   "outputs": [
    {
     "data": {
      "text/plain": [
       "array(['Y62', 'Y63', 'Y58', 'Y59', 'Y61', 'Y56', 'Y60', '-'], dtype=object)"
      ]
     },
     "execution_count": 10,
     "metadata": {},
     "output_type": "execute_result"
    }
   ],
   "source": [
    "df['REGIONAL_OFFICE_CODE'].unique()"
   ]
  },
  {
   "cell_type": "code",
   "execution_count": 11,
   "id": "fac69be9-50e4-4aa2-b0d7-185a7be58d7a",
   "metadata": {},
   "outputs": [
    {
     "data": {
      "text/plain": [
       "array(['NORTH WEST', 'NORTH EAST AND YORKSHIRE', 'SOUTH WEST',\n",
       "       'SOUTH EAST', 'EAST OF ENGLAND', 'LONDON', 'MIDLANDS',\n",
       "       'UNIDENTIFIED'], dtype=object)"
      ]
     },
     "execution_count": 11,
     "metadata": {},
     "output_type": "execute_result"
    }
   ],
   "source": [
    "df['REGIONAL_OFFICE_NAME'].unique()"
   ]
  },
  {
   "cell_type": "code",
   "execution_count": 12,
   "id": "9e066e27-bb2f-472c-92bd-a2eaaa80ae5b",
   "metadata": {},
   "outputs": [
    {
     "data": {
      "text/html": [
       "<div>\n",
       "<style scoped>\n",
       "    .dataframe tbody tr th:only-of-type {\n",
       "        vertical-align: middle;\n",
       "    }\n",
       "\n",
       "    .dataframe tbody tr th {\n",
       "        vertical-align: top;\n",
       "    }\n",
       "\n",
       "    .dataframe thead th {\n",
       "        text-align: right;\n",
       "    }\n",
       "</style>\n",
       "<table border=\"1\" class=\"dataframe\">\n",
       "  <thead>\n",
       "    <tr style=\"text-align: right;\">\n",
       "      <th></th>\n",
       "      <th>REGIONAL_OFFICE_NAME</th>\n",
       "      <th>REGIONAL_OFFICE_CODE</th>\n",
       "    </tr>\n",
       "  </thead>\n",
       "  <tbody>\n",
       "    <tr>\n",
       "      <th>0</th>\n",
       "      <td>NORTH WEST</td>\n",
       "      <td>Y62</td>\n",
       "    </tr>\n",
       "    <tr>\n",
       "      <th>1</th>\n",
       "      <td>NORTH WEST</td>\n",
       "      <td>Y62</td>\n",
       "    </tr>\n",
       "    <tr>\n",
       "      <th>2</th>\n",
       "      <td>NORTH EAST AND YORKSHIRE</td>\n",
       "      <td>Y63</td>\n",
       "    </tr>\n",
       "    <tr>\n",
       "      <th>3</th>\n",
       "      <td>NORTH EAST AND YORKSHIRE</td>\n",
       "      <td>Y63</td>\n",
       "    </tr>\n",
       "    <tr>\n",
       "      <th>4</th>\n",
       "      <td>NORTH EAST AND YORKSHIRE</td>\n",
       "      <td>Y63</td>\n",
       "    </tr>\n",
       "    <tr>\n",
       "      <th>...</th>\n",
       "      <td>...</td>\n",
       "      <td>...</td>\n",
       "    </tr>\n",
       "    <tr>\n",
       "      <th>6550461</th>\n",
       "      <td>UNIDENTIFIED</td>\n",
       "      <td>-</td>\n",
       "    </tr>\n",
       "    <tr>\n",
       "      <th>6550462</th>\n",
       "      <td>UNIDENTIFIED</td>\n",
       "      <td>-</td>\n",
       "    </tr>\n",
       "    <tr>\n",
       "      <th>6550463</th>\n",
       "      <td>UNIDENTIFIED</td>\n",
       "      <td>-</td>\n",
       "    </tr>\n",
       "    <tr>\n",
       "      <th>6550464</th>\n",
       "      <td>UNIDENTIFIED</td>\n",
       "      <td>-</td>\n",
       "    </tr>\n",
       "    <tr>\n",
       "      <th>6550465</th>\n",
       "      <td>UNIDENTIFIED</td>\n",
       "      <td>-</td>\n",
       "    </tr>\n",
       "  </tbody>\n",
       "</table>\n",
       "<p>80 rows × 2 columns</p>\n",
       "</div>"
      ],
      "text/plain": [
       "             REGIONAL_OFFICE_NAME REGIONAL_OFFICE_CODE\n",
       "0                      NORTH WEST                  Y62\n",
       "1                      NORTH WEST                  Y62\n",
       "2        NORTH EAST AND YORKSHIRE                  Y63\n",
       "3        NORTH EAST AND YORKSHIRE                  Y63\n",
       "4        NORTH EAST AND YORKSHIRE                  Y63\n",
       "...                           ...                  ...\n",
       "6550461              UNIDENTIFIED                    -\n",
       "6550462              UNIDENTIFIED                    -\n",
       "6550463              UNIDENTIFIED                    -\n",
       "6550464              UNIDENTIFIED                    -\n",
       "6550465              UNIDENTIFIED                    -\n",
       "\n",
       "[80 rows x 2 columns]"
      ]
     },
     "execution_count": 12,
     "metadata": {},
     "output_type": "execute_result"
    }
   ],
   "source": [
    "df[['REGIONAL_OFFICE_NAME','REGIONAL_OFFICE_CODE']].groupby(['REGIONAL_OFFICE_NAME','REGIONAL_OFFICE_CODE']).head(10)"
   ]
  },
  {
   "cell_type": "markdown",
   "id": "3b3c9e01-f20a-4757-8455-94477358ac90",
   "metadata": {},
   "source": [
    "a.\tCrie um dataframe contendo os 10 principais produtos químicos prescritos por região."
   ]
  },
  {
   "cell_type": "code",
   "execution_count": 14,
   "id": "d018058a-881d-4373-9c8b-362935f20617",
   "metadata": {},
   "outputs": [],
   "source": [
    "df1 = df.groupby('REGIONAL_OFFICE_NAME').get_group('NORTH WEST')"
   ]
  },
  {
   "cell_type": "code",
   "execution_count": 15,
   "id": "b7eec087-fac8-49c8-b7d9-f7abf8e3d899",
   "metadata": {},
   "outputs": [],
   "source": [
    "df_Y62 = df1[['REGIONAL_OFFICE_NAME','REGIONAL_OFFICE_CODE','CHEMICAL_SUBSTANCE_BNF_DESCR', 'TOTAL_QUANTITY']]"
   ]
  },
  {
   "cell_type": "code",
   "execution_count": 16,
   "id": "28555627-2997-4815-a3f4-378687ce812c",
   "metadata": {
    "tags": []
   },
   "outputs": [
    {
     "data": {
      "text/html": [
       "<div>\n",
       "<style scoped>\n",
       "    .dataframe tbody tr th:only-of-type {\n",
       "        vertical-align: middle;\n",
       "    }\n",
       "\n",
       "    .dataframe tbody tr th {\n",
       "        vertical-align: top;\n",
       "    }\n",
       "\n",
       "    .dataframe thead th {\n",
       "        text-align: right;\n",
       "    }\n",
       "</style>\n",
       "<table border=\"1\" class=\"dataframe\">\n",
       "  <thead>\n",
       "    <tr style=\"text-align: right;\">\n",
       "      <th></th>\n",
       "      <th>REGIONAL_OFFICE_NAME</th>\n",
       "      <th>REGIONAL_OFFICE_CODE</th>\n",
       "      <th>CHEMICAL_SUBSTANCE_BNF_DESCR</th>\n",
       "      <th>TOTAL_QUANTITY</th>\n",
       "    </tr>\n",
       "  </thead>\n",
       "  <tbody>\n",
       "    <tr>\n",
       "      <th>384</th>\n",
       "      <td>NORTH WEST</td>\n",
       "      <td>Y62</td>\n",
       "      <td>Enteral nutrition</td>\n",
       "      <td>351905747.0</td>\n",
       "    </tr>\n",
       "    <tr>\n",
       "      <th>374</th>\n",
       "      <td>NORTH WEST</td>\n",
       "      <td>Y62</td>\n",
       "      <td>Emollients</td>\n",
       "      <td>47989129.0</td>\n",
       "    </tr>\n",
       "    <tr>\n",
       "      <th>839</th>\n",
       "      <td>NORTH WEST</td>\n",
       "      <td>Y62</td>\n",
       "      <td>Other emollient preparations</td>\n",
       "      <td>40477476.0</td>\n",
       "    </tr>\n",
       "    <tr>\n",
       "      <th>843</th>\n",
       "      <td>NORTH WEST</td>\n",
       "      <td>Y62</td>\n",
       "      <td>Other food for special diet preparations</td>\n",
       "      <td>34659858.0</td>\n",
       "    </tr>\n",
       "    <tr>\n",
       "      <th>31</th>\n",
       "      <td>NORTH WEST</td>\n",
       "      <td>Y62</td>\n",
       "      <td>Alginic acid compound preparations</td>\n",
       "      <td>31421966.0</td>\n",
       "    </tr>\n",
       "    <tr>\n",
       "      <th>889</th>\n",
       "      <td>NORTH WEST</td>\n",
       "      <td>Y62</td>\n",
       "      <td>Paracetamol</td>\n",
       "      <td>29887512.0</td>\n",
       "    </tr>\n",
       "    <tr>\n",
       "      <th>249</th>\n",
       "      <td>NORTH WEST</td>\n",
       "      <td>Y62</td>\n",
       "      <td>Co-codamol (Codeine phosphate/paracetamol)</td>\n",
       "      <td>27837904.0</td>\n",
       "    </tr>\n",
       "    <tr>\n",
       "      <th>720</th>\n",
       "      <td>NORTH WEST</td>\n",
       "      <td>Y62</td>\n",
       "      <td>Metformin hydrochloride</td>\n",
       "      <td>22737750.0</td>\n",
       "    </tr>\n",
       "    <tr>\n",
       "      <th>86</th>\n",
       "      <td>NORTH WEST</td>\n",
       "      <td>Y62</td>\n",
       "      <td>Atorvastatin</td>\n",
       "      <td>20539876.0</td>\n",
       "    </tr>\n",
       "    <tr>\n",
       "      <th>615</th>\n",
       "      <td>NORTH WEST</td>\n",
       "      <td>Y62</td>\n",
       "      <td>Lactulose</td>\n",
       "      <td>19753595.0</td>\n",
       "    </tr>\n",
       "  </tbody>\n",
       "</table>\n",
       "</div>"
      ],
      "text/plain": [
       "    REGIONAL_OFFICE_NAME REGIONAL_OFFICE_CODE  \\\n",
       "384           NORTH WEST                  Y62   \n",
       "374           NORTH WEST                  Y62   \n",
       "839           NORTH WEST                  Y62   \n",
       "843           NORTH WEST                  Y62   \n",
       "31            NORTH WEST                  Y62   \n",
       "889           NORTH WEST                  Y62   \n",
       "249           NORTH WEST                  Y62   \n",
       "720           NORTH WEST                  Y62   \n",
       "86            NORTH WEST                  Y62   \n",
       "615           NORTH WEST                  Y62   \n",
       "\n",
       "                   CHEMICAL_SUBSTANCE_BNF_DESCR  TOTAL_QUANTITY  \n",
       "384                           Enteral nutrition     351905747.0  \n",
       "374                                  Emollients      47989129.0  \n",
       "839                Other emollient preparations      40477476.0  \n",
       "843    Other food for special diet preparations      34659858.0  \n",
       "31           Alginic acid compound preparations      31421966.0  \n",
       "889                                 Paracetamol      29887512.0  \n",
       "249  Co-codamol (Codeine phosphate/paracetamol)      27837904.0  \n",
       "720                     Metformin hydrochloride      22737750.0  \n",
       "86                                 Atorvastatin      20539876.0  \n",
       "615                                   Lactulose      19753595.0  "
      ]
     },
     "execution_count": 16,
     "metadata": {},
     "output_type": "execute_result"
    }
   ],
   "source": [
    "df_Y62.groupby(['REGIONAL_OFFICE_NAME','REGIONAL_OFFICE_CODE','CHEMICAL_SUBSTANCE_BNF_DESCR']).TOTAL_QUANTITY.sum().reset_index().sort_values('TOTAL_QUANTITY',ascending=False).head(10)"
   ]
  },
  {
   "cell_type": "code",
   "execution_count": null,
   "id": "903a59c3-e62d-4094-ab12-6166acf626c6",
   "metadata": {},
   "outputs": [],
   "source": []
  },
  {
   "cell_type": "code",
   "execution_count": 17,
   "id": "50419561-23e8-4178-9b72-565a49b5f4a9",
   "metadata": {},
   "outputs": [],
   "source": [
    "df1 = df.groupby('REGIONAL_OFFICE_NAME').get_group('NORTH EAST AND YORKSHIRE')"
   ]
  },
  {
   "cell_type": "code",
   "execution_count": 18,
   "id": "432b82ca-bafa-460d-98d8-b6b16647b7d6",
   "metadata": {},
   "outputs": [],
   "source": [
    "df_Y63 = df1[['REGIONAL_OFFICE_NAME','REGIONAL_OFFICE_CODE','CHEMICAL_SUBSTANCE_BNF_DESCR', 'TOTAL_QUANTITY']]"
   ]
  },
  {
   "cell_type": "code",
   "execution_count": 19,
   "id": "d8137e50-316d-4eb1-8162-2624c96de050",
   "metadata": {
    "tags": []
   },
   "outputs": [
    {
     "data": {
      "text/html": [
       "<div>\n",
       "<style scoped>\n",
       "    .dataframe tbody tr th:only-of-type {\n",
       "        vertical-align: middle;\n",
       "    }\n",
       "\n",
       "    .dataframe tbody tr th {\n",
       "        vertical-align: top;\n",
       "    }\n",
       "\n",
       "    .dataframe thead th {\n",
       "        text-align: right;\n",
       "    }\n",
       "</style>\n",
       "<table border=\"1\" class=\"dataframe\">\n",
       "  <thead>\n",
       "    <tr style=\"text-align: right;\">\n",
       "      <th></th>\n",
       "      <th>REGIONAL_OFFICE_NAME</th>\n",
       "      <th>REGIONAL_OFFICE_CODE</th>\n",
       "      <th>CHEMICAL_SUBSTANCE_BNF_DESCR</th>\n",
       "      <th>TOTAL_QUANTITY</th>\n",
       "    </tr>\n",
       "  </thead>\n",
       "  <tbody>\n",
       "    <tr>\n",
       "      <th>397</th>\n",
       "      <td>NORTH EAST AND YORKSHIRE</td>\n",
       "      <td>Y63</td>\n",
       "      <td>Enteral nutrition</td>\n",
       "      <td>313500457.0</td>\n",
       "    </tr>\n",
       "    <tr>\n",
       "      <th>386</th>\n",
       "      <td>NORTH EAST AND YORKSHIRE</td>\n",
       "      <td>Y63</td>\n",
       "      <td>Emollients</td>\n",
       "      <td>63289006.0</td>\n",
       "    </tr>\n",
       "    <tr>\n",
       "      <th>864</th>\n",
       "      <td>NORTH EAST AND YORKSHIRE</td>\n",
       "      <td>Y63</td>\n",
       "      <td>Other food for special diet preparations</td>\n",
       "      <td>46760120.0</td>\n",
       "    </tr>\n",
       "    <tr>\n",
       "      <th>907</th>\n",
       "      <td>NORTH EAST AND YORKSHIRE</td>\n",
       "      <td>Y63</td>\n",
       "      <td>Paracetamol</td>\n",
       "      <td>46449905.0</td>\n",
       "    </tr>\n",
       "    <tr>\n",
       "      <th>35</th>\n",
       "      <td>NORTH EAST AND YORKSHIRE</td>\n",
       "      <td>Y63</td>\n",
       "      <td>Alginic acid compound preparations</td>\n",
       "      <td>43973005.0</td>\n",
       "    </tr>\n",
       "    <tr>\n",
       "      <th>860</th>\n",
       "      <td>NORTH EAST AND YORKSHIRE</td>\n",
       "      <td>Y63</td>\n",
       "      <td>Other emollient preparations</td>\n",
       "      <td>35078907.0</td>\n",
       "    </tr>\n",
       "    <tr>\n",
       "      <th>733</th>\n",
       "      <td>NORTH EAST AND YORKSHIRE</td>\n",
       "      <td>Y63</td>\n",
       "      <td>Metformin hydrochloride</td>\n",
       "      <td>27259048.0</td>\n",
       "    </tr>\n",
       "    <tr>\n",
       "      <th>90</th>\n",
       "      <td>NORTH EAST AND YORKSHIRE</td>\n",
       "      <td>Y63</td>\n",
       "      <td>Atorvastatin</td>\n",
       "      <td>26474443.0</td>\n",
       "    </tr>\n",
       "    <tr>\n",
       "      <th>737</th>\n",
       "      <td>NORTH EAST AND YORKSHIRE</td>\n",
       "      <td>Y63</td>\n",
       "      <td>Methadone hydrochloride</td>\n",
       "      <td>23839482.0</td>\n",
       "    </tr>\n",
       "    <tr>\n",
       "      <th>257</th>\n",
       "      <td>NORTH EAST AND YORKSHIRE</td>\n",
       "      <td>Y63</td>\n",
       "      <td>Co-codamol (Codeine phosphate/paracetamol)</td>\n",
       "      <td>22332058.0</td>\n",
       "    </tr>\n",
       "  </tbody>\n",
       "</table>\n",
       "</div>"
      ],
      "text/plain": [
       "         REGIONAL_OFFICE_NAME REGIONAL_OFFICE_CODE  \\\n",
       "397  NORTH EAST AND YORKSHIRE                  Y63   \n",
       "386  NORTH EAST AND YORKSHIRE                  Y63   \n",
       "864  NORTH EAST AND YORKSHIRE                  Y63   \n",
       "907  NORTH EAST AND YORKSHIRE                  Y63   \n",
       "35   NORTH EAST AND YORKSHIRE                  Y63   \n",
       "860  NORTH EAST AND YORKSHIRE                  Y63   \n",
       "733  NORTH EAST AND YORKSHIRE                  Y63   \n",
       "90   NORTH EAST AND YORKSHIRE                  Y63   \n",
       "737  NORTH EAST AND YORKSHIRE                  Y63   \n",
       "257  NORTH EAST AND YORKSHIRE                  Y63   \n",
       "\n",
       "                   CHEMICAL_SUBSTANCE_BNF_DESCR  TOTAL_QUANTITY  \n",
       "397                           Enteral nutrition     313500457.0  \n",
       "386                                  Emollients      63289006.0  \n",
       "864    Other food for special diet preparations      46760120.0  \n",
       "907                                 Paracetamol      46449905.0  \n",
       "35           Alginic acid compound preparations      43973005.0  \n",
       "860                Other emollient preparations      35078907.0  \n",
       "733                     Metformin hydrochloride      27259048.0  \n",
       "90                                 Atorvastatin      26474443.0  \n",
       "737                     Methadone hydrochloride      23839482.0  \n",
       "257  Co-codamol (Codeine phosphate/paracetamol)      22332058.0  "
      ]
     },
     "execution_count": 19,
     "metadata": {},
     "output_type": "execute_result"
    }
   ],
   "source": [
    "df_Y63.groupby(['REGIONAL_OFFICE_NAME','REGIONAL_OFFICE_CODE','CHEMICAL_SUBSTANCE_BNF_DESCR']).TOTAL_QUANTITY.sum().reset_index().sort_values('TOTAL_QUANTITY',ascending=False).head(10)"
   ]
  },
  {
   "cell_type": "code",
   "execution_count": null,
   "id": "92bdbcc8-39c7-4e23-a6d2-e091d45717d9",
   "metadata": {},
   "outputs": [],
   "source": []
  },
  {
   "cell_type": "code",
   "execution_count": 20,
   "id": "7b7c31ad-97b5-40df-aaf1-29289d0c40ed",
   "metadata": {},
   "outputs": [],
   "source": [
    "df1 = df.groupby('REGIONAL_OFFICE_NAME').get_group('SOUTH WEST')"
   ]
  },
  {
   "cell_type": "code",
   "execution_count": 21,
   "id": "2bbba29c-1aba-443c-ab7e-25503c3447be",
   "metadata": {},
   "outputs": [],
   "source": [
    "df_Y58 = df1[['REGIONAL_OFFICE_NAME','REGIONAL_OFFICE_CODE','CHEMICAL_SUBSTANCE_BNF_DESCR', 'TOTAL_QUANTITY']]"
   ]
  },
  {
   "cell_type": "code",
   "execution_count": 22,
   "id": "d4e91e98-5b5b-4cc8-a582-9e70fe9ae5b9",
   "metadata": {
    "tags": []
   },
   "outputs": [
    {
     "data": {
      "text/html": [
       "<div>\n",
       "<style scoped>\n",
       "    .dataframe tbody tr th:only-of-type {\n",
       "        vertical-align: middle;\n",
       "    }\n",
       "\n",
       "    .dataframe tbody tr th {\n",
       "        vertical-align: top;\n",
       "    }\n",
       "\n",
       "    .dataframe thead th {\n",
       "        text-align: right;\n",
       "    }\n",
       "</style>\n",
       "<table border=\"1\" class=\"dataframe\">\n",
       "  <thead>\n",
       "    <tr style=\"text-align: right;\">\n",
       "      <th></th>\n",
       "      <th>REGIONAL_OFFICE_NAME</th>\n",
       "      <th>REGIONAL_OFFICE_CODE</th>\n",
       "      <th>CHEMICAL_SUBSTANCE_BNF_DESCR</th>\n",
       "      <th>TOTAL_QUANTITY</th>\n",
       "    </tr>\n",
       "  </thead>\n",
       "  <tbody>\n",
       "    <tr>\n",
       "      <th>366</th>\n",
       "      <td>SOUTH WEST</td>\n",
       "      <td>Y58</td>\n",
       "      <td>Enteral nutrition</td>\n",
       "      <td>117213879.0</td>\n",
       "    </tr>\n",
       "    <tr>\n",
       "      <th>355</th>\n",
       "      <td>SOUTH WEST</td>\n",
       "      <td>Y58</td>\n",
       "      <td>Emollients</td>\n",
       "      <td>40226383.0</td>\n",
       "    </tr>\n",
       "    <tr>\n",
       "      <th>854</th>\n",
       "      <td>SOUTH WEST</td>\n",
       "      <td>Y58</td>\n",
       "      <td>Paracetamol</td>\n",
       "      <td>25757715.0</td>\n",
       "    </tr>\n",
       "    <tr>\n",
       "      <th>815</th>\n",
       "      <td>SOUTH WEST</td>\n",
       "      <td>Y58</td>\n",
       "      <td>Other food for special diet preparations</td>\n",
       "      <td>17120163.5</td>\n",
       "    </tr>\n",
       "    <tr>\n",
       "      <th>789</th>\n",
       "      <td>SOUTH WEST</td>\n",
       "      <td>Y58</td>\n",
       "      <td>Omeprazole</td>\n",
       "      <td>15635594.0</td>\n",
       "    </tr>\n",
       "    <tr>\n",
       "      <th>811</th>\n",
       "      <td>SOUTH WEST</td>\n",
       "      <td>Y58</td>\n",
       "      <td>Other emollient preparations</td>\n",
       "      <td>15610380.0</td>\n",
       "    </tr>\n",
       "    <tr>\n",
       "      <th>31</th>\n",
       "      <td>SOUTH WEST</td>\n",
       "      <td>Y58</td>\n",
       "      <td>Alginic acid compound preparations</td>\n",
       "      <td>15505381.0</td>\n",
       "    </tr>\n",
       "    <tr>\n",
       "      <th>81</th>\n",
       "      <td>SOUTH WEST</td>\n",
       "      <td>Y58</td>\n",
       "      <td>Atorvastatin</td>\n",
       "      <td>15399647.0</td>\n",
       "    </tr>\n",
       "    <tr>\n",
       "      <th>694</th>\n",
       "      <td>SOUTH WEST</td>\n",
       "      <td>Y58</td>\n",
       "      <td>Metformin hydrochloride</td>\n",
       "      <td>15054532.0</td>\n",
       "    </tr>\n",
       "    <tr>\n",
       "      <th>238</th>\n",
       "      <td>SOUTH WEST</td>\n",
       "      <td>Y58</td>\n",
       "      <td>Co-codamol (Codeine phosphate/paracetamol)</td>\n",
       "      <td>13046580.0</td>\n",
       "    </tr>\n",
       "  </tbody>\n",
       "</table>\n",
       "</div>"
      ],
      "text/plain": [
       "    REGIONAL_OFFICE_NAME REGIONAL_OFFICE_CODE  \\\n",
       "366           SOUTH WEST                  Y58   \n",
       "355           SOUTH WEST                  Y58   \n",
       "854           SOUTH WEST                  Y58   \n",
       "815           SOUTH WEST                  Y58   \n",
       "789           SOUTH WEST                  Y58   \n",
       "811           SOUTH WEST                  Y58   \n",
       "31            SOUTH WEST                  Y58   \n",
       "81            SOUTH WEST                  Y58   \n",
       "694           SOUTH WEST                  Y58   \n",
       "238           SOUTH WEST                  Y58   \n",
       "\n",
       "                   CHEMICAL_SUBSTANCE_BNF_DESCR  TOTAL_QUANTITY  \n",
       "366                           Enteral nutrition     117213879.0  \n",
       "355                                  Emollients      40226383.0  \n",
       "854                                 Paracetamol      25757715.0  \n",
       "815    Other food for special diet preparations      17120163.5  \n",
       "789                                  Omeprazole      15635594.0  \n",
       "811                Other emollient preparations      15610380.0  \n",
       "31           Alginic acid compound preparations      15505381.0  \n",
       "81                                 Atorvastatin      15399647.0  \n",
       "694                     Metformin hydrochloride      15054532.0  \n",
       "238  Co-codamol (Codeine phosphate/paracetamol)      13046580.0  "
      ]
     },
     "execution_count": 22,
     "metadata": {},
     "output_type": "execute_result"
    }
   ],
   "source": [
    "df_Y58.groupby(['REGIONAL_OFFICE_NAME','REGIONAL_OFFICE_CODE','CHEMICAL_SUBSTANCE_BNF_DESCR']).TOTAL_QUANTITY.sum().reset_index().sort_values('TOTAL_QUANTITY',ascending=False).head(10)"
   ]
  },
  {
   "cell_type": "code",
   "execution_count": null,
   "id": "3aeff2e3-9b66-4840-8708-cbfc5d33fa56",
   "metadata": {},
   "outputs": [],
   "source": []
  },
  {
   "cell_type": "code",
   "execution_count": 23,
   "id": "80479015-efd3-4001-b465-f8fa5d779946",
   "metadata": {},
   "outputs": [],
   "source": [
    "df1 = df.groupby('REGIONAL_OFFICE_NAME').get_group('SOUTH EAST')"
   ]
  },
  {
   "cell_type": "code",
   "execution_count": 24,
   "id": "17988013-ac73-4814-a0ba-e4eaab701724",
   "metadata": {},
   "outputs": [],
   "source": [
    "df_Y59 = df1[['REGIONAL_OFFICE_NAME','REGIONAL_OFFICE_CODE','CHEMICAL_SUBSTANCE_BNF_DESCR', 'TOTAL_QUANTITY']]"
   ]
  },
  {
   "cell_type": "code",
   "execution_count": 25,
   "id": "b59fb23b-15a7-4f57-83f3-c50c82582756",
   "metadata": {
    "tags": []
   },
   "outputs": [
    {
     "data": {
      "text/html": [
       "<div>\n",
       "<style scoped>\n",
       "    .dataframe tbody tr th:only-of-type {\n",
       "        vertical-align: middle;\n",
       "    }\n",
       "\n",
       "    .dataframe tbody tr th {\n",
       "        vertical-align: top;\n",
       "    }\n",
       "\n",
       "    .dataframe thead th {\n",
       "        text-align: right;\n",
       "    }\n",
       "</style>\n",
       "<table border=\"1\" class=\"dataframe\">\n",
       "  <thead>\n",
       "    <tr style=\"text-align: right;\">\n",
       "      <th></th>\n",
       "      <th>REGIONAL_OFFICE_NAME</th>\n",
       "      <th>REGIONAL_OFFICE_CODE</th>\n",
       "      <th>CHEMICAL_SUBSTANCE_BNF_DESCR</th>\n",
       "      <th>TOTAL_QUANTITY</th>\n",
       "    </tr>\n",
       "  </thead>\n",
       "  <tbody>\n",
       "    <tr>\n",
       "      <th>384</th>\n",
       "      <td>SOUTH EAST</td>\n",
       "      <td>Y59</td>\n",
       "      <td>Enteral nutrition</td>\n",
       "      <td>263444721.0</td>\n",
       "    </tr>\n",
       "    <tr>\n",
       "      <th>373</th>\n",
       "      <td>SOUTH EAST</td>\n",
       "      <td>Y59</td>\n",
       "      <td>Emollients</td>\n",
       "      <td>55460558.0</td>\n",
       "    </tr>\n",
       "    <tr>\n",
       "      <th>854</th>\n",
       "      <td>SOUTH EAST</td>\n",
       "      <td>Y59</td>\n",
       "      <td>Other food for special diet preparations</td>\n",
       "      <td>38912250.0</td>\n",
       "    </tr>\n",
       "    <tr>\n",
       "      <th>733</th>\n",
       "      <td>SOUTH EAST</td>\n",
       "      <td>Y59</td>\n",
       "      <td>Methadone hydrochloride</td>\n",
       "      <td>34309738.0</td>\n",
       "    </tr>\n",
       "    <tr>\n",
       "      <th>899</th>\n",
       "      <td>SOUTH EAST</td>\n",
       "      <td>Y59</td>\n",
       "      <td>Paracetamol</td>\n",
       "      <td>26529008.0</td>\n",
       "    </tr>\n",
       "    <tr>\n",
       "      <th>850</th>\n",
       "      <td>SOUTH EAST</td>\n",
       "      <td>Y59</td>\n",
       "      <td>Other emollient preparations</td>\n",
       "      <td>25081961.0</td>\n",
       "    </tr>\n",
       "    <tr>\n",
       "      <th>729</th>\n",
       "      <td>SOUTH EAST</td>\n",
       "      <td>Y59</td>\n",
       "      <td>Metformin hydrochloride</td>\n",
       "      <td>24957881.0</td>\n",
       "    </tr>\n",
       "    <tr>\n",
       "      <th>84</th>\n",
       "      <td>SOUTH EAST</td>\n",
       "      <td>Y59</td>\n",
       "      <td>Atorvastatin</td>\n",
       "      <td>21543886.0</td>\n",
       "    </tr>\n",
       "    <tr>\n",
       "      <th>827</th>\n",
       "      <td>SOUTH EAST</td>\n",
       "      <td>Y59</td>\n",
       "      <td>Omeprazole</td>\n",
       "      <td>19197739.0</td>\n",
       "    </tr>\n",
       "    <tr>\n",
       "      <th>248</th>\n",
       "      <td>SOUTH EAST</td>\n",
       "      <td>Y59</td>\n",
       "      <td>Co-codamol (Codeine phosphate/paracetamol)</td>\n",
       "      <td>19144994.0</td>\n",
       "    </tr>\n",
       "  </tbody>\n",
       "</table>\n",
       "</div>"
      ],
      "text/plain": [
       "    REGIONAL_OFFICE_NAME REGIONAL_OFFICE_CODE  \\\n",
       "384           SOUTH EAST                  Y59   \n",
       "373           SOUTH EAST                  Y59   \n",
       "854           SOUTH EAST                  Y59   \n",
       "733           SOUTH EAST                  Y59   \n",
       "899           SOUTH EAST                  Y59   \n",
       "850           SOUTH EAST                  Y59   \n",
       "729           SOUTH EAST                  Y59   \n",
       "84            SOUTH EAST                  Y59   \n",
       "827           SOUTH EAST                  Y59   \n",
       "248           SOUTH EAST                  Y59   \n",
       "\n",
       "                   CHEMICAL_SUBSTANCE_BNF_DESCR  TOTAL_QUANTITY  \n",
       "384                           Enteral nutrition     263444721.0  \n",
       "373                                  Emollients      55460558.0  \n",
       "854    Other food for special diet preparations      38912250.0  \n",
       "733                     Methadone hydrochloride      34309738.0  \n",
       "899                                 Paracetamol      26529008.0  \n",
       "850                Other emollient preparations      25081961.0  \n",
       "729                     Metformin hydrochloride      24957881.0  \n",
       "84                                 Atorvastatin      21543886.0  \n",
       "827                                  Omeprazole      19197739.0  \n",
       "248  Co-codamol (Codeine phosphate/paracetamol)      19144994.0  "
      ]
     },
     "execution_count": 25,
     "metadata": {},
     "output_type": "execute_result"
    }
   ],
   "source": [
    "df_Y59.groupby(['REGIONAL_OFFICE_NAME','REGIONAL_OFFICE_CODE','CHEMICAL_SUBSTANCE_BNF_DESCR']).TOTAL_QUANTITY.sum().reset_index().sort_values('TOTAL_QUANTITY',ascending=False).head(10)"
   ]
  },
  {
   "cell_type": "code",
   "execution_count": null,
   "id": "9d0ca892-4f4c-4787-97b5-2ad09ea83792",
   "metadata": {},
   "outputs": [],
   "source": []
  },
  {
   "cell_type": "code",
   "execution_count": 26,
   "id": "87a8b848-d125-4f2e-ae00-e27a4c9c32d9",
   "metadata": {},
   "outputs": [],
   "source": [
    "df1 = df.groupby('REGIONAL_OFFICE_NAME').get_group('EAST OF ENGLAND')"
   ]
  },
  {
   "cell_type": "code",
   "execution_count": 27,
   "id": "d3e9017b-4c7b-4595-8019-12cb4a474090",
   "metadata": {},
   "outputs": [],
   "source": [
    "df_Y61 = df1[['REGIONAL_OFFICE_NAME','REGIONAL_OFFICE_CODE','CHEMICAL_SUBSTANCE_BNF_DESCR', 'TOTAL_QUANTITY']]"
   ]
  },
  {
   "cell_type": "code",
   "execution_count": 28,
   "id": "b0fb9548-3a40-496b-93a7-3690f8238237",
   "metadata": {
    "tags": []
   },
   "outputs": [
    {
     "data": {
      "text/html": [
       "<div>\n",
       "<style scoped>\n",
       "    .dataframe tbody tr th:only-of-type {\n",
       "        vertical-align: middle;\n",
       "    }\n",
       "\n",
       "    .dataframe tbody tr th {\n",
       "        vertical-align: top;\n",
       "    }\n",
       "\n",
       "    .dataframe thead th {\n",
       "        text-align: right;\n",
       "    }\n",
       "</style>\n",
       "<table border=\"1\" class=\"dataframe\">\n",
       "  <thead>\n",
       "    <tr style=\"text-align: right;\">\n",
       "      <th></th>\n",
       "      <th>REGIONAL_OFFICE_NAME</th>\n",
       "      <th>REGIONAL_OFFICE_CODE</th>\n",
       "      <th>CHEMICAL_SUBSTANCE_BNF_DESCR</th>\n",
       "      <th>TOTAL_QUANTITY</th>\n",
       "    </tr>\n",
       "  </thead>\n",
       "  <tbody>\n",
       "    <tr>\n",
       "      <th>384</th>\n",
       "      <td>EAST OF ENGLAND</td>\n",
       "      <td>Y61</td>\n",
       "      <td>Enteral nutrition</td>\n",
       "      <td>193741913.0</td>\n",
       "    </tr>\n",
       "    <tr>\n",
       "      <th>373</th>\n",
       "      <td>EAST OF ENGLAND</td>\n",
       "      <td>Y61</td>\n",
       "      <td>Emollients</td>\n",
       "      <td>41260874.0</td>\n",
       "    </tr>\n",
       "    <tr>\n",
       "      <th>848</th>\n",
       "      <td>EAST OF ENGLAND</td>\n",
       "      <td>Y61</td>\n",
       "      <td>Other food for special diet preparations</td>\n",
       "      <td>25345743.0</td>\n",
       "    </tr>\n",
       "    <tr>\n",
       "      <th>721</th>\n",
       "      <td>EAST OF ENGLAND</td>\n",
       "      <td>Y61</td>\n",
       "      <td>Metformin hydrochloride</td>\n",
       "      <td>19476258.0</td>\n",
       "    </tr>\n",
       "    <tr>\n",
       "      <th>889</th>\n",
       "      <td>EAST OF ENGLAND</td>\n",
       "      <td>Y61</td>\n",
       "      <td>Paracetamol</td>\n",
       "      <td>19237946.0</td>\n",
       "    </tr>\n",
       "    <tr>\n",
       "      <th>845</th>\n",
       "      <td>EAST OF ENGLAND</td>\n",
       "      <td>Y61</td>\n",
       "      <td>Other emollient preparations</td>\n",
       "      <td>17486945.0</td>\n",
       "    </tr>\n",
       "    <tr>\n",
       "      <th>84</th>\n",
       "      <td>EAST OF ENGLAND</td>\n",
       "      <td>Y61</td>\n",
       "      <td>Atorvastatin</td>\n",
       "      <td>17441278.0</td>\n",
       "    </tr>\n",
       "    <tr>\n",
       "      <th>247</th>\n",
       "      <td>EAST OF ENGLAND</td>\n",
       "      <td>Y61</td>\n",
       "      <td>Co-codamol (Codeine phosphate/paracetamol)</td>\n",
       "      <td>15366863.0</td>\n",
       "    </tr>\n",
       "    <tr>\n",
       "      <th>33</th>\n",
       "      <td>EAST OF ENGLAND</td>\n",
       "      <td>Y61</td>\n",
       "      <td>Alginic acid compound preparations</td>\n",
       "      <td>13453583.0</td>\n",
       "    </tr>\n",
       "    <tr>\n",
       "      <th>613</th>\n",
       "      <td>EAST OF ENGLAND</td>\n",
       "      <td>Y61</td>\n",
       "      <td>Lactulose</td>\n",
       "      <td>12858787.0</td>\n",
       "    </tr>\n",
       "  </tbody>\n",
       "</table>\n",
       "</div>"
      ],
      "text/plain": [
       "    REGIONAL_OFFICE_NAME REGIONAL_OFFICE_CODE  \\\n",
       "384      EAST OF ENGLAND                  Y61   \n",
       "373      EAST OF ENGLAND                  Y61   \n",
       "848      EAST OF ENGLAND                  Y61   \n",
       "721      EAST OF ENGLAND                  Y61   \n",
       "889      EAST OF ENGLAND                  Y61   \n",
       "845      EAST OF ENGLAND                  Y61   \n",
       "84       EAST OF ENGLAND                  Y61   \n",
       "247      EAST OF ENGLAND                  Y61   \n",
       "33       EAST OF ENGLAND                  Y61   \n",
       "613      EAST OF ENGLAND                  Y61   \n",
       "\n",
       "                   CHEMICAL_SUBSTANCE_BNF_DESCR  TOTAL_QUANTITY  \n",
       "384                           Enteral nutrition     193741913.0  \n",
       "373                                  Emollients      41260874.0  \n",
       "848    Other food for special diet preparations      25345743.0  \n",
       "721                     Metformin hydrochloride      19476258.0  \n",
       "889                                 Paracetamol      19237946.0  \n",
       "845                Other emollient preparations      17486945.0  \n",
       "84                                 Atorvastatin      17441278.0  \n",
       "247  Co-codamol (Codeine phosphate/paracetamol)      15366863.0  \n",
       "33           Alginic acid compound preparations      13453583.0  \n",
       "613                                   Lactulose      12858787.0  "
      ]
     },
     "execution_count": 28,
     "metadata": {},
     "output_type": "execute_result"
    }
   ],
   "source": [
    "df_Y61.groupby(['REGIONAL_OFFICE_NAME','REGIONAL_OFFICE_CODE','CHEMICAL_SUBSTANCE_BNF_DESCR']).TOTAL_QUANTITY.sum().reset_index().sort_values('TOTAL_QUANTITY',ascending=False).head(10)"
   ]
  },
  {
   "cell_type": "code",
   "execution_count": null,
   "id": "9793acb7-b8f7-4f28-85bc-940238e79327",
   "metadata": {},
   "outputs": [],
   "source": []
  },
  {
   "cell_type": "code",
   "execution_count": 29,
   "id": "56a83a13-c3fc-4ff2-932f-978ad53f7cdf",
   "metadata": {},
   "outputs": [],
   "source": [
    "df1 = df.groupby('REGIONAL_OFFICE_NAME').get_group('LONDON')"
   ]
  },
  {
   "cell_type": "code",
   "execution_count": 30,
   "id": "87f97943-a91a-4570-bd64-9bd834840a5e",
   "metadata": {},
   "outputs": [],
   "source": [
    "df_Y56 = df1[['REGIONAL_OFFICE_NAME','REGIONAL_OFFICE_CODE','CHEMICAL_SUBSTANCE_BNF_DESCR', 'TOTAL_QUANTITY']]"
   ]
  },
  {
   "cell_type": "code",
   "execution_count": 31,
   "id": "8af95ea6-3d4d-4914-9666-3add7f44025f",
   "metadata": {
    "tags": []
   },
   "outputs": [
    {
     "data": {
      "text/html": [
       "<div>\n",
       "<style scoped>\n",
       "    .dataframe tbody tr th:only-of-type {\n",
       "        vertical-align: middle;\n",
       "    }\n",
       "\n",
       "    .dataframe tbody tr th {\n",
       "        vertical-align: top;\n",
       "    }\n",
       "\n",
       "    .dataframe thead th {\n",
       "        text-align: right;\n",
       "    }\n",
       "</style>\n",
       "<table border=\"1\" class=\"dataframe\">\n",
       "  <thead>\n",
       "    <tr style=\"text-align: right;\">\n",
       "      <th></th>\n",
       "      <th>REGIONAL_OFFICE_NAME</th>\n",
       "      <th>REGIONAL_OFFICE_CODE</th>\n",
       "      <th>CHEMICAL_SUBSTANCE_BNF_DESCR</th>\n",
       "      <th>TOTAL_QUANTITY</th>\n",
       "    </tr>\n",
       "  </thead>\n",
       "  <tbody>\n",
       "    <tr>\n",
       "      <th>387</th>\n",
       "      <td>LONDON</td>\n",
       "      <td>Y56</td>\n",
       "      <td>Enteral nutrition</td>\n",
       "      <td>290916061.0</td>\n",
       "    </tr>\n",
       "    <tr>\n",
       "      <th>375</th>\n",
       "      <td>LONDON</td>\n",
       "      <td>Y56</td>\n",
       "      <td>Emollients</td>\n",
       "      <td>72505881.0</td>\n",
       "    </tr>\n",
       "    <tr>\n",
       "      <th>865</th>\n",
       "      <td>LONDON</td>\n",
       "      <td>Y56</td>\n",
       "      <td>Other emollient preparations</td>\n",
       "      <td>32726201.0</td>\n",
       "    </tr>\n",
       "    <tr>\n",
       "      <th>738</th>\n",
       "      <td>LONDON</td>\n",
       "      <td>Y56</td>\n",
       "      <td>Metformin hydrochloride</td>\n",
       "      <td>31774176.0</td>\n",
       "    </tr>\n",
       "    <tr>\n",
       "      <th>869</th>\n",
       "      <td>LONDON</td>\n",
       "      <td>Y56</td>\n",
       "      <td>Other food for special diet preparations</td>\n",
       "      <td>26505017.0</td>\n",
       "    </tr>\n",
       "    <tr>\n",
       "      <th>84</th>\n",
       "      <td>LONDON</td>\n",
       "      <td>Y56</td>\n",
       "      <td>Atorvastatin</td>\n",
       "      <td>20265576.0</td>\n",
       "    </tr>\n",
       "    <tr>\n",
       "      <th>742</th>\n",
       "      <td>LONDON</td>\n",
       "      <td>Y56</td>\n",
       "      <td>Methadone hydrochloride</td>\n",
       "      <td>18058059.0</td>\n",
       "    </tr>\n",
       "    <tr>\n",
       "      <th>32</th>\n",
       "      <td>LONDON</td>\n",
       "      <td>Y56</td>\n",
       "      <td>Alginic acid compound preparations</td>\n",
       "      <td>16876288.0</td>\n",
       "    </tr>\n",
       "    <tr>\n",
       "      <th>913</th>\n",
       "      <td>LONDON</td>\n",
       "      <td>Y56</td>\n",
       "      <td>Paracetamol</td>\n",
       "      <td>16106571.0</td>\n",
       "    </tr>\n",
       "    <tr>\n",
       "      <th>56</th>\n",
       "      <td>LONDON</td>\n",
       "      <td>Y56</td>\n",
       "      <td>Amlodipine</td>\n",
       "      <td>14650890.0</td>\n",
       "    </tr>\n",
       "  </tbody>\n",
       "</table>\n",
       "</div>"
      ],
      "text/plain": [
       "    REGIONAL_OFFICE_NAME REGIONAL_OFFICE_CODE  \\\n",
       "387               LONDON                  Y56   \n",
       "375               LONDON                  Y56   \n",
       "865               LONDON                  Y56   \n",
       "738               LONDON                  Y56   \n",
       "869               LONDON                  Y56   \n",
       "84                LONDON                  Y56   \n",
       "742               LONDON                  Y56   \n",
       "32                LONDON                  Y56   \n",
       "913               LONDON                  Y56   \n",
       "56                LONDON                  Y56   \n",
       "\n",
       "                 CHEMICAL_SUBSTANCE_BNF_DESCR  TOTAL_QUANTITY  \n",
       "387                         Enteral nutrition     290916061.0  \n",
       "375                                Emollients      72505881.0  \n",
       "865              Other emollient preparations      32726201.0  \n",
       "738                   Metformin hydrochloride      31774176.0  \n",
       "869  Other food for special diet preparations      26505017.0  \n",
       "84                               Atorvastatin      20265576.0  \n",
       "742                   Methadone hydrochloride      18058059.0  \n",
       "32         Alginic acid compound preparations      16876288.0  \n",
       "913                               Paracetamol      16106571.0  \n",
       "56                                 Amlodipine      14650890.0  "
      ]
     },
     "execution_count": 31,
     "metadata": {},
     "output_type": "execute_result"
    }
   ],
   "source": [
    "df_Y56.groupby(['REGIONAL_OFFICE_NAME','REGIONAL_OFFICE_CODE','CHEMICAL_SUBSTANCE_BNF_DESCR']).TOTAL_QUANTITY.sum().reset_index().sort_values('TOTAL_QUANTITY',ascending=False).head(10)"
   ]
  },
  {
   "cell_type": "code",
   "execution_count": null,
   "id": "7930261a-8669-45b0-b658-1bf872d51708",
   "metadata": {},
   "outputs": [],
   "source": []
  },
  {
   "cell_type": "code",
   "execution_count": 32,
   "id": "7d313874-a62a-4545-bff6-8561d4ad70ab",
   "metadata": {},
   "outputs": [],
   "source": [
    "df1 = df.groupby('REGIONAL_OFFICE_NAME').get_group('MIDLANDS')"
   ]
  },
  {
   "cell_type": "code",
   "execution_count": 33,
   "id": "aafe0cb3-e01f-405a-9948-287d34463c9c",
   "metadata": {},
   "outputs": [],
   "source": [
    "df_indef = df1[['REGIONAL_OFFICE_NAME','REGIONAL_OFFICE_CODE','CHEMICAL_SUBSTANCE_BNF_DESCR', 'TOTAL_QUANTITY']]"
   ]
  },
  {
   "cell_type": "code",
   "execution_count": 34,
   "id": "0e672e78-e0c4-4ab8-8372-d082fa1efe33",
   "metadata": {
    "tags": []
   },
   "outputs": [
    {
     "data": {
      "text/html": [
       "<div>\n",
       "<style scoped>\n",
       "    .dataframe tbody tr th:only-of-type {\n",
       "        vertical-align: middle;\n",
       "    }\n",
       "\n",
       "    .dataframe tbody tr th {\n",
       "        vertical-align: top;\n",
       "    }\n",
       "\n",
       "    .dataframe thead th {\n",
       "        text-align: right;\n",
       "    }\n",
       "</style>\n",
       "<table border=\"1\" class=\"dataframe\">\n",
       "  <thead>\n",
       "    <tr style=\"text-align: right;\">\n",
       "      <th></th>\n",
       "      <th>REGIONAL_OFFICE_NAME</th>\n",
       "      <th>REGIONAL_OFFICE_CODE</th>\n",
       "      <th>CHEMICAL_SUBSTANCE_BNF_DESCR</th>\n",
       "      <th>TOTAL_QUANTITY</th>\n",
       "    </tr>\n",
       "  </thead>\n",
       "  <tbody>\n",
       "    <tr>\n",
       "      <th>391</th>\n",
       "      <td>MIDLANDS</td>\n",
       "      <td>Y60</td>\n",
       "      <td>Enteral nutrition</td>\n",
       "      <td>411086823.0</td>\n",
       "    </tr>\n",
       "    <tr>\n",
       "      <th>380</th>\n",
       "      <td>MIDLANDS</td>\n",
       "      <td>Y60</td>\n",
       "      <td>Emollients</td>\n",
       "      <td>83325531.0</td>\n",
       "    </tr>\n",
       "    <tr>\n",
       "      <th>869</th>\n",
       "      <td>MIDLANDS</td>\n",
       "      <td>Y60</td>\n",
       "      <td>Other food for special diet preparations</td>\n",
       "      <td>57877234.0</td>\n",
       "    </tr>\n",
       "    <tr>\n",
       "      <th>865</th>\n",
       "      <td>MIDLANDS</td>\n",
       "      <td>Y60</td>\n",
       "      <td>Other emollient preparations</td>\n",
       "      <td>45305436.0</td>\n",
       "    </tr>\n",
       "    <tr>\n",
       "      <th>915</th>\n",
       "      <td>MIDLANDS</td>\n",
       "      <td>Y60</td>\n",
       "      <td>Paracetamol</td>\n",
       "      <td>44579438.0</td>\n",
       "    </tr>\n",
       "    <tr>\n",
       "      <th>741</th>\n",
       "      <td>MIDLANDS</td>\n",
       "      <td>Y60</td>\n",
       "      <td>Metformin hydrochloride</td>\n",
       "      <td>35686882.0</td>\n",
       "    </tr>\n",
       "    <tr>\n",
       "      <th>34</th>\n",
       "      <td>MIDLANDS</td>\n",
       "      <td>Y60</td>\n",
       "      <td>Alginic acid compound preparations</td>\n",
       "      <td>34810676.0</td>\n",
       "    </tr>\n",
       "    <tr>\n",
       "      <th>257</th>\n",
       "      <td>MIDLANDS</td>\n",
       "      <td>Y60</td>\n",
       "      <td>Co-codamol (Codeine phosphate/paracetamol)</td>\n",
       "      <td>33297832.0</td>\n",
       "    </tr>\n",
       "    <tr>\n",
       "      <th>87</th>\n",
       "      <td>MIDLANDS</td>\n",
       "      <td>Y60</td>\n",
       "      <td>Atorvastatin</td>\n",
       "      <td>29709322.0</td>\n",
       "    </tr>\n",
       "    <tr>\n",
       "      <th>633</th>\n",
       "      <td>MIDLANDS</td>\n",
       "      <td>Y60</td>\n",
       "      <td>Lactulose</td>\n",
       "      <td>26155255.0</td>\n",
       "    </tr>\n",
       "  </tbody>\n",
       "</table>\n",
       "</div>"
      ],
      "text/plain": [
       "    REGIONAL_OFFICE_NAME REGIONAL_OFFICE_CODE  \\\n",
       "391             MIDLANDS                  Y60   \n",
       "380             MIDLANDS                  Y60   \n",
       "869             MIDLANDS                  Y60   \n",
       "865             MIDLANDS                  Y60   \n",
       "915             MIDLANDS                  Y60   \n",
       "741             MIDLANDS                  Y60   \n",
       "34              MIDLANDS                  Y60   \n",
       "257             MIDLANDS                  Y60   \n",
       "87              MIDLANDS                  Y60   \n",
       "633             MIDLANDS                  Y60   \n",
       "\n",
       "                   CHEMICAL_SUBSTANCE_BNF_DESCR  TOTAL_QUANTITY  \n",
       "391                           Enteral nutrition     411086823.0  \n",
       "380                                  Emollients      83325531.0  \n",
       "869    Other food for special diet preparations      57877234.0  \n",
       "865                Other emollient preparations      45305436.0  \n",
       "915                                 Paracetamol      44579438.0  \n",
       "741                     Metformin hydrochloride      35686882.0  \n",
       "34           Alginic acid compound preparations      34810676.0  \n",
       "257  Co-codamol (Codeine phosphate/paracetamol)      33297832.0  \n",
       "87                                 Atorvastatin      29709322.0  \n",
       "633                                   Lactulose      26155255.0  "
      ]
     },
     "execution_count": 34,
     "metadata": {},
     "output_type": "execute_result"
    }
   ],
   "source": [
    "df_indef.groupby(['REGIONAL_OFFICE_NAME','REGIONAL_OFFICE_CODE','CHEMICAL_SUBSTANCE_BNF_DESCR']).TOTAL_QUANTITY.sum().reset_index().sort_values('TOTAL_QUANTITY',ascending=False).head(10)"
   ]
  },
  {
   "cell_type": "markdown",
   "id": "6ff5f9f2-0e55-4609-9be3-5bf46755dcd4",
   "metadata": {},
   "source": [
    "b.\tQuais produtos químicos prescritos tiveram a maior somatória de custos por mês? Liste os 10 primeiros."
   ]
  },
  {
   "cell_type": "code",
   "execution_count": 35,
   "id": "a36c4b24-a3d3-4143-a02b-3d5a7c96ae48",
   "metadata": {},
   "outputs": [
    {
     "data": {
      "text/html": [
       "<div>\n",
       "<style scoped>\n",
       "    .dataframe tbody tr th:only-of-type {\n",
       "        vertical-align: middle;\n",
       "    }\n",
       "\n",
       "    .dataframe tbody tr th {\n",
       "        vertical-align: top;\n",
       "    }\n",
       "\n",
       "    .dataframe thead th {\n",
       "        text-align: right;\n",
       "    }\n",
       "</style>\n",
       "<table border=\"1\" class=\"dataframe\">\n",
       "  <thead>\n",
       "    <tr style=\"text-align: right;\">\n",
       "      <th></th>\n",
       "      <th>CHEMICAL_SUBSTANCE_BNF_DESCR</th>\n",
       "      <th>ACTUAL_COST</th>\n",
       "    </tr>\n",
       "  </thead>\n",
       "  <tbody>\n",
       "    <tr>\n",
       "      <th>77</th>\n",
       "      <td>Apixaban</td>\n",
       "      <td>3.300744e+07</td>\n",
       "    </tr>\n",
       "    <tr>\n",
       "      <th>439</th>\n",
       "      <td>Enteral nutrition</td>\n",
       "      <td>2.436204e+07</td>\n",
       "    </tr>\n",
       "    <tr>\n",
       "      <th>114</th>\n",
       "      <td>Beclometasone dipropionate</td>\n",
       "      <td>2.377942e+07</td>\n",
       "    </tr>\n",
       "    <tr>\n",
       "      <th>1176</th>\n",
       "      <td>Rivaroxaban</td>\n",
       "      <td>1.878105e+07</td>\n",
       "    </tr>\n",
       "    <tr>\n",
       "      <th>208</th>\n",
       "      <td>Catheters</td>\n",
       "      <td>1.295454e+07</td>\n",
       "    </tr>\n",
       "    <tr>\n",
       "      <th>352</th>\n",
       "      <td>Detection Sensor Interstitial Fluid/Gluc</td>\n",
       "      <td>1.091113e+07</td>\n",
       "    </tr>\n",
       "    <tr>\n",
       "      <th>164</th>\n",
       "      <td>Budesonide</td>\n",
       "      <td>9.732518e+06</td>\n",
       "    </tr>\n",
       "    <tr>\n",
       "      <th>1421</th>\n",
       "      <td>Wound Management &amp; Other Dressings</td>\n",
       "      <td>9.588992e+06</td>\n",
       "    </tr>\n",
       "    <tr>\n",
       "      <th>574</th>\n",
       "      <td>Glucose blood testing reagents</td>\n",
       "      <td>9.230607e+06</td>\n",
       "    </tr>\n",
       "    <tr>\n",
       "      <th>419</th>\n",
       "      <td>Edoxaban</td>\n",
       "      <td>9.123207e+06</td>\n",
       "    </tr>\n",
       "  </tbody>\n",
       "</table>\n",
       "</div>"
      ],
      "text/plain": [
       "                  CHEMICAL_SUBSTANCE_BNF_DESCR   ACTUAL_COST\n",
       "77                                    Apixaban  3.300744e+07\n",
       "439                          Enteral nutrition  2.436204e+07\n",
       "114                 Beclometasone dipropionate  2.377942e+07\n",
       "1176                               Rivaroxaban  1.878105e+07\n",
       "208                                  Catheters  1.295454e+07\n",
       "352   Detection Sensor Interstitial Fluid/Gluc  1.091113e+07\n",
       "164                                 Budesonide  9.732518e+06\n",
       "1421        Wound Management & Other Dressings  9.588992e+06\n",
       "574             Glucose blood testing reagents  9.230607e+06\n",
       "419                                   Edoxaban  9.123207e+06"
      ]
     },
     "execution_count": 35,
     "metadata": {},
     "output_type": "execute_result"
    }
   ],
   "source": [
    "df.groupby(\"CHEMICAL_SUBSTANCE_BNF_DESCR\").ACTUAL_COST.sum().reset_index().sort_values('ACTUAL_COST',ascending=False).head(10)"
   ]
  },
  {
   "cell_type": "markdown",
   "id": "a6eac9ff-e00f-4cab-b357-9cfa4d7c3832",
   "metadata": {},
   "source": [
    "c.\tQuais são as precrições mais comuns? "
   ]
  },
  {
   "cell_type": "code",
   "execution_count": 36,
   "id": "114bf242-a68d-44ac-b0a1-cce9b85473e2",
   "metadata": {},
   "outputs": [
    {
     "data": {
      "text/html": [
       "<div>\n",
       "<style scoped>\n",
       "    .dataframe tbody tr th:only-of-type {\n",
       "        vertical-align: middle;\n",
       "    }\n",
       "\n",
       "    .dataframe tbody tr th {\n",
       "        vertical-align: top;\n",
       "    }\n",
       "\n",
       "    .dataframe thead th {\n",
       "        text-align: right;\n",
       "    }\n",
       "</style>\n",
       "<table border=\"1\" class=\"dataframe\">\n",
       "  <thead>\n",
       "    <tr style=\"text-align: right;\">\n",
       "      <th></th>\n",
       "      <th>TOTAL_QUANTITY</th>\n",
       "    </tr>\n",
       "    <tr>\n",
       "      <th>BNF_DESCRIPTION</th>\n",
       "      <th></th>\n",
       "    </tr>\n",
       "  </thead>\n",
       "  <tbody>\n",
       "    <tr>\n",
       "      <th>Ensure Plus milkshake style liquid (9 flavours)</th>\n",
       "      <td>187541000.0</td>\n",
       "    </tr>\n",
       "    <tr>\n",
       "      <th>Paracetamol 500mg tablets</th>\n",
       "      <td>152879229.0</td>\n",
       "    </tr>\n",
       "    <tr>\n",
       "      <th>Fortisip Bottle (8 flavours)</th>\n",
       "      <td>151562000.0</td>\n",
       "    </tr>\n",
       "    <tr>\n",
       "      <th>Fortisip Compact liquid (8 flavours)</th>\n",
       "      <td>139502750.0</td>\n",
       "    </tr>\n",
       "    <tr>\n",
       "      <th>Ensure Compact liquid (4 flavours)</th>\n",
       "      <td>124729528.0</td>\n",
       "    </tr>\n",
       "    <tr>\n",
       "      <th>Lactulose 3.1-3.7g/5ml oral solution</th>\n",
       "      <td>115093595.0</td>\n",
       "    </tr>\n",
       "    <tr>\n",
       "      <th>Metformin 500mg tablets</th>\n",
       "      <td>111419337.0</td>\n",
       "    </tr>\n",
       "    <tr>\n",
       "      <th>Fortisip Compact Protein liquid (9 flavours)</th>\n",
       "      <td>107179750.0</td>\n",
       "    </tr>\n",
       "    <tr>\n",
       "      <th>Omeprazole 20mg gastro-resistant capsules</th>\n",
       "      <td>99700161.0</td>\n",
       "    </tr>\n",
       "    <tr>\n",
       "      <th>Dermol 500 lotion</th>\n",
       "      <td>83283500.0</td>\n",
       "    </tr>\n",
       "  </tbody>\n",
       "</table>\n",
       "</div>"
      ],
      "text/plain": [
       "                                                 TOTAL_QUANTITY\n",
       "BNF_DESCRIPTION                                                \n",
       "Ensure Plus milkshake style liquid (9 flavours)     187541000.0\n",
       "Paracetamol 500mg tablets                           152879229.0\n",
       "Fortisip Bottle (8 flavours)                        151562000.0\n",
       "Fortisip Compact liquid (8 flavours)                139502750.0\n",
       "Ensure Compact liquid (4 flavours)                  124729528.0\n",
       "Lactulose 3.1-3.7g/5ml oral solution                115093595.0\n",
       "Metformin 500mg tablets                             111419337.0\n",
       "Fortisip Compact Protein liquid (9 flavours)        107179750.0\n",
       "Omeprazole 20mg gastro-resistant capsules            99700161.0\n",
       "Dermol 500 lotion                                    83283500.0"
      ]
     },
     "execution_count": 36,
     "metadata": {},
     "output_type": "execute_result"
    }
   ],
   "source": [
    "df[['BNF_DESCRIPTION','TOTAL_QUANTITY']].groupby('BNF_DESCRIPTION').sum().sort_values(by='TOTAL_QUANTITY', ascending=False).head(10)"
   ]
  },
  {
   "cell_type": "markdown",
   "id": "a8f21a2b-cbc7-4600-8990-c1e76c9725e3",
   "metadata": {},
   "source": [
    "d.\tQual produto químico é mais prescrito por cada prescriber?"
   ]
  },
  {
   "cell_type": "code",
   "execution_count": 37,
   "id": "9a23e3a5-f991-4c0f-a106-d674c874f81f",
   "metadata": {},
   "outputs": [],
   "source": [
    "df_pres = df[['PRACTICE_NAME','CHEMICAL_SUBSTANCE_BNF_DESCR','TOTAL_QUANTITY']]"
   ]
  },
  {
   "cell_type": "code",
   "execution_count": 38,
   "id": "03b077c0-68ba-473a-bf60-937d28d1a43d",
   "metadata": {},
   "outputs": [],
   "source": [
    "df_asc = df_pres.groupby(['PRACTICE_NAME','CHEMICAL_SUBSTANCE_BNF_DESCR']).TOTAL_QUANTITY.sum().reset_index().sort_values('TOTAL_QUANTITY',ascending=False)"
   ]
  },
  {
   "cell_type": "code",
   "execution_count": 39,
   "id": "a58d198b-2848-4ad8-8528-d5cb228b0a82",
   "metadata": {},
   "outputs": [],
   "source": [
    "df_prescriber = df_asc.drop_duplicates('PRACTICE_NAME')"
   ]
  },
  {
   "cell_type": "code",
   "execution_count": 40,
   "id": "fb76407a-e241-4206-a3c1-288422f855b8",
   "metadata": {},
   "outputs": [
    {
     "data": {
      "text/html": [
       "<div>\n",
       "<style scoped>\n",
       "    .dataframe tbody tr th:only-of-type {\n",
       "        vertical-align: middle;\n",
       "    }\n",
       "\n",
       "    .dataframe tbody tr th {\n",
       "        vertical-align: top;\n",
       "    }\n",
       "\n",
       "    .dataframe thead th {\n",
       "        text-align: right;\n",
       "    }\n",
       "</style>\n",
       "<table border=\"1\" class=\"dataframe\">\n",
       "  <thead>\n",
       "    <tr style=\"text-align: right;\">\n",
       "      <th></th>\n",
       "      <th>PRACTICE_NAME</th>\n",
       "      <th>CHEMICAL_SUBSTANCE_BNF_DESCR</th>\n",
       "      <th>TOTAL_QUANTITY</th>\n",
       "    </tr>\n",
       "  </thead>\n",
       "  <tbody>\n",
       "    <tr>\n",
       "      <th>1548621</th>\n",
       "      <td>MEDICUS HEALTH PARTNERS</td>\n",
       "      <td>Enteral nutrition</td>\n",
       "      <td>4253632.0</td>\n",
       "    </tr>\n",
       "    <tr>\n",
       "      <th>443167</th>\n",
       "      <td>CGL BIRMINGHAM SOUTH</td>\n",
       "      <td>Methadone hydrochloride</td>\n",
       "      <td>3970225.0</td>\n",
       "    </tr>\n",
       "    <tr>\n",
       "      <th>1600962</th>\n",
       "      <td>MODALITY PARTNERSHIP (AWC)</td>\n",
       "      <td>Enteral nutrition</td>\n",
       "      <td>3949145.0</td>\n",
       "    </tr>\n",
       "    <tr>\n",
       "      <th>1573996</th>\n",
       "      <td>MIDLANDS MEDICAL PARTNERSHIP</td>\n",
       "      <td>Enteral nutrition</td>\n",
       "      <td>3365624.0</td>\n",
       "    </tr>\n",
       "    <tr>\n",
       "      <th>1812476</th>\n",
       "      <td>PARK SURGERY</td>\n",
       "      <td>Enteral nutrition</td>\n",
       "      <td>3291582.0</td>\n",
       "    </tr>\n",
       "    <tr>\n",
       "      <th>...</th>\n",
       "      <td>...</td>\n",
       "      <td>...</td>\n",
       "      <td>...</td>\n",
       "    </tr>\n",
       "    <tr>\n",
       "      <th>2023019</th>\n",
       "      <td>ROTHERHAM DISTRICT NURSING</td>\n",
       "      <td>Eye Products</td>\n",
       "      <td>1.0</td>\n",
       "    </tr>\n",
       "    <tr>\n",
       "      <th>2356363</th>\n",
       "      <td>TAMWORTH LOCALITY NETWORK</td>\n",
       "      <td>Salbutamol</td>\n",
       "      <td>1.0</td>\n",
       "    </tr>\n",
       "    <tr>\n",
       "      <th>995523</th>\n",
       "      <td>GPSI CYSTOSCOPY - IDLE</td>\n",
       "      <td>Testosterone esters</td>\n",
       "      <td>1.0</td>\n",
       "    </tr>\n",
       "    <tr>\n",
       "      <th>1727755</th>\n",
       "      <td>NT&amp;H COMM DIAB N DDES</td>\n",
       "      <td>Glucagon</td>\n",
       "      <td>1.0</td>\n",
       "    </tr>\n",
       "    <tr>\n",
       "      <th>1982487</th>\n",
       "      <td>RICHARDSON COMMUNITY HOSPITAL</td>\n",
       "      <td>Clotrimazole</td>\n",
       "      <td>1.0</td>\n",
       "    </tr>\n",
       "  </tbody>\n",
       "</table>\n",
       "<p>8387 rows × 3 columns</p>\n",
       "</div>"
      ],
      "text/plain": [
       "                         PRACTICE_NAME CHEMICAL_SUBSTANCE_BNF_DESCR  \\\n",
       "1548621        MEDICUS HEALTH PARTNERS            Enteral nutrition   \n",
       "443167            CGL BIRMINGHAM SOUTH      Methadone hydrochloride   \n",
       "1600962     MODALITY PARTNERSHIP (AWC)            Enteral nutrition   \n",
       "1573996   MIDLANDS MEDICAL PARTNERSHIP            Enteral nutrition   \n",
       "1812476                   PARK SURGERY            Enteral nutrition   \n",
       "...                                ...                          ...   \n",
       "2023019     ROTHERHAM DISTRICT NURSING                 Eye Products   \n",
       "2356363      TAMWORTH LOCALITY NETWORK                   Salbutamol   \n",
       "995523          GPSI CYSTOSCOPY - IDLE          Testosterone esters   \n",
       "1727755          NT&H COMM DIAB N DDES                     Glucagon   \n",
       "1982487  RICHARDSON COMMUNITY HOSPITAL                 Clotrimazole   \n",
       "\n",
       "         TOTAL_QUANTITY  \n",
       "1548621       4253632.0  \n",
       "443167        3970225.0  \n",
       "1600962       3949145.0  \n",
       "1573996       3365624.0  \n",
       "1812476       3291582.0  \n",
       "...                 ...  \n",
       "2023019             1.0  \n",
       "2356363             1.0  \n",
       "995523              1.0  \n",
       "1727755             1.0  \n",
       "1982487             1.0  \n",
       "\n",
       "[8387 rows x 3 columns]"
      ]
     },
     "execution_count": 40,
     "metadata": {},
     "output_type": "execute_result"
    }
   ],
   "source": [
    "df_prescriber.sort_values('TOTAL_QUANTITY',ascending=False)"
   ]
  },
  {
   "cell_type": "code",
   "execution_count": null,
   "id": "c4dade88-c6a8-418c-865b-72fa18565658",
   "metadata": {},
   "outputs": [],
   "source": []
  },
  {
   "cell_type": "markdown",
   "id": "0390f7ef-3159-471e-a85e-7e4a40de2dc4",
   "metadata": {},
   "source": [
    "Index(['YEAR_MONTH', 'REGIONAL_OFFICE_NAME', 'REGIONAL_OFFICE_CODE',\n",
    "       'ICB_NAME', 'ICB_CODE', 'PCO_NAME', 'PCO_CODE', 'PRACTICE_NAME',\n",
    "       'PRACTICE_CODE', 'ADDRESS_1', 'ADDRESS_2', 'ADDRESS_3', 'ADDRESS_4',\n",
    "       'POSTCODE', 'BNF_CHEMICAL_SUBSTANCE', 'CHEMICAL_SUBSTANCE_BNF_DESCR',\n",
    "       'BNF_CODE', 'BNF_DESCRIPTION', 'BNF_CHAPTER_PLUS_CODE', 'QUANTITY',\n",
    "       'ITEMS', 'TOTAL_QUANTITY', 'ADQUSAGE', 'NIC', 'ACTUAL_COST',\n",
    "       'UNIDENTIFIED'],\n",
    "      dtype='object')"
   ]
  },
  {
   "cell_type": "markdown",
   "id": "69efd29e-08fe-4e53-8808-1e5793d7d1df",
   "metadata": {},
   "source": [
    "e.\tQuantos prescribers foram adicionados no ultimo mês? "
   ]
  },
  {
   "cell_type": "markdown",
   "id": "64e8bde9-5e0d-4c5c-83af-b18aab374c57",
   "metadata": {},
   "source": [
    "#### Precribers são os que prescrevem - médico ou hostipal, Enquanto, Prescriptions - prescrições as receitas realizei a análise pela ótica das prescrições"
   ]
  },
  {
   "cell_type": "markdown",
   "id": "cda21daf-08f4-4b90-b9d3-953f9746d262",
   "metadata": {},
   "source": [
    "Realizei a analise pela a otica dos precriber que no caso são os centros de saúde e não houve aumento de unidades ou seja o número é fixo de prescribers. "
   ]
  },
  {
   "cell_type": "code",
   "execution_count": 42,
   "id": "8bc00bf5-5a44-4ae4-99bb-528853b79668",
   "metadata": {},
   "outputs": [],
   "source": [
    "df_202207 = pd.read_csv('epd_202207.csv')"
   ]
  },
  {
   "cell_type": "code",
   "execution_count": 43,
   "id": "470ff438-5b6c-4913-9629-7ef7671367ff",
   "metadata": {},
   "outputs": [],
   "source": [
    "df_prescribers = df_202207[['PRACTICE_NAME']]"
   ]
  },
  {
   "cell_type": "code",
   "execution_count": 44,
   "id": "34bca370-46e0-413a-8590-791ab90e1051",
   "metadata": {},
   "outputs": [
    {
     "name": "stdout",
     "output_type": "stream",
     "text": [
      "8387 Centros de prescrições - Centros de tratamentos - Hospitais\n"
     ]
    }
   ],
   "source": [
    "print(df_prescribers.groupby('PRACTICE_NAME').PRACTICE_NAME.sum().count().sum(),'Centros de prescrições - Centros de tratamentos - Hospitais')"
   ]
  },
  {
   "cell_type": "code",
   "execution_count": 45,
   "id": "df373674-546d-430f-a8e6-582e94436c58",
   "metadata": {},
   "outputs": [],
   "source": [
    "df_prescriptions = df_202207[['BNF_DESCRIPTION']]"
   ]
  },
  {
   "cell_type": "code",
   "execution_count": 46,
   "id": "59bc9f20-2450-4f97-a8bc-589bacb4e649",
   "metadata": {},
   "outputs": [
    {
     "name": "stdout",
     "output_type": "stream",
     "text": [
      "17603900 prescrições realizadas\n"
     ]
    }
   ],
   "source": [
    "print(df_prescriptions.groupby('BNF_DESCRIPTION').BNF_DESCRIPTION.count().sum(),'prescrições realizadas')"
   ]
  },
  {
   "cell_type": "code",
   "execution_count": null,
   "id": "b1a38d16-a6e8-47e9-8e36-4eddf0689def",
   "metadata": {},
   "outputs": [],
   "source": []
  },
  {
   "cell_type": "markdown",
   "id": "468dbc9c-9361-4378-aab5-870a7bfca4b9",
   "metadata": {},
   "source": [
    "f.\tQuais prescribers atuam em mais de uma região? Ordene por quantidade de regiões antendidas."
   ]
  },
  {
   "cell_type": "code",
   "execution_count": 98,
   "id": "b5fc144f-b203-4e89-a4af-575d3593977f",
   "metadata": {},
   "outputs": [],
   "source": [
    "df_region = df[['PRACTICE_NAME','REGIONAL_OFFICE_NAME']]"
   ]
  },
  {
   "cell_type": "code",
   "execution_count": 103,
   "id": "a46a5c47-934c-46f4-b40f-d2b33c8603f3",
   "metadata": {},
   "outputs": [
    {
     "data": {
      "text/html": [
       "<div>\n",
       "<style scoped>\n",
       "    .dataframe tbody tr th:only-of-type {\n",
       "        vertical-align: middle;\n",
       "    }\n",
       "\n",
       "    .dataframe tbody tr th {\n",
       "        vertical-align: top;\n",
       "    }\n",
       "\n",
       "    .dataframe thead th {\n",
       "        text-align: right;\n",
       "    }\n",
       "</style>\n",
       "<table border=\"1\" class=\"dataframe\">\n",
       "  <thead>\n",
       "    <tr style=\"text-align: right;\">\n",
       "      <th></th>\n",
       "      <th></th>\n",
       "    </tr>\n",
       "    <tr>\n",
       "      <th>PRACTICE_NAME</th>\n",
       "      <th>REGIONAL_OFFICE_NAME</th>\n",
       "    </tr>\n",
       "  </thead>\n",
       "  <tbody>\n",
       "    <tr>\n",
       "      <th>(FRACTURE CLINIC) NORTH OOH</th>\n",
       "      <th>MIDLANDS</th>\n",
       "    </tr>\n",
       "    <tr>\n",
       "      <th>(IRLAM) SALFORD CARE CTRS MEDICAL PRACTI</th>\n",
       "      <th>NORTH WEST</th>\n",
       "    </tr>\n",
       "    <tr>\n",
       "      <th>(OUT PATIENT DEPARTMENT) NORTH OOH</th>\n",
       "      <th>MIDLANDS</th>\n",
       "    </tr>\n",
       "    <tr>\n",
       "      <th>0-19 EAST CHESHIRE HEALTH VISITORS</th>\n",
       "      <th>NORTH WEST</th>\n",
       "    </tr>\n",
       "    <tr>\n",
       "      <th>0-19 PUBLIC HEALTH SERVICE HARTLEPOOL</th>\n",
       "      <th>NORTH EAST AND YORKSHIRE</th>\n",
       "    </tr>\n",
       "  </tbody>\n",
       "</table>\n",
       "</div>"
      ],
      "text/plain": [
       "Empty DataFrame\n",
       "Columns: []\n",
       "Index: [((FRACTURE CLINIC) NORTH OOH, MIDLANDS), ((IRLAM) SALFORD CARE CTRS MEDICAL PRACTI, NORTH WEST), ((OUT PATIENT DEPARTMENT) NORTH OOH, MIDLANDS), (0-19 EAST CHESHIRE HEALTH VISITORS, NORTH WEST), (0-19 PUBLIC HEALTH SERVICE HARTLEPOOL, NORTH EAST AND YORKSHIRE)]"
      ]
     },
     "execution_count": 103,
     "metadata": {},
     "output_type": "execute_result"
    }
   ],
   "source": [
    "df_region.groupby(['PRACTICE_NAME','REGIONAL_OFFICE_NAME']).sum().head()"
   ]
  },
  {
   "cell_type": "code",
   "execution_count": 100,
   "id": "7c157bd1-762d-437e-b33d-07e9cde3aac4",
   "metadata": {},
   "outputs": [
    {
     "data": {
      "text/html": [
       "<div>\n",
       "<style scoped>\n",
       "    .dataframe tbody tr th:only-of-type {\n",
       "        vertical-align: middle;\n",
       "    }\n",
       "\n",
       "    .dataframe tbody tr th {\n",
       "        vertical-align: top;\n",
       "    }\n",
       "\n",
       "    .dataframe thead th {\n",
       "        text-align: right;\n",
       "    }\n",
       "</style>\n",
       "<table border=\"1\" class=\"dataframe\">\n",
       "  <thead>\n",
       "    <tr style=\"text-align: right;\">\n",
       "      <th></th>\n",
       "      <th></th>\n",
       "    </tr>\n",
       "    <tr>\n",
       "      <th>REGIONAL_OFFICE_NAME</th>\n",
       "      <th>PRACTICE_NAME</th>\n",
       "    </tr>\n",
       "  </thead>\n",
       "  <tbody>\n",
       "    <tr>\n",
       "      <th rowspan=\"5\" valign=\"top\">EAST OF ENGLAND</th>\n",
       "      <th>ABBEY FIELD MEDICAL CENTRE</th>\n",
       "    </tr>\n",
       "    <tr>\n",
       "      <th>ABBEY ROAD SURGERY</th>\n",
       "    </tr>\n",
       "    <tr>\n",
       "      <th>ABBOTSWOOD MEDICAL CENTRE</th>\n",
       "    </tr>\n",
       "    <tr>\n",
       "      <th>ABRIDGE SURGERY</th>\n",
       "    </tr>\n",
       "    <tr>\n",
       "      <th>ACE LTD OOH</th>\n",
       "    </tr>\n",
       "    <tr>\n",
       "      <th>...</th>\n",
       "      <th>...</th>\n",
       "    </tr>\n",
       "    <tr>\n",
       "      <th rowspan=\"4\" valign=\"top\">SOUTH WEST</th>\n",
       "      <th>YELVERTON SURGERY</th>\n",
       "    </tr>\n",
       "    <tr>\n",
       "      <th>YETMINSTER MEDICAL CENTRE</th>\n",
       "    </tr>\n",
       "    <tr>\n",
       "      <th>YORKLEIGH SURGERY(CT)</th>\n",
       "    </tr>\n",
       "    <tr>\n",
       "      <th>YORKLEY HEALTH CENTRE(WG)</th>\n",
       "    </tr>\n",
       "    <tr>\n",
       "      <th>UNIDENTIFIED</th>\n",
       "      <th>UNIDENTIFIED DOCTORS</th>\n",
       "    </tr>\n",
       "  </tbody>\n",
       "</table>\n",
       "<p>8690 rows × 0 columns</p>\n",
       "</div>"
      ],
      "text/plain": [
       "Empty DataFrame\n",
       "Columns: []\n",
       "Index: [(EAST OF ENGLAND, ABBEY FIELD MEDICAL CENTRE), (EAST OF ENGLAND, ABBEY ROAD SURGERY), (EAST OF ENGLAND, ABBOTSWOOD MEDICAL CENTRE), (EAST OF ENGLAND, ABRIDGE SURGERY), (EAST OF ENGLAND, ACE LTD OOH), (EAST OF ENGLAND, ACLE MEDICAL PARTNERSHIP), (EAST OF ENGLAND, ACORN SURGERY), (EAST OF ENGLAND, ADDISON HOUSE - HAQUE PRACTICE), (EAST OF ENGLAND, AEGIS MEDICAL CENTRE), (EAST OF ENGLAND, AILSWORTH MEDICAL CENTRE), (EAST OF ENGLAND, ALCONBURY SURGERY), (EAST OF ENGLAND, ALDBOROUGH SURGERY), (EAST OF ENGLAND, ALEXANDRA & CRESTVIEW SURGERIES), (EAST OF ENGLAND, ALMOND ROAD SURGERY), (EAST OF ENGLAND, AMBROSE AVENUE GROUP PRACTICE), (EAST OF ENGLAND, AMWELL SURGERY), (EAST OF ENGLAND, ANDAMAN SURGERY), (EAST OF ENGLAND, ANGEL HILL SURGERY), (EAST OF ENGLAND, ANGEL LANE SURGERY), (EAST OF ENGLAND, ANGLIA COMMUNITY EYE SERVICE), (EAST OF ENGLAND, ANNANDALE MEDICAL CENTRE), (EAST OF ENGLAND, ARBURY ROAD SURGERY), (EAST OF ENGLAND, ARCHWAY SURGERY), (EAST OF ENGLAND, ARLESEY MEDICAL CENTRE), (EAST OF ENGLAND, ARTHUR RANK HOSPICE), (EAST OF ENGLAND, ARYAN MEDICAL CENTRE), (EAST OF ENGLAND, ASHBURNHAM ROAD SURGERY), (EAST OF ENGLAND, ASHFIELD MEDICAL CENTRE), (EAST OF ENGLAND, ASHINGDON MEDICAL CENTRE), (EAST OF ENGLAND, ASHWELL SURGERY), (EAST OF ENGLAND, ASPLANDS MEDICAL CENTRE), (EAST OF ENGLAND, ATTENBOROUGH SURGERY), (EAST OF ENGLAND, ATTLEBOROUGH SURGERY), (EAST OF ENGLAND, AUDLEY MILLS SURGERY), (EAST OF ENGLAND, AVELEY MEDICAL CENTRE), (EAST OF ENGLAND, AVOCET WARD), (EAST OF ENGLAND, BACON ROAD MEDICAL CENTRE), (EAST OF ENGLAND, BADDOW VILLAGE SURGERY), (EAST OF ENGLAND, BALDWINS LANE SURGERY), (EAST OF ENGLAND, BALFOUR MEDICAL CENTRE), (EAST OF ENGLAND, BALLARDS WALK SURGERY), (EAST OF ENGLAND, BANCROFT MEDICAL CENTRE), (EAST OF ENGLAND, BARRACK LANE MEDICAL CENTRE), (EAST OF ENGLAND, BARTON HILLS MEDICAL GROUP), (EAST OF ENGLAND, BB HEALTHCARE SOLUTIONS), (EAST OF ENGLAND, BEACHES MEDICAL CENTRE), (EAST OF ENGLAND, BEACON HEALTH GROUP-DANBURY MEDICAL CTR), (EAST OF ENGLAND, BEACON HOUSE MINISTRIES), (EAST OF ENGLAND, BEACON PARK HOSPITAL), (EAST OF ENGLAND, BEAUCHAMP HOUSE), (EAST OF ENGLAND, BECCLES MEDICAL CENTRE), (EAST OF ENGLAND, BEDFORD STREET SURGERY), (EAST OF ENGLAND, BEDFORDSHIRE MSK SERVICE), (EAST OF ENGLAND, BEDWELL MEDICAL CENTRE), (EAST OF ENGLAND, BEECH WARD), (EAST OF ENGLAND, BEECHCROFT AND OLD PALACE), (EAST OF ENGLAND, BEECHWOOD SURGERY), (EAST OF ENGLAND, BELL HOUSE MEDICAL CENTRE), (EAST OF ENGLAND, BENFLEET SURGERY), (EAST OF ENGLAND, BENNETTS END SURGERY), (EAST OF ENGLAND, BILDESTON HEALTH CENTRE), (EAST OF ENGLAND, BIRCHWOOD MEDICAL PRACTICE), (EAST OF ENGLAND, BIRCHWOOD SURGERY), (EAST OF ENGLAND, BLACKWATER MEDICAL CENTRE), (EAST OF ENGLAND, BLANDFORD MEDICAL CENTRE), (EAST OF ENGLAND, BLOFIELD SURGERY), (EAST OF ENGLAND, BLUEBELL SURGERY), (EAST OF ENGLAND, BLYTH'S MEADOW SURGERY), (EAST OF ENGLAND, BMI SOUTHEND PRIVATE HOSPITAL), (EAST OF ENGLAND, BOROUGHBURY MEDICAL CENTRE), (EAST OF ENGLAND, BOSTON WEST HOSPITAL), (EAST OF ENGLAND, BOTESDALE HEALTH CENTRE), (EAST OF ENGLAND, BOTOLPH BRIDGE COMMUNITY HEALTH CENTRE), (EAST OF ENGLAND, BOTTISHAM MEDICAL PRACTICE), (EAST OF ENGLAND, BOUGHTON SURGERY), (EAST OF ENGLAND, BOURN SURGERY), (EAST OF ENGLAND, BRAMINGHAM PARK MEDICAL CENTRE), (EAST OF ENGLAND, BRANDON MEDICAL PRACTICE), (EAST OF ENGLAND, BRETTON MEDICAL PRACTICE), (EAST OF ENGLAND, BRIDGE COTTAGE SURGERY), (EAST OF ENGLAND, BRIDGE ROAD SURGERY), (EAST OF ENGLAND, BRIDGE STREET MEDICAL CENTRE), (EAST OF ENGLAND, BRIDGE STREET SURGERY), (EAST OF ENGLAND, BRIDGEWATER SURGERIES), (EAST OF ENGLAND, BROOKLANDS HEALTH CENTRE), (EAST OF ENGLAND, BROOMFIELD DOCTOR IN ED), (EAST OF ENGLAND, BROXBOURNE ALLIANCE PCN HUB), (EAST OF ENGLAND, BRUNDALL MEDICAL PARTNERSHIP), (EAST OF ENGLAND, BUCKDEN SURGERY), (EAST OF ENGLAND, BUCKSHAW HOSPITAL), (EAST OF ENGLAND, BUNGAY MEDICAL CENTRE), (EAST OF ENGLAND, BURLINGTON ROAD SURGERY), (EAST OF ENGLAND, BURNHAM SURGERY), (EAST OF ENGLAND, BURVILL HOUSE SURGERY), (EAST OF ENGLAND, BURWELL SURGERY), (EAST OF ENGLAND, BUTE HOUSE MEDICAL CENTRE), (EAST OF ENGLAND, C1 ESTERASE), (EAST OF ENGLAND, CADDINGTON SURGERY), (EAST OF ENGLAND, CAMBRIDGE ACCESS SURGERY), (EAST OF ENGLAND, CAMBS GP HUBS), ...]\n",
       "\n",
       "[8690 rows x 0 columns]"
      ]
     },
     "execution_count": 100,
     "metadata": {},
     "output_type": "execute_result"
    }
   ],
   "source": [
    "df_region.groupby(['REGIONAL_OFFICE_NAME','PRACTICE_NAME']).count()"
   ]
  },
  {
   "cell_type": "code",
   "execution_count": 101,
   "id": "ed8d4014-2928-4c0b-80e3-98464d9964d2",
   "metadata": {},
   "outputs": [],
   "source": [
    "df_pract = df_region.groupby(['PRACTICE_NAME']).count()"
   ]
  },
  {
   "cell_type": "code",
   "execution_count": 50,
   "id": "0a8d2f97-70c2-493e-ab63-c4c4395ebd99",
   "metadata": {},
   "outputs": [
    {
     "data": {
      "text/html": [
       "<div>\n",
       "<style scoped>\n",
       "    .dataframe tbody tr th:only-of-type {\n",
       "        vertical-align: middle;\n",
       "    }\n",
       "\n",
       "    .dataframe tbody tr th {\n",
       "        vertical-align: top;\n",
       "    }\n",
       "\n",
       "    .dataframe thead th {\n",
       "        text-align: right;\n",
       "    }\n",
       "</style>\n",
       "<table border=\"1\" class=\"dataframe\">\n",
       "  <thead>\n",
       "    <tr style=\"text-align: right;\">\n",
       "      <th></th>\n",
       "      <th>REGIONAL_OFFICE_NAME</th>\n",
       "    </tr>\n",
       "    <tr>\n",
       "      <th>PRACTICE_NAME</th>\n",
       "      <th></th>\n",
       "    </tr>\n",
       "  </thead>\n",
       "  <tbody>\n",
       "    <tr>\n",
       "      <th>(FRACTURE CLINIC) NORTH OOH</th>\n",
       "      <td>1188</td>\n",
       "    </tr>\n",
       "    <tr>\n",
       "      <th>(IRLAM) SALFORD CARE CTRS MEDICAL PRACTI</th>\n",
       "      <td>1633</td>\n",
       "    </tr>\n",
       "    <tr>\n",
       "      <th>(OUT PATIENT DEPARTMENT) NORTH OOH</th>\n",
       "      <td>33</td>\n",
       "    </tr>\n",
       "    <tr>\n",
       "      <th>0-19 EAST CHESHIRE HEALTH VISITORS</th>\n",
       "      <td>1</td>\n",
       "    </tr>\n",
       "    <tr>\n",
       "      <th>0-19 PUBLIC HEALTH SERVICE HARTLEPOOL</th>\n",
       "      <td>2</td>\n",
       "    </tr>\n",
       "    <tr>\n",
       "      <th>...</th>\n",
       "      <td>...</td>\n",
       "    </tr>\n",
       "    <tr>\n",
       "      <th>YOUR HEALTHCARE NON MED PRES</th>\n",
       "      <td>269</td>\n",
       "    </tr>\n",
       "    <tr>\n",
       "      <th>YOXALL</th>\n",
       "      <td>1837</td>\n",
       "    </tr>\n",
       "    <tr>\n",
       "      <th>ZAIN MEDICAL CENTRE</th>\n",
       "      <td>1060</td>\n",
       "    </tr>\n",
       "    <tr>\n",
       "      <th>ZAMAN</th>\n",
       "      <td>2223</td>\n",
       "    </tr>\n",
       "    <tr>\n",
       "      <th>ZETLAND MEDICAL PRACTICE</th>\n",
       "      <td>2741</td>\n",
       "    </tr>\n",
       "  </tbody>\n",
       "</table>\n",
       "<p>8387 rows × 1 columns</p>\n",
       "</div>"
      ],
      "text/plain": [
       "                                          REGIONAL_OFFICE_NAME\n",
       "PRACTICE_NAME                                                 \n",
       "(FRACTURE CLINIC) NORTH OOH                               1188\n",
       "(IRLAM) SALFORD CARE CTRS MEDICAL PRACTI                  1633\n",
       "(OUT PATIENT DEPARTMENT) NORTH OOH                          33\n",
       "0-19 EAST CHESHIRE HEALTH VISITORS                           1\n",
       "0-19 PUBLIC HEALTH SERVICE HARTLEPOOL                        2\n",
       "...                                                        ...\n",
       "YOUR HEALTHCARE NON MED PRES                               269\n",
       "YOXALL                                                    1837\n",
       "ZAIN MEDICAL CENTRE                                       1060\n",
       "ZAMAN                                                     2223\n",
       "ZETLAND MEDICAL PRACTICE                                  2741\n",
       "\n",
       "[8387 rows x 1 columns]"
      ]
     },
     "execution_count": 50,
     "metadata": {},
     "output_type": "execute_result"
    }
   ],
   "source": [
    "df_pract"
   ]
  },
  {
   "cell_type": "code",
   "execution_count": 70,
   "id": "f6d99030-3ab7-4bed-bc4e-f72c56c96f08",
   "metadata": {},
   "outputs": [],
   "source": [
    "df_duplic = df_pract.sort_values('PRACTICE_NAME',ascending=True).duplicated()"
   ]
  },
  {
   "cell_type": "code",
   "execution_count": 88,
   "id": "9157cf78-f438-40e2-aaec-7e4635a4dda3",
   "metadata": {},
   "outputs": [
    {
     "data": {
      "text/plain": [
       "PRACTICE_NAME\n",
       "(FRACTURE CLINIC) NORTH OOH                 False\n",
       "(IRLAM) SALFORD CARE CTRS MEDICAL PRACTI    False\n",
       "(OUT PATIENT DEPARTMENT) NORTH OOH          False\n",
       "0-19 EAST CHESHIRE HEALTH VISITORS          False\n",
       "0-19 PUBLIC HEALTH SERVICE HARTLEPOOL       False\n",
       "                                            ...  \n",
       "YOUR HEALTHCARE NON MED PRES                 True\n",
       "YOXALL                                       True\n",
       "ZAIN MEDICAL CENTRE                          True\n",
       "ZAMAN                                        True\n",
       "ZETLAND MEDICAL PRACTICE                     True\n",
       "Length: 8387, dtype: bool"
      ]
     },
     "execution_count": 88,
     "metadata": {},
     "output_type": "execute_result"
    }
   ],
   "source": [
    "df_duplic"
   ]
  },
  {
   "cell_type": "code",
   "execution_count": 87,
   "id": "329748ac-a9e3-4492-b232-35a404c54ddf",
   "metadata": {},
   "outputs": [
    {
     "data": {
      "text/plain": [
       "4694"
      ]
     },
     "execution_count": 87,
     "metadata": {},
     "output_type": "execute_result"
    }
   ],
   "source": [
    "df_duplic.sum()\"\""
   ]
  },
  {
   "cell_type": "code",
   "execution_count": 75,
   "id": "c6284488-ad46-4f5e-888c-d5f6afa08a45",
   "metadata": {},
   "outputs": [
    {
     "data": {
      "text/plain": [
       "8387"
      ]
     },
     "execution_count": 75,
     "metadata": {},
     "output_type": "execute_result"
    }
   ],
   "source": [
    "df_duplic.count()"
   ]
  },
  {
   "cell_type": "code",
   "execution_count": null,
   "id": "54a2017b-090f-46b8-8548-2d1f5b7a43cc",
   "metadata": {
    "tags": []
   },
   "outputs": [],
   "source": []
  },
  {
   "cell_type": "code",
   "execution_count": 89,
   "id": "09bbceb8-c623-470b-aa3a-93307f7ff7e3",
   "metadata": {},
   "outputs": [],
   "source": [
    "df1 = df.groupby('PRACTICE_NAME').get_group('ZAMAN')"
   ]
  },
  {
   "cell_type": "code",
   "execution_count": 92,
   "id": "6e3db419-1722-4d45-a705-fa306e8b9bc3",
   "metadata": {},
   "outputs": [],
   "source": [
    "df_Y56 = df1[['REGIONAL_OFFICE_NAME','PRACTICE_NAME']]"
   ]
  },
  {
   "cell_type": "code",
   "execution_count": 94,
   "id": "4e321e2b-b29e-4437-8f56-3bf3adaf8495",
   "metadata": {},
   "outputs": [
    {
     "name": "stdout",
     "output_type": "stream",
     "text": [
      "        REGIONAL_OFFICE_NAME PRACTICE_NAME\n",
      "7118248           NORTH WEST         ZAMAN\n",
      "7118249           NORTH WEST         ZAMAN\n",
      "7118254           NORTH WEST         ZAMAN\n",
      "7118256           NORTH WEST         ZAMAN\n",
      "7118257           NORTH WEST         ZAMAN\n",
      "...                      ...           ...\n",
      "7161866           NORTH WEST         ZAMAN\n",
      "7161867           NORTH WEST         ZAMAN\n",
      "7161868           NORTH WEST         ZAMAN\n",
      "7161869           NORTH WEST         ZAMAN\n",
      "7161870           NORTH WEST         ZAMAN\n",
      "\n",
      "[2223 rows x 2 columns]\n"
     ]
    }
   ],
   "source": [
    "print(df_Y56)"
   ]
  },
  {
   "cell_type": "code",
   "execution_count": 31,
   "id": "95f0e821-b7f0-4cd3-b350-ff3c2d9caaa8",
   "metadata": {
    "tags": []
   },
   "outputs": [
    {
     "data": {
      "text/html": [
       "<div>\n",
       "<style scoped>\n",
       "    .dataframe tbody tr th:only-of-type {\n",
       "        vertical-align: middle;\n",
       "    }\n",
       "\n",
       "    .dataframe tbody tr th {\n",
       "        vertical-align: top;\n",
       "    }\n",
       "\n",
       "    .dataframe thead th {\n",
       "        text-align: right;\n",
       "    }\n",
       "</style>\n",
       "<table border=\"1\" class=\"dataframe\">\n",
       "  <thead>\n",
       "    <tr style=\"text-align: right;\">\n",
       "      <th></th>\n",
       "      <th>REGIONAL_OFFICE_NAME</th>\n",
       "      <th>REGIONAL_OFFICE_CODE</th>\n",
       "      <th>CHEMICAL_SUBSTANCE_BNF_DESCR</th>\n",
       "      <th>TOTAL_QUANTITY</th>\n",
       "    </tr>\n",
       "  </thead>\n",
       "  <tbody>\n",
       "    <tr>\n",
       "      <th>387</th>\n",
       "      <td>LONDON</td>\n",
       "      <td>Y56</td>\n",
       "      <td>Enteral nutrition</td>\n",
       "      <td>290916061.0</td>\n",
       "    </tr>\n",
       "    <tr>\n",
       "      <th>375</th>\n",
       "      <td>LONDON</td>\n",
       "      <td>Y56</td>\n",
       "      <td>Emollients</td>\n",
       "      <td>72505881.0</td>\n",
       "    </tr>\n",
       "    <tr>\n",
       "      <th>865</th>\n",
       "      <td>LONDON</td>\n",
       "      <td>Y56</td>\n",
       "      <td>Other emollient preparations</td>\n",
       "      <td>32726201.0</td>\n",
       "    </tr>\n",
       "    <tr>\n",
       "      <th>738</th>\n",
       "      <td>LONDON</td>\n",
       "      <td>Y56</td>\n",
       "      <td>Metformin hydrochloride</td>\n",
       "      <td>31774176.0</td>\n",
       "    </tr>\n",
       "    <tr>\n",
       "      <th>869</th>\n",
       "      <td>LONDON</td>\n",
       "      <td>Y56</td>\n",
       "      <td>Other food for special diet preparations</td>\n",
       "      <td>26505017.0</td>\n",
       "    </tr>\n",
       "    <tr>\n",
       "      <th>84</th>\n",
       "      <td>LONDON</td>\n",
       "      <td>Y56</td>\n",
       "      <td>Atorvastatin</td>\n",
       "      <td>20265576.0</td>\n",
       "    </tr>\n",
       "    <tr>\n",
       "      <th>742</th>\n",
       "      <td>LONDON</td>\n",
       "      <td>Y56</td>\n",
       "      <td>Methadone hydrochloride</td>\n",
       "      <td>18058059.0</td>\n",
       "    </tr>\n",
       "    <tr>\n",
       "      <th>32</th>\n",
       "      <td>LONDON</td>\n",
       "      <td>Y56</td>\n",
       "      <td>Alginic acid compound preparations</td>\n",
       "      <td>16876288.0</td>\n",
       "    </tr>\n",
       "    <tr>\n",
       "      <th>913</th>\n",
       "      <td>LONDON</td>\n",
       "      <td>Y56</td>\n",
       "      <td>Paracetamol</td>\n",
       "      <td>16106571.0</td>\n",
       "    </tr>\n",
       "    <tr>\n",
       "      <th>56</th>\n",
       "      <td>LONDON</td>\n",
       "      <td>Y56</td>\n",
       "      <td>Amlodipine</td>\n",
       "      <td>14650890.0</td>\n",
       "    </tr>\n",
       "  </tbody>\n",
       "</table>\n",
       "</div>"
      ],
      "text/plain": [
       "    REGIONAL_OFFICE_NAME REGIONAL_OFFICE_CODE  \\\n",
       "387               LONDON                  Y56   \n",
       "375               LONDON                  Y56   \n",
       "865               LONDON                  Y56   \n",
       "738               LONDON                  Y56   \n",
       "869               LONDON                  Y56   \n",
       "84                LONDON                  Y56   \n",
       "742               LONDON                  Y56   \n",
       "32                LONDON                  Y56   \n",
       "913               LONDON                  Y56   \n",
       "56                LONDON                  Y56   \n",
       "\n",
       "                 CHEMICAL_SUBSTANCE_BNF_DESCR  TOTAL_QUANTITY  \n",
       "387                         Enteral nutrition     290916061.0  \n",
       "375                                Emollients      72505881.0  \n",
       "865              Other emollient preparations      32726201.0  \n",
       "738                   Metformin hydrochloride      31774176.0  \n",
       "869  Other food for special diet preparations      26505017.0  \n",
       "84                               Atorvastatin      20265576.0  \n",
       "742                   Methadone hydrochloride      18058059.0  \n",
       "32         Alginic acid compound preparations      16876288.0  \n",
       "913                               Paracetamol      16106571.0  \n",
       "56                                 Amlodipine      14650890.0  "
      ]
     },
     "execution_count": 31,
     "metadata": {},
     "output_type": "execute_result"
    }
   ],
   "source": [
    "df_Y56.groupby(['PRACTICE_NAME']).sum().reset_index().sort_values(ascending=False).head(10)"
   ]
  },
  {
   "cell_type": "markdown",
   "id": "6ba8e1fc-7ff6-4e1c-8542-097f96ca445e",
   "metadata": {},
   "source": [
    "g.\tQual o preço médio dos químicos prescritos em no ultimo mês coletado?"
   ]
  },
  {
   "cell_type": "code",
   "execution_count": null,
   "id": "fedbd8bd-d7f8-4baa-944b-f5734e8745d6",
   "metadata": {},
   "outputs": [],
   "source": [
    "\"£{:,.2f}\".format(df['ACTUAL_COST'].mean())"
   ]
  },
  {
   "cell_type": "markdown",
   "id": "b927af3a-4150-4a13-bef9-a0c1df24f3a7",
   "metadata": {},
   "source": [
    "h.\tGere uma tabela que contenha apenas a prescrição de maior valor de cada usuário."
   ]
  },
  {
   "cell_type": "code",
   "execution_count": null,
   "id": "6ea0908d-3e29-499d-a44f-971e10f058a6",
   "metadata": {},
   "outputs": [],
   "source": [
    "df[['BNF_DESCRIPTION', 'ACTUAL_COST']].groupby('BNF_DESCRIPTION').sum().max()"
   ]
  },
  {
   "cell_type": "code",
   "execution_count": null,
   "id": "4acaf42f-e8a0-4066-a967-be531677e982",
   "metadata": {},
   "outputs": [],
   "source": []
  }
 ],
 "metadata": {
  "kernelspec": {
   "display_name": "Python 3",
   "language": "python",
   "name": "python3"
  },
  "language_info": {
   "codemirror_mode": {
    "name": "ipython",
    "version": 3
   },
   "file_extension": ".py",
   "mimetype": "text/x-python",
   "name": "python",
   "nbconvert_exporter": "python",
   "pygments_lexer": "ipython3",
   "version": "3.9.10"
  }
 },
 "nbformat": 4,
 "nbformat_minor": 5
}
