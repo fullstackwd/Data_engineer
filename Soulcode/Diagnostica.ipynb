{
 "cells": [
  {
   "cell_type": "markdown",
   "id": "0a6fabce",
   "metadata": {},
   "source": [
    "## Avaliação Diagnostica."
   ]
  },
  {
   "cell_type": "code",
   "execution_count": null,
   "id": "36da37eb",
   "metadata": {},
   "outputs": [],
   "source": [
    "#1a) Crie um código que apresenta \"Parabéns!\" caso o usuário insira em sequência os números 1, 2, 3, e 4.\n",
    "\n",
    "senha = int(input(\"Digite os números (1234): \"))\n",
    "\n",
    "if senha == 1234:  # Senha 1234 um inteiro (int)\n",
    "    print('\"Parabéns!\"')\n",
    "else:\n",
    "    print(\"Sequêcia númerica foi digitada errada.\")\n",
    "    "
   ]
  },
  {
   "cell_type": "code",
   "execution_count": null,
   "id": "743e1350",
   "metadata": {},
   "outputs": [],
   "source": [
    "#1b) Crie um código que apresenta \"Parabéns!\" caso o usuário insira em sequência os números 1, 2, 3, e 4.\n",
    "\n",
    "senha = input(\"Digite os números (1234): \")\n",
    "\n",
    "if senha == \"1234\":  # Senha \"1234\" uma string\n",
    "    print('\"Parabéns!\"')\n",
    "else:\n",
    "    print(\"Sequêcia númerica foi digitada errada.\")\n",
    "    "
   ]
  },
  {
   "cell_type": "code",
   "execution_count": null,
   "id": "61497d27",
   "metadata": {},
   "outputs": [],
   "source": [
    "#2) Crie um código que pede nomes em sequencia, e apresenta a lista completa conforme o usuário digita.\n",
    "\n",
    "lista = []\n",
    "\n",
    "def inicio():\n",
    "    entrada = input(\"digite uma palavra: \")\n",
    "\n",
    "    if entrada != \"fechar\":  # Para fechar o programa deve digitar a palvra: fechar\n",
    "        lista.append(entrada)\n",
    "        print(lista)\n",
    "        inicio()\n",
    "    else:\n",
    "        print(\"execução encerrada.\")\n",
    "\n",
    "inicio()\n"
   ]
  },
  {
   "cell_type": "code",
   "execution_count": null,
   "id": "34d28483",
   "metadata": {},
   "outputs": [],
   "source": [
    "#3) Crie um código em que o usuário digite o código de um estado e o computador apresente o estado por extenso. Ex: RJ > Rio de Janeiro\n",
    "\n",
    "estados = {}\n",
    "estados = {\n",
    "    'AC': 'Acre',\n",
    "    'AL': 'Alagoas',\n",
    "    'AP': 'Amapá',\n",
    "    'AM': 'Amazonas',\n",
    "    'BA': 'Bahia',\n",
    "    'CE': 'Ceará',\n",
    "    'DF': 'Distrito Federal',\n",
    "    'ES': 'Espírito Santo',\n",
    "    'GO': 'Goiás',\n",
    "    'MA': 'Maranhão',\n",
    "    'MT': 'Mato Grosso',\n",
    "    'MS': 'Mato Grosso do Sul',\n",
    "    'MG': 'Minas Gerais',\n",
    "    'PA': 'Pará',\n",
    "    'PB': 'Paraíba',\n",
    "    'PR': 'Paraná',\n",
    "    'PE': 'Pernambuco',\n",
    "    'PI': 'Piauí',\n",
    "    'RJ': 'Rio de Janeiro',\n",
    "    'RN': 'Rio Grande do Norte',\n",
    "    'RS': 'Rio Grande do Sul',\n",
    "    'RO': 'Rondônia',\n",
    "    'RR': 'Roraima',\n",
    "    'SC': 'Santa Catarina',\n",
    "    'SP': 'São Paulo',\n",
    "    'SE': 'Sergipe',\n",
    "    'TO': 'Tocantins'\n",
    "}\n",
    "\n",
    "sigla = input(\"Digite a sigla do estado: \")\n",
    "\n",
    "print(estados[sigla])\n"
   ]
  },
  {
   "cell_type": "code",
   "execution_count": null,
   "id": "8ec35260",
   "metadata": {},
   "outputs": [],
   "source": [
    "#4a) Crie um código que receba 2 números e resolva a potencia do primeiro ao segundo. Ex: 5², 3³, ...\n",
    "\n",
    "base = float(input(\"Digite o número base: \"))\n",
    "expoente = float(input(\"Digite o número expoente: \"))\n",
    "\n",
    "print(\"O valor númerico da potência é: \"+ str(base**expoente))\n"
   ]
  },
  {
   "cell_type": "code",
   "execution_count": null,
   "id": "07ec30b8",
   "metadata": {},
   "outputs": [],
   "source": [
    "#4b) Crie um código que receba 2 números e resolva a potencia do primeiro ao segundo. Ex: 5², 3³, ...\n",
    "\n",
    "import math\n",
    "\n",
    "base = float(input(\"Digite o número base: \"))\n",
    "expoente = float(input(\"Digite o número expoente: \"))\n",
    "\n",
    "print(\"O valor númerico da potência é: \"+ str(math.pow(base, expoente)))\n"
   ]
  },
  {
   "cell_type": "code",
   "execution_count": null,
   "id": "1a501ae3",
   "metadata": {
    "scrolled": true
   },
   "outputs": [],
   "source": [
    "#5) Crie um código que conte por quantos segundos uma tecla é pressionada.\n",
    "\n",
    "import time\n",
    "  \n",
    "# Ajuste de variaveis de contagem\n",
    "contagem_inicio = time.time()  # time.time() => Tempo agora.\n",
    "contagem_final = contagem_inicio\n",
    "\n",
    "input(\"Digite um caracter: \")  # Imprime e lê o caracter escolhido.\n",
    "            \n",
    "tempo_aperto = round((time.time() - contagem_final), 2)  # Calcula tempo do acionamento da tecla.\n",
    "  \n",
    "print(\"Tempo de acionamento da tecla: \" + str(tempo_aperto) + \" ms\")  # Imprime na tela o tempo de acionamento da tecla.\n"
   ]
  },
  {
   "cell_type": "code",
   "execution_count": null,
   "id": "46298649",
   "metadata": {},
   "outputs": [],
   "source": [
    "# 6) Crie um código que receba em sequencia de produtos contendo nome de produto, descrição, preço e quantidade em estoque.\n",
    "\n",
    "estoque = {'nome':'TNT', 'descricao':'bebida energetica', 'preco':'5.00', 'Qt_estoque':'100'}\n",
    "\n",
    "print(estoque)\n"
   ]
  },
  {
   "cell_type": "markdown",
   "id": "6d74ee0b",
   "metadata": {},
   "source": [
    "## Desafios:"
   ]
  },
  {
   "cell_type": "code",
   "execution_count": null,
   "id": "7834ea2a",
   "metadata": {},
   "outputs": [],
   "source": [
    "#1) Crie um código que receba uma matriz e calcule sua inversa.\n",
    "# Matriz 3 x 3 - Inversa\n",
    "\n",
    "import numpy as np \n",
    "\n",
    "A = np.array([[1, 2, 3], \n",
    "              [4, 5, 6], \n",
    "              [7, 8, 9]]) \n",
    "\n",
    "print(np.linalg.inv(A))\n"
   ]
  },
  {
   "cell_type": "code",
   "execution_count": null,
   "id": "6c9c7125",
   "metadata": {
    "scrolled": true
   },
   "outputs": [],
   "source": [
    "# Matriz 4 x 4 - Inversa\n",
    "import numpy as np \n",
    "\n",
    "A = np.array([[6,  1, 1,  3], \n",
    "              [4, -2, 5,  1], \n",
    "              [2,  8, 7,  6], \n",
    "              [3,  1, 9,  7]]) \n",
    "\n",
    "print(np.linalg.inv(A))\n"
   ]
  },
  {
   "cell_type": "code",
   "execution_count": null,
   "id": "bc234d19",
   "metadata": {},
   "outputs": [],
   "source": [
    "# Matriz 2 x 2 dupla - Inversa\n",
    "import numpy as np \n",
    "\n",
    "A = np.array([[[1., 2.], [3., 4.]], \n",
    "              [[1 , 3],  [3 , 5]]]) \n",
    "\n",
    "print(np.linalg.inv(A))\n"
   ]
  },
  {
   "cell_type": "code",
   "execution_count": null,
   "id": "2b4a5760",
   "metadata": {},
   "outputs": [],
   "source": [
    "#2) Crie um código que dado o símbolo de um elemento da tabela periódica, este retorne o elemento correspondente e suas informações.\n",
    "\n",
    "!pip install periodictable\n"
   ]
  },
  {
   "cell_type": "markdown",
   "id": "42918a5a",
   "metadata": {},
   "source": [
    "# Desconsiderar item abaixo - Somente testes."
   ]
  },
  {
   "cell_type": "code",
   "execution_count": null,
   "id": "92b3cf62",
   "metadata": {},
   "outputs": [],
   "source": [
    "\"\"\"\n",
    " Periodic Table of Elements, by Al Sweigart al@inventwithpython.com\n",
    " Displays atomic information for all the elements.\n",
    " This code is available at https://nostarch.com/big-book-small-python-programming\n",
    " Tags: short, science\n",
    "\"\"\"\n",
    "  \n",
    " # Data from https://en.wikipedia.org/wiki/List_of_chemical_elements\n",
    " # Highlight the table, copy it, then paste it into a spreadsheet program\n",
    " # like Excel or Google Sheets like in https://invpy.com/elements\n",
    " # Then save this file as periodictable.csv.\n",
    " # Or download this csv file from https://invpy.com/periodictable.csv\n",
    " \n",
    "import csv, sys, re\n",
    "\n",
    "# Read in all the data from periodictable.csv.\n",
    "elementsFile = open('periodictable.csv', encoding='utf-8')\n",
    "elementsCsvReader = csv.reader(elementsFile)\n",
    "elements = list(elementsCsvReader)\n",
    "elementsFile.close()\n",
    " \n",
    "ALL_COLUMNS = ['Atomic Number', 'Symbol', 'Element', 'Origin of name',\n",
    "               'Group', 'Period', 'Atomic weight', 'Density',\n",
    "               'Melting point', 'Boiling point',\n",
    "               'Specific heat capacity', 'Electronegativity',\n",
    "               'Abundance in earth\\'s crust']\n",
    " \n",
    "# To justify the text, we need to find the longest string in ALL_COLUMNS.\n",
    "LONGEST_COLUMN = 0\n",
    "for key in ALL_COLUMNS:\n",
    "     if len(key) > LONGEST_COLUMN:\n",
    "\n",
    "        LONGEST_COLUMN = len(key)\n",
    "\n",
    "# Put all the elements data into a data structure:\n",
    "ELEMENTS = {}  # The data structure that stores all the element data.\n",
    "for line in elements:\n",
    "    element = {'Atomic Number':  line[0],\n",
    "               'Symbol':         line[1],\n",
    "               'Element':        line[2],\n",
    "               'Origin of name': line[3],\n",
    "               'Group':          line[4],\n",
    "               'Period':         line[5],\n",
    "               'Atomic weight':  line[6] + ' u', # atomic mass unit\n",
    "               'Density':        line[7] + ' g/cm^3', # grams/cubic cm\n",
    "               'Melting point':  line[8] + ' K', # kelvin\n",
    "               'Boiling point':  line[9] + ' K', # kelvin\n",
    "               'Specific heat capacity':      line[10] + ' J/(g*K)',\n",
    "               'Electronegativity':           line[11],\n",
    "               'Abundance in earth\\'s crust': line[12] + ' mg/kg'}\n",
    " \n",
    " # Some of the data has bracketed text from Wikipedia that we want to\n",
    "# remove, such as the atomic weight of Boron:\n",
    "# \"10.81[III][IV][V][VI]\" should be \"10.81\"\n",
    "\n",
    "for key, value in element.items():\n",
    "# Remove the [roman numeral] text:\n",
    "    element[key] = re.sub(r'\\[(I|V|X)+\\]', '', value)\n",
    " \n",
    "    ELEMENTS[line[0]] = element  # Map the atomic number to the element.\n",
    "    ELEMENTS[line[1]] = element  # Map the symbol to the element.\n",
    " \n",
    "print('Periodic Table of Elements')\n",
    "print('By Al Sweigart al@inventwithpython.com')\n",
    "print()\n",
    " \n",
    "while True:  # Main program loop.\n",
    "     # Show table and let the user select an element:\n",
    "    print('''            Periodic Table of Elements\n",
    "    1  2  3  4  5  6  7  8  9  10 11 12 13 14 15 16 17 18\n",
    "    1 H                                                  He\n",
    "    2 Li Be                               B  C  N  O  F  Ne\n",
    "    3 Na Mg                               Al Si P  S  Cl Ar\n",
    "    4 K  Ca Sc Ti V  Cr Mn Fe Co Ni Cu Zn Ga Ge As Se Br Kr\n",
    "    5 Rb Sr Y  Zr Nb Mo Tc Ru Rh Pd Ag Cd In Sn Sb Te I  Xe\n",
    "    6 Cs Ba La Hf Ta W  Re Os Ir Pt Au Hg Tl Pb Bi Po At Rn\n",
    "    7 Fr Ra Ac Rf Db Sg Bh Hs Mt Ds Rg Cn Nh Fl Mc Lv Ts Og\n",
    " \n",
    "     Ce Pr Nd Pm Sm Eu Gd Tb Dy Ho Er Tm Yb Lu\n",
    "     Th Pa U  Np Pu Am Cm Bk Cf Es Fm Md No Lr''')\n",
    "    print('Enter a symbol or atomic number to examine, or QUIT to quit.')\n",
    "    response = input('> ').title()\n",
    " \n",
    "    if response == 'Quit':\n",
    "         sys.exit()\n",
    " \n",
    "  # Display the selected element's data:\n",
    "    if response in ELEMENTS:\n",
    "        for key in ALL_COLUMNS:\n",
    "            keyJustified = key.rjust(LONGEST_COLUMN)\n",
    "        print(keyJustified + ': ' + ELEMENTS[response][key])\n",
    "        input('Press Enter to continue...')\n",
    "        "
   ]
  }
 ],
 "metadata": {
  "kernelspec": {
   "display_name": "Python 3 (ipykernel)",
   "language": "python",
   "name": "python3"
  },
  "language_info": {
   "codemirror_mode": {
    "name": "ipython",
    "version": 3
   },
   "file_extension": ".py",
   "mimetype": "text/x-python",
   "name": "python",
   "nbconvert_exporter": "python",
   "pygments_lexer": "ipython3",
   "version": "3.9.7"
  }
 },
 "nbformat": 4,
 "nbformat_minor": 5
}
